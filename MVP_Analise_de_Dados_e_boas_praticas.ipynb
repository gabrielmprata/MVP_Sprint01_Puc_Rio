{
  "nbformat": 4,
  "nbformat_minor": 0,
  "metadata": {
    "colab": {
      "provenance": [],
      "collapsed_sections": [
        "Xj9Cfh-4uCVi"
      ],
      "authorship_tag": "ABX9TyNnNznao5IRk2U51iO+XRio",
      "include_colab_link": true
    },
    "kernelspec": {
      "name": "python3",
      "display_name": "Python 3"
    },
    "language_info": {
      "name": "python"
    }
  },
  "cells": [
    {
      "cell_type": "markdown",
      "metadata": {
        "id": "view-in-github",
        "colab_type": "text"
      },
      "source": [
        "<a href=\"https://colab.research.google.com/github/gabrielmprata/MVP_Sprint01_Puc_Rio/blob/main/MVP_Analise_de_Dados_e_boas_praticas.ipynb\" target=\"_parent\"><img src=\"https://colab.research.google.com/assets/colab-badge.svg\" alt=\"Open In Colab\"/></a>"
      ]
    },
    {
      "cell_type": "markdown",
      "source": [
        "![bras_83x140_reduzido.png](data:image/png;base64,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) <font size=\"4\"> **MVP de Análise de Dados e Boas Práticas**"
      ],
      "metadata": {
        "id": "-614P_aFYkUH"
      }
    },
    {
      "cell_type": "markdown",
      "source": [
        "---\n",
        ">\n",
        "**Pós-Graduação em Ciência de Dados e Analytics**\n",
        ">\n",
        "**Sprint 01**\n",
        ">\n",
        "**Aluno**: Gabriel Prata\n",
        ">\n",
        "**Data**: 29/03/2023\n",
        ">\n",
        "---"
      ],
      "metadata": {
        "id": "hQc88NYJZrYT"
      }
    },
    {
      "cell_type": "markdown",
      "source": [
        "#**<font color=#FE8202> 1. Definição do problema**"
      ],
      "metadata": {
        "id": "SPRtTCAMbAmh"
      }
    },
    {
      "cell_type": "markdown",
      "source": [
        "A malha rodoviária é a principal forma de locomoção do país no que tange o deslocamento de pessoas, produtos, matérias primas, alimentos e combustível a curtas e longas distâncias.\n",
        ">\n",
        "Este trabalho visa mostrar através dos dados abertos disponibilizados pela Polícia Rodoviária Federal, dentre os 70.000 Km de rodovias onde atua, o impacto dos acidentes de trânsito e sua letalidade nas rodovias federais, tendo como período analisado o ano de 2020.\n",
        ">\n",
        "O Brasil é o terceiro país com mais mortes no trânsito, ficando atrás apenas da Índia e da China segundo o relatório Global Status Report on Road Safety da Organização Mundial de Saúde (OMS). \n",
        ">\n",
        "Cerca de 82% dos acidentes de trânsito nas rodovias federais brasileiras, são com vítimas, tendo em vista esse grande percentual de vítimas, nesse estudo, queremos entender os fatores que contribuem para os acidentes acontecerem. \n",
        ">\n",
        "Esse estudo tem como objetivo geral analisar o estado físico dos envolvidos, classificando o acidente de trânsito em \"com vítimas\" ou \"sem vítimas\", fazendo uso de algoritmos de aprendizado de máquina supervisionado.\n",
        ">\n",
        "O dataset conta com 30 atributos relacionados à caracterização do acidente, 4 atributos que classifica o estado das vítimas em, ilesos, feridos leve, feridos grave e mortos, e 1 variável que classifica o acidente em, sem vítimas, com vítimas feridas e com vitimas fatais. Essa ultima variável utilizaremos como alvo e as demais, serão analisadas para definir quais serão selecionadas como preditoras.\n",
        ">\n",
        "Para mais informações sobre o dataset, consulte: https://arquivos.prf.gov.br/arquivos/index.php/s/mheQDcXUx2veHnU#pdfviewer\n"
      ],
      "metadata": {
        "id": "daJ6dnTGb-nR"
      }
    },
    {
      "cell_type": "markdown",
      "source": [
        ">**<font color=#FE8202> Dicionário de dados**"
      ],
      "metadata": {
        "id": "flcK-l-VqspL"
      }
    },
    {
      "cell_type": "markdown",
      "source": [
        "1.   **id**    -  Variável com valores numéricos, representando o identificador do acidente\n",
        "2.   **pesid** - Variável com valores numéricos, representando o identificador da pessoa envolvida\n",
        "3. **data_inversa** - Data da ocorrência no formato dd/mm/aaaa.\n",
        "4. **dia_semana** - Dia da semana da ocorrência. Ex.: Segunda, terça, etc.\n",
        "5. **horario** - Horário da ocorrência no formato hh:mm:ss.\n",
        "6. **uf** - Unidade da Federação. Ex.: MG, SP, etc.\n",
        "7. **br** - Variável com valores numéricos, representando o identificador da BR.\n",
        "8. **km** - Identificação do quilômetro onde ocorreu o acidente, com valor mínimo de 0,1 km e com a casa decimal separada por ponto.\n",
        "9. **municipio** - Nome do município de ocorrência do acidente.\n",
        "10. **causa_acidente** - Identificação da causa principal do acidente.\n",
        "11. **tipo_acidente** - Identificação do tipo de acidente. Ex.: Colisão frontal, etc.\n",
        "12. **classificação_acidente** - Classificação quanto à gravidade do acidente.\n",
        "13. **fase_dia** - Fase do dia no momento do acidente. Ex.: Amanhecer, Pleno dia, etc.\n",
        "14. **sentido_via** - Sentido da via considerando o ponto de colisão: Crescente e decrescente.\n",
        "15. **Condição_meteorologica** - Condição meteorologica no momento do acidente. Ex.: Céu claro, chuva, etc.\n",
        "16. **tipo_pista** - Tipo da pista considerando a quantidade de faixas: Dupla. simples ou múltipla.\n",
        "17. **tracado_pista** - Descrição do traçãdo da via.\n",
        "18. **usu_solo** - Descrição sobre as características do local do acidente: Urbano=Sim;Rural=Não.\n",
        "19. **id_veiculo** - Variável com valores numéricos, representando o identificador do veículo envolvido.\n",
        "20. **tipo_veiculo** - Tipo do veículo conforme Art. 96 do CNT. Ex.: Automóvel, Caminhão, etc.\n",
        "21. **marca** - Descrição da marca do veículo.\n",
        "22. **ano_fabricacao_veiculo** - Ana de fabricação do veículo, formato aaaa.\n",
        "23. **tipo_envolvido** - Tipo de envolvido no acidente conforme sua participação no evento. Ex.: condutor, passageiro, etc.\n",
        "24. **estado_fisico** - Condição do envolvido conforme a gravidade das lesões.Ex.:morto,feridoleve,etc.\n",
        "25. **idade** - Idade do envolvido. O código \"-1\" indica que não foi possivel coletar a informação.\n",
        "26. **sexo** - Sexo do envolvido. O valor \"invalido\" indica que não foi possivel coletar a informação.\n",
        "27. **ilesos** - Valor binário que identifica se o envolvido foi classificado como ileso.\n",
        "28. **feridos_leves** - Valor binário que identifica se o envolvido foi classificado como ferido leve.\n",
        "29. **feridos_graves** - Valor binário que identifica se o envolvido foi classificado como ferido grave.\n",
        "30. **mortos** - Valor binário que identifica se o envolvido foi classificado como morto.\n",
        "31. **latitude** - Latitude do local do acidente em formato geodésico decimal.\n",
        "32. **longitude** - Longitude do local do acidente em formato geodésico decimal.\n",
        "33. **regional** - Não definido no dicionário de dados fornecido pela PRF.\n",
        "34. **delegacia** - Não definido no dicionário de dados fornecido pela PRF.\n",
        "35. **uop** - Não definido no dicionário de dados fornecido pela PRF.\n",
        "\n"
      ],
      "metadata": {
        "id": "quuGKdcoq7Gl"
      }
    },
    {
      "cell_type": "code",
      "source": [
        "# Importação de pacotes\n",
        "import pandas as pd\n",
        "import numpy as np\n",
        "import missingno as ms # para tratamento de missings\n",
        "\n",
        "#bibliotecas para visualização de dados\n",
        "import seaborn as sns\n",
        "import plotly.express as px\n",
        "import matplotlib.pyplot as plt\n",
        "\n",
        "# Configuração para não exibir os warnings\n",
        "import warnings\n",
        "warnings.filterwarnings(\"ignore\")\n"
      ],
      "metadata": {
        "id": "YARMO4oD8xaz"
      },
      "execution_count": 12,
      "outputs": []
    },
    {
      "cell_type": "markdown",
      "source": [
        "#**<font color=#FE8202> 2. Carga de Dados**"
      ],
      "metadata": {
        "id": "ThUqevesMlF-"
      }
    },
    {
      "cell_type": "markdown",
      "source": [
        "Nesse tópico iremos importar o dataset que está armazenado no GitHub, no formato CSV, com cabeçalho e separado por ponto e vírgula(;).\n",
        ">\n",
        "Iremos utilizar o pacote Pandas, para carregar esse arquivo, através de uma URL, e armazenaremos os dados em um **dataframe**(matrizes multidimensionais similares a uma tabela de dados relacionais, com linhas e colunas rotuladas).\n",
        ">\n",
        "Para isso, utilizaremos o método read_csv()"
      ],
      "metadata": {
        "id": "Mt1ymYzOU_a7"
      }
    },
    {
      "cell_type": "code",
      "execution_count": 13,
      "metadata": {
        "id": "beGsr5VSU3J1"
      },
      "outputs": [],
      "source": [
        "# importando dados de uma url para um dataframe\n",
        "\n",
        "# URL de importação\n",
        "url = \"https://raw.githubusercontent.com/gabrielmprata/MVP_Sprint01_Puc_Rio/main/acidentes2020_PRF.csv\"\n",
        "\n",
        "# Carga do dataset para o Pandas dataframe\n",
        "acidentes = pd.read_csv(url, encoding=\"Latin 1\", sep=';')"
      ]
    },
    {
      "cell_type": "code",
      "source": [
        "# verificando se é um dataframe\n",
        "type(acidentes)"
      ],
      "metadata": {
        "colab": {
          "base_uri": "https://localhost:8080/"
        },
        "id": "i8ySKYVqZ61h",
        "outputId": "a854a0ca-a264-4c44-ddf1-c79655b5f376"
      },
      "execution_count": null,
      "outputs": [
        {
          "output_type": "execute_result",
          "data": {
            "text/plain": [
              "pandas.core.frame.DataFrame"
            ]
          },
          "metadata": {},
          "execution_count": 3
        }
      ]
    },
    {
      "cell_type": "code",
      "source": [
        "# Exibe as 5 primeiras linhas (Default do comando head)\n",
        "acidentes.head()"
      ],
      "metadata": {
        "colab": {
          "base_uri": "https://localhost:8080/",
          "height": 439
        },
        "id": "CvGjzXX4ZobI",
        "outputId": "6a682a4f-c7b0-448e-f8e7-7bdcd2572d24"
      },
      "execution_count": 14,
      "outputs": [
        {
          "output_type": "execute_result",
          "data": {
            "text/plain": [
              "       id     pesid data_inversa    dia_semana   horario  uf     br   km  \\\n",
              "0  260068  578549.0   01/01/2020  quarta-feira  05:40:00  PA  316.0   84   \n",
              "1  260068  578550.0   01/01/2020  quarta-feira  05:40:00  PA  316.0   84   \n",
              "2  260073  580299.0   01/01/2020  quarta-feira  06:00:00  MG  262.0  804   \n",
              "3  260087  578794.0   01/01/2020  quarta-feira  06:00:00  BA  116.0  191   \n",
              "4  260116  578657.0   01/01/2020  quarta-feira  10:08:00  SP  116.0   71   \n",
              "\n",
              "               municipio                      causa_acidente  ...  \\\n",
              "0  SAO FRANCISCO DO PARA         Falta de Atenção à Condução  ...   \n",
              "1  SAO FRANCISCO DO PARA         Falta de Atenção à Condução  ...   \n",
              "2                UBERABA         Falta de Atenção à Condução  ...   \n",
              "3                CANUDOS                   Condutor Dormindo  ...   \n",
              "4              APARECIDA  Não guardar distância de segurança  ...   \n",
              "\n",
              "  ano_fabricacao_veiculo tipo_envolvido estado_fisico idade       sexo ilesos  \\\n",
              "0                 2008.0       Condutor  Lesões Leves  38.0  Masculino      0   \n",
              "1                 2008.0     Passageiro  Lesões Leves  14.0  Masculino      0   \n",
              "2                    NaN       Condutor         Ileso   NaN  Masculino      1   \n",
              "3                 2015.0       Condutor         Óbito  64.0  Masculino      0   \n",
              "4                 2015.0       Condutor         Ileso  57.0  Masculino      1   \n",
              "\n",
              "  feridos_leves feridos_graves mortos  delegacia  \n",
              "0             1              0      0   DEL01-PA  \n",
              "1             1              0      0   DEL01-PA  \n",
              "2             0              0      0   DEL13-MG  \n",
              "3             0              0      1   DEL07-BA  \n",
              "4             0              0      0   DEL08-SP  \n",
              "\n",
              "[5 rows x 29 columns]"
            ],
            "text/html": [
              "\n",
              "  <div id=\"df-d0999069-36a9-48cb-91db-404347746d0c\">\n",
              "    <div class=\"colab-df-container\">\n",
              "      <div>\n",
              "<style scoped>\n",
              "    .dataframe tbody tr th:only-of-type {\n",
              "        vertical-align: middle;\n",
              "    }\n",
              "\n",
              "    .dataframe tbody tr th {\n",
              "        vertical-align: top;\n",
              "    }\n",
              "\n",
              "    .dataframe thead th {\n",
              "        text-align: right;\n",
              "    }\n",
              "</style>\n",
              "<table border=\"1\" class=\"dataframe\">\n",
              "  <thead>\n",
              "    <tr style=\"text-align: right;\">\n",
              "      <th></th>\n",
              "      <th>id</th>\n",
              "      <th>pesid</th>\n",
              "      <th>data_inversa</th>\n",
              "      <th>dia_semana</th>\n",
              "      <th>horario</th>\n",
              "      <th>uf</th>\n",
              "      <th>br</th>\n",
              "      <th>km</th>\n",
              "      <th>municipio</th>\n",
              "      <th>causa_acidente</th>\n",
              "      <th>...</th>\n",
              "      <th>ano_fabricacao_veiculo</th>\n",
              "      <th>tipo_envolvido</th>\n",
              "      <th>estado_fisico</th>\n",
              "      <th>idade</th>\n",
              "      <th>sexo</th>\n",
              "      <th>ilesos</th>\n",
              "      <th>feridos_leves</th>\n",
              "      <th>feridos_graves</th>\n",
              "      <th>mortos</th>\n",
              "      <th>delegacia</th>\n",
              "    </tr>\n",
              "  </thead>\n",
              "  <tbody>\n",
              "    <tr>\n",
              "      <th>0</th>\n",
              "      <td>260068</td>\n",
              "      <td>578549.0</td>\n",
              "      <td>01/01/2020</td>\n",
              "      <td>quarta-feira</td>\n",
              "      <td>05:40:00</td>\n",
              "      <td>PA</td>\n",
              "      <td>316.0</td>\n",
              "      <td>84</td>\n",
              "      <td>SAO FRANCISCO DO PARA</td>\n",
              "      <td>Falta de Atenção à Condução</td>\n",
              "      <td>...</td>\n",
              "      <td>2008.0</td>\n",
              "      <td>Condutor</td>\n",
              "      <td>Lesões Leves</td>\n",
              "      <td>38.0</td>\n",
              "      <td>Masculino</td>\n",
              "      <td>0</td>\n",
              "      <td>1</td>\n",
              "      <td>0</td>\n",
              "      <td>0</td>\n",
              "      <td>DEL01-PA</td>\n",
              "    </tr>\n",
              "    <tr>\n",
              "      <th>1</th>\n",
              "      <td>260068</td>\n",
              "      <td>578550.0</td>\n",
              "      <td>01/01/2020</td>\n",
              "      <td>quarta-feira</td>\n",
              "      <td>05:40:00</td>\n",
              "      <td>PA</td>\n",
              "      <td>316.0</td>\n",
              "      <td>84</td>\n",
              "      <td>SAO FRANCISCO DO PARA</td>\n",
              "      <td>Falta de Atenção à Condução</td>\n",
              "      <td>...</td>\n",
              "      <td>2008.0</td>\n",
              "      <td>Passageiro</td>\n",
              "      <td>Lesões Leves</td>\n",
              "      <td>14.0</td>\n",
              "      <td>Masculino</td>\n",
              "      <td>0</td>\n",
              "      <td>1</td>\n",
              "      <td>0</td>\n",
              "      <td>0</td>\n",
              "      <td>DEL01-PA</td>\n",
              "    </tr>\n",
              "    <tr>\n",
              "      <th>2</th>\n",
              "      <td>260073</td>\n",
              "      <td>580299.0</td>\n",
              "      <td>01/01/2020</td>\n",
              "      <td>quarta-feira</td>\n",
              "      <td>06:00:00</td>\n",
              "      <td>MG</td>\n",
              "      <td>262.0</td>\n",
              "      <td>804</td>\n",
              "      <td>UBERABA</td>\n",
              "      <td>Falta de Atenção à Condução</td>\n",
              "      <td>...</td>\n",
              "      <td>NaN</td>\n",
              "      <td>Condutor</td>\n",
              "      <td>Ileso</td>\n",
              "      <td>NaN</td>\n",
              "      <td>Masculino</td>\n",
              "      <td>1</td>\n",
              "      <td>0</td>\n",
              "      <td>0</td>\n",
              "      <td>0</td>\n",
              "      <td>DEL13-MG</td>\n",
              "    </tr>\n",
              "    <tr>\n",
              "      <th>3</th>\n",
              "      <td>260087</td>\n",
              "      <td>578794.0</td>\n",
              "      <td>01/01/2020</td>\n",
              "      <td>quarta-feira</td>\n",
              "      <td>06:00:00</td>\n",
              "      <td>BA</td>\n",
              "      <td>116.0</td>\n",
              "      <td>191</td>\n",
              "      <td>CANUDOS</td>\n",
              "      <td>Condutor Dormindo</td>\n",
              "      <td>...</td>\n",
              "      <td>2015.0</td>\n",
              "      <td>Condutor</td>\n",
              "      <td>Óbito</td>\n",
              "      <td>64.0</td>\n",
              "      <td>Masculino</td>\n",
              "      <td>0</td>\n",
              "      <td>0</td>\n",
              "      <td>0</td>\n",
              "      <td>1</td>\n",
              "      <td>DEL07-BA</td>\n",
              "    </tr>\n",
              "    <tr>\n",
              "      <th>4</th>\n",
              "      <td>260116</td>\n",
              "      <td>578657.0</td>\n",
              "      <td>01/01/2020</td>\n",
              "      <td>quarta-feira</td>\n",
              "      <td>10:08:00</td>\n",
              "      <td>SP</td>\n",
              "      <td>116.0</td>\n",
              "      <td>71</td>\n",
              "      <td>APARECIDA</td>\n",
              "      <td>Não guardar distância de segurança</td>\n",
              "      <td>...</td>\n",
              "      <td>2015.0</td>\n",
              "      <td>Condutor</td>\n",
              "      <td>Ileso</td>\n",
              "      <td>57.0</td>\n",
              "      <td>Masculino</td>\n",
              "      <td>1</td>\n",
              "      <td>0</td>\n",
              "      <td>0</td>\n",
              "      <td>0</td>\n",
              "      <td>DEL08-SP</td>\n",
              "    </tr>\n",
              "  </tbody>\n",
              "</table>\n",
              "<p>5 rows × 29 columns</p>\n",
              "</div>\n",
              "      <button class=\"colab-df-convert\" onclick=\"convertToInteractive('df-d0999069-36a9-48cb-91db-404347746d0c')\"\n",
              "              title=\"Convert this dataframe to an interactive table.\"\n",
              "              style=\"display:none;\">\n",
              "        \n",
              "  <svg xmlns=\"http://www.w3.org/2000/svg\" height=\"24px\"viewBox=\"0 0 24 24\"\n",
              "       width=\"24px\">\n",
              "    <path d=\"M0 0h24v24H0V0z\" fill=\"none\"/>\n",
              "    <path d=\"M18.56 5.44l.94 2.06.94-2.06 2.06-.94-2.06-.94-.94-2.06-.94 2.06-2.06.94zm-11 1L8.5 8.5l.94-2.06 2.06-.94-2.06-.94L8.5 2.5l-.94 2.06-2.06.94zm10 10l.94 2.06.94-2.06 2.06-.94-2.06-.94-.94-2.06-.94 2.06-2.06.94z\"/><path d=\"M17.41 7.96l-1.37-1.37c-.4-.4-.92-.59-1.43-.59-.52 0-1.04.2-1.43.59L10.3 9.45l-7.72 7.72c-.78.78-.78 2.05 0 2.83L4 21.41c.39.39.9.59 1.41.59.51 0 1.02-.2 1.41-.59l7.78-7.78 2.81-2.81c.8-.78.8-2.07 0-2.86zM5.41 20L4 18.59l7.72-7.72 1.47 1.35L5.41 20z\"/>\n",
              "  </svg>\n",
              "      </button>\n",
              "      \n",
              "  <style>\n",
              "    .colab-df-container {\n",
              "      display:flex;\n",
              "      flex-wrap:wrap;\n",
              "      gap: 12px;\n",
              "    }\n",
              "\n",
              "    .colab-df-convert {\n",
              "      background-color: #E8F0FE;\n",
              "      border: none;\n",
              "      border-radius: 50%;\n",
              "      cursor: pointer;\n",
              "      display: none;\n",
              "      fill: #1967D2;\n",
              "      height: 32px;\n",
              "      padding: 0 0 0 0;\n",
              "      width: 32px;\n",
              "    }\n",
              "\n",
              "    .colab-df-convert:hover {\n",
              "      background-color: #E2EBFA;\n",
              "      box-shadow: 0px 1px 2px rgba(60, 64, 67, 0.3), 0px 1px 3px 1px rgba(60, 64, 67, 0.15);\n",
              "      fill: #174EA6;\n",
              "    }\n",
              "\n",
              "    [theme=dark] .colab-df-convert {\n",
              "      background-color: #3B4455;\n",
              "      fill: #D2E3FC;\n",
              "    }\n",
              "\n",
              "    [theme=dark] .colab-df-convert:hover {\n",
              "      background-color: #434B5C;\n",
              "      box-shadow: 0px 1px 3px 1px rgba(0, 0, 0, 0.15);\n",
              "      filter: drop-shadow(0px 1px 2px rgba(0, 0, 0, 0.3));\n",
              "      fill: #FFFFFF;\n",
              "    }\n",
              "  </style>\n",
              "\n",
              "      <script>\n",
              "        const buttonEl =\n",
              "          document.querySelector('#df-d0999069-36a9-48cb-91db-404347746d0c button.colab-df-convert');\n",
              "        buttonEl.style.display =\n",
              "          google.colab.kernel.accessAllowed ? 'block' : 'none';\n",
              "\n",
              "        async function convertToInteractive(key) {\n",
              "          const element = document.querySelector('#df-d0999069-36a9-48cb-91db-404347746d0c');\n",
              "          const dataTable =\n",
              "            await google.colab.kernel.invokeFunction('convertToInteractive',\n",
              "                                                     [key], {});\n",
              "          if (!dataTable) return;\n",
              "\n",
              "          const docLinkHtml = 'Like what you see? Visit the ' +\n",
              "            '<a target=\"_blank\" href=https://colab.research.google.com/notebooks/data_table.ipynb>data table notebook</a>'\n",
              "            + ' to learn more about interactive tables.';\n",
              "          element.innerHTML = '';\n",
              "          dataTable['output_type'] = 'display_data';\n",
              "          await google.colab.output.renderOutput(dataTable, element);\n",
              "          const docLink = document.createElement('div');\n",
              "          docLink.innerHTML = docLinkHtml;\n",
              "          element.appendChild(docLink);\n",
              "        }\n",
              "      </script>\n",
              "    </div>\n",
              "  </div>\n",
              "  "
            ]
          },
          "metadata": {},
          "execution_count": 14
        }
      ]
    },
    {
      "cell_type": "markdown",
      "source": [
        "#**<font color=#FE8202> 3. Análise de Dados**"
      ],
      "metadata": {
        "id": "dkeLOKzSaf1U"
      }
    },
    {
      "cell_type": "markdown",
      "source": [
        "Nessa etapa iremos fazer a análise exploratória de dados.\n",
        ">\n",
        "Uma etapa bem crítica, pois nesse primeiro momento, devemos compreender bem os dados.\n",
        ">\n",
        "Depois de entender melhor esses dados, seremos capazes de limpar, transformar e apresentar melhor os dados, assim como obter os melhores resultados possíveis nos algoritmos de Machine Learning."
      ],
      "metadata": {
        "id": "36Fzs_Mkaji0"
      }
    },
    {
      "cell_type": "markdown",
      "source": [
        "###**<font color=#FE8202> 3.1. Estatísticas Descritivas**"
      ],
      "metadata": {
        "id": "WR0xRBYcfNoV"
      }
    },
    {
      "cell_type": "markdown",
      "source": [
        "Compreende a organização, o resumo e, descrever os dados, que podem ser expressos em tabelas e gráficos.\n",
        ">\n",
        "Veremos a seguir alguns comandos para exibir algumas estatísticas descritivas.\n",
        ">\n",
        "---\n",
        "\n"
      ],
      "metadata": {
        "id": "Z2Nh6X1qfhBn"
      }
    },
    {
      "cell_type": "code",
      "source": [
        "#\tQuantidade de atributos e instâncias (linhas/colunas)\n",
        "acidentes.shape"
      ],
      "metadata": {
        "colab": {
          "base_uri": "https://localhost:8080/"
        },
        "id": "MbkI7LH_pgE7",
        "outputId": "2d444c57-6114-41fc-c675-856b99939952"
      },
      "execution_count": null,
      "outputs": [
        {
          "output_type": "execute_result",
          "data": {
            "text/plain": [
              "(99999, 29)"
            ]
          },
          "metadata": {},
          "execution_count": 4
        }
      ]
    },
    {
      "cell_type": "code",
      "source": [
        "# verificando os tipos de dados de cada coluna do dataframe\n",
        "acidentes.dtypes"
      ],
      "metadata": {
        "colab": {
          "base_uri": "https://localhost:8080/"
        },
        "id": "PofO_5h7qK5F",
        "outputId": "014f14ea-03f5-44fc-f119-4935fd702545"
      },
      "execution_count": null,
      "outputs": [
        {
          "output_type": "execute_result",
          "data": {
            "text/plain": [
              "id                         object\n",
              "pesid                     float64\n",
              "data_inversa               object\n",
              "dia_semana                 object\n",
              "horario                    object\n",
              "uf                         object\n",
              "br                        float64\n",
              "km                         object\n",
              "municipio                  object\n",
              "causa_acidente             object\n",
              "tipo_acidente              object\n",
              "classificacao_acidente     object\n",
              "fase_dia                   object\n",
              "sentido_via                object\n",
              "condicao_metereologica     object\n",
              "tipo_pista                 object\n",
              "tracado_via                object\n",
              "uso_solo                   object\n",
              "tipo_veiculo               object\n",
              "ano_fabricacao_veiculo    float64\n",
              "tipo_envolvido             object\n",
              "estado_fisico              object\n",
              "idade                     float64\n",
              "sexo                       object\n",
              "ilesos                      int64\n",
              "feridos_leves               int64\n",
              "feridos_graves              int64\n",
              "mortos                      int64\n",
              "delegacia                  object\n",
              "dtype: object"
            ]
          },
          "metadata": {},
          "execution_count": 5
        }
      ]
    },
    {
      "cell_type": "code",
      "source": [
        "# Mostra diversas informações do Dataframe em um único comando\n",
        "acidentes.info(memory_usage=\"deep\")"
      ],
      "metadata": {
        "colab": {
          "base_uri": "https://localhost:8080/"
        },
        "id": "2PPHphwTq9V9",
        "outputId": "9be1c1ce-eed3-459d-fca9-cc617e350880"
      },
      "execution_count": null,
      "outputs": [
        {
          "output_type": "stream",
          "name": "stdout",
          "text": [
            "<class 'pandas.core.frame.DataFrame'>\n",
            "RangeIndex: 99999 entries, 0 to 99998\n",
            "Data columns (total 29 columns):\n",
            " #   Column                  Non-Null Count  Dtype  \n",
            "---  ------                  --------------  -----  \n",
            " 0   id                      99999 non-null  object \n",
            " 1   pesid                   99998 non-null  float64\n",
            " 2   data_inversa            99999 non-null  object \n",
            " 3   dia_semana              99999 non-null  object \n",
            " 4   horario                 99999 non-null  object \n",
            " 5   uf                      99999 non-null  object \n",
            " 6   br                      99744 non-null  float64\n",
            " 7   km                      99744 non-null  object \n",
            " 8   municipio               99999 non-null  object \n",
            " 9   causa_acidente          99999 non-null  object \n",
            " 10  tipo_acidente           99999 non-null  object \n",
            " 11  classificacao_acidente  99999 non-null  object \n",
            " 12  fase_dia                99999 non-null  object \n",
            " 13  sentido_via             99999 non-null  object \n",
            " 14  condicao_metereologica  99999 non-null  object \n",
            " 15  tipo_pista              99999 non-null  object \n",
            " 16  tracado_via             99999 non-null  object \n",
            " 17  uso_solo                99999 non-null  object \n",
            " 18  tipo_veiculo            99999 non-null  object \n",
            " 19  ano_fabricacao_veiculo  93057 non-null  float64\n",
            " 20  tipo_envolvido          99999 non-null  object \n",
            " 21  estado_fisico           99999 non-null  object \n",
            " 22  idade                   89792 non-null  float64\n",
            " 23  sexo                    99999 non-null  object \n",
            " 24  ilesos                  99999 non-null  int64  \n",
            " 25  feridos_leves           99999 non-null  int64  \n",
            " 26  feridos_graves          99999 non-null  int64  \n",
            " 27  mortos                  99999 non-null  int64  \n",
            " 28  delegacia               99949 non-null  object \n",
            "dtypes: float64(4), int64(4), object(21)\n",
            "memory usage: 151.1 MB\n"
          ]
        }
      ]
    },
    {
      "cell_type": "markdown",
      "source": [
        "\n",
        "\n",
        "---\n",
        "\n",
        "\n",
        "A função info() da biblioteca pandas, nos fornece um resumo do dataframe, sendo muito útil para ter uma visão geral do conjunto de dados. \n",
        ">\n",
        "Usando o parâmetro memory_usage = “deep”, saberemos exatamente quanto de memória o dataframe está utilizando.\n",
        ">\n",
        "Sendo assim, depois dos processos de transformações de dados saberemos se tivemos algum ganho de memoria no dataframe.\n"
      ],
      "metadata": {
        "id": "R8UaO37WqyU8"
      }
    },
    {
      "cell_type": "markdown",
      "source": [
        "O dataframe está ocupando cerca de 150 Megas de espaço.\n",
        "\n",
        "\n",
        "---\n",
        "\n"
      ],
      "metadata": {
        "id": "0ma6moUprufj"
      }
    },
    {
      "cell_type": "code",
      "source": [
        "# Exibe as 5 primeiras linhas (Default do comando head)\n",
        "acidentes.head()"
      ],
      "metadata": {
        "colab": {
          "base_uri": "https://localhost:8080/",
          "height": 439
        },
        "id": "9Auwq_Pwr6V7",
        "outputId": "cf0e0470-67cd-4b60-d293-6bb531dabaec"
      },
      "execution_count": null,
      "outputs": [
        {
          "output_type": "execute_result",
          "data": {
            "text/plain": [
              "       id     pesid data_inversa    dia_semana   horario  uf     br   km  \\\n",
              "0  260068  578549.0   01/01/2020  quarta-feira  05:40:00  PA  316.0   84   \n",
              "1  260068  578550.0   01/01/2020  quarta-feira  05:40:00  PA  316.0   84   \n",
              "2  260073  580299.0   01/01/2020  quarta-feira  06:00:00  MG  262.0  804   \n",
              "3  260087  578794.0   01/01/2020  quarta-feira  06:00:00  BA  116.0  191   \n",
              "4  260116  578657.0   01/01/2020  quarta-feira  10:08:00  SP  116.0   71   \n",
              "\n",
              "               municipio                      causa_acidente  ...  \\\n",
              "0  SAO FRANCISCO DO PARA         Falta de Atenção à Condução  ...   \n",
              "1  SAO FRANCISCO DO PARA         Falta de Atenção à Condução  ...   \n",
              "2                UBERABA         Falta de Atenção à Condução  ...   \n",
              "3                CANUDOS                   Condutor Dormindo  ...   \n",
              "4              APARECIDA  Não guardar distância de segurança  ...   \n",
              "\n",
              "  ano_fabricacao_veiculo tipo_envolvido estado_fisico idade       sexo ilesos  \\\n",
              "0                 2008.0       Condutor  Lesões Leves  38.0  Masculino      0   \n",
              "1                 2008.0     Passageiro  Lesões Leves  14.0  Masculino      0   \n",
              "2                    NaN       Condutor         Ileso   NaN  Masculino      1   \n",
              "3                 2015.0       Condutor         Óbito  64.0  Masculino      0   \n",
              "4                 2015.0       Condutor         Ileso  57.0  Masculino      1   \n",
              "\n",
              "  feridos_leves feridos_graves mortos  delegacia  \n",
              "0             1              0      0   DEL01-PA  \n",
              "1             1              0      0   DEL01-PA  \n",
              "2             0              0      0   DEL13-MG  \n",
              "3             0              0      1   DEL07-BA  \n",
              "4             0              0      0   DEL08-SP  \n",
              "\n",
              "[5 rows x 29 columns]"
            ],
            "text/html": [
              "\n",
              "  <div id=\"df-b53de70b-6bb9-4558-b2af-7fb6271649c9\">\n",
              "    <div class=\"colab-df-container\">\n",
              "      <div>\n",
              "<style scoped>\n",
              "    .dataframe tbody tr th:only-of-type {\n",
              "        vertical-align: middle;\n",
              "    }\n",
              "\n",
              "    .dataframe tbody tr th {\n",
              "        vertical-align: top;\n",
              "    }\n",
              "\n",
              "    .dataframe thead th {\n",
              "        text-align: right;\n",
              "    }\n",
              "</style>\n",
              "<table border=\"1\" class=\"dataframe\">\n",
              "  <thead>\n",
              "    <tr style=\"text-align: right;\">\n",
              "      <th></th>\n",
              "      <th>id</th>\n",
              "      <th>pesid</th>\n",
              "      <th>data_inversa</th>\n",
              "      <th>dia_semana</th>\n",
              "      <th>horario</th>\n",
              "      <th>uf</th>\n",
              "      <th>br</th>\n",
              "      <th>km</th>\n",
              "      <th>municipio</th>\n",
              "      <th>causa_acidente</th>\n",
              "      <th>...</th>\n",
              "      <th>ano_fabricacao_veiculo</th>\n",
              "      <th>tipo_envolvido</th>\n",
              "      <th>estado_fisico</th>\n",
              "      <th>idade</th>\n",
              "      <th>sexo</th>\n",
              "      <th>ilesos</th>\n",
              "      <th>feridos_leves</th>\n",
              "      <th>feridos_graves</th>\n",
              "      <th>mortos</th>\n",
              "      <th>delegacia</th>\n",
              "    </tr>\n",
              "  </thead>\n",
              "  <tbody>\n",
              "    <tr>\n",
              "      <th>0</th>\n",
              "      <td>260068</td>\n",
              "      <td>578549.0</td>\n",
              "      <td>01/01/2020</td>\n",
              "      <td>quarta-feira</td>\n",
              "      <td>05:40:00</td>\n",
              "      <td>PA</td>\n",
              "      <td>316.0</td>\n",
              "      <td>84</td>\n",
              "      <td>SAO FRANCISCO DO PARA</td>\n",
              "      <td>Falta de Atenção à Condução</td>\n",
              "      <td>...</td>\n",
              "      <td>2008.0</td>\n",
              "      <td>Condutor</td>\n",
              "      <td>Lesões Leves</td>\n",
              "      <td>38.0</td>\n",
              "      <td>Masculino</td>\n",
              "      <td>0</td>\n",
              "      <td>1</td>\n",
              "      <td>0</td>\n",
              "      <td>0</td>\n",
              "      <td>DEL01-PA</td>\n",
              "    </tr>\n",
              "    <tr>\n",
              "      <th>1</th>\n",
              "      <td>260068</td>\n",
              "      <td>578550.0</td>\n",
              "      <td>01/01/2020</td>\n",
              "      <td>quarta-feira</td>\n",
              "      <td>05:40:00</td>\n",
              "      <td>PA</td>\n",
              "      <td>316.0</td>\n",
              "      <td>84</td>\n",
              "      <td>SAO FRANCISCO DO PARA</td>\n",
              "      <td>Falta de Atenção à Condução</td>\n",
              "      <td>...</td>\n",
              "      <td>2008.0</td>\n",
              "      <td>Passageiro</td>\n",
              "      <td>Lesões Leves</td>\n",
              "      <td>14.0</td>\n",
              "      <td>Masculino</td>\n",
              "      <td>0</td>\n",
              "      <td>1</td>\n",
              "      <td>0</td>\n",
              "      <td>0</td>\n",
              "      <td>DEL01-PA</td>\n",
              "    </tr>\n",
              "    <tr>\n",
              "      <th>2</th>\n",
              "      <td>260073</td>\n",
              "      <td>580299.0</td>\n",
              "      <td>01/01/2020</td>\n",
              "      <td>quarta-feira</td>\n",
              "      <td>06:00:00</td>\n",
              "      <td>MG</td>\n",
              "      <td>262.0</td>\n",
              "      <td>804</td>\n",
              "      <td>UBERABA</td>\n",
              "      <td>Falta de Atenção à Condução</td>\n",
              "      <td>...</td>\n",
              "      <td>NaN</td>\n",
              "      <td>Condutor</td>\n",
              "      <td>Ileso</td>\n",
              "      <td>NaN</td>\n",
              "      <td>Masculino</td>\n",
              "      <td>1</td>\n",
              "      <td>0</td>\n",
              "      <td>0</td>\n",
              "      <td>0</td>\n",
              "      <td>DEL13-MG</td>\n",
              "    </tr>\n",
              "    <tr>\n",
              "      <th>3</th>\n",
              "      <td>260087</td>\n",
              "      <td>578794.0</td>\n",
              "      <td>01/01/2020</td>\n",
              "      <td>quarta-feira</td>\n",
              "      <td>06:00:00</td>\n",
              "      <td>BA</td>\n",
              "      <td>116.0</td>\n",
              "      <td>191</td>\n",
              "      <td>CANUDOS</td>\n",
              "      <td>Condutor Dormindo</td>\n",
              "      <td>...</td>\n",
              "      <td>2015.0</td>\n",
              "      <td>Condutor</td>\n",
              "      <td>Óbito</td>\n",
              "      <td>64.0</td>\n",
              "      <td>Masculino</td>\n",
              "      <td>0</td>\n",
              "      <td>0</td>\n",
              "      <td>0</td>\n",
              "      <td>1</td>\n",
              "      <td>DEL07-BA</td>\n",
              "    </tr>\n",
              "    <tr>\n",
              "      <th>4</th>\n",
              "      <td>260116</td>\n",
              "      <td>578657.0</td>\n",
              "      <td>01/01/2020</td>\n",
              "      <td>quarta-feira</td>\n",
              "      <td>10:08:00</td>\n",
              "      <td>SP</td>\n",
              "      <td>116.0</td>\n",
              "      <td>71</td>\n",
              "      <td>APARECIDA</td>\n",
              "      <td>Não guardar distância de segurança</td>\n",
              "      <td>...</td>\n",
              "      <td>2015.0</td>\n",
              "      <td>Condutor</td>\n",
              "      <td>Ileso</td>\n",
              "      <td>57.0</td>\n",
              "      <td>Masculino</td>\n",
              "      <td>1</td>\n",
              "      <td>0</td>\n",
              "      <td>0</td>\n",
              "      <td>0</td>\n",
              "      <td>DEL08-SP</td>\n",
              "    </tr>\n",
              "  </tbody>\n",
              "</table>\n",
              "<p>5 rows × 29 columns</p>\n",
              "</div>\n",
              "      <button class=\"colab-df-convert\" onclick=\"convertToInteractive('df-b53de70b-6bb9-4558-b2af-7fb6271649c9')\"\n",
              "              title=\"Convert this dataframe to an interactive table.\"\n",
              "              style=\"display:none;\">\n",
              "        \n",
              "  <svg xmlns=\"http://www.w3.org/2000/svg\" height=\"24px\"viewBox=\"0 0 24 24\"\n",
              "       width=\"24px\">\n",
              "    <path d=\"M0 0h24v24H0V0z\" fill=\"none\"/>\n",
              "    <path d=\"M18.56 5.44l.94 2.06.94-2.06 2.06-.94-2.06-.94-.94-2.06-.94 2.06-2.06.94zm-11 1L8.5 8.5l.94-2.06 2.06-.94-2.06-.94L8.5 2.5l-.94 2.06-2.06.94zm10 10l.94 2.06.94-2.06 2.06-.94-2.06-.94-.94-2.06-.94 2.06-2.06.94z\"/><path d=\"M17.41 7.96l-1.37-1.37c-.4-.4-.92-.59-1.43-.59-.52 0-1.04.2-1.43.59L10.3 9.45l-7.72 7.72c-.78.78-.78 2.05 0 2.83L4 21.41c.39.39.9.59 1.41.59.51 0 1.02-.2 1.41-.59l7.78-7.78 2.81-2.81c.8-.78.8-2.07 0-2.86zM5.41 20L4 18.59l7.72-7.72 1.47 1.35L5.41 20z\"/>\n",
              "  </svg>\n",
              "      </button>\n",
              "      \n",
              "  <style>\n",
              "    .colab-df-container {\n",
              "      display:flex;\n",
              "      flex-wrap:wrap;\n",
              "      gap: 12px;\n",
              "    }\n",
              "\n",
              "    .colab-df-convert {\n",
              "      background-color: #E8F0FE;\n",
              "      border: none;\n",
              "      border-radius: 50%;\n",
              "      cursor: pointer;\n",
              "      display: none;\n",
              "      fill: #1967D2;\n",
              "      height: 32px;\n",
              "      padding: 0 0 0 0;\n",
              "      width: 32px;\n",
              "    }\n",
              "\n",
              "    .colab-df-convert:hover {\n",
              "      background-color: #E2EBFA;\n",
              "      box-shadow: 0px 1px 2px rgba(60, 64, 67, 0.3), 0px 1px 3px 1px rgba(60, 64, 67, 0.15);\n",
              "      fill: #174EA6;\n",
              "    }\n",
              "\n",
              "    [theme=dark] .colab-df-convert {\n",
              "      background-color: #3B4455;\n",
              "      fill: #D2E3FC;\n",
              "    }\n",
              "\n",
              "    [theme=dark] .colab-df-convert:hover {\n",
              "      background-color: #434B5C;\n",
              "      box-shadow: 0px 1px 3px 1px rgba(0, 0, 0, 0.15);\n",
              "      filter: drop-shadow(0px 1px 2px rgba(0, 0, 0, 0.3));\n",
              "      fill: #FFFFFF;\n",
              "    }\n",
              "  </style>\n",
              "\n",
              "      <script>\n",
              "        const buttonEl =\n",
              "          document.querySelector('#df-b53de70b-6bb9-4558-b2af-7fb6271649c9 button.colab-df-convert');\n",
              "        buttonEl.style.display =\n",
              "          google.colab.kernel.accessAllowed ? 'block' : 'none';\n",
              "\n",
              "        async function convertToInteractive(key) {\n",
              "          const element = document.querySelector('#df-b53de70b-6bb9-4558-b2af-7fb6271649c9');\n",
              "          const dataTable =\n",
              "            await google.colab.kernel.invokeFunction('convertToInteractive',\n",
              "                                                     [key], {});\n",
              "          if (!dataTable) return;\n",
              "\n",
              "          const docLinkHtml = 'Like what you see? Visit the ' +\n",
              "            '<a target=\"_blank\" href=https://colab.research.google.com/notebooks/data_table.ipynb>data table notebook</a>'\n",
              "            + ' to learn more about interactive tables.';\n",
              "          element.innerHTML = '';\n",
              "          dataTable['output_type'] = 'display_data';\n",
              "          await google.colab.output.renderOutput(dataTable, element);\n",
              "          const docLink = document.createElement('div');\n",
              "          docLink.innerHTML = docLinkHtml;\n",
              "          element.appendChild(docLink);\n",
              "        }\n",
              "      </script>\n",
              "    </div>\n",
              "  </div>\n",
              "  "
            ]
          },
          "metadata": {},
          "execution_count": 8
        }
      ]
    },
    {
      "cell_type": "code",
      "source": [
        "# Exibe as 5 últimas linhas (Default do comando tail)\n",
        "acidentes.tail()"
      ],
      "metadata": {
        "colab": {
          "base_uri": "https://localhost:8080/",
          "height": 421
        },
        "id": "GYl0F5Qpt9kS",
        "outputId": "90e42bd9-8f40-4806-f516-596f66fca5a4"
      },
      "execution_count": null,
      "outputs": [
        {
          "output_type": "execute_result",
          "data": {
            "text/plain": [
              "           id     pesid data_inversa    dia_semana   horario  uf     br  \\\n",
              "99994  305207  680089.0   02/09/2020  quarta-feira  15:50:00  MG   40.0   \n",
              "99995  305208  678320.0   02/09/2020  quarta-feira  16:50:00  SP  116.0   \n",
              "99996  305208  678327.0   02/09/2020  quarta-feira  16:50:00  SP  116.0   \n",
              "99997  305208  678324.0   02/09/2020  quarta-feira  16:50:00  SP  116.0   \n",
              "99998  305208  678319.0   02/09/2020  quarta-feira  16:50:00  SP  116.0   \n",
              "\n",
              "          km  municipio                                     causa_acidente  \\\n",
              "99994    564  NOVA LIMA  Desobediência às normas de trânsito pelo condutor   \n",
              "99995  112,3    TAUBATE                        Falta de Atenção à Condução   \n",
              "99996  112,3    TAUBATE                        Falta de Atenção à Condução   \n",
              "99997  112,3    TAUBATE                        Falta de Atenção à Condução   \n",
              "99998  112,3    TAUBATE                        Falta de Atenção à Condução   \n",
              "\n",
              "       ... ano_fabricacao_veiculo tipo_envolvido estado_fisico idade  \\\n",
              "99994  ...                 2018.0       Condutor         Ileso  30.0   \n",
              "99995  ...                 2009.0       Condutor         Ileso  42.0   \n",
              "99996  ...                 2015.0       Condutor  Lesões Leves  23.0   \n",
              "99997  ...                 2011.0       Condutor  Lesões Leves  22.0   \n",
              "99998  ...                 2013.0       Condutor         Ileso  41.0   \n",
              "\n",
              "            sexo ilesos feridos_leves feridos_graves mortos  delegacia  \n",
              "99994  Masculino      1             0              0      0   DEL01-MG  \n",
              "99995  Masculino      1             0              0      0   DEL06-SP  \n",
              "99996  Masculino      0             1              0      0   DEL06-SP  \n",
              "99997  Masculino      0             1              0      0   DEL06-SP  \n",
              "99998  Masculino      1             0              0      0   DEL06-SP  \n",
              "\n",
              "[5 rows x 29 columns]"
            ],
            "text/html": [
              "\n",
              "  <div id=\"df-e181ffc1-349d-478d-9749-b8ed94ecf7d9\">\n",
              "    <div class=\"colab-df-container\">\n",
              "      <div>\n",
              "<style scoped>\n",
              "    .dataframe tbody tr th:only-of-type {\n",
              "        vertical-align: middle;\n",
              "    }\n",
              "\n",
              "    .dataframe tbody tr th {\n",
              "        vertical-align: top;\n",
              "    }\n",
              "\n",
              "    .dataframe thead th {\n",
              "        text-align: right;\n",
              "    }\n",
              "</style>\n",
              "<table border=\"1\" class=\"dataframe\">\n",
              "  <thead>\n",
              "    <tr style=\"text-align: right;\">\n",
              "      <th></th>\n",
              "      <th>id</th>\n",
              "      <th>pesid</th>\n",
              "      <th>data_inversa</th>\n",
              "      <th>dia_semana</th>\n",
              "      <th>horario</th>\n",
              "      <th>uf</th>\n",
              "      <th>br</th>\n",
              "      <th>km</th>\n",
              "      <th>municipio</th>\n",
              "      <th>causa_acidente</th>\n",
              "      <th>...</th>\n",
              "      <th>ano_fabricacao_veiculo</th>\n",
              "      <th>tipo_envolvido</th>\n",
              "      <th>estado_fisico</th>\n",
              "      <th>idade</th>\n",
              "      <th>sexo</th>\n",
              "      <th>ilesos</th>\n",
              "      <th>feridos_leves</th>\n",
              "      <th>feridos_graves</th>\n",
              "      <th>mortos</th>\n",
              "      <th>delegacia</th>\n",
              "    </tr>\n",
              "  </thead>\n",
              "  <tbody>\n",
              "    <tr>\n",
              "      <th>99994</th>\n",
              "      <td>305207</td>\n",
              "      <td>680089.0</td>\n",
              "      <td>02/09/2020</td>\n",
              "      <td>quarta-feira</td>\n",
              "      <td>15:50:00</td>\n",
              "      <td>MG</td>\n",
              "      <td>40.0</td>\n",
              "      <td>564</td>\n",
              "      <td>NOVA LIMA</td>\n",
              "      <td>Desobediência às normas de trânsito pelo condutor</td>\n",
              "      <td>...</td>\n",
              "      <td>2018.0</td>\n",
              "      <td>Condutor</td>\n",
              "      <td>Ileso</td>\n",
              "      <td>30.0</td>\n",
              "      <td>Masculino</td>\n",
              "      <td>1</td>\n",
              "      <td>0</td>\n",
              "      <td>0</td>\n",
              "      <td>0</td>\n",
              "      <td>DEL01-MG</td>\n",
              "    </tr>\n",
              "    <tr>\n",
              "      <th>99995</th>\n",
              "      <td>305208</td>\n",
              "      <td>678320.0</td>\n",
              "      <td>02/09/2020</td>\n",
              "      <td>quarta-feira</td>\n",
              "      <td>16:50:00</td>\n",
              "      <td>SP</td>\n",
              "      <td>116.0</td>\n",
              "      <td>112,3</td>\n",
              "      <td>TAUBATE</td>\n",
              "      <td>Falta de Atenção à Condução</td>\n",
              "      <td>...</td>\n",
              "      <td>2009.0</td>\n",
              "      <td>Condutor</td>\n",
              "      <td>Ileso</td>\n",
              "      <td>42.0</td>\n",
              "      <td>Masculino</td>\n",
              "      <td>1</td>\n",
              "      <td>0</td>\n",
              "      <td>0</td>\n",
              "      <td>0</td>\n",
              "      <td>DEL06-SP</td>\n",
              "    </tr>\n",
              "    <tr>\n",
              "      <th>99996</th>\n",
              "      <td>305208</td>\n",
              "      <td>678327.0</td>\n",
              "      <td>02/09/2020</td>\n",
              "      <td>quarta-feira</td>\n",
              "      <td>16:50:00</td>\n",
              "      <td>SP</td>\n",
              "      <td>116.0</td>\n",
              "      <td>112,3</td>\n",
              "      <td>TAUBATE</td>\n",
              "      <td>Falta de Atenção à Condução</td>\n",
              "      <td>...</td>\n",
              "      <td>2015.0</td>\n",
              "      <td>Condutor</td>\n",
              "      <td>Lesões Leves</td>\n",
              "      <td>23.0</td>\n",
              "      <td>Masculino</td>\n",
              "      <td>0</td>\n",
              "      <td>1</td>\n",
              "      <td>0</td>\n",
              "      <td>0</td>\n",
              "      <td>DEL06-SP</td>\n",
              "    </tr>\n",
              "    <tr>\n",
              "      <th>99997</th>\n",
              "      <td>305208</td>\n",
              "      <td>678324.0</td>\n",
              "      <td>02/09/2020</td>\n",
              "      <td>quarta-feira</td>\n",
              "      <td>16:50:00</td>\n",
              "      <td>SP</td>\n",
              "      <td>116.0</td>\n",
              "      <td>112,3</td>\n",
              "      <td>TAUBATE</td>\n",
              "      <td>Falta de Atenção à Condução</td>\n",
              "      <td>...</td>\n",
              "      <td>2011.0</td>\n",
              "      <td>Condutor</td>\n",
              "      <td>Lesões Leves</td>\n",
              "      <td>22.0</td>\n",
              "      <td>Masculino</td>\n",
              "      <td>0</td>\n",
              "      <td>1</td>\n",
              "      <td>0</td>\n",
              "      <td>0</td>\n",
              "      <td>DEL06-SP</td>\n",
              "    </tr>\n",
              "    <tr>\n",
              "      <th>99998</th>\n",
              "      <td>305208</td>\n",
              "      <td>678319.0</td>\n",
              "      <td>02/09/2020</td>\n",
              "      <td>quarta-feira</td>\n",
              "      <td>16:50:00</td>\n",
              "      <td>SP</td>\n",
              "      <td>116.0</td>\n",
              "      <td>112,3</td>\n",
              "      <td>TAUBATE</td>\n",
              "      <td>Falta de Atenção à Condução</td>\n",
              "      <td>...</td>\n",
              "      <td>2013.0</td>\n",
              "      <td>Condutor</td>\n",
              "      <td>Ileso</td>\n",
              "      <td>41.0</td>\n",
              "      <td>Masculino</td>\n",
              "      <td>1</td>\n",
              "      <td>0</td>\n",
              "      <td>0</td>\n",
              "      <td>0</td>\n",
              "      <td>DEL06-SP</td>\n",
              "    </tr>\n",
              "  </tbody>\n",
              "</table>\n",
              "<p>5 rows × 29 columns</p>\n",
              "</div>\n",
              "      <button class=\"colab-df-convert\" onclick=\"convertToInteractive('df-e181ffc1-349d-478d-9749-b8ed94ecf7d9')\"\n",
              "              title=\"Convert this dataframe to an interactive table.\"\n",
              "              style=\"display:none;\">\n",
              "        \n",
              "  <svg xmlns=\"http://www.w3.org/2000/svg\" height=\"24px\"viewBox=\"0 0 24 24\"\n",
              "       width=\"24px\">\n",
              "    <path d=\"M0 0h24v24H0V0z\" fill=\"none\"/>\n",
              "    <path d=\"M18.56 5.44l.94 2.06.94-2.06 2.06-.94-2.06-.94-.94-2.06-.94 2.06-2.06.94zm-11 1L8.5 8.5l.94-2.06 2.06-.94-2.06-.94L8.5 2.5l-.94 2.06-2.06.94zm10 10l.94 2.06.94-2.06 2.06-.94-2.06-.94-.94-2.06-.94 2.06-2.06.94z\"/><path d=\"M17.41 7.96l-1.37-1.37c-.4-.4-.92-.59-1.43-.59-.52 0-1.04.2-1.43.59L10.3 9.45l-7.72 7.72c-.78.78-.78 2.05 0 2.83L4 21.41c.39.39.9.59 1.41.59.51 0 1.02-.2 1.41-.59l7.78-7.78 2.81-2.81c.8-.78.8-2.07 0-2.86zM5.41 20L4 18.59l7.72-7.72 1.47 1.35L5.41 20z\"/>\n",
              "  </svg>\n",
              "      </button>\n",
              "      \n",
              "  <style>\n",
              "    .colab-df-container {\n",
              "      display:flex;\n",
              "      flex-wrap:wrap;\n",
              "      gap: 12px;\n",
              "    }\n",
              "\n",
              "    .colab-df-convert {\n",
              "      background-color: #E8F0FE;\n",
              "      border: none;\n",
              "      border-radius: 50%;\n",
              "      cursor: pointer;\n",
              "      display: none;\n",
              "      fill: #1967D2;\n",
              "      height: 32px;\n",
              "      padding: 0 0 0 0;\n",
              "      width: 32px;\n",
              "    }\n",
              "\n",
              "    .colab-df-convert:hover {\n",
              "      background-color: #E2EBFA;\n",
              "      box-shadow: 0px 1px 2px rgba(60, 64, 67, 0.3), 0px 1px 3px 1px rgba(60, 64, 67, 0.15);\n",
              "      fill: #174EA6;\n",
              "    }\n",
              "\n",
              "    [theme=dark] .colab-df-convert {\n",
              "      background-color: #3B4455;\n",
              "      fill: #D2E3FC;\n",
              "    }\n",
              "\n",
              "    [theme=dark] .colab-df-convert:hover {\n",
              "      background-color: #434B5C;\n",
              "      box-shadow: 0px 1px 3px 1px rgba(0, 0, 0, 0.15);\n",
              "      filter: drop-shadow(0px 1px 2px rgba(0, 0, 0, 0.3));\n",
              "      fill: #FFFFFF;\n",
              "    }\n",
              "  </style>\n",
              "\n",
              "      <script>\n",
              "        const buttonEl =\n",
              "          document.querySelector('#df-e181ffc1-349d-478d-9749-b8ed94ecf7d9 button.colab-df-convert');\n",
              "        buttonEl.style.display =\n",
              "          google.colab.kernel.accessAllowed ? 'block' : 'none';\n",
              "\n",
              "        async function convertToInteractive(key) {\n",
              "          const element = document.querySelector('#df-e181ffc1-349d-478d-9749-b8ed94ecf7d9');\n",
              "          const dataTable =\n",
              "            await google.colab.kernel.invokeFunction('convertToInteractive',\n",
              "                                                     [key], {});\n",
              "          if (!dataTable) return;\n",
              "\n",
              "          const docLinkHtml = 'Like what you see? Visit the ' +\n",
              "            '<a target=\"_blank\" href=https://colab.research.google.com/notebooks/data_table.ipynb>data table notebook</a>'\n",
              "            + ' to learn more about interactive tables.';\n",
              "          element.innerHTML = '';\n",
              "          dataTable['output_type'] = 'display_data';\n",
              "          await google.colab.output.renderOutput(dataTable, element);\n",
              "          const docLink = document.createElement('div');\n",
              "          docLink.innerHTML = docLinkHtml;\n",
              "          element.appendChild(docLink);\n",
              "        }\n",
              "      </script>\n",
              "    </div>\n",
              "  </div>\n",
              "  "
            ]
          },
          "metadata": {},
          "execution_count": 9
        }
      ]
    },
    {
      "cell_type": "markdown",
      "source": [
        "Com a exibição das linhas, é mais fácil perceber que o processo de importação, considerou alguns atributos como Float ao inves de integer.\n",
        ">\n",
        "Nesse momento não irá interferir na exploração inicial de dados, depois na etpada de pre-processamento iremos modificar.\n",
        "  \n",
        "\n",
        "---\n",
        "\n"
      ],
      "metadata": {
        "id": "u3d2NYutXx4U"
      }
    },
    {
      "cell_type": "code",
      "source": [
        "# Quantidade de valores únicos\n",
        "acidentes.nunique()"
      ],
      "metadata": {
        "colab": {
          "base_uri": "https://localhost:8080/"
        },
        "id": "ylatDQNXvBvZ",
        "outputId": "8f95f5c6-9471-43e2-b49a-2ecb80b8dd7a"
      },
      "execution_count": null,
      "outputs": [
        {
          "output_type": "execute_result",
          "data": {
            "text/plain": [
              "id                        48733\n",
              "pesid                     99998\n",
              "data_inversa                366\n",
              "dia_semana                    7\n",
              "horario                    1189\n",
              "uf                           27\n",
              "br                          113\n",
              "km                         7293\n",
              "municipio                  1727\n",
              "causa_acidente               40\n",
              "tipo_acidente                20\n",
              "classificacao_acidente        3\n",
              "fase_dia                      4\n",
              "sentido_via                   3\n",
              "condicao_metereologica        9\n",
              "tipo_pista                    3\n",
              "tracado_via                  10\n",
              "uso_solo                      2\n",
              "tipo_veiculo                 24\n",
              "ano_fabricacao_veiculo       62\n",
              "tipo_envolvido                6\n",
              "estado_fisico                 5\n",
              "idade                       117\n",
              "sexo                          4\n",
              "ilesos                        2\n",
              "feridos_leves                 2\n",
              "feridos_graves                2\n",
              "mortos                        2\n",
              "delegacia                   150\n",
              "dtype: int64"
            ]
          },
          "metadata": {},
          "execution_count": 10
        }
      ]
    },
    {
      "cell_type": "markdown",
      "source": [
        "Com o comando nunique() já podemos ter uma rápida noção da coerência dos atributos, como por exemplo:\n",
        ">\n",
        "Temos 366 valores diferentes no atributo data_inversa, o que indica conter os 366 dias do ano bissexto de 2020, ou seja, coerente.\n",
        ">\n",
        "Temos 117 valores diferentes no atributo idade, o que pode indicar alguma discrepância nos valores informados, ou seja, precisamos explorar mais esse atributo.\n",
        ">\n",
        "\n",
        "\n",
        "---\n",
        "\n",
        "\n"
      ],
      "metadata": {
        "id": "6x5--hwiveCZ"
      }
    },
    {
      "cell_type": "code",
      "source": [
        "# Quantidade de nulls no dataframe\n",
        "acidentes.isnull().sum()"
      ],
      "metadata": {
        "colab": {
          "base_uri": "https://localhost:8080/"
        },
        "id": "OMLt646XxSRa",
        "outputId": "de4c217f-9a15-4e46-ab62-b0b3add826d3"
      },
      "execution_count": null,
      "outputs": [
        {
          "output_type": "execute_result",
          "data": {
            "text/plain": [
              "id                            0\n",
              "pesid                         1\n",
              "data_inversa                  0\n",
              "dia_semana                    0\n",
              "horario                       0\n",
              "uf                            0\n",
              "br                          255\n",
              "km                          255\n",
              "municipio                     0\n",
              "causa_acidente                0\n",
              "tipo_acidente                 0\n",
              "classificacao_acidente        0\n",
              "fase_dia                      0\n",
              "sentido_via                   0\n",
              "condicao_metereologica        0\n",
              "tipo_pista                    0\n",
              "tracado_via                   0\n",
              "uso_solo                      0\n",
              "tipo_veiculo                  0\n",
              "ano_fabricacao_veiculo     6942\n",
              "tipo_envolvido                0\n",
              "estado_fisico                 0\n",
              "idade                     10207\n",
              "sexo                          0\n",
              "ilesos                        0\n",
              "feridos_leves                 0\n",
              "feridos_graves                0\n",
              "mortos                        0\n",
              "delegacia                    50\n",
              "dtype: int64"
            ]
          },
          "metadata": {},
          "execution_count": 6
        }
      ]
    },
    {
      "cell_type": "markdown",
      "source": [
        "Dos 29 atributos, 6 apresentam registros nulos, que deverão ser tratados na etapa de pre-processamento de dados.\n",
        "\n",
        "\n",
        "---\n",
        "\n"
      ],
      "metadata": {
        "id": "B8mOIX-J-VzZ"
      }
    },
    {
      "cell_type": "markdown",
      "source": [
        "Vamos agora verificar se existe alguma duplicidade de registro.\n",
        ">\n",
        "Segundo a documentação do dataset existe o campo ID com o número único do registro do acidente, e o pesid com o número único que identifica a pessoa envolvida no registro do acidente.\n",
        ">\n",
        "Sendo assim devemos ter apenas 1 pesid distinto por ID de acidente, ou seja, só posso registrar uma vez a pessoa na ocorrência do acidente, mesmo que esse acidente tenha mais pessoas envolvidas.\n",
        ">\n",
        "Para essa analise iremos utilizar o método duplicated()"
      ],
      "metadata": {
        "id": "-PZGUh1NAkji"
      }
    },
    {
      "cell_type": "code",
      "source": [
        "# Quantidade de registros duplicados\n",
        "# subset - agrupa as colunas chaves\n",
        "# keep='first' - Se primeiro, considera o primeiro valor como único e o resto como duplicado\n",
        "\n",
        "acidentes.duplicated(subset=['id','pesid'], keep='first').sum()"
      ],
      "metadata": {
        "colab": {
          "base_uri": "https://localhost:8080/"
        },
        "id": "up44_7l4BVxv",
        "outputId": "5a1cb95b-d6cb-44e6-cf30-857dacc6b176"
      },
      "execution_count": null,
      "outputs": [
        {
          "output_type": "execute_result",
          "data": {
            "text/plain": [
              "0"
            ]
          },
          "metadata": {},
          "execution_count": 12
        }
      ]
    },
    {
      "cell_type": "markdown",
      "source": [
        "O método retorna 0, o que indica que o dataframe não tem duplicidade de registros.\n",
        "\n",
        "\n",
        "---\n",
        "\n"
      ],
      "metadata": {
        "id": "2ti27wxwF3Bg"
      }
    },
    {
      "cell_type": "code",
      "source": [
        "# Faz um resumo estatístico do dataset (média, desvio padrão, mínimo, máximo e os quartis)\n",
        "acidentes.describe().round(2)"
      ],
      "metadata": {
        "colab": {
          "base_uri": "https://localhost:8080/",
          "height": 300
        },
        "id": "WGOf_20-Hv53",
        "outputId": "bb7f738b-cbf2-4c2e-b73a-4caf79cbba9b"
      },
      "execution_count": null,
      "outputs": [
        {
          "output_type": "execute_result",
          "data": {
            "text/plain": [
              "            pesid        br  ano_fabricacao_veiculo     idade    ilesos  \\\n",
              "count    99998.00  99744.00                93057.00  89792.00  99999.00   \n",
              "mean    637277.15    213.80                 2009.70     39.77      0.43   \n",
              "std      37355.63    130.99                    7.89     40.44      0.50   \n",
              "min     578461.00     10.00                 1900.00      0.00      0.00   \n",
              "25%     607253.25    101.00                 2007.00     28.00      0.00   \n",
              "50%     634993.50    163.00                 2011.00     37.00      0.00   \n",
              "75%     662202.75    324.00                 2015.00     48.00      1.00   \n",
              "max    1008120.00    495.00                 2020.00   2019.00      1.00   \n",
              "\n",
              "       feridos_leves  feridos_graves    mortos  \n",
              "count       99999.00        99999.00  99999.00  \n",
              "mean            0.36            0.11      0.03  \n",
              "std             0.48            0.31      0.18  \n",
              "min             0.00            0.00      0.00  \n",
              "25%             0.00            0.00      0.00  \n",
              "50%             0.00            0.00      0.00  \n",
              "75%             1.00            0.00      0.00  \n",
              "max             1.00            1.00      1.00  "
            ],
            "text/html": [
              "\n",
              "  <div id=\"df-8afa1b71-a3c2-4993-97f6-97541cc2c9f9\">\n",
              "    <div class=\"colab-df-container\">\n",
              "      <div>\n",
              "<style scoped>\n",
              "    .dataframe tbody tr th:only-of-type {\n",
              "        vertical-align: middle;\n",
              "    }\n",
              "\n",
              "    .dataframe tbody tr th {\n",
              "        vertical-align: top;\n",
              "    }\n",
              "\n",
              "    .dataframe thead th {\n",
              "        text-align: right;\n",
              "    }\n",
              "</style>\n",
              "<table border=\"1\" class=\"dataframe\">\n",
              "  <thead>\n",
              "    <tr style=\"text-align: right;\">\n",
              "      <th></th>\n",
              "      <th>pesid</th>\n",
              "      <th>br</th>\n",
              "      <th>ano_fabricacao_veiculo</th>\n",
              "      <th>idade</th>\n",
              "      <th>ilesos</th>\n",
              "      <th>feridos_leves</th>\n",
              "      <th>feridos_graves</th>\n",
              "      <th>mortos</th>\n",
              "    </tr>\n",
              "  </thead>\n",
              "  <tbody>\n",
              "    <tr>\n",
              "      <th>count</th>\n",
              "      <td>99998.00</td>\n",
              "      <td>99744.00</td>\n",
              "      <td>93057.00</td>\n",
              "      <td>89792.00</td>\n",
              "      <td>99999.00</td>\n",
              "      <td>99999.00</td>\n",
              "      <td>99999.00</td>\n",
              "      <td>99999.00</td>\n",
              "    </tr>\n",
              "    <tr>\n",
              "      <th>mean</th>\n",
              "      <td>637277.15</td>\n",
              "      <td>213.80</td>\n",
              "      <td>2009.70</td>\n",
              "      <td>39.77</td>\n",
              "      <td>0.43</td>\n",
              "      <td>0.36</td>\n",
              "      <td>0.11</td>\n",
              "      <td>0.03</td>\n",
              "    </tr>\n",
              "    <tr>\n",
              "      <th>std</th>\n",
              "      <td>37355.63</td>\n",
              "      <td>130.99</td>\n",
              "      <td>7.89</td>\n",
              "      <td>40.44</td>\n",
              "      <td>0.50</td>\n",
              "      <td>0.48</td>\n",
              "      <td>0.31</td>\n",
              "      <td>0.18</td>\n",
              "    </tr>\n",
              "    <tr>\n",
              "      <th>min</th>\n",
              "      <td>578461.00</td>\n",
              "      <td>10.00</td>\n",
              "      <td>1900.00</td>\n",
              "      <td>0.00</td>\n",
              "      <td>0.00</td>\n",
              "      <td>0.00</td>\n",
              "      <td>0.00</td>\n",
              "      <td>0.00</td>\n",
              "    </tr>\n",
              "    <tr>\n",
              "      <th>25%</th>\n",
              "      <td>607253.25</td>\n",
              "      <td>101.00</td>\n",
              "      <td>2007.00</td>\n",
              "      <td>28.00</td>\n",
              "      <td>0.00</td>\n",
              "      <td>0.00</td>\n",
              "      <td>0.00</td>\n",
              "      <td>0.00</td>\n",
              "    </tr>\n",
              "    <tr>\n",
              "      <th>50%</th>\n",
              "      <td>634993.50</td>\n",
              "      <td>163.00</td>\n",
              "      <td>2011.00</td>\n",
              "      <td>37.00</td>\n",
              "      <td>0.00</td>\n",
              "      <td>0.00</td>\n",
              "      <td>0.00</td>\n",
              "      <td>0.00</td>\n",
              "    </tr>\n",
              "    <tr>\n",
              "      <th>75%</th>\n",
              "      <td>662202.75</td>\n",
              "      <td>324.00</td>\n",
              "      <td>2015.00</td>\n",
              "      <td>48.00</td>\n",
              "      <td>1.00</td>\n",
              "      <td>1.00</td>\n",
              "      <td>0.00</td>\n",
              "      <td>0.00</td>\n",
              "    </tr>\n",
              "    <tr>\n",
              "      <th>max</th>\n",
              "      <td>1008120.00</td>\n",
              "      <td>495.00</td>\n",
              "      <td>2020.00</td>\n",
              "      <td>2019.00</td>\n",
              "      <td>1.00</td>\n",
              "      <td>1.00</td>\n",
              "      <td>1.00</td>\n",
              "      <td>1.00</td>\n",
              "    </tr>\n",
              "  </tbody>\n",
              "</table>\n",
              "</div>\n",
              "      <button class=\"colab-df-convert\" onclick=\"convertToInteractive('df-8afa1b71-a3c2-4993-97f6-97541cc2c9f9')\"\n",
              "              title=\"Convert this dataframe to an interactive table.\"\n",
              "              style=\"display:none;\">\n",
              "        \n",
              "  <svg xmlns=\"http://www.w3.org/2000/svg\" height=\"24px\"viewBox=\"0 0 24 24\"\n",
              "       width=\"24px\">\n",
              "    <path d=\"M0 0h24v24H0V0z\" fill=\"none\"/>\n",
              "    <path d=\"M18.56 5.44l.94 2.06.94-2.06 2.06-.94-2.06-.94-.94-2.06-.94 2.06-2.06.94zm-11 1L8.5 8.5l.94-2.06 2.06-.94-2.06-.94L8.5 2.5l-.94 2.06-2.06.94zm10 10l.94 2.06.94-2.06 2.06-.94-2.06-.94-.94-2.06-.94 2.06-2.06.94z\"/><path d=\"M17.41 7.96l-1.37-1.37c-.4-.4-.92-.59-1.43-.59-.52 0-1.04.2-1.43.59L10.3 9.45l-7.72 7.72c-.78.78-.78 2.05 0 2.83L4 21.41c.39.39.9.59 1.41.59.51 0 1.02-.2 1.41-.59l7.78-7.78 2.81-2.81c.8-.78.8-2.07 0-2.86zM5.41 20L4 18.59l7.72-7.72 1.47 1.35L5.41 20z\"/>\n",
              "  </svg>\n",
              "      </button>\n",
              "      \n",
              "  <style>\n",
              "    .colab-df-container {\n",
              "      display:flex;\n",
              "      flex-wrap:wrap;\n",
              "      gap: 12px;\n",
              "    }\n",
              "\n",
              "    .colab-df-convert {\n",
              "      background-color: #E8F0FE;\n",
              "      border: none;\n",
              "      border-radius: 50%;\n",
              "      cursor: pointer;\n",
              "      display: none;\n",
              "      fill: #1967D2;\n",
              "      height: 32px;\n",
              "      padding: 0 0 0 0;\n",
              "      width: 32px;\n",
              "    }\n",
              "\n",
              "    .colab-df-convert:hover {\n",
              "      background-color: #E2EBFA;\n",
              "      box-shadow: 0px 1px 2px rgba(60, 64, 67, 0.3), 0px 1px 3px 1px rgba(60, 64, 67, 0.15);\n",
              "      fill: #174EA6;\n",
              "    }\n",
              "\n",
              "    [theme=dark] .colab-df-convert {\n",
              "      background-color: #3B4455;\n",
              "      fill: #D2E3FC;\n",
              "    }\n",
              "\n",
              "    [theme=dark] .colab-df-convert:hover {\n",
              "      background-color: #434B5C;\n",
              "      box-shadow: 0px 1px 3px 1px rgba(0, 0, 0, 0.15);\n",
              "      filter: drop-shadow(0px 1px 2px rgba(0, 0, 0, 0.3));\n",
              "      fill: #FFFFFF;\n",
              "    }\n",
              "  </style>\n",
              "\n",
              "      <script>\n",
              "        const buttonEl =\n",
              "          document.querySelector('#df-8afa1b71-a3c2-4993-97f6-97541cc2c9f9 button.colab-df-convert');\n",
              "        buttonEl.style.display =\n",
              "          google.colab.kernel.accessAllowed ? 'block' : 'none';\n",
              "\n",
              "        async function convertToInteractive(key) {\n",
              "          const element = document.querySelector('#df-8afa1b71-a3c2-4993-97f6-97541cc2c9f9');\n",
              "          const dataTable =\n",
              "            await google.colab.kernel.invokeFunction('convertToInteractive',\n",
              "                                                     [key], {});\n",
              "          if (!dataTable) return;\n",
              "\n",
              "          const docLinkHtml = 'Like what you see? Visit the ' +\n",
              "            '<a target=\"_blank\" href=https://colab.research.google.com/notebooks/data_table.ipynb>data table notebook</a>'\n",
              "            + ' to learn more about interactive tables.';\n",
              "          element.innerHTML = '';\n",
              "          dataTable['output_type'] = 'display_data';\n",
              "          await google.colab.output.renderOutput(dataTable, element);\n",
              "          const docLink = document.createElement('div');\n",
              "          docLink.innerHTML = docLinkHtml;\n",
              "          element.appendChild(docLink);\n",
              "        }\n",
              "      </script>\n",
              "    </div>\n",
              "  </div>\n",
              "  "
            ]
          },
          "metadata": {},
          "execution_count": 13
        }
      ]
    },
    {
      "cell_type": "markdown",
      "source": [
        "O atributo idade, apresenta um valor máximo de 2.019, o que seria uma inconsistência.\n",
        ">\n",
        "Já a idade mínima com valor 0, representa bebês que ainda não completaram 1 ano.\n",
        ">\n",
        "Sendo assim, vou selecionar no dataframe acidentes todas as idades maiores que 100, agrupando e contando quantas vezes elas aparecem no dataframe.\n",
        ">\n",
        "Assim já teremos uma noção de quantas idades estão inconsistentes no dataframe."
      ],
      "metadata": {
        "id": "Jb4jr0EvLWnS"
      }
    },
    {
      "cell_type": "code",
      "source": [
        "# Verificar idades inconsistentes\n",
        "# Cria um dataframe com idade > 100, agrupando e contando quantas vezes aparecem no dataframe\n",
        "verifica_idade = (acidentes[(acidentes['idade'] > 100)].groupby(['idade'])['idade'].count()).to_frame() #to_frame- método que converte Series em Dataframe\n",
        "verifica_idade = verifica_idade.rename(columns = {'idade':'total'}) #renomeia a coluna idade para total\n",
        "\n",
        "# Exibe os valores em ordem decrescente, pela coluna total\n",
        "verifica_idade.sort_values(by='total', ascending=False)\n"
      ],
      "metadata": {
        "colab": {
          "base_uri": "https://localhost:8080/",
          "height": 645
        },
        "id": "kcGizUotNgLB",
        "outputId": "c39dae57-ea7f-4b22-d959-fde4b6000c50"
      },
      "execution_count": null,
      "outputs": [
        {
          "output_type": "execute_result",
          "data": {
            "text/plain": [
              "        total\n",
              "idade        \n",
              "909.0      79\n",
              "120.0      20\n",
              "220.0      20\n",
              "2019.0     10\n",
              "1919.0      4\n",
              "1020.0      2\n",
              "1000.0      1\n",
              "2018.0      1\n",
              "1931.0      1\n",
              "1033.0      1\n",
              "110.0       1\n",
              "947.0       1\n",
              "119.0       1\n",
              "923.0       1\n",
              "303.0       1\n",
              "135.0       1\n",
              "133.0       1\n",
              "942.0       1"
            ],
            "text/html": [
              "\n",
              "  <div id=\"df-7c042d2e-7abb-434d-85f0-b83b47166507\">\n",
              "    <div class=\"colab-df-container\">\n",
              "      <div>\n",
              "<style scoped>\n",
              "    .dataframe tbody tr th:only-of-type {\n",
              "        vertical-align: middle;\n",
              "    }\n",
              "\n",
              "    .dataframe tbody tr th {\n",
              "        vertical-align: top;\n",
              "    }\n",
              "\n",
              "    .dataframe thead th {\n",
              "        text-align: right;\n",
              "    }\n",
              "</style>\n",
              "<table border=\"1\" class=\"dataframe\">\n",
              "  <thead>\n",
              "    <tr style=\"text-align: right;\">\n",
              "      <th></th>\n",
              "      <th>total</th>\n",
              "    </tr>\n",
              "    <tr>\n",
              "      <th>idade</th>\n",
              "      <th></th>\n",
              "    </tr>\n",
              "  </thead>\n",
              "  <tbody>\n",
              "    <tr>\n",
              "      <th>909.0</th>\n",
              "      <td>79</td>\n",
              "    </tr>\n",
              "    <tr>\n",
              "      <th>120.0</th>\n",
              "      <td>20</td>\n",
              "    </tr>\n",
              "    <tr>\n",
              "      <th>220.0</th>\n",
              "      <td>20</td>\n",
              "    </tr>\n",
              "    <tr>\n",
              "      <th>2019.0</th>\n",
              "      <td>10</td>\n",
              "    </tr>\n",
              "    <tr>\n",
              "      <th>1919.0</th>\n",
              "      <td>4</td>\n",
              "    </tr>\n",
              "    <tr>\n",
              "      <th>1020.0</th>\n",
              "      <td>2</td>\n",
              "    </tr>\n",
              "    <tr>\n",
              "      <th>1000.0</th>\n",
              "      <td>1</td>\n",
              "    </tr>\n",
              "    <tr>\n",
              "      <th>2018.0</th>\n",
              "      <td>1</td>\n",
              "    </tr>\n",
              "    <tr>\n",
              "      <th>1931.0</th>\n",
              "      <td>1</td>\n",
              "    </tr>\n",
              "    <tr>\n",
              "      <th>1033.0</th>\n",
              "      <td>1</td>\n",
              "    </tr>\n",
              "    <tr>\n",
              "      <th>110.0</th>\n",
              "      <td>1</td>\n",
              "    </tr>\n",
              "    <tr>\n",
              "      <th>947.0</th>\n",
              "      <td>1</td>\n",
              "    </tr>\n",
              "    <tr>\n",
              "      <th>119.0</th>\n",
              "      <td>1</td>\n",
              "    </tr>\n",
              "    <tr>\n",
              "      <th>923.0</th>\n",
              "      <td>1</td>\n",
              "    </tr>\n",
              "    <tr>\n",
              "      <th>303.0</th>\n",
              "      <td>1</td>\n",
              "    </tr>\n",
              "    <tr>\n",
              "      <th>135.0</th>\n",
              "      <td>1</td>\n",
              "    </tr>\n",
              "    <tr>\n",
              "      <th>133.0</th>\n",
              "      <td>1</td>\n",
              "    </tr>\n",
              "    <tr>\n",
              "      <th>942.0</th>\n",
              "      <td>1</td>\n",
              "    </tr>\n",
              "  </tbody>\n",
              "</table>\n",
              "</div>\n",
              "      <button class=\"colab-df-convert\" onclick=\"convertToInteractive('df-7c042d2e-7abb-434d-85f0-b83b47166507')\"\n",
              "              title=\"Convert this dataframe to an interactive table.\"\n",
              "              style=\"display:none;\">\n",
              "        \n",
              "  <svg xmlns=\"http://www.w3.org/2000/svg\" height=\"24px\"viewBox=\"0 0 24 24\"\n",
              "       width=\"24px\">\n",
              "    <path d=\"M0 0h24v24H0V0z\" fill=\"none\"/>\n",
              "    <path d=\"M18.56 5.44l.94 2.06.94-2.06 2.06-.94-2.06-.94-.94-2.06-.94 2.06-2.06.94zm-11 1L8.5 8.5l.94-2.06 2.06-.94-2.06-.94L8.5 2.5l-.94 2.06-2.06.94zm10 10l.94 2.06.94-2.06 2.06-.94-2.06-.94-.94-2.06-.94 2.06-2.06.94z\"/><path d=\"M17.41 7.96l-1.37-1.37c-.4-.4-.92-.59-1.43-.59-.52 0-1.04.2-1.43.59L10.3 9.45l-7.72 7.72c-.78.78-.78 2.05 0 2.83L4 21.41c.39.39.9.59 1.41.59.51 0 1.02-.2 1.41-.59l7.78-7.78 2.81-2.81c.8-.78.8-2.07 0-2.86zM5.41 20L4 18.59l7.72-7.72 1.47 1.35L5.41 20z\"/>\n",
              "  </svg>\n",
              "      </button>\n",
              "      \n",
              "  <style>\n",
              "    .colab-df-container {\n",
              "      display:flex;\n",
              "      flex-wrap:wrap;\n",
              "      gap: 12px;\n",
              "    }\n",
              "\n",
              "    .colab-df-convert {\n",
              "      background-color: #E8F0FE;\n",
              "      border: none;\n",
              "      border-radius: 50%;\n",
              "      cursor: pointer;\n",
              "      display: none;\n",
              "      fill: #1967D2;\n",
              "      height: 32px;\n",
              "      padding: 0 0 0 0;\n",
              "      width: 32px;\n",
              "    }\n",
              "\n",
              "    .colab-df-convert:hover {\n",
              "      background-color: #E2EBFA;\n",
              "      box-shadow: 0px 1px 2px rgba(60, 64, 67, 0.3), 0px 1px 3px 1px rgba(60, 64, 67, 0.15);\n",
              "      fill: #174EA6;\n",
              "    }\n",
              "\n",
              "    [theme=dark] .colab-df-convert {\n",
              "      background-color: #3B4455;\n",
              "      fill: #D2E3FC;\n",
              "    }\n",
              "\n",
              "    [theme=dark] .colab-df-convert:hover {\n",
              "      background-color: #434B5C;\n",
              "      box-shadow: 0px 1px 3px 1px rgba(0, 0, 0, 0.15);\n",
              "      filter: drop-shadow(0px 1px 2px rgba(0, 0, 0, 0.3));\n",
              "      fill: #FFFFFF;\n",
              "    }\n",
              "  </style>\n",
              "\n",
              "      <script>\n",
              "        const buttonEl =\n",
              "          document.querySelector('#df-7c042d2e-7abb-434d-85f0-b83b47166507 button.colab-df-convert');\n",
              "        buttonEl.style.display =\n",
              "          google.colab.kernel.accessAllowed ? 'block' : 'none';\n",
              "\n",
              "        async function convertToInteractive(key) {\n",
              "          const element = document.querySelector('#df-7c042d2e-7abb-434d-85f0-b83b47166507');\n",
              "          const dataTable =\n",
              "            await google.colab.kernel.invokeFunction('convertToInteractive',\n",
              "                                                     [key], {});\n",
              "          if (!dataTable) return;\n",
              "\n",
              "          const docLinkHtml = 'Like what you see? Visit the ' +\n",
              "            '<a target=\"_blank\" href=https://colab.research.google.com/notebooks/data_table.ipynb>data table notebook</a>'\n",
              "            + ' to learn more about interactive tables.';\n",
              "          element.innerHTML = '';\n",
              "          dataTable['output_type'] = 'display_data';\n",
              "          await google.colab.output.renderOutput(dataTable, element);\n",
              "          const docLink = document.createElement('div');\n",
              "          docLink.innerHTML = docLinkHtml;\n",
              "          element.appendChild(docLink);\n",
              "        }\n",
              "      </script>\n",
              "    </div>\n",
              "  </div>\n",
              "  "
            ]
          },
          "metadata": {},
          "execution_count": 14
        }
      ]
    },
    {
      "cell_type": "markdown",
      "source": [
        "Encontramos 18 idades com valores aparentementes inconsistentes, que serão tratados nas próximas etapas.\n",
        "Outro ponto que iremos tratar é a conversão de float para integer.\n",
        "\n",
        "\n",
        "---\n",
        "\n"
      ],
      "metadata": {
        "id": "d2T0hPS3Whrs"
      }
    },
    {
      "cell_type": "markdown",
      "source": [
        "Vamos verificar agora a distribuição de frequência do atributo alvo classificacao_acidente.\n",
        ">\n",
        "Lembrando que ainda iremos tratar esse atributo, convertendo para binário, onde a classe 0 será o acidente \"Sem vitimas\"(classificacao_acidente == 'Sem Vítimas'), e os demais, com a classe 1 \"Com vítimas\"."
      ],
      "metadata": {
        "id": "dfFu_GVtkpzD"
      }
    },
    {
      "cell_type": "code",
      "source": [
        "# distribuição das classes\n",
        "acidentes.groupby('classificacao_acidente').size().sort_values(ascending=False)"
      ],
      "metadata": {
        "colab": {
          "base_uri": "https://localhost:8080/"
        },
        "id": "zY4G0q5mkjjw",
        "outputId": "c07fab02-859b-47f0-b14e-fdcf53b3f4de"
      },
      "execution_count": null,
      "outputs": [
        {
          "output_type": "execute_result",
          "data": {
            "text/plain": [
              "classificacao_acidente\n",
              "Com Vítimas Feridas    75117\n",
              "Sem Vítimas            15499\n",
              "Com Vítimas Fatais      9383\n",
              "dtype: int64"
            ]
          },
          "metadata": {},
          "execution_count": 9
        }
      ]
    },
    {
      "cell_type": "code",
      "source": [
        "# Verificando o percentual da distribuição\n",
        "acidentes.classificacao_acidente.value_counts(normalize=True) "
      ],
      "metadata": {
        "colab": {
          "base_uri": "https://localhost:8080/"
        },
        "id": "UGglG06Jmg2T",
        "outputId": "fe059ee7-8fde-47e0-cf52-316a0c0033ec"
      },
      "execution_count": null,
      "outputs": [
        {
          "output_type": "execute_result",
          "data": {
            "text/plain": [
              "Com Vítimas Feridas    0.751178\n",
              "Sem Vítimas            0.154992\n",
              "Com Vítimas Fatais     0.093831\n",
              "Name: classificacao_acidente, dtype: float64"
            ]
          },
          "metadata": {},
          "execution_count": 5
        }
      ]
    },
    {
      "cell_type": "markdown",
      "source": [
        "A distribuição retrata a realidade do quadro de vítimas em acidentes de transito, sendo assim, não poderemos tratar esse atributo.\n",
        "\n",
        "\n",
        "---\n",
        "\n"
      ],
      "metadata": {
        "id": "E57GfMitttou"
      }
    },
    {
      "cell_type": "markdown",
      "source": [
        "Vamos analisar alguns atributos importantes, de forma individual, para ver se existe a necessidade de tomar alguma ação."
      ],
      "metadata": {
        "id": "MkJvtsho4LC5"
      }
    },
    {
      "cell_type": "code",
      "source": [
        "# Verificando o conteudo do atributo e a sua distribuição entre eles\n",
        "# dia_semana (Dia da semana da ocorrência)\n",
        "acidentes.dia_semana.value_counts() "
      ],
      "metadata": {
        "colab": {
          "base_uri": "https://localhost:8080/"
        },
        "id": "ScXrpfJB4kRX",
        "outputId": "76fe3ccc-2b7e-4833-9c0e-cf009e66a8bd"
      },
      "execution_count": null,
      "outputs": [
        {
          "output_type": "execute_result",
          "data": {
            "text/plain": [
              "terça-feira      12586\n",
              "quinta-feira     12908\n",
              "quarta-feira     13026\n",
              "segunda-feira    13402\n",
              "sexta-feira      15702\n",
              "domingo          16057\n",
              "sábado           16318\n",
              "Name: dia_semana, dtype: int64"
            ]
          },
          "metadata": {},
          "execution_count": 8
        }
      ]
    },
    {
      "cell_type": "markdown",
      "source": [
        "Para esse atributo, iremos na proxima etapa, criar uma nova coluna com o valor númerico referente ao dia da semana, utilizando função weekday.\n",
        ">\n",
        "Assim fica mais facil ordenar em um gráfico a sequencia semana, de segunda a domingo, proporcionando ao usuário um fácil leitura temporal.\n",
        "\n",
        "\n",
        "---\n",
        "\n"
      ],
      "metadata": {
        "id": "5SN4oL1Q5MDW"
      }
    },
    {
      "cell_type": "code",
      "source": [
        "# Verificando o conteudo do atributo e a sua distribuição entre eles\n",
        "# fase_dia (Fase do dia no momento do acidente)\n",
        "acidentes.fase_dia.value_counts()"
      ],
      "metadata": {
        "colab": {
          "base_uri": "https://localhost:8080/"
        },
        "id": "89AMIKUe7cI1",
        "outputId": "693205c1-ad0e-4512-81c9-61281e280416"
      },
      "execution_count": null,
      "outputs": [
        {
          "output_type": "execute_result",
          "data": {
            "text/plain": [
              "Pleno dia      55045\n",
              "Plena Noite    34702\n",
              "Anoitecer       5866\n",
              "Amanhecer       4386\n",
              "Name: fase_dia, dtype: int64"
            ]
          },
          "metadata": {},
          "execution_count": 10
        }
      ]
    },
    {
      "cell_type": "markdown",
      "source": [
        "\n",
        "\n",
        "---\n",
        "\n"
      ],
      "metadata": {
        "id": "Hg518XaT9VDu"
      }
    },
    {
      "cell_type": "code",
      "source": [
        "# Verificando o conteudo do atributo e a sua distribuição entre eles\n",
        "# condicao_metereologica (Condição meteorologica no momento do acidente)\n",
        "acidentes.condicao_metereologica.value_counts()"
      ],
      "metadata": {
        "colab": {
          "base_uri": "https://localhost:8080/"
        },
        "id": "vL1AGBIz8cEZ",
        "outputId": "2ed190ca-1c7d-44a6-a3c8-980bcc134b9b"
      },
      "execution_count": null,
      "outputs": [
        {
          "output_type": "execute_result",
          "data": {
            "text/plain": [
              "Céu Claro           59182\n",
              "Nublado             16422\n",
              "Chuva               11198\n",
              "Sol                  7710\n",
              "Garoa/Chuvisco       3318\n",
              "Ignorado             1111\n",
              "Nevoeiro/Neblina      877\n",
              "Vento                 178\n",
              "Granizo                 3\n",
              "Name: condicao_metereologica, dtype: int64"
            ]
          },
          "metadata": {},
          "execution_count": 13
        }
      ]
    },
    {
      "cell_type": "code",
      "source": [
        "#percentual da distribuição\n",
        "(acidentes.condicao_metereologica.value_counts(normalize=True)*100).round(1)"
      ],
      "metadata": {
        "colab": {
          "base_uri": "https://localhost:8080/"
        },
        "id": "iQSlVEG58yvA",
        "outputId": "b9431549-9dee-4968-c781-8d97f691c92c"
      },
      "execution_count": null,
      "outputs": [
        {
          "output_type": "execute_result",
          "data": {
            "text/plain": [
              "Céu Claro           59.2\n",
              "Nublado             16.4\n",
              "Chuva               11.2\n",
              "Sol                  7.7\n",
              "Garoa/Chuvisco       3.3\n",
              "Ignorado             1.1\n",
              "Nevoeiro/Neblina     0.9\n",
              "Vento                0.2\n",
              "Granizo              0.0\n",
              "Name: condicao_metereologica, dtype: float64"
            ]
          },
          "metadata": {},
          "execution_count": 19
        }
      ]
    },
    {
      "cell_type": "markdown",
      "source": [
        "Para esse atributo, temos o valor \"Ignorado\". Utlizando o parâmetro normalize=True, verificamos que o percentual dele é baixo, sendo assim não iremos tratá-lo.\n",
        "\n",
        "\n",
        "---\n",
        "\n"
      ],
      "metadata": {
        "id": "_wJuTBv66vUu"
      }
    },
    {
      "cell_type": "code",
      "source": [
        "# Verificando o conteudo do atributo e a sua distribuição entre eles\n",
        "# estado_fisico (Condição do envolvido conforme a gravidade das lesões)\n",
        "acidentes.estado_fisico.value_counts()"
      ],
      "metadata": {
        "colab": {
          "base_uri": "https://localhost:8080/"
        },
        "id": "UY6iL2XP-x2N",
        "outputId": "ff5cadd7-0144-4d4a-9f52-635d7404822d"
      },
      "execution_count": null,
      "outputs": [
        {
          "output_type": "execute_result",
          "data": {
            "text/plain": [
              "Ileso            43052\n",
              "Lesões Leves     35621\n",
              "Lesões Graves    10823\n",
              "Não Informado     7051\n",
              "Óbito             3452\n",
              "Name: estado_fisico, dtype: int64"
            ]
          },
          "metadata": {},
          "execution_count": 21
        }
      ]
    },
    {
      "cell_type": "code",
      "source": [
        "#percentual da distribuição\n",
        "(acidentes.estado_fisico.value_counts(normalize=True)*100).round(1)"
      ],
      "metadata": {
        "colab": {
          "base_uri": "https://localhost:8080/"
        },
        "id": "H86liZ___D_J",
        "outputId": "a7377dfd-fb93-4fe3-902e-2c12d955c9f1"
      },
      "execution_count": null,
      "outputs": [
        {
          "output_type": "execute_result",
          "data": {
            "text/plain": [
              "Ileso            43.1\n",
              "Lesões Leves     35.6\n",
              "Lesões Graves    10.8\n",
              "Não Informado     7.1\n",
              "Óbito             3.5\n",
              "Name: estado_fisico, dtype: float64"
            ]
          },
          "metadata": {},
          "execution_count": 22
        }
      ]
    },
    {
      "cell_type": "markdown",
      "source": [
        "Em cerca de 7% dos registros, a condição da lesão do envolvido não é informada(Não Informado), é importante deixar esse valor, para que possa ser apurado uma melhoria na coleta dos dados.\n",
        ">\n",
        "Poderiamos criar um modelo de Machine Learning para classicar esses registros, mas não estaria presente nas analises a falta da coleta dessa informação tão importante."
      ],
      "metadata": {
        "id": "HzKvc9-G_Ui0"
      }
    },
    {
      "cell_type": "code",
      "source": [
        "# Verificando o conteudo do atributo e a sua distribuição entre eles\n",
        "# sexo (Sexo do envolvido. O valor \"invalido\" indica que não foi possivel coletar a informação.)\n",
        "acidentes.sexo.value_counts()"
      ],
      "metadata": {
        "colab": {
          "base_uri": "https://localhost:8080/"
        },
        "id": "h3p1GiGaCBaN",
        "outputId": "a1fb1ce5-e473-4e5d-b877-45ee78dfea9b"
      },
      "execution_count": null,
      "outputs": [
        {
          "output_type": "execute_result",
          "data": {
            "text/plain": [
              "Masculino        73315\n",
              "Feminino         19152\n",
              "Não Informado     7051\n",
              "Ignorado           481\n",
              "Name: sexo, dtype: int64"
            ]
          },
          "metadata": {},
          "execution_count": 4
        }
      ]
    },
    {
      "cell_type": "code",
      "source": [
        "#percentual da distribuição\n",
        "(acidentes.sexo.value_counts(normalize=True)*100).round(1)"
      ],
      "metadata": {
        "colab": {
          "base_uri": "https://localhost:8080/"
        },
        "id": "Dilz-J82Ch_J",
        "outputId": "00a5467b-7ad1-4f86-e98b-60b52eb4cd20"
      },
      "execution_count": null,
      "outputs": [
        {
          "output_type": "execute_result",
          "data": {
            "text/plain": [
              "Masculino        73.3\n",
              "Feminino         19.2\n",
              "Não Informado     7.1\n",
              "Ignorado          0.5\n",
              "Name: sexo, dtype: float64"
            ]
          },
          "metadata": {},
          "execution_count": 24
        }
      ]
    },
    {
      "cell_type": "code",
      "source": [
        "sexo_hist = acidentes.groupby([\"ano\",\"mes\",\"sexo\"])['id'].count().reset_index()\n",
        "sexo_hist"
      ],
      "metadata": {
        "colab": {
          "base_uri": "https://localhost:8080/",
          "height": 662
        },
        "id": "8_U-M82OwIIB",
        "outputId": "0cf2579c-a00b-4c1b-a49a-90e7901732d9"
      },
      "execution_count": null,
      "outputs": [
        {
          "output_type": "execute_result",
          "data": {
            "text/plain": [
              "     ano  mes           sexo    id\n",
              "0   2020    1       Feminino  2810\n",
              "1   2020    1       Ignorado    78\n",
              "2   2020    1      Masculino  8433\n",
              "3   2020    1  Não Informado   724\n",
              "4   2020    2       Feminino  2608\n",
              "5   2020    2       Ignorado    43\n",
              "6   2020    2      Masculino  8021\n",
              "7   2020    2  Não Informado   703\n",
              "8   2020    3       Feminino  1678\n",
              "9   2020    3       Ignorado    37\n",
              "10  2020    3      Masculino  6513\n",
              "11  2020    3  Não Informado   613\n",
              "12  2020    4       Feminino  1564\n",
              "13  2020    4       Ignorado    33\n",
              "14  2020    4      Masculino  6112\n",
              "15  2020    4  Não Informado   592\n",
              "16  2020    5       Feminino  1824\n",
              "17  2020    5       Ignorado    41\n",
              "18  2020    5      Masculino  7015\n",
              "19  2020    5  Não Informado   692\n",
              "20  2020    6       Feminino  1681\n",
              "21  2020    6       Ignorado    48\n",
              "22  2020    6      Masculino  6905\n",
              "23  2020    6  Não Informado   673\n",
              "24  2020    7       Feminino  1936\n",
              "25  2020    7       Ignorado    33\n",
              "26  2020    7      Masculino  7695\n",
              "27  2020    7  Não Informado   742\n",
              "28  2020    8       Feminino  2226\n",
              "29  2020    8       Ignorado    50\n",
              "30  2020    8      Masculino  8013\n",
              "31  2020    8  Não Informado   781\n",
              "32  2020    9       Feminino   745\n",
              "33  2020    9       Ignorado    39\n",
              "34  2020    9      Masculino  3800\n",
              "35  2020    9  Não Informado   428\n",
              "36  2020   10       Feminino   663\n",
              "37  2020   10       Ignorado    29\n",
              "38  2020   10      Masculino  3695\n",
              "39  2020   10  Não Informado   354\n",
              "40  2020   11       Feminino   687\n",
              "41  2020   11       Ignorado    19\n",
              "42  2020   11      Masculino  3683\n",
              "43  2020   11  Não Informado   382\n",
              "44  2020   12       Feminino   730\n",
              "45  2020   12       Ignorado    31\n",
              "46  2020   12      Masculino  3430\n",
              "47  2020   12  Não Informado   367"
            ],
            "text/html": [
              "\n",
              "  <div id=\"df-1748c272-f8c9-42cc-8968-a768c54bb2db\">\n",
              "    <div class=\"colab-df-container\">\n",
              "      <div>\n",
              "<style scoped>\n",
              "    .dataframe tbody tr th:only-of-type {\n",
              "        vertical-align: middle;\n",
              "    }\n",
              "\n",
              "    .dataframe tbody tr th {\n",
              "        vertical-align: top;\n",
              "    }\n",
              "\n",
              "    .dataframe thead th {\n",
              "        text-align: right;\n",
              "    }\n",
              "</style>\n",
              "<table border=\"1\" class=\"dataframe\">\n",
              "  <thead>\n",
              "    <tr style=\"text-align: right;\">\n",
              "      <th></th>\n",
              "      <th>ano</th>\n",
              "      <th>mes</th>\n",
              "      <th>sexo</th>\n",
              "      <th>id</th>\n",
              "    </tr>\n",
              "  </thead>\n",
              "  <tbody>\n",
              "    <tr>\n",
              "      <th>0</th>\n",
              "      <td>2020</td>\n",
              "      <td>1</td>\n",
              "      <td>Feminino</td>\n",
              "      <td>2810</td>\n",
              "    </tr>\n",
              "    <tr>\n",
              "      <th>1</th>\n",
              "      <td>2020</td>\n",
              "      <td>1</td>\n",
              "      <td>Ignorado</td>\n",
              "      <td>78</td>\n",
              "    </tr>\n",
              "    <tr>\n",
              "      <th>2</th>\n",
              "      <td>2020</td>\n",
              "      <td>1</td>\n",
              "      <td>Masculino</td>\n",
              "      <td>8433</td>\n",
              "    </tr>\n",
              "    <tr>\n",
              "      <th>3</th>\n",
              "      <td>2020</td>\n",
              "      <td>1</td>\n",
              "      <td>Não Informado</td>\n",
              "      <td>724</td>\n",
              "    </tr>\n",
              "    <tr>\n",
              "      <th>4</th>\n",
              "      <td>2020</td>\n",
              "      <td>2</td>\n",
              "      <td>Feminino</td>\n",
              "      <td>2608</td>\n",
              "    </tr>\n",
              "    <tr>\n",
              "      <th>5</th>\n",
              "      <td>2020</td>\n",
              "      <td>2</td>\n",
              "      <td>Ignorado</td>\n",
              "      <td>43</td>\n",
              "    </tr>\n",
              "    <tr>\n",
              "      <th>6</th>\n",
              "      <td>2020</td>\n",
              "      <td>2</td>\n",
              "      <td>Masculino</td>\n",
              "      <td>8021</td>\n",
              "    </tr>\n",
              "    <tr>\n",
              "      <th>7</th>\n",
              "      <td>2020</td>\n",
              "      <td>2</td>\n",
              "      <td>Não Informado</td>\n",
              "      <td>703</td>\n",
              "    </tr>\n",
              "    <tr>\n",
              "      <th>8</th>\n",
              "      <td>2020</td>\n",
              "      <td>3</td>\n",
              "      <td>Feminino</td>\n",
              "      <td>1678</td>\n",
              "    </tr>\n",
              "    <tr>\n",
              "      <th>9</th>\n",
              "      <td>2020</td>\n",
              "      <td>3</td>\n",
              "      <td>Ignorado</td>\n",
              "      <td>37</td>\n",
              "    </tr>\n",
              "    <tr>\n",
              "      <th>10</th>\n",
              "      <td>2020</td>\n",
              "      <td>3</td>\n",
              "      <td>Masculino</td>\n",
              "      <td>6513</td>\n",
              "    </tr>\n",
              "    <tr>\n",
              "      <th>11</th>\n",
              "      <td>2020</td>\n",
              "      <td>3</td>\n",
              "      <td>Não Informado</td>\n",
              "      <td>613</td>\n",
              "    </tr>\n",
              "    <tr>\n",
              "      <th>12</th>\n",
              "      <td>2020</td>\n",
              "      <td>4</td>\n",
              "      <td>Feminino</td>\n",
              "      <td>1564</td>\n",
              "    </tr>\n",
              "    <tr>\n",
              "      <th>13</th>\n",
              "      <td>2020</td>\n",
              "      <td>4</td>\n",
              "      <td>Ignorado</td>\n",
              "      <td>33</td>\n",
              "    </tr>\n",
              "    <tr>\n",
              "      <th>14</th>\n",
              "      <td>2020</td>\n",
              "      <td>4</td>\n",
              "      <td>Masculino</td>\n",
              "      <td>6112</td>\n",
              "    </tr>\n",
              "    <tr>\n",
              "      <th>15</th>\n",
              "      <td>2020</td>\n",
              "      <td>4</td>\n",
              "      <td>Não Informado</td>\n",
              "      <td>592</td>\n",
              "    </tr>\n",
              "    <tr>\n",
              "      <th>16</th>\n",
              "      <td>2020</td>\n",
              "      <td>5</td>\n",
              "      <td>Feminino</td>\n",
              "      <td>1824</td>\n",
              "    </tr>\n",
              "    <tr>\n",
              "      <th>17</th>\n",
              "      <td>2020</td>\n",
              "      <td>5</td>\n",
              "      <td>Ignorado</td>\n",
              "      <td>41</td>\n",
              "    </tr>\n",
              "    <tr>\n",
              "      <th>18</th>\n",
              "      <td>2020</td>\n",
              "      <td>5</td>\n",
              "      <td>Masculino</td>\n",
              "      <td>7015</td>\n",
              "    </tr>\n",
              "    <tr>\n",
              "      <th>19</th>\n",
              "      <td>2020</td>\n",
              "      <td>5</td>\n",
              "      <td>Não Informado</td>\n",
              "      <td>692</td>\n",
              "    </tr>\n",
              "    <tr>\n",
              "      <th>20</th>\n",
              "      <td>2020</td>\n",
              "      <td>6</td>\n",
              "      <td>Feminino</td>\n",
              "      <td>1681</td>\n",
              "    </tr>\n",
              "    <tr>\n",
              "      <th>21</th>\n",
              "      <td>2020</td>\n",
              "      <td>6</td>\n",
              "      <td>Ignorado</td>\n",
              "      <td>48</td>\n",
              "    </tr>\n",
              "    <tr>\n",
              "      <th>22</th>\n",
              "      <td>2020</td>\n",
              "      <td>6</td>\n",
              "      <td>Masculino</td>\n",
              "      <td>6905</td>\n",
              "    </tr>\n",
              "    <tr>\n",
              "      <th>23</th>\n",
              "      <td>2020</td>\n",
              "      <td>6</td>\n",
              "      <td>Não Informado</td>\n",
              "      <td>673</td>\n",
              "    </tr>\n",
              "    <tr>\n",
              "      <th>24</th>\n",
              "      <td>2020</td>\n",
              "      <td>7</td>\n",
              "      <td>Feminino</td>\n",
              "      <td>1936</td>\n",
              "    </tr>\n",
              "    <tr>\n",
              "      <th>25</th>\n",
              "      <td>2020</td>\n",
              "      <td>7</td>\n",
              "      <td>Ignorado</td>\n",
              "      <td>33</td>\n",
              "    </tr>\n",
              "    <tr>\n",
              "      <th>26</th>\n",
              "      <td>2020</td>\n",
              "      <td>7</td>\n",
              "      <td>Masculino</td>\n",
              "      <td>7695</td>\n",
              "    </tr>\n",
              "    <tr>\n",
              "      <th>27</th>\n",
              "      <td>2020</td>\n",
              "      <td>7</td>\n",
              "      <td>Não Informado</td>\n",
              "      <td>742</td>\n",
              "    </tr>\n",
              "    <tr>\n",
              "      <th>28</th>\n",
              "      <td>2020</td>\n",
              "      <td>8</td>\n",
              "      <td>Feminino</td>\n",
              "      <td>2226</td>\n",
              "    </tr>\n",
              "    <tr>\n",
              "      <th>29</th>\n",
              "      <td>2020</td>\n",
              "      <td>8</td>\n",
              "      <td>Ignorado</td>\n",
              "      <td>50</td>\n",
              "    </tr>\n",
              "    <tr>\n",
              "      <th>30</th>\n",
              "      <td>2020</td>\n",
              "      <td>8</td>\n",
              "      <td>Masculino</td>\n",
              "      <td>8013</td>\n",
              "    </tr>\n",
              "    <tr>\n",
              "      <th>31</th>\n",
              "      <td>2020</td>\n",
              "      <td>8</td>\n",
              "      <td>Não Informado</td>\n",
              "      <td>781</td>\n",
              "    </tr>\n",
              "    <tr>\n",
              "      <th>32</th>\n",
              "      <td>2020</td>\n",
              "      <td>9</td>\n",
              "      <td>Feminino</td>\n",
              "      <td>745</td>\n",
              "    </tr>\n",
              "    <tr>\n",
              "      <th>33</th>\n",
              "      <td>2020</td>\n",
              "      <td>9</td>\n",
              "      <td>Ignorado</td>\n",
              "      <td>39</td>\n",
              "    </tr>\n",
              "    <tr>\n",
              "      <th>34</th>\n",
              "      <td>2020</td>\n",
              "      <td>9</td>\n",
              "      <td>Masculino</td>\n",
              "      <td>3800</td>\n",
              "    </tr>\n",
              "    <tr>\n",
              "      <th>35</th>\n",
              "      <td>2020</td>\n",
              "      <td>9</td>\n",
              "      <td>Não Informado</td>\n",
              "      <td>428</td>\n",
              "    </tr>\n",
              "    <tr>\n",
              "      <th>36</th>\n",
              "      <td>2020</td>\n",
              "      <td>10</td>\n",
              "      <td>Feminino</td>\n",
              "      <td>663</td>\n",
              "    </tr>\n",
              "    <tr>\n",
              "      <th>37</th>\n",
              "      <td>2020</td>\n",
              "      <td>10</td>\n",
              "      <td>Ignorado</td>\n",
              "      <td>29</td>\n",
              "    </tr>\n",
              "    <tr>\n",
              "      <th>38</th>\n",
              "      <td>2020</td>\n",
              "      <td>10</td>\n",
              "      <td>Masculino</td>\n",
              "      <td>3695</td>\n",
              "    </tr>\n",
              "    <tr>\n",
              "      <th>39</th>\n",
              "      <td>2020</td>\n",
              "      <td>10</td>\n",
              "      <td>Não Informado</td>\n",
              "      <td>354</td>\n",
              "    </tr>\n",
              "    <tr>\n",
              "      <th>40</th>\n",
              "      <td>2020</td>\n",
              "      <td>11</td>\n",
              "      <td>Feminino</td>\n",
              "      <td>687</td>\n",
              "    </tr>\n",
              "    <tr>\n",
              "      <th>41</th>\n",
              "      <td>2020</td>\n",
              "      <td>11</td>\n",
              "      <td>Ignorado</td>\n",
              "      <td>19</td>\n",
              "    </tr>\n",
              "    <tr>\n",
              "      <th>42</th>\n",
              "      <td>2020</td>\n",
              "      <td>11</td>\n",
              "      <td>Masculino</td>\n",
              "      <td>3683</td>\n",
              "    </tr>\n",
              "    <tr>\n",
              "      <th>43</th>\n",
              "      <td>2020</td>\n",
              "      <td>11</td>\n",
              "      <td>Não Informado</td>\n",
              "      <td>382</td>\n",
              "    </tr>\n",
              "    <tr>\n",
              "      <th>44</th>\n",
              "      <td>2020</td>\n",
              "      <td>12</td>\n",
              "      <td>Feminino</td>\n",
              "      <td>730</td>\n",
              "    </tr>\n",
              "    <tr>\n",
              "      <th>45</th>\n",
              "      <td>2020</td>\n",
              "      <td>12</td>\n",
              "      <td>Ignorado</td>\n",
              "      <td>31</td>\n",
              "    </tr>\n",
              "    <tr>\n",
              "      <th>46</th>\n",
              "      <td>2020</td>\n",
              "      <td>12</td>\n",
              "      <td>Masculino</td>\n",
              "      <td>3430</td>\n",
              "    </tr>\n",
              "    <tr>\n",
              "      <th>47</th>\n",
              "      <td>2020</td>\n",
              "      <td>12</td>\n",
              "      <td>Não Informado</td>\n",
              "      <td>367</td>\n",
              "    </tr>\n",
              "  </tbody>\n",
              "</table>\n",
              "</div>\n",
              "      <button class=\"colab-df-convert\" onclick=\"convertToInteractive('df-1748c272-f8c9-42cc-8968-a768c54bb2db')\"\n",
              "              title=\"Convert this dataframe to an interactive table.\"\n",
              "              style=\"display:none;\">\n",
              "        \n",
              "  <svg xmlns=\"http://www.w3.org/2000/svg\" height=\"24px\"viewBox=\"0 0 24 24\"\n",
              "       width=\"24px\">\n",
              "    <path d=\"M0 0h24v24H0V0z\" fill=\"none\"/>\n",
              "    <path d=\"M18.56 5.44l.94 2.06.94-2.06 2.06-.94-2.06-.94-.94-2.06-.94 2.06-2.06.94zm-11 1L8.5 8.5l.94-2.06 2.06-.94-2.06-.94L8.5 2.5l-.94 2.06-2.06.94zm10 10l.94 2.06.94-2.06 2.06-.94-2.06-.94-.94-2.06-.94 2.06-2.06.94z\"/><path d=\"M17.41 7.96l-1.37-1.37c-.4-.4-.92-.59-1.43-.59-.52 0-1.04.2-1.43.59L10.3 9.45l-7.72 7.72c-.78.78-.78 2.05 0 2.83L4 21.41c.39.39.9.59 1.41.59.51 0 1.02-.2 1.41-.59l7.78-7.78 2.81-2.81c.8-.78.8-2.07 0-2.86zM5.41 20L4 18.59l7.72-7.72 1.47 1.35L5.41 20z\"/>\n",
              "  </svg>\n",
              "      </button>\n",
              "      \n",
              "  <style>\n",
              "    .colab-df-container {\n",
              "      display:flex;\n",
              "      flex-wrap:wrap;\n",
              "      gap: 12px;\n",
              "    }\n",
              "\n",
              "    .colab-df-convert {\n",
              "      background-color: #E8F0FE;\n",
              "      border: none;\n",
              "      border-radius: 50%;\n",
              "      cursor: pointer;\n",
              "      display: none;\n",
              "      fill: #1967D2;\n",
              "      height: 32px;\n",
              "      padding: 0 0 0 0;\n",
              "      width: 32px;\n",
              "    }\n",
              "\n",
              "    .colab-df-convert:hover {\n",
              "      background-color: #E2EBFA;\n",
              "      box-shadow: 0px 1px 2px rgba(60, 64, 67, 0.3), 0px 1px 3px 1px rgba(60, 64, 67, 0.15);\n",
              "      fill: #174EA6;\n",
              "    }\n",
              "\n",
              "    [theme=dark] .colab-df-convert {\n",
              "      background-color: #3B4455;\n",
              "      fill: #D2E3FC;\n",
              "    }\n",
              "\n",
              "    [theme=dark] .colab-df-convert:hover {\n",
              "      background-color: #434B5C;\n",
              "      box-shadow: 0px 1px 3px 1px rgba(0, 0, 0, 0.15);\n",
              "      filter: drop-shadow(0px 1px 2px rgba(0, 0, 0, 0.3));\n",
              "      fill: #FFFFFF;\n",
              "    }\n",
              "  </style>\n",
              "\n",
              "      <script>\n",
              "        const buttonEl =\n",
              "          document.querySelector('#df-1748c272-f8c9-42cc-8968-a768c54bb2db button.colab-df-convert');\n",
              "        buttonEl.style.display =\n",
              "          google.colab.kernel.accessAllowed ? 'block' : 'none';\n",
              "\n",
              "        async function convertToInteractive(key) {\n",
              "          const element = document.querySelector('#df-1748c272-f8c9-42cc-8968-a768c54bb2db');\n",
              "          const dataTable =\n",
              "            await google.colab.kernel.invokeFunction('convertToInteractive',\n",
              "                                                     [key], {});\n",
              "          if (!dataTable) return;\n",
              "\n",
              "          const docLinkHtml = 'Like what you see? Visit the ' +\n",
              "            '<a target=\"_blank\" href=https://colab.research.google.com/notebooks/data_table.ipynb>data table notebook</a>'\n",
              "            + ' to learn more about interactive tables.';\n",
              "          element.innerHTML = '';\n",
              "          dataTable['output_type'] = 'display_data';\n",
              "          await google.colab.output.renderOutput(dataTable, element);\n",
              "          const docLink = document.createElement('div');\n",
              "          docLink.innerHTML = docLinkHtml;\n",
              "          element.appendChild(docLink);\n",
              "        }\n",
              "      </script>\n",
              "    </div>\n",
              "  </div>\n",
              "  "
            ]
          },
          "metadata": {},
          "execution_count": 7
        }
      ]
    },
    {
      "cell_type": "code",
      "source": [
        "acidentes['data_hora'] = acidentes['data_inversa'].map(str) + ' ' + acidentes['horario']\n",
        "acidentes['data_hora'] = pd.to_datetime(acidentes['data_hora'])\n",
        "acidentes['ano'] = acidentes['data_hora'].dt.year\n",
        "acidentes['mes'] = acidentes['data_hora'].dt.month\n",
        "acidentes['hora'] = acidentes['data_hora'].dt.hour"
      ],
      "metadata": {
        "id": "M4mPBWlcw8HF"
      },
      "execution_count": null,
      "outputs": []
    },
    {
      "cell_type": "markdown",
      "source": [
        "###**<font color=#FE8202> 3.2. Visualizações Unimodais**"
      ],
      "metadata": {
        "id": "Xj9Cfh-4uCVi"
      }
    },
    {
      "cell_type": "markdown",
      "source": [
        "Utilizaremos o gráfico de boxplot para comparar visualmente as distribuições das variáveis NUMÉRICAS agrupada conforme uma variável categórica.\n",
        ">\n",
        "Esse gráfico nos dá informação da assimetria da distribuição, indicação de outliers e da variabilidade dos dados por meio da amplitude. \n",
        ">\n",
        "Consiste em 5 grupos: Mínimo, Primeiro quartil ou 25%, Mediana (segundo quartil) ou 50%, Terceiro quartil ou 75% e Máximo."
      ],
      "metadata": {
        "id": "K01FSzRDwEt6"
      }
    },
    {
      "cell_type": "code",
      "source": [
        "# Boxplot\n",
        "acidentes.plot(kind = 'box', subplots = True, layout = (3,3), sharex = False, sharey = False, figsize = (15,10))\n",
        "plt.show()"
      ],
      "metadata": {
        "colab": {
          "base_uri": "https://localhost:8080/",
          "height": 846
        },
        "id": "UoqafAUrYLU3",
        "outputId": "d75ab06d-7d00-4ff3-9af6-65f0710ed6b8"
      },
      "execution_count": null,
      "outputs": [
        {
          "output_type": "display_data",
          "data": {
            "text/plain": [
              "<Figure size 1500x1000 with 9 Axes>"
            ],
            "image/png": "[encoded data removed]"
          },
          "metadata": {}
        }
      ]
    },
    {
      "cell_type": "markdown",
      "source": [
        "O atributo pesid representa uma sequencia numerica que identifica uma pessoa no sistema, sendo assim, vamos desprezar essa informação.\n",
        ">\n",
        "O atributo idade nos mostra a presença de outliers, como já visto anteriormente.\n",
        ">\n",
        "O atributo ano_fabricacao_veiculo, é possivel verificar o valor minímo de 1900, o que seria uma inconsistencia, e os demais valores estão coerentes.\n",
        "\n",
        "\n",
        "---\n",
        "\n"
      ],
      "metadata": {
        "id": "WmC64jeb5j0F"
      }
    },
    {
      "cell_type": "markdown",
      "source": [
        "Outra maneira de verificar a distribuição dos atributos é a utilização de um histograma."
      ],
      "metadata": {
        "id": "jziN81Tm8bsn"
      }
    },
    {
      "cell_type": "code",
      "source": [
        "# Histograma\n",
        "acidentes.hist(figsize = (15,10))\n",
        "plt.show()"
      ],
      "metadata": {
        "colab": {
          "base_uri": "https://localhost:8080/",
          "height": 853
        },
        "id": "5cxw9Z3DXNeB",
        "outputId": "973f0e3e-2ad1-4d85-8d60-5b0f3eb45871"
      },
      "execution_count": null,
      "outputs": [
        {
          "output_type": "display_data",
          "data": {
            "text/plain": [
              "<Figure size 1500x1000 with 9 Axes>"
            ],
            "image/png": "[encoded data removed]"
          },
          "metadata": {}
        }
      ]
    }
  ]
}