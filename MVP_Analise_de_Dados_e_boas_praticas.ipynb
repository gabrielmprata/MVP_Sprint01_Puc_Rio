{
  "nbformat": 4,
  "nbformat_minor": 0,
  "metadata": {
    "colab": {
      "provenance": [],
      "collapsed_sections": [
        "ThUqevesMlF-",
        "dyDXz526nfRU",
        "WR0xRBYcfNoV",
        "k617wMzZQJiY",
        "Xj9Cfh-4uCVi",
        "7wzCEJ8UzIFr",
        "d54YwAZ49e2w",
        "7islJZ19GSBz"
      ],
      "authorship_tag": "ABX9TyNQKBzs3VewEd1Rd6qKnC60",
      "include_colab_link": true
    },
    "kernelspec": {
      "name": "python3",
      "display_name": "Python 3"
    },
    "language_info": {
      "name": "python"
    }
  },
  "cells": [
    {
      "cell_type": "markdown",
      "metadata": {
        "id": "view-in-github",
        "colab_type": "text"
      },
      "source": [
        "<a href=\"https://colab.research.google.com/github/gabrielmprata/MVP_Sprint01_Puc_Rio/blob/master/MVP_Analise_de_Dados_e_boas_praticas.ipynb\" target=\"_parent\"><img src=\"https://colab.research.google.com/assets/colab-badge.svg\" alt=\"Open In Colab\"/></a>"
      ]
    },
    {
      "cell_type": "markdown",
      "source": [
        "![bras_83x140_reduzido.png](data:image/png;base64,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) <font size=\"4\"> **MVP de Análise de Dados e Boas Práticas**"
      ],
      "metadata": {
        "id": "-614P_aFYkUH"
      }
    },
    {
      "cell_type": "markdown",
      "source": [
        "---\n",
        ">\n",
        "**Pós-Graduação em Ciência de Dados e Analytics**\n",
        ">\n",
        "**Sprint 01**\n",
        ">\n",
        "**Aluno**: Gabriel Prata\n",
        ">\n",
        "**Data**: 29/03/2023\n",
        ">\n",
        "---"
      ],
      "metadata": {
        "id": "hQc88NYJZrYT"
      }
    },
    {
      "cell_type": "markdown",
      "source": [
        "#**<font color=#FE8202> 1. Definição do problema**"
      ],
      "metadata": {
        "id": "SPRtTCAMbAmh"
      }
    },
    {
      "cell_type": "markdown",
      "source": [
        "A malha rodoviária é a principal forma de locomoção do país no que tange o deslocamento de pessoas, produtos, matérias primas, alimentos e combustível a curtas e longas distâncias.\n",
        ">\n",
        "Este trabalho visa mostrar através dos dados abertos disponibilizados pela Polícia Rodoviária Federal, dentre os 70.000 Km de rodovias onde atua, o impacto dos acidentes de trânsito e sua letalidade nas rodovias federais, tendo como período analisado o ano de 2020.\n",
        ">\n",
        "O Brasil é o terceiro país com mais mortes no trânsito, ficando atrás apenas da Índia e da China segundo o relatório Global Status Report on Road Safety da Organização Mundial de Saúde (OMS). \n",
        ">\n",
        "Cerca de 82% dos acidentes de trânsito nas rodovias federais brasileiras, são com vítimas, tendo em vista esse grande percentual de vítimas, nesse estudo, queremos entender os fatores que contribuem para os acidentes acontecerem. \n",
        ">\n",
        "Esse estudo tem como objetivo geral analisar o estado físico dos envolvidos, classificando o acidente de trânsito em \"com vítimas\" ou \"sem vítimas\", fazendo uso de **algoritmos de aprendizado de máquina supervisionado**.\n",
        ">\n",
        "O dataset conta com 30 atributos relacionados à caracterização do acidente, 4 atributos que classifica o estado das vítimas em, ilesos, feridos leve, feridos grave e mortos, e 1 variável que classifica o acidente em, sem vítimas, com vítimas feridas e com vitimas fatais. Essa ultima variável utilizaremos como alvo e as demais, serão analisadas para definir quais serão selecionadas como preditoras.\n",
        ">\n",
        "Para mais informações sobre o dataset, consulte: https://www.gov.br/prf/pt-br/acesso-a-informacao/dados-abertos/dicionario-de-dados\n"
      ],
      "metadata": {
        "id": "daJ6dnTGb-nR"
      }
    },
    {
      "cell_type": "markdown",
      "source": [
        ">**<font color=#FE8202> Dicionário de dados**"
      ],
      "metadata": {
        "id": "flcK-l-VqspL"
      }
    },
    {
      "cell_type": "markdown",
      "source": [
        "1.   **id**    -  Variável com valores numéricos, representando o identificador do acidente\n",
        "2.   **pesid** - Variável com valores numéricos, representando o identificador da pessoa envolvida\n",
        "3. **data_inversa** - Data da ocorrência no formato dd/mm/aaaa.\n",
        "4. **dia_semana** - Dia da semana da ocorrência. Ex.: Segunda, terça, etc.\n",
        "5. **horario** - Horário da ocorrência no formato hh:mm:ss.\n",
        "6. **uf** - Unidade da Federação. Ex.: MG, SP, etc.\n",
        "7. **br** - Variável com valores numéricos, representando o identificador da BR.\n",
        "8. **km** - Identificação do quilômetro onde ocorreu o acidente, com valor mínimo de 0,1 km e com a casa decimal separada por ponto.\n",
        "9. **municipio** - Nome do município de ocorrência do acidente.\n",
        "10. **causa_acidente** - Identificação da causa principal do acidente.\n",
        "11. **tipo_acidente** - Identificação do tipo de acidente. Ex.: Colisão frontal, etc.\n",
        "12. **classificação_acidente** - Classificação quanto à gravidade do acidente.\n",
        "13. **fase_dia** - Fase do dia no momento do acidente. Ex.: Amanhecer, Pleno dia, etc.\n",
        "14. **sentido_via** - Sentido da via considerando o ponto de colisão: Crescente e decrescente.\n",
        "15. **Condição_meteorologica** - Condição meteorologica no momento do acidente. Ex.: Céu claro, chuva, etc.\n",
        "16. **tipo_pista** - Tipo da pista considerando a quantidade de faixas: Dupla. simples ou múltipla.\n",
        "17. **tracado_pista** - Descrição do traçãdo da via.\n",
        "18. **usu_solo** - Descrição sobre as características do local do acidente: Urbano=Sim;Rural=Não.\n",
        "19. **id_veiculo** - Variável com valores numéricos, representando o identificador do veículo envolvido.\n",
        "20. **tipo_veiculo** - Tipo do veículo conforme Art. 96 do CNT. Ex.: Automóvel, Caminhão, etc.\n",
        "21. **marca** - Descrição da marca do veículo.\n",
        "22. **ano_fabricacao_veiculo** - Ana de fabricação do veículo, formato aaaa.\n",
        "23. **tipo_envolvido** - Tipo de envolvido no acidente conforme sua participação no evento. Ex.: condutor, passageiro, etc.\n",
        "24. **estado_fisico** - Condição do envolvido conforme a gravidade das lesões.Ex.:morto,feridoleve,etc.\n",
        "25. **idade** - Idade do envolvido. O código \"-1\" indica que não foi possivel coletar a informação.\n",
        "26. **sexo** - Sexo do envolvido. O valor \"invalido\" indica que não foi possivel coletar a informação.\n",
        "27. **ilesos** - Valor binário que identifica se o envolvido foi classificado como ileso.\n",
        "28. **feridos_leves** - Valor binário que identifica se o envolvido foi classificado como ferido leve.\n",
        "29. **feridos_graves** - Valor binário que identifica se o envolvido foi classificado como ferido grave.\n",
        "30. **mortos** - Valor binário que identifica se o envolvido foi classificado como morto.\n",
        "31. **latitude** - Latitude do local do acidente em formato geodésico decimal.\n",
        "32. **longitude** - Longitude do local do acidente em formato geodésico decimal.\n",
        "33. **regional** - Não definido no dicionário de dados fornecido pela PRF.\n",
        "34. **delegacia** - Não definido no dicionário de dados fornecido pela PRF.\n",
        "35. **uop** - Não definido no dicionário de dados fornecido pela PRF.\n",
        "\n"
      ],
      "metadata": {
        "id": "quuGKdcoq7Gl"
      }
    },
    {
      "cell_type": "markdown",
      "source": [
        "#**<font color=#FE8202> 2. Carga de Dados**"
      ],
      "metadata": {
        "id": "ThUqevesMlF-"
      }
    },
    {
      "cell_type": "markdown",
      "source": [
        "Nesse tópico iremos importar o dataset que está armazenado no GitHub, separado por ano, no formato CSV, com cabeçalho e separado por ponto e vírgula(;).\n",
        ">\n",
        "Iremos utilizar o pacote Pandas, para carregar esse arquivo, através de uma URL, e armazenaremos os dados em um **dataframe**(matrizes multidimensionais similares a uma tabela de dados relacionais, com linhas e colunas rotuladas).\n",
        ">\n",
        "Para isso, utilizaremos o método read_csv()"
      ],
      "metadata": {
        "id": "Mt1ymYzOU_a7"
      }
    },
    {
      "cell_type": "code",
      "source": [
        "# Importando todas as bibliotecas que iremos utilizar no projeto\n",
        "# Importação de pacotes\n",
        "import pandas as pd\n",
        "import numpy as np\n",
        "import missingno as ms # para tratamento de missings\n",
        "\n",
        "#bibliotecas para visualização de dados\n",
        "import seaborn as sns\n",
        "import plotly.express as px\n",
        "import matplotlib.pyplot as plt\n",
        "\n",
        "# Configuração para não exibir os warnings\n",
        "import warnings\n",
        "warnings.filterwarnings(\"ignore\")\n",
        "\n",
        "#importar a biblioteca para usar a Distribuição Binomial de Bernoulli\n",
        "from scipy.stats import bernoulli\n"
      ],
      "metadata": {
        "id": "YARMO4oD8xaz"
      },
      "execution_count": 1,
      "outputs": []
    },
    {
      "cell_type": "code",
      "execution_count": 2,
      "metadata": {
        "id": "beGsr5VSU3J1"
      },
      "outputs": [],
      "source": [
        "# importando dados de uma url para um dataframe\n",
        "\n",
        "# URL de importação\n",
        "url  = \"https://raw.githubusercontent.com/gabrielmprata/MVP_Sprint01_Puc_Rio/master/acidentes2019.csv\"\n",
        "url2 = \"https://raw.githubusercontent.com/gabrielmprata/MVP_Sprint01_Puc_Rio/master/acidentes2020.csv\"\n",
        "\n",
        "# Carga do dataset para o Pandas dataframe\n",
        "acidentes_2019 = pd.read_csv(url, encoding=\"Latin 1\", sep=';')\n",
        "acidentes_2020 = pd.read_csv(url2, encoding=\"Latin 1\", sep=';')\n"
      ]
    },
    {
      "cell_type": "code",
      "source": [
        "# Concatenar os dataframes de 2019 e 2020 em um único dataframe.\n",
        "# Utilizaremos o método \"concat\"\n",
        "\n",
        "acidentes = pd.concat([acidentes_2019, acidentes_2020], sort=False, ignore_index=True)\n",
        "\n",
        "# Apagando os dataframes que não iremos mais utilizar\n",
        "del acidentes_2020\n",
        "del acidentes_2019"
      ],
      "metadata": {
        "id": "oCD0tQ7qlNKh"
      },
      "execution_count": 3,
      "outputs": []
    },
    {
      "cell_type": "code",
      "source": [
        "# verificando se é um dataframe\n",
        "type(acidentes)"
      ],
      "metadata": {
        "colab": {
          "base_uri": "https://localhost:8080/"
        },
        "id": "i8ySKYVqZ61h",
        "outputId": "250a199f-fbd2-4b01-b39f-5c8314dfb946"
      },
      "execution_count": 4,
      "outputs": [
        {
          "output_type": "execute_result",
          "data": {
            "text/plain": [
              "pandas.core.frame.DataFrame"
            ]
          },
          "metadata": {},
          "execution_count": 4
        }
      ]
    },
    {
      "cell_type": "code",
      "source": [
        "# Exibe as 5 primeiras linhas (Default do comando head)\n",
        "acidentes.head()"
      ],
      "metadata": {
        "colab": {
          "base_uri": "https://localhost:8080/",
          "height": 0
        },
        "id": "CvGjzXX4ZobI",
        "outputId": "5c65ee06-d8b0-481b-d9f6-6fc9290e5434"
      },
      "execution_count": 5,
      "outputs": [
        {
          "output_type": "execute_result",
          "data": {
            "text/plain": [
              "         id     pesid data_inversa   dia_semana   horario  uf     br     km  \\\n",
              "0  182256.0  403856.0   2019-01-01  terça-feira  04:00:00  CE  116.0  136,9   \n",
              "1  182263.0  402859.0   2019-01-01  terça-feira  05:00:00  MT  158.0  599,5   \n",
              "2  182277.0  402850.0   2019-01-01  terça-feira  10:00:00  PA   10.0     34   \n",
              "3  182289.0  402431.0   2019-01-01  terça-feira  08:30:00  BA  101.0     13   \n",
              "4  182307.0  402638.0   2019-01-01  terça-feira  13:50:00  BA  116.0    440   \n",
              "\n",
              "          municipio               causa_acidente  ...       sexo ilesos  \\\n",
              "0            RUSSAS             Animais na Pista  ...  Masculino      1   \n",
              "1          AGUA BOA  Defeito Mecânico no Veículo  ...  Masculino      1   \n",
              "2        DOM ELISEU      Velocidade Incompatível  ...  Masculino      1   \n",
              "3          RIO REAL           Ingestão de Álcool  ...  Masculino      1   \n",
              "4  FEIRA DE SANTANA           Ingestão de Álcool  ...  Masculino      0   \n",
              "\n",
              "  feridos_leves feridos_graves mortos     latitude     longitude regional  \\\n",
              "0             0              0      0    -4,766018    -38,056034  SPRF-CE   \n",
              "1             0              0      0      -14,319       -52,169  SPRF-MT   \n",
              "2             0              0      0  -4,15296734  -47,54608154  SPRF-PA   \n",
              "3             0              0      0     -11,5896      -37,8761  SPRF-SE   \n",
              "4             1              0      0      -12,344       -39,087  SPRF-BA   \n",
              "\n",
              "   delegacia             uop  \n",
              "0   DEL03-CE  UOP01-DEL03-CE  \n",
              "1   DEL07-MT  UOP02-DEL07-MT  \n",
              "2   DEL02-PA  UOP02-DEL02-PA  \n",
              "3   DEL02-SE  UOP03-DEL02-SE  \n",
              "4   DEL02-BA  UOP01-DEL02-BA  \n",
              "\n",
              "[5 rows x 35 columns]"
            ],
            "text/html": [
              "\n",
              "  <div id=\"df-83889233-6cf5-44ed-94ae-51c093ae038d\">\n",
              "    <div class=\"colab-df-container\">\n",
              "      <div>\n",
              "<style scoped>\n",
              "    .dataframe tbody tr th:only-of-type {\n",
              "        vertical-align: middle;\n",
              "    }\n",
              "\n",
              "    .dataframe tbody tr th {\n",
              "        vertical-align: top;\n",
              "    }\n",
              "\n",
              "    .dataframe thead th {\n",
              "        text-align: right;\n",
              "    }\n",
              "</style>\n",
              "<table border=\"1\" class=\"dataframe\">\n",
              "  <thead>\n",
              "    <tr style=\"text-align: right;\">\n",
              "      <th></th>\n",
              "      <th>id</th>\n",
              "      <th>pesid</th>\n",
              "      <th>data_inversa</th>\n",
              "      <th>dia_semana</th>\n",
              "      <th>horario</th>\n",
              "      <th>uf</th>\n",
              "      <th>br</th>\n",
              "      <th>km</th>\n",
              "      <th>municipio</th>\n",
              "      <th>causa_acidente</th>\n",
              "      <th>...</th>\n",
              "      <th>sexo</th>\n",
              "      <th>ilesos</th>\n",
              "      <th>feridos_leves</th>\n",
              "      <th>feridos_graves</th>\n",
              "      <th>mortos</th>\n",
              "      <th>latitude</th>\n",
              "      <th>longitude</th>\n",
              "      <th>regional</th>\n",
              "      <th>delegacia</th>\n",
              "      <th>uop</th>\n",
              "    </tr>\n",
              "  </thead>\n",
              "  <tbody>\n",
              "    <tr>\n",
              "      <th>0</th>\n",
              "      <td>182256.0</td>\n",
              "      <td>403856.0</td>\n",
              "      <td>2019-01-01</td>\n",
              "      <td>terça-feira</td>\n",
              "      <td>04:00:00</td>\n",
              "      <td>CE</td>\n",
              "      <td>116.0</td>\n",
              "      <td>136,9</td>\n",
              "      <td>RUSSAS</td>\n",
              "      <td>Animais na Pista</td>\n",
              "      <td>...</td>\n",
              "      <td>Masculino</td>\n",
              "      <td>1</td>\n",
              "      <td>0</td>\n",
              "      <td>0</td>\n",
              "      <td>0</td>\n",
              "      <td>-4,766018</td>\n",
              "      <td>-38,056034</td>\n",
              "      <td>SPRF-CE</td>\n",
              "      <td>DEL03-CE</td>\n",
              "      <td>UOP01-DEL03-CE</td>\n",
              "    </tr>\n",
              "    <tr>\n",
              "      <th>1</th>\n",
              "      <td>182263.0</td>\n",
              "      <td>402859.0</td>\n",
              "      <td>2019-01-01</td>\n",
              "      <td>terça-feira</td>\n",
              "      <td>05:00:00</td>\n",
              "      <td>MT</td>\n",
              "      <td>158.0</td>\n",
              "      <td>599,5</td>\n",
              "      <td>AGUA BOA</td>\n",
              "      <td>Defeito Mecânico no Veículo</td>\n",
              "      <td>...</td>\n",
              "      <td>Masculino</td>\n",
              "      <td>1</td>\n",
              "      <td>0</td>\n",
              "      <td>0</td>\n",
              "      <td>0</td>\n",
              "      <td>-14,319</td>\n",
              "      <td>-52,169</td>\n",
              "      <td>SPRF-MT</td>\n",
              "      <td>DEL07-MT</td>\n",
              "      <td>UOP02-DEL07-MT</td>\n",
              "    </tr>\n",
              "    <tr>\n",
              "      <th>2</th>\n",
              "      <td>182277.0</td>\n",
              "      <td>402850.0</td>\n",
              "      <td>2019-01-01</td>\n",
              "      <td>terça-feira</td>\n",
              "      <td>10:00:00</td>\n",
              "      <td>PA</td>\n",
              "      <td>10.0</td>\n",
              "      <td>34</td>\n",
              "      <td>DOM ELISEU</td>\n",
              "      <td>Velocidade Incompatível</td>\n",
              "      <td>...</td>\n",
              "      <td>Masculino</td>\n",
              "      <td>1</td>\n",
              "      <td>0</td>\n",
              "      <td>0</td>\n",
              "      <td>0</td>\n",
              "      <td>-4,15296734</td>\n",
              "      <td>-47,54608154</td>\n",
              "      <td>SPRF-PA</td>\n",
              "      <td>DEL02-PA</td>\n",
              "      <td>UOP02-DEL02-PA</td>\n",
              "    </tr>\n",
              "    <tr>\n",
              "      <th>3</th>\n",
              "      <td>182289.0</td>\n",
              "      <td>402431.0</td>\n",
              "      <td>2019-01-01</td>\n",
              "      <td>terça-feira</td>\n",
              "      <td>08:30:00</td>\n",
              "      <td>BA</td>\n",
              "      <td>101.0</td>\n",
              "      <td>13</td>\n",
              "      <td>RIO REAL</td>\n",
              "      <td>Ingestão de Álcool</td>\n",
              "      <td>...</td>\n",
              "      <td>Masculino</td>\n",
              "      <td>1</td>\n",
              "      <td>0</td>\n",
              "      <td>0</td>\n",
              "      <td>0</td>\n",
              "      <td>-11,5896</td>\n",
              "      <td>-37,8761</td>\n",
              "      <td>SPRF-SE</td>\n",
              "      <td>DEL02-SE</td>\n",
              "      <td>UOP03-DEL02-SE</td>\n",
              "    </tr>\n",
              "    <tr>\n",
              "      <th>4</th>\n",
              "      <td>182307.0</td>\n",
              "      <td>402638.0</td>\n",
              "      <td>2019-01-01</td>\n",
              "      <td>terça-feira</td>\n",
              "      <td>13:50:00</td>\n",
              "      <td>BA</td>\n",
              "      <td>116.0</td>\n",
              "      <td>440</td>\n",
              "      <td>FEIRA DE SANTANA</td>\n",
              "      <td>Ingestão de Álcool</td>\n",
              "      <td>...</td>\n",
              "      <td>Masculino</td>\n",
              "      <td>0</td>\n",
              "      <td>1</td>\n",
              "      <td>0</td>\n",
              "      <td>0</td>\n",
              "      <td>-12,344</td>\n",
              "      <td>-39,087</td>\n",
              "      <td>SPRF-BA</td>\n",
              "      <td>DEL02-BA</td>\n",
              "      <td>UOP01-DEL02-BA</td>\n",
              "    </tr>\n",
              "  </tbody>\n",
              "</table>\n",
              "<p>5 rows × 35 columns</p>\n",
              "</div>\n",
              "      <button class=\"colab-df-convert\" onclick=\"convertToInteractive('df-83889233-6cf5-44ed-94ae-51c093ae038d')\"\n",
              "              title=\"Convert this dataframe to an interactive table.\"\n",
              "              style=\"display:none;\">\n",
              "        \n",
              "  <svg xmlns=\"http://www.w3.org/2000/svg\" height=\"24px\"viewBox=\"0 0 24 24\"\n",
              "       width=\"24px\">\n",
              "    <path d=\"M0 0h24v24H0V0z\" fill=\"none\"/>\n",
              "    <path d=\"M18.56 5.44l.94 2.06.94-2.06 2.06-.94-2.06-.94-.94-2.06-.94 2.06-2.06.94zm-11 1L8.5 8.5l.94-2.06 2.06-.94-2.06-.94L8.5 2.5l-.94 2.06-2.06.94zm10 10l.94 2.06.94-2.06 2.06-.94-2.06-.94-.94-2.06-.94 2.06-2.06.94z\"/><path d=\"M17.41 7.96l-1.37-1.37c-.4-.4-.92-.59-1.43-.59-.52 0-1.04.2-1.43.59L10.3 9.45l-7.72 7.72c-.78.78-.78 2.05 0 2.83L4 21.41c.39.39.9.59 1.41.59.51 0 1.02-.2 1.41-.59l7.78-7.78 2.81-2.81c.8-.78.8-2.07 0-2.86zM5.41 20L4 18.59l7.72-7.72 1.47 1.35L5.41 20z\"/>\n",
              "  </svg>\n",
              "      </button>\n",
              "      \n",
              "  <style>\n",
              "    .colab-df-container {\n",
              "      display:flex;\n",
              "      flex-wrap:wrap;\n",
              "      gap: 12px;\n",
              "    }\n",
              "\n",
              "    .colab-df-convert {\n",
              "      background-color: #E8F0FE;\n",
              "      border: none;\n",
              "      border-radius: 50%;\n",
              "      cursor: pointer;\n",
              "      display: none;\n",
              "      fill: #1967D2;\n",
              "      height: 32px;\n",
              "      padding: 0 0 0 0;\n",
              "      width: 32px;\n",
              "    }\n",
              "\n",
              "    .colab-df-convert:hover {\n",
              "      background-color: #E2EBFA;\n",
              "      box-shadow: 0px 1px 2px rgba(60, 64, 67, 0.3), 0px 1px 3px 1px rgba(60, 64, 67, 0.15);\n",
              "      fill: #174EA6;\n",
              "    }\n",
              "\n",
              "    [theme=dark] .colab-df-convert {\n",
              "      background-color: #3B4455;\n",
              "      fill: #D2E3FC;\n",
              "    }\n",
              "\n",
              "    [theme=dark] .colab-df-convert:hover {\n",
              "      background-color: #434B5C;\n",
              "      box-shadow: 0px 1px 3px 1px rgba(0, 0, 0, 0.15);\n",
              "      filter: drop-shadow(0px 1px 2px rgba(0, 0, 0, 0.3));\n",
              "      fill: #FFFFFF;\n",
              "    }\n",
              "  </style>\n",
              "\n",
              "      <script>\n",
              "        const buttonEl =\n",
              "          document.querySelector('#df-83889233-6cf5-44ed-94ae-51c093ae038d button.colab-df-convert');\n",
              "        buttonEl.style.display =\n",
              "          google.colab.kernel.accessAllowed ? 'block' : 'none';\n",
              "\n",
              "        async function convertToInteractive(key) {\n",
              "          const element = document.querySelector('#df-83889233-6cf5-44ed-94ae-51c093ae038d');\n",
              "          const dataTable =\n",
              "            await google.colab.kernel.invokeFunction('convertToInteractive',\n",
              "                                                     [key], {});\n",
              "          if (!dataTable) return;\n",
              "\n",
              "          const docLinkHtml = 'Like what you see? Visit the ' +\n",
              "            '<a target=\"_blank\" href=https://colab.research.google.com/notebooks/data_table.ipynb>data table notebook</a>'\n",
              "            + ' to learn more about interactive tables.';\n",
              "          element.innerHTML = '';\n",
              "          dataTable['output_type'] = 'display_data';\n",
              "          await google.colab.output.renderOutput(dataTable, element);\n",
              "          const docLink = document.createElement('div');\n",
              "          docLink.innerHTML = docLinkHtml;\n",
              "          element.appendChild(docLink);\n",
              "        }\n",
              "      </script>\n",
              "    </div>\n",
              "  </div>\n",
              "  "
            ]
          },
          "metadata": {},
          "execution_count": 5
        }
      ]
    },
    {
      "cell_type": "markdown",
      "source": [
        "###**<font color=#FE8202> 2.2. Dataset Regiões do Brasil**"
      ],
      "metadata": {
        "id": "dyDXz526nfRU"
      }
    },
    {
      "cell_type": "markdown",
      "source": [
        "As regiões do Brasil são os agrupamentos das unidades da federação em regiões com o propósito de ajudar interpretações estatísticas, implantar sistemas de gestão de funções públicas de interesse comum ou orientar a aplicação de políticas públicas dos governos federal e estadual. \n",
        ">\n",
        "Essa divisão do Brasil foi elaborada pelo IBGE em 1970 e criou cinco regiões: Centro-Oeste, Nordeste, Norte, Sudeste e Sul.\n",
        ">\n",
        "No nosso trabalho, vamos enriquecer a informação, adicionando as regiões do Brasil nas analises.(Etapa de pre-processamento > Criação de recurso > Enriquecimento)\n",
        ">\n",
        "Para tal, vamos utilizar a API (Application Programming Interface) do IBGE, encontrada no pypi.org, que é o repositório oficial de bibliotecas criadas por terceiros para a linguagem Python.\n"
      ],
      "metadata": {
        "id": "6jPBzbv_nxX-"
      }
    },
    {
      "cell_type": "code",
      "source": [
        "# Instalando a biblioteca do IBGE\n",
        "!pip install ibge"
      ],
      "metadata": {
        "colab": {
          "base_uri": "https://localhost:8080/"
        },
        "id": "-G6MXcBuo-DB",
        "outputId": "13bde40e-69ef-46ae-cb25-3ca4d1601762"
      },
      "execution_count": 6,
      "outputs": [
        {
          "output_type": "stream",
          "name": "stdout",
          "text": [
            "Looking in indexes: https://pypi.org/simple, https://us-python.pkg.dev/colab-wheels/public/simple/\n",
            "Requirement already satisfied: ibge in /usr/local/lib/python3.9/dist-packages (0.0.5)\n",
            "Requirement already satisfied: requests in /usr/local/lib/python3.9/dist-packages (from ibge) (2.27.1)\n",
            "Requirement already satisfied: urllib3<1.27,>=1.21.1 in /usr/local/lib/python3.9/dist-packages (from requests->ibge) (1.26.15)\n",
            "Requirement already satisfied: charset-normalizer~=2.0.0 in /usr/local/lib/python3.9/dist-packages (from requests->ibge) (2.0.12)\n",
            "Requirement already satisfied: certifi>=2017.4.17 in /usr/local/lib/python3.9/dist-packages (from requests->ibge) (2022.12.7)\n",
            "Requirement already satisfied: idna<4,>=2.5 in /usr/local/lib/python3.9/dist-packages (from requests->ibge) (3.4)\n"
          ]
        }
      ]
    },
    {
      "cell_type": "code",
      "source": [
        "# Importando os pacotes  da biblioteca \n",
        "from ibge.localidades import *"
      ],
      "metadata": {
        "id": "ZLhEPJtMpb-1"
      },
      "execution_count": 7,
      "outputs": []
    },
    {
      "cell_type": "code",
      "source": [
        "# Função Estados() retorna um objeto do tipo ibge.localidades.Estados\n",
        "dados = Estados()\n",
        "type(dados)"
      ],
      "metadata": {
        "colab": {
          "base_uri": "https://localhost:8080/"
        },
        "id": "1AR1GRbRrI6r",
        "outputId": "5b08a32c-10a1-472b-98a4-e0b280e22829"
      },
      "execution_count": 8,
      "outputs": [
        {
          "output_type": "execute_result",
          "data": {
            "text/plain": [
              "ibge.localidades.Estados"
            ]
          },
          "metadata": {},
          "execution_count": 8
        }
      ]
    },
    {
      "cell_type": "code",
      "source": [
        "# Transformar o tipo ibge.localidades.Estados em list\n",
        "regiao = dados.json()\n",
        "type(regiao)"
      ],
      "metadata": {
        "colab": {
          "base_uri": "https://localhost:8080/"
        },
        "id": "udtdrigGrYIe",
        "outputId": "356e6b6a-4640-44cc-e517-5d6f5fd55914"
      },
      "execution_count": 9,
      "outputs": [
        {
          "output_type": "execute_result",
          "data": {
            "text/plain": [
              "list"
            ]
          },
          "metadata": {},
          "execution_count": 9
        }
      ]
    },
    {
      "cell_type": "code",
      "source": [
        "#Exemplo\n",
        "regiao[1]"
      ],
      "metadata": {
        "colab": {
          "base_uri": "https://localhost:8080/"
        },
        "id": "pw5EY4EJrkJV",
        "outputId": "6d28918f-f622-4339-d050-e3cba69ce7e2"
      },
      "execution_count": 10,
      "outputs": [
        {
          "output_type": "execute_result",
          "data": {
            "text/plain": [
              "{'id': 12,\n",
              " 'sigla': 'AC',\n",
              " 'nome': 'Acre',\n",
              " 'regiao': {'id': 1, 'sigla': 'N', 'nome': 'Norte'}}"
            ]
          },
          "metadata": {},
          "execution_count": 10
        }
      ]
    },
    {
      "cell_type": "code",
      "source": [
        "#pandas json_normalize ler a string JSON aninhada e devolver um DataFrame.\n",
        "estados_br = pd.json_normalize(regiao)"
      ],
      "metadata": {
        "id": "4Fmd-1ngvCZd"
      },
      "execution_count": 11,
      "outputs": []
    },
    {
      "cell_type": "code",
      "source": [
        "# Mostra diversas informações do Dataframe em um único comando\n",
        "estados_br.info()"
      ],
      "metadata": {
        "colab": {
          "base_uri": "https://localhost:8080/"
        },
        "id": "Bsti--1avhqD",
        "outputId": "4cb6a754-9f16-4512-8667-a639602108fe"
      },
      "execution_count": 12,
      "outputs": [
        {
          "output_type": "stream",
          "name": "stdout",
          "text": [
            "<class 'pandas.core.frame.DataFrame'>\n",
            "RangeIndex: 27 entries, 0 to 26\n",
            "Data columns (total 6 columns):\n",
            " #   Column        Non-Null Count  Dtype \n",
            "---  ------        --------------  ----- \n",
            " 0   id            27 non-null     int64 \n",
            " 1   sigla         27 non-null     object\n",
            " 2   nome          27 non-null     object\n",
            " 3   regiao.id     27 non-null     int64 \n",
            " 4   regiao.sigla  27 non-null     object\n",
            " 5   regiao.nome   27 non-null     object\n",
            "dtypes: int64(2), object(4)\n",
            "memory usage: 1.4+ KB\n"
          ]
        }
      ]
    },
    {
      "cell_type": "code",
      "source": [
        "#excluir as colunas que não iremos utilizar\n",
        "estados_br.drop(['id','nome', 'regiao.id', 'regiao.sigla'], axis=1, inplace = True)"
      ],
      "metadata": {
        "id": "OrYpvdjtvf1h"
      },
      "execution_count": 13,
      "outputs": []
    },
    {
      "cell_type": "code",
      "source": [
        "estados_br.head()"
      ],
      "metadata": {
        "colab": {
          "base_uri": "https://localhost:8080/",
          "height": 0
        },
        "id": "vB9O3QNlw1Vx",
        "outputId": "151c0651-3741-4b8f-cf76-4f9cdb7fef76"
      },
      "execution_count": 14,
      "outputs": [
        {
          "output_type": "execute_result",
          "data": {
            "text/plain": [
              "  sigla regiao.nome\n",
              "0    RO       Norte\n",
              "1    AC       Norte\n",
              "2    AM       Norte\n",
              "3    RR       Norte\n",
              "4    PA       Norte"
            ],
            "text/html": [
              "\n",
              "  <div id=\"df-b0349c5d-3a3b-4cdf-87db-e98bf84ff47e\">\n",
              "    <div class=\"colab-df-container\">\n",
              "      <div>\n",
              "<style scoped>\n",
              "    .dataframe tbody tr th:only-of-type {\n",
              "        vertical-align: middle;\n",
              "    }\n",
              "\n",
              "    .dataframe tbody tr th {\n",
              "        vertical-align: top;\n",
              "    }\n",
              "\n",
              "    .dataframe thead th {\n",
              "        text-align: right;\n",
              "    }\n",
              "</style>\n",
              "<table border=\"1\" class=\"dataframe\">\n",
              "  <thead>\n",
              "    <tr style=\"text-align: right;\">\n",
              "      <th></th>\n",
              "      <th>sigla</th>\n",
              "      <th>regiao.nome</th>\n",
              "    </tr>\n",
              "  </thead>\n",
              "  <tbody>\n",
              "    <tr>\n",
              "      <th>0</th>\n",
              "      <td>RO</td>\n",
              "      <td>Norte</td>\n",
              "    </tr>\n",
              "    <tr>\n",
              "      <th>1</th>\n",
              "      <td>AC</td>\n",
              "      <td>Norte</td>\n",
              "    </tr>\n",
              "    <tr>\n",
              "      <th>2</th>\n",
              "      <td>AM</td>\n",
              "      <td>Norte</td>\n",
              "    </tr>\n",
              "    <tr>\n",
              "      <th>3</th>\n",
              "      <td>RR</td>\n",
              "      <td>Norte</td>\n",
              "    </tr>\n",
              "    <tr>\n",
              "      <th>4</th>\n",
              "      <td>PA</td>\n",
              "      <td>Norte</td>\n",
              "    </tr>\n",
              "  </tbody>\n",
              "</table>\n",
              "</div>\n",
              "      <button class=\"colab-df-convert\" onclick=\"convertToInteractive('df-b0349c5d-3a3b-4cdf-87db-e98bf84ff47e')\"\n",
              "              title=\"Convert this dataframe to an interactive table.\"\n",
              "              style=\"display:none;\">\n",
              "        \n",
              "  <svg xmlns=\"http://www.w3.org/2000/svg\" height=\"24px\"viewBox=\"0 0 24 24\"\n",
              "       width=\"24px\">\n",
              "    <path d=\"M0 0h24v24H0V0z\" fill=\"none\"/>\n",
              "    <path d=\"M18.56 5.44l.94 2.06.94-2.06 2.06-.94-2.06-.94-.94-2.06-.94 2.06-2.06.94zm-11 1L8.5 8.5l.94-2.06 2.06-.94-2.06-.94L8.5 2.5l-.94 2.06-2.06.94zm10 10l.94 2.06.94-2.06 2.06-.94-2.06-.94-.94-2.06-.94 2.06-2.06.94z\"/><path d=\"M17.41 7.96l-1.37-1.37c-.4-.4-.92-.59-1.43-.59-.52 0-1.04.2-1.43.59L10.3 9.45l-7.72 7.72c-.78.78-.78 2.05 0 2.83L4 21.41c.39.39.9.59 1.41.59.51 0 1.02-.2 1.41-.59l7.78-7.78 2.81-2.81c.8-.78.8-2.07 0-2.86zM5.41 20L4 18.59l7.72-7.72 1.47 1.35L5.41 20z\"/>\n",
              "  </svg>\n",
              "      </button>\n",
              "      \n",
              "  <style>\n",
              "    .colab-df-container {\n",
              "      display:flex;\n",
              "      flex-wrap:wrap;\n",
              "      gap: 12px;\n",
              "    }\n",
              "\n",
              "    .colab-df-convert {\n",
              "      background-color: #E8F0FE;\n",
              "      border: none;\n",
              "      border-radius: 50%;\n",
              "      cursor: pointer;\n",
              "      display: none;\n",
              "      fill: #1967D2;\n",
              "      height: 32px;\n",
              "      padding: 0 0 0 0;\n",
              "      width: 32px;\n",
              "    }\n",
              "\n",
              "    .colab-df-convert:hover {\n",
              "      background-color: #E2EBFA;\n",
              "      box-shadow: 0px 1px 2px rgba(60, 64, 67, 0.3), 0px 1px 3px 1px rgba(60, 64, 67, 0.15);\n",
              "      fill: #174EA6;\n",
              "    }\n",
              "\n",
              "    [theme=dark] .colab-df-convert {\n",
              "      background-color: #3B4455;\n",
              "      fill: #D2E3FC;\n",
              "    }\n",
              "\n",
              "    [theme=dark] .colab-df-convert:hover {\n",
              "      background-color: #434B5C;\n",
              "      box-shadow: 0px 1px 3px 1px rgba(0, 0, 0, 0.15);\n",
              "      filter: drop-shadow(0px 1px 2px rgba(0, 0, 0, 0.3));\n",
              "      fill: #FFFFFF;\n",
              "    }\n",
              "  </style>\n",
              "\n",
              "      <script>\n",
              "        const buttonEl =\n",
              "          document.querySelector('#df-b0349c5d-3a3b-4cdf-87db-e98bf84ff47e button.colab-df-convert');\n",
              "        buttonEl.style.display =\n",
              "          google.colab.kernel.accessAllowed ? 'block' : 'none';\n",
              "\n",
              "        async function convertToInteractive(key) {\n",
              "          const element = document.querySelector('#df-b0349c5d-3a3b-4cdf-87db-e98bf84ff47e');\n",
              "          const dataTable =\n",
              "            await google.colab.kernel.invokeFunction('convertToInteractive',\n",
              "                                                     [key], {});\n",
              "          if (!dataTable) return;\n",
              "\n",
              "          const docLinkHtml = 'Like what you see? Visit the ' +\n",
              "            '<a target=\"_blank\" href=https://colab.research.google.com/notebooks/data_table.ipynb>data table notebook</a>'\n",
              "            + ' to learn more about interactive tables.';\n",
              "          element.innerHTML = '';\n",
              "          dataTable['output_type'] = 'display_data';\n",
              "          await google.colab.output.renderOutput(dataTable, element);\n",
              "          const docLink = document.createElement('div');\n",
              "          docLink.innerHTML = docLinkHtml;\n",
              "          element.appendChild(docLink);\n",
              "        }\n",
              "      </script>\n",
              "    </div>\n",
              "  </div>\n",
              "  "
            ]
          },
          "metadata": {},
          "execution_count": 14
        }
      ]
    },
    {
      "cell_type": "code",
      "source": [
        "#renomear colunas\n",
        "estados_br = estados_br.rename(columns={'sigla': 'uf',\n",
        "                                'regiao.nome': 'regiao'\n",
        "                                })"
      ],
      "metadata": {
        "id": "Diro-Ey4w9iJ"
      },
      "execution_count": 15,
      "outputs": []
    },
    {
      "cell_type": "markdown",
      "source": [
        "#**<font color=#FE8202> 3. Análise de Dados Inicial**"
      ],
      "metadata": {
        "id": "dkeLOKzSaf1U"
      }
    },
    {
      "cell_type": "markdown",
      "source": [
        "Nessa etapa iremos fazer a análise exploratória **inicial** de dados.\n",
        ">\n",
        "Uma etapa bem crítica, pois nesse primeiro momento, devemos compreender bem os dados.\n",
        ">\n",
        "Depois de entender melhor esses dados, na próxima etapa, seremos capazes de limpar, transformar e apresentar melhor os dados, assim como obter os melhores resultados possíveis nos algoritmos de Machine Learning."
      ],
      "metadata": {
        "id": "36Fzs_Mkaji0"
      }
    },
    {
      "cell_type": "markdown",
      "source": [
        "###**<font color=#FE8202> 3.1. Estatísticas Descritivas**"
      ],
      "metadata": {
        "id": "WR0xRBYcfNoV"
      }
    },
    {
      "cell_type": "markdown",
      "source": [
        "Compreende a organização, o resumo e, descrever os dados, que podem ser expressos em tabelas e gráficos.\n",
        ">\n",
        "Veremos a seguir alguns comandos para exibir algumas estatísticas descritivas.\n",
        ">\n",
        "---\n",
        "\n"
      ],
      "metadata": {
        "id": "Z2Nh6X1qfhBn"
      }
    },
    {
      "cell_type": "code",
      "source": [
        "#\tQuantidade de atributos e instâncias (linhas/colunas)\n",
        "acidentes.shape"
      ],
      "metadata": {
        "colab": {
          "base_uri": "https://localhost:8080/"
        },
        "id": "MbkI7LH_pgE7",
        "outputId": "d0bc21fa-b7f6-4cbc-ec88-bad570a67a47"
      },
      "execution_count": 16,
      "outputs": [
        {
          "output_type": "execute_result",
          "data": {
            "text/plain": [
              "(310239, 35)"
            ]
          },
          "metadata": {},
          "execution_count": 16
        }
      ]
    },
    {
      "cell_type": "markdown",
      "source": [
        "Um dataframe com 310.239 mil linhas e 35 colunas\n",
        "\n",
        "\n",
        "---\n",
        "\n"
      ],
      "metadata": {
        "id": "Rhz6UCLJmLCj"
      }
    },
    {
      "cell_type": "code",
      "source": [
        "# verificando os tipos de dados de cada coluna do dataframe\n",
        "acidentes.dtypes"
      ],
      "metadata": {
        "colab": {
          "base_uri": "https://localhost:8080/"
        },
        "id": "PofO_5h7qK5F",
        "outputId": "040543d1-13c1-4a15-f68c-a18c029b4311"
      },
      "execution_count": 17,
      "outputs": [
        {
          "output_type": "execute_result",
          "data": {
            "text/plain": [
              "id                        float64\n",
              "pesid                     float64\n",
              "data_inversa               object\n",
              "dia_semana                 object\n",
              "horario                    object\n",
              "uf                         object\n",
              "br                        float64\n",
              "km                         object\n",
              "municipio                  object\n",
              "causa_acidente             object\n",
              "tipo_acidente              object\n",
              "classificacao_acidente     object\n",
              "fase_dia                   object\n",
              "sentido_via                object\n",
              "condicao_metereologica     object\n",
              "tipo_pista                 object\n",
              "tracado_via                object\n",
              "uso_solo                   object\n",
              "id_veiculo                  int64\n",
              "tipo_veiculo               object\n",
              "marca                      object\n",
              "ano_fabricacao_veiculo    float64\n",
              "tipo_envolvido             object\n",
              "estado_fisico              object\n",
              "idade                     float64\n",
              "sexo                       object\n",
              "ilesos                      int64\n",
              "feridos_leves               int64\n",
              "feridos_graves              int64\n",
              "mortos                      int64\n",
              "latitude                   object\n",
              "longitude                  object\n",
              "regional                   object\n",
              "delegacia                  object\n",
              "uop                        object\n",
              "dtype: object"
            ]
          },
          "metadata": {},
          "execution_count": 17
        }
      ]
    },
    {
      "cell_type": "markdown",
      "source": [
        "\n",
        "\n",
        "---\n",
        "\n"
      ],
      "metadata": {
        "id": "GVGLdwammigd"
      }
    },
    {
      "cell_type": "code",
      "source": [
        "# Mostra diversas informações do Dataframe em um único comando\n",
        "acidentes.info(memory_usage=\"deep\")"
      ],
      "metadata": {
        "colab": {
          "base_uri": "https://localhost:8080/"
        },
        "id": "2PPHphwTq9V9",
        "outputId": "53dd1b83-6859-4a9b-9c7a-e9588d8ca0be"
      },
      "execution_count": 18,
      "outputs": [
        {
          "output_type": "stream",
          "name": "stdout",
          "text": [
            "<class 'pandas.core.frame.DataFrame'>\n",
            "RangeIndex: 310239 entries, 0 to 310238\n",
            "Data columns (total 35 columns):\n",
            " #   Column                  Non-Null Count   Dtype  \n",
            "---  ------                  --------------   -----  \n",
            " 0   id                      310239 non-null  float64\n",
            " 1   pesid                   310237 non-null  float64\n",
            " 2   data_inversa            310239 non-null  object \n",
            " 3   dia_semana              310239 non-null  object \n",
            " 4   horario                 310239 non-null  object \n",
            " 5   uf                      310239 non-null  object \n",
            " 6   br                      309599 non-null  float64\n",
            " 7   km                      309599 non-null  object \n",
            " 8   municipio               310239 non-null  object \n",
            " 9   causa_acidente          310239 non-null  object \n",
            " 10  tipo_acidente           310212 non-null  object \n",
            " 11  classificacao_acidente  310239 non-null  object \n",
            " 12  fase_dia                310239 non-null  object \n",
            " 13  sentido_via             310239 non-null  object \n",
            " 14  condicao_metereologica  310239 non-null  object \n",
            " 15  tipo_pista              310239 non-null  object \n",
            " 16  tracado_via             310239 non-null  object \n",
            " 17  uso_solo                310239 non-null  object \n",
            " 18  id_veiculo              310239 non-null  int64  \n",
            " 19  tipo_veiculo            310239 non-null  object \n",
            " 20  marca                   293655 non-null  object \n",
            " 21  ano_fabricacao_veiculo  289870 non-null  float64\n",
            " 22  tipo_envolvido          310239 non-null  object \n",
            " 23  estado_fisico           310239 non-null  object \n",
            " 24  idade                   279531 non-null  float64\n",
            " 25  sexo                    310239 non-null  object \n",
            " 26  ilesos                  310239 non-null  int64  \n",
            " 27  feridos_leves           310239 non-null  int64  \n",
            " 28  feridos_graves          310239 non-null  int64  \n",
            " 29  mortos                  310239 non-null  int64  \n",
            " 30  latitude                310239 non-null  object \n",
            " 31  longitude               310239 non-null  object \n",
            " 32  regional                310228 non-null  object \n",
            " 33  delegacia               310060 non-null  object \n",
            " 34  uop                     308950 non-null  object \n",
            "dtypes: float64(5), int64(5), object(25)\n",
            "memory usage: 564.2 MB\n"
          ]
        }
      ]
    },
    {
      "cell_type": "markdown",
      "source": [
        "\n",
        "A função info() da biblioteca pandas, nos fornece um resumo do dataframe, sendo muito útil para ter uma visão geral do conjunto de dados. \n",
        ">\n",
        "Usando o parâmetro memory_usage = “deep”, saberemos exatamente quanto de memória o dataframe está utilizando.\n",
        ">\n",
        "Sendo assim, depois dos processos de transformações de dados saberemos se tivemos algum ganho de memoria no dataframe.\n"
      ],
      "metadata": {
        "id": "R8UaO37WqyU8"
      }
    },
    {
      "cell_type": "markdown",
      "source": [
        "O dataframe está ocupando cerca de 564 Megas de espaço.\n",
        "\n",
        "\n",
        "---\n",
        "\n"
      ],
      "metadata": {
        "id": "0ma6moUprufj"
      }
    },
    {
      "cell_type": "code",
      "source": [
        "# Exibe as 5 primeiras linhas (Default do comando head)\n",
        "acidentes.head()"
      ],
      "metadata": {
        "colab": {
          "base_uri": "https://localhost:8080/",
          "height": 0
        },
        "id": "9Auwq_Pwr6V7",
        "outputId": "a77eede4-2499-4959-cc04-dab153314e8e"
      },
      "execution_count": 19,
      "outputs": [
        {
          "output_type": "execute_result",
          "data": {
            "text/plain": [
              "         id     pesid data_inversa   dia_semana   horario  uf     br     km  \\\n",
              "0  182256.0  403856.0   2019-01-01  terça-feira  04:00:00  CE  116.0  136,9   \n",
              "1  182263.0  402859.0   2019-01-01  terça-feira  05:00:00  MT  158.0  599,5   \n",
              "2  182277.0  402850.0   2019-01-01  terça-feira  10:00:00  PA   10.0     34   \n",
              "3  182289.0  402431.0   2019-01-01  terça-feira  08:30:00  BA  101.0     13   \n",
              "4  182307.0  402638.0   2019-01-01  terça-feira  13:50:00  BA  116.0    440   \n",
              "\n",
              "          municipio               causa_acidente  ...       sexo ilesos  \\\n",
              "0            RUSSAS             Animais na Pista  ...  Masculino      1   \n",
              "1          AGUA BOA  Defeito Mecânico no Veículo  ...  Masculino      1   \n",
              "2        DOM ELISEU      Velocidade Incompatível  ...  Masculino      1   \n",
              "3          RIO REAL           Ingestão de Álcool  ...  Masculino      1   \n",
              "4  FEIRA DE SANTANA           Ingestão de Álcool  ...  Masculino      0   \n",
              "\n",
              "  feridos_leves feridos_graves mortos     latitude     longitude regional  \\\n",
              "0             0              0      0    -4,766018    -38,056034  SPRF-CE   \n",
              "1             0              0      0      -14,319       -52,169  SPRF-MT   \n",
              "2             0              0      0  -4,15296734  -47,54608154  SPRF-PA   \n",
              "3             0              0      0     -11,5896      -37,8761  SPRF-SE   \n",
              "4             1              0      0      -12,344       -39,087  SPRF-BA   \n",
              "\n",
              "   delegacia             uop  \n",
              "0   DEL03-CE  UOP01-DEL03-CE  \n",
              "1   DEL07-MT  UOP02-DEL07-MT  \n",
              "2   DEL02-PA  UOP02-DEL02-PA  \n",
              "3   DEL02-SE  UOP03-DEL02-SE  \n",
              "4   DEL02-BA  UOP01-DEL02-BA  \n",
              "\n",
              "[5 rows x 35 columns]"
            ],
            "text/html": [
              "\n",
              "  <div id=\"df-2261270f-2577-4ca9-8e5a-26bfa5b4782c\">\n",
              "    <div class=\"colab-df-container\">\n",
              "      <div>\n",
              "<style scoped>\n",
              "    .dataframe tbody tr th:only-of-type {\n",
              "        vertical-align: middle;\n",
              "    }\n",
              "\n",
              "    .dataframe tbody tr th {\n",
              "        vertical-align: top;\n",
              "    }\n",
              "\n",
              "    .dataframe thead th {\n",
              "        text-align: right;\n",
              "    }\n",
              "</style>\n",
              "<table border=\"1\" class=\"dataframe\">\n",
              "  <thead>\n",
              "    <tr style=\"text-align: right;\">\n",
              "      <th></th>\n",
              "      <th>id</th>\n",
              "      <th>pesid</th>\n",
              "      <th>data_inversa</th>\n",
              "      <th>dia_semana</th>\n",
              "      <th>horario</th>\n",
              "      <th>uf</th>\n",
              "      <th>br</th>\n",
              "      <th>km</th>\n",
              "      <th>municipio</th>\n",
              "      <th>causa_acidente</th>\n",
              "      <th>...</th>\n",
              "      <th>sexo</th>\n",
              "      <th>ilesos</th>\n",
              "      <th>feridos_leves</th>\n",
              "      <th>feridos_graves</th>\n",
              "      <th>mortos</th>\n",
              "      <th>latitude</th>\n",
              "      <th>longitude</th>\n",
              "      <th>regional</th>\n",
              "      <th>delegacia</th>\n",
              "      <th>uop</th>\n",
              "    </tr>\n",
              "  </thead>\n",
              "  <tbody>\n",
              "    <tr>\n",
              "      <th>0</th>\n",
              "      <td>182256.0</td>\n",
              "      <td>403856.0</td>\n",
              "      <td>2019-01-01</td>\n",
              "      <td>terça-feira</td>\n",
              "      <td>04:00:00</td>\n",
              "      <td>CE</td>\n",
              "      <td>116.0</td>\n",
              "      <td>136,9</td>\n",
              "      <td>RUSSAS</td>\n",
              "      <td>Animais na Pista</td>\n",
              "      <td>...</td>\n",
              "      <td>Masculino</td>\n",
              "      <td>1</td>\n",
              "      <td>0</td>\n",
              "      <td>0</td>\n",
              "      <td>0</td>\n",
              "      <td>-4,766018</td>\n",
              "      <td>-38,056034</td>\n",
              "      <td>SPRF-CE</td>\n",
              "      <td>DEL03-CE</td>\n",
              "      <td>UOP01-DEL03-CE</td>\n",
              "    </tr>\n",
              "    <tr>\n",
              "      <th>1</th>\n",
              "      <td>182263.0</td>\n",
              "      <td>402859.0</td>\n",
              "      <td>2019-01-01</td>\n",
              "      <td>terça-feira</td>\n",
              "      <td>05:00:00</td>\n",
              "      <td>MT</td>\n",
              "      <td>158.0</td>\n",
              "      <td>599,5</td>\n",
              "      <td>AGUA BOA</td>\n",
              "      <td>Defeito Mecânico no Veículo</td>\n",
              "      <td>...</td>\n",
              "      <td>Masculino</td>\n",
              "      <td>1</td>\n",
              "      <td>0</td>\n",
              "      <td>0</td>\n",
              "      <td>0</td>\n",
              "      <td>-14,319</td>\n",
              "      <td>-52,169</td>\n",
              "      <td>SPRF-MT</td>\n",
              "      <td>DEL07-MT</td>\n",
              "      <td>UOP02-DEL07-MT</td>\n",
              "    </tr>\n",
              "    <tr>\n",
              "      <th>2</th>\n",
              "      <td>182277.0</td>\n",
              "      <td>402850.0</td>\n",
              "      <td>2019-01-01</td>\n",
              "      <td>terça-feira</td>\n",
              "      <td>10:00:00</td>\n",
              "      <td>PA</td>\n",
              "      <td>10.0</td>\n",
              "      <td>34</td>\n",
              "      <td>DOM ELISEU</td>\n",
              "      <td>Velocidade Incompatível</td>\n",
              "      <td>...</td>\n",
              "      <td>Masculino</td>\n",
              "      <td>1</td>\n",
              "      <td>0</td>\n",
              "      <td>0</td>\n",
              "      <td>0</td>\n",
              "      <td>-4,15296734</td>\n",
              "      <td>-47,54608154</td>\n",
              "      <td>SPRF-PA</td>\n",
              "      <td>DEL02-PA</td>\n",
              "      <td>UOP02-DEL02-PA</td>\n",
              "    </tr>\n",
              "    <tr>\n",
              "      <th>3</th>\n",
              "      <td>182289.0</td>\n",
              "      <td>402431.0</td>\n",
              "      <td>2019-01-01</td>\n",
              "      <td>terça-feira</td>\n",
              "      <td>08:30:00</td>\n",
              "      <td>BA</td>\n",
              "      <td>101.0</td>\n",
              "      <td>13</td>\n",
              "      <td>RIO REAL</td>\n",
              "      <td>Ingestão de Álcool</td>\n",
              "      <td>...</td>\n",
              "      <td>Masculino</td>\n",
              "      <td>1</td>\n",
              "      <td>0</td>\n",
              "      <td>0</td>\n",
              "      <td>0</td>\n",
              "      <td>-11,5896</td>\n",
              "      <td>-37,8761</td>\n",
              "      <td>SPRF-SE</td>\n",
              "      <td>DEL02-SE</td>\n",
              "      <td>UOP03-DEL02-SE</td>\n",
              "    </tr>\n",
              "    <tr>\n",
              "      <th>4</th>\n",
              "      <td>182307.0</td>\n",
              "      <td>402638.0</td>\n",
              "      <td>2019-01-01</td>\n",
              "      <td>terça-feira</td>\n",
              "      <td>13:50:00</td>\n",
              "      <td>BA</td>\n",
              "      <td>116.0</td>\n",
              "      <td>440</td>\n",
              "      <td>FEIRA DE SANTANA</td>\n",
              "      <td>Ingestão de Álcool</td>\n",
              "      <td>...</td>\n",
              "      <td>Masculino</td>\n",
              "      <td>0</td>\n",
              "      <td>1</td>\n",
              "      <td>0</td>\n",
              "      <td>0</td>\n",
              "      <td>-12,344</td>\n",
              "      <td>-39,087</td>\n",
              "      <td>SPRF-BA</td>\n",
              "      <td>DEL02-BA</td>\n",
              "      <td>UOP01-DEL02-BA</td>\n",
              "    </tr>\n",
              "  </tbody>\n",
              "</table>\n",
              "<p>5 rows × 35 columns</p>\n",
              "</div>\n",
              "      <button class=\"colab-df-convert\" onclick=\"convertToInteractive('df-2261270f-2577-4ca9-8e5a-26bfa5b4782c')\"\n",
              "              title=\"Convert this dataframe to an interactive table.\"\n",
              "              style=\"display:none;\">\n",
              "        \n",
              "  <svg xmlns=\"http://www.w3.org/2000/svg\" height=\"24px\"viewBox=\"0 0 24 24\"\n",
              "       width=\"24px\">\n",
              "    <path d=\"M0 0h24v24H0V0z\" fill=\"none\"/>\n",
              "    <path d=\"M18.56 5.44l.94 2.06.94-2.06 2.06-.94-2.06-.94-.94-2.06-.94 2.06-2.06.94zm-11 1L8.5 8.5l.94-2.06 2.06-.94-2.06-.94L8.5 2.5l-.94 2.06-2.06.94zm10 10l.94 2.06.94-2.06 2.06-.94-2.06-.94-.94-2.06-.94 2.06-2.06.94z\"/><path d=\"M17.41 7.96l-1.37-1.37c-.4-.4-.92-.59-1.43-.59-.52 0-1.04.2-1.43.59L10.3 9.45l-7.72 7.72c-.78.78-.78 2.05 0 2.83L4 21.41c.39.39.9.59 1.41.59.51 0 1.02-.2 1.41-.59l7.78-7.78 2.81-2.81c.8-.78.8-2.07 0-2.86zM5.41 20L4 18.59l7.72-7.72 1.47 1.35L5.41 20z\"/>\n",
              "  </svg>\n",
              "      </button>\n",
              "      \n",
              "  <style>\n",
              "    .colab-df-container {\n",
              "      display:flex;\n",
              "      flex-wrap:wrap;\n",
              "      gap: 12px;\n",
              "    }\n",
              "\n",
              "    .colab-df-convert {\n",
              "      background-color: #E8F0FE;\n",
              "      border: none;\n",
              "      border-radius: 50%;\n",
              "      cursor: pointer;\n",
              "      display: none;\n",
              "      fill: #1967D2;\n",
              "      height: 32px;\n",
              "      padding: 0 0 0 0;\n",
              "      width: 32px;\n",
              "    }\n",
              "\n",
              "    .colab-df-convert:hover {\n",
              "      background-color: #E2EBFA;\n",
              "      box-shadow: 0px 1px 2px rgba(60, 64, 67, 0.3), 0px 1px 3px 1px rgba(60, 64, 67, 0.15);\n",
              "      fill: #174EA6;\n",
              "    }\n",
              "\n",
              "    [theme=dark] .colab-df-convert {\n",
              "      background-color: #3B4455;\n",
              "      fill: #D2E3FC;\n",
              "    }\n",
              "\n",
              "    [theme=dark] .colab-df-convert:hover {\n",
              "      background-color: #434B5C;\n",
              "      box-shadow: 0px 1px 3px 1px rgba(0, 0, 0, 0.15);\n",
              "      filter: drop-shadow(0px 1px 2px rgba(0, 0, 0, 0.3));\n",
              "      fill: #FFFFFF;\n",
              "    }\n",
              "  </style>\n",
              "\n",
              "      <script>\n",
              "        const buttonEl =\n",
              "          document.querySelector('#df-2261270f-2577-4ca9-8e5a-26bfa5b4782c button.colab-df-convert');\n",
              "        buttonEl.style.display =\n",
              "          google.colab.kernel.accessAllowed ? 'block' : 'none';\n",
              "\n",
              "        async function convertToInteractive(key) {\n",
              "          const element = document.querySelector('#df-2261270f-2577-4ca9-8e5a-26bfa5b4782c');\n",
              "          const dataTable =\n",
              "            await google.colab.kernel.invokeFunction('convertToInteractive',\n",
              "                                                     [key], {});\n",
              "          if (!dataTable) return;\n",
              "\n",
              "          const docLinkHtml = 'Like what you see? Visit the ' +\n",
              "            '<a target=\"_blank\" href=https://colab.research.google.com/notebooks/data_table.ipynb>data table notebook</a>'\n",
              "            + ' to learn more about interactive tables.';\n",
              "          element.innerHTML = '';\n",
              "          dataTable['output_type'] = 'display_data';\n",
              "          await google.colab.output.renderOutput(dataTable, element);\n",
              "          const docLink = document.createElement('div');\n",
              "          docLink.innerHTML = docLinkHtml;\n",
              "          element.appendChild(docLink);\n",
              "        }\n",
              "      </script>\n",
              "    </div>\n",
              "  </div>\n",
              "  "
            ]
          },
          "metadata": {},
          "execution_count": 19
        }
      ]
    },
    {
      "cell_type": "code",
      "source": [
        "# Exibe as 5 últimas linhas (Default do comando tail)\n",
        "acidentes.tail()"
      ],
      "metadata": {
        "colab": {
          "base_uri": "https://localhost:8080/",
          "height": 0
        },
        "id": "GYl0F5Qpt9kS",
        "outputId": "dbb82c64-9130-479d-9ecd-05e1cd0be690"
      },
      "execution_count": 20,
      "outputs": [
        {
          "output_type": "execute_result",
          "data": {
            "text/plain": [
              "              id      pesid data_inversa   dia_semana   horario  uf     br  \\\n",
              "310234  463900.0  1004448.0   2020-02-18  terça-feira  11:45:00  BA  101.0   \n",
              "310235  463900.0  1004447.0   2020-02-18  terça-feira  11:45:00  BA  101.0   \n",
              "310236  463900.0  1004446.0   2020-02-18  terça-feira  11:45:00  BA  101.0   \n",
              "310237  465902.0  1008121.0   2020-04-18       sábado  10:15:00  BA  242.0   \n",
              "310238  465902.0  1008119.0   2020-04-18       sábado  10:15:00  BA  242.0   \n",
              "\n",
              "           km                  municipio          causa_acidente  ...  \\\n",
              "310234    315  PRESIDENTE TANCREDO NEVES  Ultrapassagem Indevida  ...   \n",
              "310235    315  PRESIDENTE TANCREDO NEVES  Ultrapassagem Indevida  ...   \n",
              "310236    315  PRESIDENTE TANCREDO NEVES  Ultrapassagem Indevida  ...   \n",
              "310237  409,6                  LAJEDINHO  Ultrapassagem Indevida  ...   \n",
              "310238  409,6                  LAJEDINHO  Ultrapassagem Indevida  ...   \n",
              "\n",
              "             sexo ilesos feridos_leves feridos_graves mortos   latitude  \\\n",
              "310234   Feminino      0             1              0      0  -13.29906   \n",
              "310235  Masculino      0             1              0      0  -13.29906   \n",
              "310236  Masculino      1             0              0      0  -13.29906   \n",
              "310237   Feminino      0             0              1      0 -12.444242   \n",
              "310238  Masculino      0             0              0      1 -12.444242   \n",
              "\n",
              "        longitude regional  delegacia             uop  \n",
              "310234  -39.34004  SPRF-BA   DEL05-BA  UOP03-DEL05-BA  \n",
              "310235  -39.34004  SPRF-BA   DEL05-BA  UOP03-DEL05-BA  \n",
              "310236  -39.34004  SPRF-BA   DEL05-BA  UOP03-DEL05-BA  \n",
              "310237 -40.798419  SPRF-BA   DEL06-BA  UOP01-DEL06-BA  \n",
              "310238 -40.798419  SPRF-BA   DEL06-BA  UOP01-DEL06-BA  \n",
              "\n",
              "[5 rows x 35 columns]"
            ],
            "text/html": [
              "\n",
              "  <div id=\"df-a89b1cb9-7840-4f18-bd50-0796994c1a47\">\n",
              "    <div class=\"colab-df-container\">\n",
              "      <div>\n",
              "<style scoped>\n",
              "    .dataframe tbody tr th:only-of-type {\n",
              "        vertical-align: middle;\n",
              "    }\n",
              "\n",
              "    .dataframe tbody tr th {\n",
              "        vertical-align: top;\n",
              "    }\n",
              "\n",
              "    .dataframe thead th {\n",
              "        text-align: right;\n",
              "    }\n",
              "</style>\n",
              "<table border=\"1\" class=\"dataframe\">\n",
              "  <thead>\n",
              "    <tr style=\"text-align: right;\">\n",
              "      <th></th>\n",
              "      <th>id</th>\n",
              "      <th>pesid</th>\n",
              "      <th>data_inversa</th>\n",
              "      <th>dia_semana</th>\n",
              "      <th>horario</th>\n",
              "      <th>uf</th>\n",
              "      <th>br</th>\n",
              "      <th>km</th>\n",
              "      <th>municipio</th>\n",
              "      <th>causa_acidente</th>\n",
              "      <th>...</th>\n",
              "      <th>sexo</th>\n",
              "      <th>ilesos</th>\n",
              "      <th>feridos_leves</th>\n",
              "      <th>feridos_graves</th>\n",
              "      <th>mortos</th>\n",
              "      <th>latitude</th>\n",
              "      <th>longitude</th>\n",
              "      <th>regional</th>\n",
              "      <th>delegacia</th>\n",
              "      <th>uop</th>\n",
              "    </tr>\n",
              "  </thead>\n",
              "  <tbody>\n",
              "    <tr>\n",
              "      <th>310234</th>\n",
              "      <td>463900.0</td>\n",
              "      <td>1004448.0</td>\n",
              "      <td>2020-02-18</td>\n",
              "      <td>terça-feira</td>\n",
              "      <td>11:45:00</td>\n",
              "      <td>BA</td>\n",
              "      <td>101.0</td>\n",
              "      <td>315</td>\n",
              "      <td>PRESIDENTE TANCREDO NEVES</td>\n",
              "      <td>Ultrapassagem Indevida</td>\n",
              "      <td>...</td>\n",
              "      <td>Feminino</td>\n",
              "      <td>0</td>\n",
              "      <td>1</td>\n",
              "      <td>0</td>\n",
              "      <td>0</td>\n",
              "      <td>-13.29906</td>\n",
              "      <td>-39.34004</td>\n",
              "      <td>SPRF-BA</td>\n",
              "      <td>DEL05-BA</td>\n",
              "      <td>UOP03-DEL05-BA</td>\n",
              "    </tr>\n",
              "    <tr>\n",
              "      <th>310235</th>\n",
              "      <td>463900.0</td>\n",
              "      <td>1004447.0</td>\n",
              "      <td>2020-02-18</td>\n",
              "      <td>terça-feira</td>\n",
              "      <td>11:45:00</td>\n",
              "      <td>BA</td>\n",
              "      <td>101.0</td>\n",
              "      <td>315</td>\n",
              "      <td>PRESIDENTE TANCREDO NEVES</td>\n",
              "      <td>Ultrapassagem Indevida</td>\n",
              "      <td>...</td>\n",
              "      <td>Masculino</td>\n",
              "      <td>0</td>\n",
              "      <td>1</td>\n",
              "      <td>0</td>\n",
              "      <td>0</td>\n",
              "      <td>-13.29906</td>\n",
              "      <td>-39.34004</td>\n",
              "      <td>SPRF-BA</td>\n",
              "      <td>DEL05-BA</td>\n",
              "      <td>UOP03-DEL05-BA</td>\n",
              "    </tr>\n",
              "    <tr>\n",
              "      <th>310236</th>\n",
              "      <td>463900.0</td>\n",
              "      <td>1004446.0</td>\n",
              "      <td>2020-02-18</td>\n",
              "      <td>terça-feira</td>\n",
              "      <td>11:45:00</td>\n",
              "      <td>BA</td>\n",
              "      <td>101.0</td>\n",
              "      <td>315</td>\n",
              "      <td>PRESIDENTE TANCREDO NEVES</td>\n",
              "      <td>Ultrapassagem Indevida</td>\n",
              "      <td>...</td>\n",
              "      <td>Masculino</td>\n",
              "      <td>1</td>\n",
              "      <td>0</td>\n",
              "      <td>0</td>\n",
              "      <td>0</td>\n",
              "      <td>-13.29906</td>\n",
              "      <td>-39.34004</td>\n",
              "      <td>SPRF-BA</td>\n",
              "      <td>DEL05-BA</td>\n",
              "      <td>UOP03-DEL05-BA</td>\n",
              "    </tr>\n",
              "    <tr>\n",
              "      <th>310237</th>\n",
              "      <td>465902.0</td>\n",
              "      <td>1008121.0</td>\n",
              "      <td>2020-04-18</td>\n",
              "      <td>sábado</td>\n",
              "      <td>10:15:00</td>\n",
              "      <td>BA</td>\n",
              "      <td>242.0</td>\n",
              "      <td>409,6</td>\n",
              "      <td>LAJEDINHO</td>\n",
              "      <td>Ultrapassagem Indevida</td>\n",
              "      <td>...</td>\n",
              "      <td>Feminino</td>\n",
              "      <td>0</td>\n",
              "      <td>0</td>\n",
              "      <td>1</td>\n",
              "      <td>0</td>\n",
              "      <td>-12.444242</td>\n",
              "      <td>-40.798419</td>\n",
              "      <td>SPRF-BA</td>\n",
              "      <td>DEL06-BA</td>\n",
              "      <td>UOP01-DEL06-BA</td>\n",
              "    </tr>\n",
              "    <tr>\n",
              "      <th>310238</th>\n",
              "      <td>465902.0</td>\n",
              "      <td>1008119.0</td>\n",
              "      <td>2020-04-18</td>\n",
              "      <td>sábado</td>\n",
              "      <td>10:15:00</td>\n",
              "      <td>BA</td>\n",
              "      <td>242.0</td>\n",
              "      <td>409,6</td>\n",
              "      <td>LAJEDINHO</td>\n",
              "      <td>Ultrapassagem Indevida</td>\n",
              "      <td>...</td>\n",
              "      <td>Masculino</td>\n",
              "      <td>0</td>\n",
              "      <td>0</td>\n",
              "      <td>0</td>\n",
              "      <td>1</td>\n",
              "      <td>-12.444242</td>\n",
              "      <td>-40.798419</td>\n",
              "      <td>SPRF-BA</td>\n",
              "      <td>DEL06-BA</td>\n",
              "      <td>UOP01-DEL06-BA</td>\n",
              "    </tr>\n",
              "  </tbody>\n",
              "</table>\n",
              "<p>5 rows × 35 columns</p>\n",
              "</div>\n",
              "      <button class=\"colab-df-convert\" onclick=\"convertToInteractive('df-a89b1cb9-7840-4f18-bd50-0796994c1a47')\"\n",
              "              title=\"Convert this dataframe to an interactive table.\"\n",
              "              style=\"display:none;\">\n",
              "        \n",
              "  <svg xmlns=\"http://www.w3.org/2000/svg\" height=\"24px\"viewBox=\"0 0 24 24\"\n",
              "       width=\"24px\">\n",
              "    <path d=\"M0 0h24v24H0V0z\" fill=\"none\"/>\n",
              "    <path d=\"M18.56 5.44l.94 2.06.94-2.06 2.06-.94-2.06-.94-.94-2.06-.94 2.06-2.06.94zm-11 1L8.5 8.5l.94-2.06 2.06-.94-2.06-.94L8.5 2.5l-.94 2.06-2.06.94zm10 10l.94 2.06.94-2.06 2.06-.94-2.06-.94-.94-2.06-.94 2.06-2.06.94z\"/><path d=\"M17.41 7.96l-1.37-1.37c-.4-.4-.92-.59-1.43-.59-.52 0-1.04.2-1.43.59L10.3 9.45l-7.72 7.72c-.78.78-.78 2.05 0 2.83L4 21.41c.39.39.9.59 1.41.59.51 0 1.02-.2 1.41-.59l7.78-7.78 2.81-2.81c.8-.78.8-2.07 0-2.86zM5.41 20L4 18.59l7.72-7.72 1.47 1.35L5.41 20z\"/>\n",
              "  </svg>\n",
              "      </button>\n",
              "      \n",
              "  <style>\n",
              "    .colab-df-container {\n",
              "      display:flex;\n",
              "      flex-wrap:wrap;\n",
              "      gap: 12px;\n",
              "    }\n",
              "\n",
              "    .colab-df-convert {\n",
              "      background-color: #E8F0FE;\n",
              "      border: none;\n",
              "      border-radius: 50%;\n",
              "      cursor: pointer;\n",
              "      display: none;\n",
              "      fill: #1967D2;\n",
              "      height: 32px;\n",
              "      padding: 0 0 0 0;\n",
              "      width: 32px;\n",
              "    }\n",
              "\n",
              "    .colab-df-convert:hover {\n",
              "      background-color: #E2EBFA;\n",
              "      box-shadow: 0px 1px 2px rgba(60, 64, 67, 0.3), 0px 1px 3px 1px rgba(60, 64, 67, 0.15);\n",
              "      fill: #174EA6;\n",
              "    }\n",
              "\n",
              "    [theme=dark] .colab-df-convert {\n",
              "      background-color: #3B4455;\n",
              "      fill: #D2E3FC;\n",
              "    }\n",
              "\n",
              "    [theme=dark] .colab-df-convert:hover {\n",
              "      background-color: #434B5C;\n",
              "      box-shadow: 0px 1px 3px 1px rgba(0, 0, 0, 0.15);\n",
              "      filter: drop-shadow(0px 1px 2px rgba(0, 0, 0, 0.3));\n",
              "      fill: #FFFFFF;\n",
              "    }\n",
              "  </style>\n",
              "\n",
              "      <script>\n",
              "        const buttonEl =\n",
              "          document.querySelector('#df-a89b1cb9-7840-4f18-bd50-0796994c1a47 button.colab-df-convert');\n",
              "        buttonEl.style.display =\n",
              "          google.colab.kernel.accessAllowed ? 'block' : 'none';\n",
              "\n",
              "        async function convertToInteractive(key) {\n",
              "          const element = document.querySelector('#df-a89b1cb9-7840-4f18-bd50-0796994c1a47');\n",
              "          const dataTable =\n",
              "            await google.colab.kernel.invokeFunction('convertToInteractive',\n",
              "                                                     [key], {});\n",
              "          if (!dataTable) return;\n",
              "\n",
              "          const docLinkHtml = 'Like what you see? Visit the ' +\n",
              "            '<a target=\"_blank\" href=https://colab.research.google.com/notebooks/data_table.ipynb>data table notebook</a>'\n",
              "            + ' to learn more about interactive tables.';\n",
              "          element.innerHTML = '';\n",
              "          dataTable['output_type'] = 'display_data';\n",
              "          await google.colab.output.renderOutput(dataTable, element);\n",
              "          const docLink = document.createElement('div');\n",
              "          docLink.innerHTML = docLinkHtml;\n",
              "          element.appendChild(docLink);\n",
              "        }\n",
              "      </script>\n",
              "    </div>\n",
              "  </div>\n",
              "  "
            ]
          },
          "metadata": {},
          "execution_count": 20
        }
      ]
    },
    {
      "cell_type": "markdown",
      "source": [
        "Com a exibição das linhas, é mais fácil perceber que o processo de importação, considerou alguns atributos como Float ao inves de integer.\n",
        ">\n",
        "Nesse momento não irá interferir na exploração inicial de dados, depois na etpada de pre-processamento iremos modificar.\n",
        "  \n",
        "\n",
        "---\n",
        "\n"
      ],
      "metadata": {
        "id": "u3d2NYutXx4U"
      }
    },
    {
      "cell_type": "code",
      "source": [
        "# Quantidade de valores únicos\n",
        "acidentes.nunique()"
      ],
      "metadata": {
        "colab": {
          "base_uri": "https://localhost:8080/"
        },
        "id": "ylatDQNXvBvZ",
        "outputId": "5522e092-2d1d-4fef-8618-9ce5599990ab"
      },
      "execution_count": 21,
      "outputs": [
        {
          "output_type": "execute_result",
          "data": {
            "text/plain": [
              "id                        131132\n",
              "pesid                     310237\n",
              "data_inversa                 731\n",
              "dia_semana                     7\n",
              "horario                     1396\n",
              "uf                            27\n",
              "br                           118\n",
              "km                          8840\n",
              "municipio                   1869\n",
              "causa_acidente                63\n",
              "tipo_acidente                 20\n",
              "classificacao_acidente         3\n",
              "fase_dia                       4\n",
              "sentido_via                    3\n",
              "condicao_metereologica        10\n",
              "tipo_pista                     3\n",
              "tracado_via                   10\n",
              "uso_solo                       2\n",
              "id_veiculo                216089\n",
              "tipo_veiculo                  25\n",
              "marca                      10966\n",
              "ano_fabricacao_veiculo        65\n",
              "tipo_envolvido                 6\n",
              "estado_fisico                  5\n",
              "idade                        144\n",
              "sexo                           4\n",
              "ilesos                         2\n",
              "feridos_leves                  2\n",
              "feridos_graves                 2\n",
              "mortos                         2\n",
              "latitude                   71340\n",
              "longitude                  71340\n",
              "regional                      27\n",
              "delegacia                    150\n",
              "uop                          396\n",
              "dtype: int64"
            ]
          },
          "metadata": {},
          "execution_count": 21
        }
      ]
    },
    {
      "cell_type": "markdown",
      "source": [
        "Com o comando nunique() já podemos ter uma rápida noção da coerência dos atributos, como por exemplo:\n",
        ">\n",
        "Temos 144 valores diferentes no atributo idade, o que pode indicar alguma discrepância nos valores informados, ou seja, precisamos explorar mais esse atributo.\n",
        ">\n",
        "\n",
        "\n",
        "---\n",
        "\n",
        "\n"
      ],
      "metadata": {
        "id": "6x5--hwiveCZ"
      }
    },
    {
      "cell_type": "code",
      "source": [
        "# Quantidade de nulls no dataframe\n",
        "acidentes.isnull().sum()"
      ],
      "metadata": {
        "colab": {
          "base_uri": "https://localhost:8080/"
        },
        "id": "OMLt646XxSRa",
        "outputId": "d753896a-47da-4477-a79d-63eabb5432c9"
      },
      "execution_count": 22,
      "outputs": [
        {
          "output_type": "execute_result",
          "data": {
            "text/plain": [
              "id                            0\n",
              "pesid                         2\n",
              "data_inversa                  0\n",
              "dia_semana                    0\n",
              "horario                       0\n",
              "uf                            0\n",
              "br                          640\n",
              "km                          640\n",
              "municipio                     0\n",
              "causa_acidente                0\n",
              "tipo_acidente                27\n",
              "classificacao_acidente        0\n",
              "fase_dia                      0\n",
              "sentido_via                   0\n",
              "condicao_metereologica        0\n",
              "tipo_pista                    0\n",
              "tracado_via                   0\n",
              "uso_solo                      0\n",
              "id_veiculo                    0\n",
              "tipo_veiculo                  0\n",
              "marca                     16584\n",
              "ano_fabricacao_veiculo    20369\n",
              "tipo_envolvido                0\n",
              "estado_fisico                 0\n",
              "idade                     30708\n",
              "sexo                          0\n",
              "ilesos                        0\n",
              "feridos_leves                 0\n",
              "feridos_graves                0\n",
              "mortos                        0\n",
              "latitude                      0\n",
              "longitude                     0\n",
              "regional                     11\n",
              "delegacia                   179\n",
              "uop                        1289\n",
              "dtype: int64"
            ]
          },
          "metadata": {},
          "execution_count": 22
        }
      ]
    },
    {
      "cell_type": "markdown",
      "source": [
        "Dos 35 atributos, 10 apresentam registros nulos, que deverão ser tratados na etapa de pre-processamento de dados.\n",
        "\n",
        "\n",
        "---\n",
        "\n"
      ],
      "metadata": {
        "id": "B8mOIX-J-VzZ"
      }
    },
    {
      "cell_type": "markdown",
      "source": [
        "Vamos verificar agora, se existe alguma duplicidade de registro.\n",
        ">\n",
        "Segundo a documentação do dataset existe o campo ID com o número único do registro do acidente, e o pesid com o número único que identifica a pessoa envolvida no registro do acidente.\n",
        ">\n",
        "Sendo assim devemos ter apenas 1 pesid distinto por ID de acidente, ou seja, só posso registrar uma vez a pessoa na ocorrência do acidente, mesmo que esse acidente tenha mais pessoas envolvidas.\n",
        ">\n",
        "Para essa analise iremos utilizar o método duplicated()"
      ],
      "metadata": {
        "id": "-PZGUh1NAkji"
      }
    },
    {
      "cell_type": "code",
      "source": [
        "# Quantidade de registros duplicados\n",
        "# subset - agrupa as colunas chaves\n",
        "# keep='first' - Se primeiro, considera o primeiro valor como único e o resto como duplicado\n",
        "\n",
        "acidentes.duplicated(subset=['id','pesid'], keep='first').sum()"
      ],
      "metadata": {
        "colab": {
          "base_uri": "https://localhost:8080/"
        },
        "id": "up44_7l4BVxv",
        "outputId": "aeea9a96-9d0b-410d-c1d8-c60a1d465963"
      },
      "execution_count": 23,
      "outputs": [
        {
          "output_type": "execute_result",
          "data": {
            "text/plain": [
              "0"
            ]
          },
          "metadata": {},
          "execution_count": 23
        }
      ]
    },
    {
      "cell_type": "markdown",
      "source": [
        "O método retorna 0, o que indica que o dataframe não tem duplicidade de registros.\n",
        "\n",
        "\n",
        "---\n",
        "\n"
      ],
      "metadata": {
        "id": "2ti27wxwF3Bg"
      }
    },
    {
      "cell_type": "code",
      "source": [
        "# Faz um resumo estatístico do dataset (média, desvio padrão, mínimo, máximo e os quartis)\n",
        "acidentes.describe().round(2)"
      ],
      "metadata": {
        "colab": {
          "base_uri": "https://localhost:8080/",
          "height": 0
        },
        "id": "WGOf_20-Hv53",
        "outputId": "7f50cb2b-0dc5-4bfa-9696-48ea3b4a68d9"
      },
      "execution_count": 24,
      "outputs": [
        {
          "output_type": "execute_result",
          "data": {
            "text/plain": [
              "              id       pesid         br  id_veiculo  ano_fabricacao_veiculo  \\\n",
              "count  310239.00   310237.00  309599.00   310239.00               289870.00   \n",
              "mean   257827.88   573651.46     215.59   460721.82                 2009.66   \n",
              "std     43937.69    98355.00     131.64    79387.47                    7.60   \n",
              "min    182210.00   402087.00      10.00   324863.00                 1900.00   \n",
              "25%    220063.00   489437.00     101.00   392906.50                 2007.00   \n",
              "50%    257636.00   573172.00     163.00   460061.00                 2011.00   \n",
              "75%    295489.50   657550.00     343.00   528241.00                 2015.00   \n",
              "max    466732.00  1010053.00     495.00   816458.00                 2020.00   \n",
              "\n",
              "           idade     ilesos  feridos_leves  feridos_graves     mortos  \n",
              "count  279531.00  310239.00      310239.00       310239.00  310239.00  \n",
              "mean       39.51       0.42           0.37            0.12       0.03  \n",
              "std        47.01       0.49           0.48            0.32       0.18  \n",
              "min         0.00       0.00           0.00            0.00       0.00  \n",
              "25%        27.00       0.00           0.00            0.00       0.00  \n",
              "50%        37.00       0.00           0.00            0.00       0.00  \n",
              "75%        48.00       1.00           1.00            0.00       0.00  \n",
              "max      2019.00       1.00           1.00            1.00       1.00  "
            ],
            "text/html": [
              "\n",
              "  <div id=\"df-c9a3085d-fffc-4602-a54c-3a2ad0820c2d\">\n",
              "    <div class=\"colab-df-container\">\n",
              "      <div>\n",
              "<style scoped>\n",
              "    .dataframe tbody tr th:only-of-type {\n",
              "        vertical-align: middle;\n",
              "    }\n",
              "\n",
              "    .dataframe tbody tr th {\n",
              "        vertical-align: top;\n",
              "    }\n",
              "\n",
              "    .dataframe thead th {\n",
              "        text-align: right;\n",
              "    }\n",
              "</style>\n",
              "<table border=\"1\" class=\"dataframe\">\n",
              "  <thead>\n",
              "    <tr style=\"text-align: right;\">\n",
              "      <th></th>\n",
              "      <th>id</th>\n",
              "      <th>pesid</th>\n",
              "      <th>br</th>\n",
              "      <th>id_veiculo</th>\n",
              "      <th>ano_fabricacao_veiculo</th>\n",
              "      <th>idade</th>\n",
              "      <th>ilesos</th>\n",
              "      <th>feridos_leves</th>\n",
              "      <th>feridos_graves</th>\n",
              "      <th>mortos</th>\n",
              "    </tr>\n",
              "  </thead>\n",
              "  <tbody>\n",
              "    <tr>\n",
              "      <th>count</th>\n",
              "      <td>310239.00</td>\n",
              "      <td>310237.00</td>\n",
              "      <td>309599.00</td>\n",
              "      <td>310239.00</td>\n",
              "      <td>289870.00</td>\n",
              "      <td>279531.00</td>\n",
              "      <td>310239.00</td>\n",
              "      <td>310239.00</td>\n",
              "      <td>310239.00</td>\n",
              "      <td>310239.00</td>\n",
              "    </tr>\n",
              "    <tr>\n",
              "      <th>mean</th>\n",
              "      <td>257827.88</td>\n",
              "      <td>573651.46</td>\n",
              "      <td>215.59</td>\n",
              "      <td>460721.82</td>\n",
              "      <td>2009.66</td>\n",
              "      <td>39.51</td>\n",
              "      <td>0.42</td>\n",
              "      <td>0.37</td>\n",
              "      <td>0.12</td>\n",
              "      <td>0.03</td>\n",
              "    </tr>\n",
              "    <tr>\n",
              "      <th>std</th>\n",
              "      <td>43937.69</td>\n",
              "      <td>98355.00</td>\n",
              "      <td>131.64</td>\n",
              "      <td>79387.47</td>\n",
              "      <td>7.60</td>\n",
              "      <td>47.01</td>\n",
              "      <td>0.49</td>\n",
              "      <td>0.48</td>\n",
              "      <td>0.32</td>\n",
              "      <td>0.18</td>\n",
              "    </tr>\n",
              "    <tr>\n",
              "      <th>min</th>\n",
              "      <td>182210.00</td>\n",
              "      <td>402087.00</td>\n",
              "      <td>10.00</td>\n",
              "      <td>324863.00</td>\n",
              "      <td>1900.00</td>\n",
              "      <td>0.00</td>\n",
              "      <td>0.00</td>\n",
              "      <td>0.00</td>\n",
              "      <td>0.00</td>\n",
              "      <td>0.00</td>\n",
              "    </tr>\n",
              "    <tr>\n",
              "      <th>25%</th>\n",
              "      <td>220063.00</td>\n",
              "      <td>489437.00</td>\n",
              "      <td>101.00</td>\n",
              "      <td>392906.50</td>\n",
              "      <td>2007.00</td>\n",
              "      <td>27.00</td>\n",
              "      <td>0.00</td>\n",
              "      <td>0.00</td>\n",
              "      <td>0.00</td>\n",
              "      <td>0.00</td>\n",
              "    </tr>\n",
              "    <tr>\n",
              "      <th>50%</th>\n",
              "      <td>257636.00</td>\n",
              "      <td>573172.00</td>\n",
              "      <td>163.00</td>\n",
              "      <td>460061.00</td>\n",
              "      <td>2011.00</td>\n",
              "      <td>37.00</td>\n",
              "      <td>0.00</td>\n",
              "      <td>0.00</td>\n",
              "      <td>0.00</td>\n",
              "      <td>0.00</td>\n",
              "    </tr>\n",
              "    <tr>\n",
              "      <th>75%</th>\n",
              "      <td>295489.50</td>\n",
              "      <td>657550.00</td>\n",
              "      <td>343.00</td>\n",
              "      <td>528241.00</td>\n",
              "      <td>2015.00</td>\n",
              "      <td>48.00</td>\n",
              "      <td>1.00</td>\n",
              "      <td>1.00</td>\n",
              "      <td>0.00</td>\n",
              "      <td>0.00</td>\n",
              "    </tr>\n",
              "    <tr>\n",
              "      <th>max</th>\n",
              "      <td>466732.00</td>\n",
              "      <td>1010053.00</td>\n",
              "      <td>495.00</td>\n",
              "      <td>816458.00</td>\n",
              "      <td>2020.00</td>\n",
              "      <td>2019.00</td>\n",
              "      <td>1.00</td>\n",
              "      <td>1.00</td>\n",
              "      <td>1.00</td>\n",
              "      <td>1.00</td>\n",
              "    </tr>\n",
              "  </tbody>\n",
              "</table>\n",
              "</div>\n",
              "      <button class=\"colab-df-convert\" onclick=\"convertToInteractive('df-c9a3085d-fffc-4602-a54c-3a2ad0820c2d')\"\n",
              "              title=\"Convert this dataframe to an interactive table.\"\n",
              "              style=\"display:none;\">\n",
              "        \n",
              "  <svg xmlns=\"http://www.w3.org/2000/svg\" height=\"24px\"viewBox=\"0 0 24 24\"\n",
              "       width=\"24px\">\n",
              "    <path d=\"M0 0h24v24H0V0z\" fill=\"none\"/>\n",
              "    <path d=\"M18.56 5.44l.94 2.06.94-2.06 2.06-.94-2.06-.94-.94-2.06-.94 2.06-2.06.94zm-11 1L8.5 8.5l.94-2.06 2.06-.94-2.06-.94L8.5 2.5l-.94 2.06-2.06.94zm10 10l.94 2.06.94-2.06 2.06-.94-2.06-.94-.94-2.06-.94 2.06-2.06.94z\"/><path d=\"M17.41 7.96l-1.37-1.37c-.4-.4-.92-.59-1.43-.59-.52 0-1.04.2-1.43.59L10.3 9.45l-7.72 7.72c-.78.78-.78 2.05 0 2.83L4 21.41c.39.39.9.59 1.41.59.51 0 1.02-.2 1.41-.59l7.78-7.78 2.81-2.81c.8-.78.8-2.07 0-2.86zM5.41 20L4 18.59l7.72-7.72 1.47 1.35L5.41 20z\"/>\n",
              "  </svg>\n",
              "      </button>\n",
              "      \n",
              "  <style>\n",
              "    .colab-df-container {\n",
              "      display:flex;\n",
              "      flex-wrap:wrap;\n",
              "      gap: 12px;\n",
              "    }\n",
              "\n",
              "    .colab-df-convert {\n",
              "      background-color: #E8F0FE;\n",
              "      border: none;\n",
              "      border-radius: 50%;\n",
              "      cursor: pointer;\n",
              "      display: none;\n",
              "      fill: #1967D2;\n",
              "      height: 32px;\n",
              "      padding: 0 0 0 0;\n",
              "      width: 32px;\n",
              "    }\n",
              "\n",
              "    .colab-df-convert:hover {\n",
              "      background-color: #E2EBFA;\n",
              "      box-shadow: 0px 1px 2px rgba(60, 64, 67, 0.3), 0px 1px 3px 1px rgba(60, 64, 67, 0.15);\n",
              "      fill: #174EA6;\n",
              "    }\n",
              "\n",
              "    [theme=dark] .colab-df-convert {\n",
              "      background-color: #3B4455;\n",
              "      fill: #D2E3FC;\n",
              "    }\n",
              "\n",
              "    [theme=dark] .colab-df-convert:hover {\n",
              "      background-color: #434B5C;\n",
              "      box-shadow: 0px 1px 3px 1px rgba(0, 0, 0, 0.15);\n",
              "      filter: drop-shadow(0px 1px 2px rgba(0, 0, 0, 0.3));\n",
              "      fill: #FFFFFF;\n",
              "    }\n",
              "  </style>\n",
              "\n",
              "      <script>\n",
              "        const buttonEl =\n",
              "          document.querySelector('#df-c9a3085d-fffc-4602-a54c-3a2ad0820c2d button.colab-df-convert');\n",
              "        buttonEl.style.display =\n",
              "          google.colab.kernel.accessAllowed ? 'block' : 'none';\n",
              "\n",
              "        async function convertToInteractive(key) {\n",
              "          const element = document.querySelector('#df-c9a3085d-fffc-4602-a54c-3a2ad0820c2d');\n",
              "          const dataTable =\n",
              "            await google.colab.kernel.invokeFunction('convertToInteractive',\n",
              "                                                     [key], {});\n",
              "          if (!dataTable) return;\n",
              "\n",
              "          const docLinkHtml = 'Like what you see? Visit the ' +\n",
              "            '<a target=\"_blank\" href=https://colab.research.google.com/notebooks/data_table.ipynb>data table notebook</a>'\n",
              "            + ' to learn more about interactive tables.';\n",
              "          element.innerHTML = '';\n",
              "          dataTable['output_type'] = 'display_data';\n",
              "          await google.colab.output.renderOutput(dataTable, element);\n",
              "          const docLink = document.createElement('div');\n",
              "          docLink.innerHTML = docLinkHtml;\n",
              "          element.appendChild(docLink);\n",
              "        }\n",
              "      </script>\n",
              "    </div>\n",
              "  </div>\n",
              "  "
            ]
          },
          "metadata": {},
          "execution_count": 24
        }
      ]
    },
    {
      "cell_type": "markdown",
      "source": [
        "###**<font color=#FE8202> 3.2. Distribuição dos atributos**"
      ],
      "metadata": {
        "id": "k617wMzZQJiY"
      }
    },
    {
      "cell_type": "markdown",
      "source": [
        ">Nessa etapa, iremos verificar a distribuição de cada atributo. Para ver se existe a necessidade de tomar alguma ação de transformações na etapa de preparação de dados.\n",
        "\n",
        "\n",
        "---\n",
        "\n"
      ],
      "metadata": {
        "id": "0eYqOVcNstO_"
      }
    },
    {
      "cell_type": "markdown",
      "source": [
        "Conforme visto anteriormente no resumo estatístico, o atributo idade, apresenta um valor máximo de 2.019, o que seria uma inconsistência.\n",
        ">\n",
        "Já a idade mínima com valor 0, representa bebês que ainda não completaram 1 ano.\n",
        ">\n",
        "Sendo assim, vou selecionar no dataframe acidentes todas as idades maiores que 100, agrupando e contando quantas vezes elas aparecem no dataframe.\n",
        ">\n",
        "Assim já teremos uma noção de quantas idades estão inconsistentes no dataframe."
      ],
      "metadata": {
        "id": "Jb4jr0EvLWnS"
      }
    },
    {
      "cell_type": "code",
      "source": [
        "# Verificar idades inconsistentes\n",
        "# Cria um dataframe com idade > 100, agrupando e contando quantas vezes aparecem no dataframe\n",
        "verifica_idade = acidentes[(acidentes['idade'] > 100)].groupby([\"idade\"])['id'].count().reset_index()\n",
        "verifica_idade"
      ],
      "metadata": {
        "colab": {
          "base_uri": "https://localhost:8080/",
          "height": 0
        },
        "id": "kcGizUotNgLB",
        "outputId": "cecaa16c-4732-42fe-af6c-970d922b44c9"
      },
      "execution_count": 25,
      "outputs": [
        {
          "output_type": "execute_result",
          "data": {
            "text/plain": [
              "     idade   id\n",
              "0    101.0    1\n",
              "1    103.0    1\n",
              "2    106.0    2\n",
              "3    110.0    1\n",
              "4    118.0    3\n",
              "5    119.0   41\n",
              "6    120.0   32\n",
              "7    131.0    1\n",
              "8    133.0    1\n",
              "9    135.0    3\n",
              "10   148.0    1\n",
              "11   219.0    4\n",
              "12   220.0   21\n",
              "13   303.0    1\n",
              "14   328.0    1\n",
              "15   522.0    1\n",
              "16   653.0    1\n",
              "17   822.0    1\n",
              "18   908.0  101\n",
              "19   909.0  104\n",
              "20   923.0    1\n",
              "21   939.0    1\n",
              "22   940.0    1\n",
              "23   942.0    1\n",
              "24   947.0    1\n",
              "25   952.0    1\n",
              "26   966.0    1\n",
              "27   967.0    1\n",
              "28  1000.0    1\n",
              "29  1018.0    1\n",
              "30  1019.0    6\n",
              "31  1020.0    6\n",
              "32  1033.0    1\n",
              "33  1037.0    1\n",
              "34  1050.0    1\n",
              "35  1823.0    1\n",
              "36  1825.0    1\n",
              "37  1908.0    3\n",
              "38  1918.0   12\n",
              "39  1919.0    5\n",
              "40  1931.0    1\n",
              "41  2017.0    2\n",
              "42  2018.0   53\n",
              "43  2019.0   20"
            ],
            "text/html": [
              "\n",
              "  <div id=\"df-d543edff-8c56-49f8-b3df-40b660b3fa3c\">\n",
              "    <div class=\"colab-df-container\">\n",
              "      <div>\n",
              "<style scoped>\n",
              "    .dataframe tbody tr th:only-of-type {\n",
              "        vertical-align: middle;\n",
              "    }\n",
              "\n",
              "    .dataframe tbody tr th {\n",
              "        vertical-align: top;\n",
              "    }\n",
              "\n",
              "    .dataframe thead th {\n",
              "        text-align: right;\n",
              "    }\n",
              "</style>\n",
              "<table border=\"1\" class=\"dataframe\">\n",
              "  <thead>\n",
              "    <tr style=\"text-align: right;\">\n",
              "      <th></th>\n",
              "      <th>idade</th>\n",
              "      <th>id</th>\n",
              "    </tr>\n",
              "  </thead>\n",
              "  <tbody>\n",
              "    <tr>\n",
              "      <th>0</th>\n",
              "      <td>101.0</td>\n",
              "      <td>1</td>\n",
              "    </tr>\n",
              "    <tr>\n",
              "      <th>1</th>\n",
              "      <td>103.0</td>\n",
              "      <td>1</td>\n",
              "    </tr>\n",
              "    <tr>\n",
              "      <th>2</th>\n",
              "      <td>106.0</td>\n",
              "      <td>2</td>\n",
              "    </tr>\n",
              "    <tr>\n",
              "      <th>3</th>\n",
              "      <td>110.0</td>\n",
              "      <td>1</td>\n",
              "    </tr>\n",
              "    <tr>\n",
              "      <th>4</th>\n",
              "      <td>118.0</td>\n",
              "      <td>3</td>\n",
              "    </tr>\n",
              "    <tr>\n",
              "      <th>5</th>\n",
              "      <td>119.0</td>\n",
              "      <td>41</td>\n",
              "    </tr>\n",
              "    <tr>\n",
              "      <th>6</th>\n",
              "      <td>120.0</td>\n",
              "      <td>32</td>\n",
              "    </tr>\n",
              "    <tr>\n",
              "      <th>7</th>\n",
              "      <td>131.0</td>\n",
              "      <td>1</td>\n",
              "    </tr>\n",
              "    <tr>\n",
              "      <th>8</th>\n",
              "      <td>133.0</td>\n",
              "      <td>1</td>\n",
              "    </tr>\n",
              "    <tr>\n",
              "      <th>9</th>\n",
              "      <td>135.0</td>\n",
              "      <td>3</td>\n",
              "    </tr>\n",
              "    <tr>\n",
              "      <th>10</th>\n",
              "      <td>148.0</td>\n",
              "      <td>1</td>\n",
              "    </tr>\n",
              "    <tr>\n",
              "      <th>11</th>\n",
              "      <td>219.0</td>\n",
              "      <td>4</td>\n",
              "    </tr>\n",
              "    <tr>\n",
              "      <th>12</th>\n",
              "      <td>220.0</td>\n",
              "      <td>21</td>\n",
              "    </tr>\n",
              "    <tr>\n",
              "      <th>13</th>\n",
              "      <td>303.0</td>\n",
              "      <td>1</td>\n",
              "    </tr>\n",
              "    <tr>\n",
              "      <th>14</th>\n",
              "      <td>328.0</td>\n",
              "      <td>1</td>\n",
              "    </tr>\n",
              "    <tr>\n",
              "      <th>15</th>\n",
              "      <td>522.0</td>\n",
              "      <td>1</td>\n",
              "    </tr>\n",
              "    <tr>\n",
              "      <th>16</th>\n",
              "      <td>653.0</td>\n",
              "      <td>1</td>\n",
              "    </tr>\n",
              "    <tr>\n",
              "      <th>17</th>\n",
              "      <td>822.0</td>\n",
              "      <td>1</td>\n",
              "    </tr>\n",
              "    <tr>\n",
              "      <th>18</th>\n",
              "      <td>908.0</td>\n",
              "      <td>101</td>\n",
              "    </tr>\n",
              "    <tr>\n",
              "      <th>19</th>\n",
              "      <td>909.0</td>\n",
              "      <td>104</td>\n",
              "    </tr>\n",
              "    <tr>\n",
              "      <th>20</th>\n",
              "      <td>923.0</td>\n",
              "      <td>1</td>\n",
              "    </tr>\n",
              "    <tr>\n",
              "      <th>21</th>\n",
              "      <td>939.0</td>\n",
              "      <td>1</td>\n",
              "    </tr>\n",
              "    <tr>\n",
              "      <th>22</th>\n",
              "      <td>940.0</td>\n",
              "      <td>1</td>\n",
              "    </tr>\n",
              "    <tr>\n",
              "      <th>23</th>\n",
              "      <td>942.0</td>\n",
              "      <td>1</td>\n",
              "    </tr>\n",
              "    <tr>\n",
              "      <th>24</th>\n",
              "      <td>947.0</td>\n",
              "      <td>1</td>\n",
              "    </tr>\n",
              "    <tr>\n",
              "      <th>25</th>\n",
              "      <td>952.0</td>\n",
              "      <td>1</td>\n",
              "    </tr>\n",
              "    <tr>\n",
              "      <th>26</th>\n",
              "      <td>966.0</td>\n",
              "      <td>1</td>\n",
              "    </tr>\n",
              "    <tr>\n",
              "      <th>27</th>\n",
              "      <td>967.0</td>\n",
              "      <td>1</td>\n",
              "    </tr>\n",
              "    <tr>\n",
              "      <th>28</th>\n",
              "      <td>1000.0</td>\n",
              "      <td>1</td>\n",
              "    </tr>\n",
              "    <tr>\n",
              "      <th>29</th>\n",
              "      <td>1018.0</td>\n",
              "      <td>1</td>\n",
              "    </tr>\n",
              "    <tr>\n",
              "      <th>30</th>\n",
              "      <td>1019.0</td>\n",
              "      <td>6</td>\n",
              "    </tr>\n",
              "    <tr>\n",
              "      <th>31</th>\n",
              "      <td>1020.0</td>\n",
              "      <td>6</td>\n",
              "    </tr>\n",
              "    <tr>\n",
              "      <th>32</th>\n",
              "      <td>1033.0</td>\n",
              "      <td>1</td>\n",
              "    </tr>\n",
              "    <tr>\n",
              "      <th>33</th>\n",
              "      <td>1037.0</td>\n",
              "      <td>1</td>\n",
              "    </tr>\n",
              "    <tr>\n",
              "      <th>34</th>\n",
              "      <td>1050.0</td>\n",
              "      <td>1</td>\n",
              "    </tr>\n",
              "    <tr>\n",
              "      <th>35</th>\n",
              "      <td>1823.0</td>\n",
              "      <td>1</td>\n",
              "    </tr>\n",
              "    <tr>\n",
              "      <th>36</th>\n",
              "      <td>1825.0</td>\n",
              "      <td>1</td>\n",
              "    </tr>\n",
              "    <tr>\n",
              "      <th>37</th>\n",
              "      <td>1908.0</td>\n",
              "      <td>3</td>\n",
              "    </tr>\n",
              "    <tr>\n",
              "      <th>38</th>\n",
              "      <td>1918.0</td>\n",
              "      <td>12</td>\n",
              "    </tr>\n",
              "    <tr>\n",
              "      <th>39</th>\n",
              "      <td>1919.0</td>\n",
              "      <td>5</td>\n",
              "    </tr>\n",
              "    <tr>\n",
              "      <th>40</th>\n",
              "      <td>1931.0</td>\n",
              "      <td>1</td>\n",
              "    </tr>\n",
              "    <tr>\n",
              "      <th>41</th>\n",
              "      <td>2017.0</td>\n",
              "      <td>2</td>\n",
              "    </tr>\n",
              "    <tr>\n",
              "      <th>42</th>\n",
              "      <td>2018.0</td>\n",
              "      <td>53</td>\n",
              "    </tr>\n",
              "    <tr>\n",
              "      <th>43</th>\n",
              "      <td>2019.0</td>\n",
              "      <td>20</td>\n",
              "    </tr>\n",
              "  </tbody>\n",
              "</table>\n",
              "</div>\n",
              "      <button class=\"colab-df-convert\" onclick=\"convertToInteractive('df-d543edff-8c56-49f8-b3df-40b660b3fa3c')\"\n",
              "              title=\"Convert this dataframe to an interactive table.\"\n",
              "              style=\"display:none;\">\n",
              "        \n",
              "  <svg xmlns=\"http://www.w3.org/2000/svg\" height=\"24px\"viewBox=\"0 0 24 24\"\n",
              "       width=\"24px\">\n",
              "    <path d=\"M0 0h24v24H0V0z\" fill=\"none\"/>\n",
              "    <path d=\"M18.56 5.44l.94 2.06.94-2.06 2.06-.94-2.06-.94-.94-2.06-.94 2.06-2.06.94zm-11 1L8.5 8.5l.94-2.06 2.06-.94-2.06-.94L8.5 2.5l-.94 2.06-2.06.94zm10 10l.94 2.06.94-2.06 2.06-.94-2.06-.94-.94-2.06-.94 2.06-2.06.94z\"/><path d=\"M17.41 7.96l-1.37-1.37c-.4-.4-.92-.59-1.43-.59-.52 0-1.04.2-1.43.59L10.3 9.45l-7.72 7.72c-.78.78-.78 2.05 0 2.83L4 21.41c.39.39.9.59 1.41.59.51 0 1.02-.2 1.41-.59l7.78-7.78 2.81-2.81c.8-.78.8-2.07 0-2.86zM5.41 20L4 18.59l7.72-7.72 1.47 1.35L5.41 20z\"/>\n",
              "  </svg>\n",
              "      </button>\n",
              "      \n",
              "  <style>\n",
              "    .colab-df-container {\n",
              "      display:flex;\n",
              "      flex-wrap:wrap;\n",
              "      gap: 12px;\n",
              "    }\n",
              "\n",
              "    .colab-df-convert {\n",
              "      background-color: #E8F0FE;\n",
              "      border: none;\n",
              "      border-radius: 50%;\n",
              "      cursor: pointer;\n",
              "      display: none;\n",
              "      fill: #1967D2;\n",
              "      height: 32px;\n",
              "      padding: 0 0 0 0;\n",
              "      width: 32px;\n",
              "    }\n",
              "\n",
              "    .colab-df-convert:hover {\n",
              "      background-color: #E2EBFA;\n",
              "      box-shadow: 0px 1px 2px rgba(60, 64, 67, 0.3), 0px 1px 3px 1px rgba(60, 64, 67, 0.15);\n",
              "      fill: #174EA6;\n",
              "    }\n",
              "\n",
              "    [theme=dark] .colab-df-convert {\n",
              "      background-color: #3B4455;\n",
              "      fill: #D2E3FC;\n",
              "    }\n",
              "\n",
              "    [theme=dark] .colab-df-convert:hover {\n",
              "      background-color: #434B5C;\n",
              "      box-shadow: 0px 1px 3px 1px rgba(0, 0, 0, 0.15);\n",
              "      filter: drop-shadow(0px 1px 2px rgba(0, 0, 0, 0.3));\n",
              "      fill: #FFFFFF;\n",
              "    }\n",
              "  </style>\n",
              "\n",
              "      <script>\n",
              "        const buttonEl =\n",
              "          document.querySelector('#df-d543edff-8c56-49f8-b3df-40b660b3fa3c button.colab-df-convert');\n",
              "        buttonEl.style.display =\n",
              "          google.colab.kernel.accessAllowed ? 'block' : 'none';\n",
              "\n",
              "        async function convertToInteractive(key) {\n",
              "          const element = document.querySelector('#df-d543edff-8c56-49f8-b3df-40b660b3fa3c');\n",
              "          const dataTable =\n",
              "            await google.colab.kernel.invokeFunction('convertToInteractive',\n",
              "                                                     [key], {});\n",
              "          if (!dataTable) return;\n",
              "\n",
              "          const docLinkHtml = 'Like what you see? Visit the ' +\n",
              "            '<a target=\"_blank\" href=https://colab.research.google.com/notebooks/data_table.ipynb>data table notebook</a>'\n",
              "            + ' to learn more about interactive tables.';\n",
              "          element.innerHTML = '';\n",
              "          dataTable['output_type'] = 'display_data';\n",
              "          await google.colab.output.renderOutput(dataTable, element);\n",
              "          const docLink = document.createElement('div');\n",
              "          docLink.innerHTML = docLinkHtml;\n",
              "          element.appendChild(docLink);\n",
              "        }\n",
              "      </script>\n",
              "    </div>\n",
              "  </div>\n",
              "  "
            ]
          },
          "metadata": {},
          "execution_count": 25
        }
      ]
    },
    {
      "cell_type": "markdown",
      "source": [
        "Encontramos 44 idades com valores aparentementes inconsistentes, que serão tratados nas próximas etapas.\n",
        ">\n",
        "Outro ponto que iremos tratar é a conversão de float para integer.\n",
        "\n",
        "\n",
        "---\n",
        "\n"
      ],
      "metadata": {
        "id": "d2T0hPS3Whrs"
      }
    },
    {
      "cell_type": "markdown",
      "source": [
        "Agora iremos analisar o atributo ano_fabricacao_veiculo, pois também apresentou valores inconsistentes."
      ],
      "metadata": {
        "id": "UORa8-FsJNWm"
      }
    },
    {
      "cell_type": "code",
      "source": [
        "# Verificar ano_fabricacao_veiculo inconsistentes\n",
        "\n",
        "ano_veiculo = acidentes.groupby([\"ano_fabricacao_veiculo\"])['id'].count().reset_index()\n",
        "\n",
        "# Exibe os valores em ordem crescente, pela coluna ano_fabricacao_veiculo\n",
        "ano_veiculo.sort_values(by='ano_fabricacao_veiculo', ascending=True)"
      ],
      "metadata": {
        "colab": {
          "base_uri": "https://localhost:8080/",
          "height": 0
        },
        "id": "bUDwhw1dI-_w",
        "outputId": "4a974f29-b594-4f23-d398-7cfce0c07a33"
      },
      "execution_count": 26,
      "outputs": [
        {
          "output_type": "execute_result",
          "data": {
            "text/plain": [
              "    ano_fabricacao_veiculo     id\n",
              "0                   1900.0     19\n",
              "1                   1951.0      1\n",
              "2                   1958.0      4\n",
              "3                   1959.0      1\n",
              "4                   1960.0      1\n",
              "..                     ...    ...\n",
              "60                  2016.0  11137\n",
              "61                  2017.0  13417\n",
              "62                  2018.0  19380\n",
              "63                  2019.0  14565\n",
              "64                  2020.0   2578\n",
              "\n",
              "[65 rows x 2 columns]"
            ],
            "text/html": [
              "\n",
              "  <div id=\"df-9ed21149-6084-4034-a1d0-78ef51978883\">\n",
              "    <div class=\"colab-df-container\">\n",
              "      <div>\n",
              "<style scoped>\n",
              "    .dataframe tbody tr th:only-of-type {\n",
              "        vertical-align: middle;\n",
              "    }\n",
              "\n",
              "    .dataframe tbody tr th {\n",
              "        vertical-align: top;\n",
              "    }\n",
              "\n",
              "    .dataframe thead th {\n",
              "        text-align: right;\n",
              "    }\n",
              "</style>\n",
              "<table border=\"1\" class=\"dataframe\">\n",
              "  <thead>\n",
              "    <tr style=\"text-align: right;\">\n",
              "      <th></th>\n",
              "      <th>ano_fabricacao_veiculo</th>\n",
              "      <th>id</th>\n",
              "    </tr>\n",
              "  </thead>\n",
              "  <tbody>\n",
              "    <tr>\n",
              "      <th>0</th>\n",
              "      <td>1900.0</td>\n",
              "      <td>19</td>\n",
              "    </tr>\n",
              "    <tr>\n",
              "      <th>1</th>\n",
              "      <td>1951.0</td>\n",
              "      <td>1</td>\n",
              "    </tr>\n",
              "    <tr>\n",
              "      <th>2</th>\n",
              "      <td>1958.0</td>\n",
              "      <td>4</td>\n",
              "    </tr>\n",
              "    <tr>\n",
              "      <th>3</th>\n",
              "      <td>1959.0</td>\n",
              "      <td>1</td>\n",
              "    </tr>\n",
              "    <tr>\n",
              "      <th>4</th>\n",
              "      <td>1960.0</td>\n",
              "      <td>1</td>\n",
              "    </tr>\n",
              "    <tr>\n",
              "      <th>...</th>\n",
              "      <td>...</td>\n",
              "      <td>...</td>\n",
              "    </tr>\n",
              "    <tr>\n",
              "      <th>60</th>\n",
              "      <td>2016.0</td>\n",
              "      <td>11137</td>\n",
              "    </tr>\n",
              "    <tr>\n",
              "      <th>61</th>\n",
              "      <td>2017.0</td>\n",
              "      <td>13417</td>\n",
              "    </tr>\n",
              "    <tr>\n",
              "      <th>62</th>\n",
              "      <td>2018.0</td>\n",
              "      <td>19380</td>\n",
              "    </tr>\n",
              "    <tr>\n",
              "      <th>63</th>\n",
              "      <td>2019.0</td>\n",
              "      <td>14565</td>\n",
              "    </tr>\n",
              "    <tr>\n",
              "      <th>64</th>\n",
              "      <td>2020.0</td>\n",
              "      <td>2578</td>\n",
              "    </tr>\n",
              "  </tbody>\n",
              "</table>\n",
              "<p>65 rows × 2 columns</p>\n",
              "</div>\n",
              "      <button class=\"colab-df-convert\" onclick=\"convertToInteractive('df-9ed21149-6084-4034-a1d0-78ef51978883')\"\n",
              "              title=\"Convert this dataframe to an interactive table.\"\n",
              "              style=\"display:none;\">\n",
              "        \n",
              "  <svg xmlns=\"http://www.w3.org/2000/svg\" height=\"24px\"viewBox=\"0 0 24 24\"\n",
              "       width=\"24px\">\n",
              "    <path d=\"M0 0h24v24H0V0z\" fill=\"none\"/>\n",
              "    <path d=\"M18.56 5.44l.94 2.06.94-2.06 2.06-.94-2.06-.94-.94-2.06-.94 2.06-2.06.94zm-11 1L8.5 8.5l.94-2.06 2.06-.94-2.06-.94L8.5 2.5l-.94 2.06-2.06.94zm10 10l.94 2.06.94-2.06 2.06-.94-2.06-.94-.94-2.06-.94 2.06-2.06.94z\"/><path d=\"M17.41 7.96l-1.37-1.37c-.4-.4-.92-.59-1.43-.59-.52 0-1.04.2-1.43.59L10.3 9.45l-7.72 7.72c-.78.78-.78 2.05 0 2.83L4 21.41c.39.39.9.59 1.41.59.51 0 1.02-.2 1.41-.59l7.78-7.78 2.81-2.81c.8-.78.8-2.07 0-2.86zM5.41 20L4 18.59l7.72-7.72 1.47 1.35L5.41 20z\"/>\n",
              "  </svg>\n",
              "      </button>\n",
              "      \n",
              "  <style>\n",
              "    .colab-df-container {\n",
              "      display:flex;\n",
              "      flex-wrap:wrap;\n",
              "      gap: 12px;\n",
              "    }\n",
              "\n",
              "    .colab-df-convert {\n",
              "      background-color: #E8F0FE;\n",
              "      border: none;\n",
              "      border-radius: 50%;\n",
              "      cursor: pointer;\n",
              "      display: none;\n",
              "      fill: #1967D2;\n",
              "      height: 32px;\n",
              "      padding: 0 0 0 0;\n",
              "      width: 32px;\n",
              "    }\n",
              "\n",
              "    .colab-df-convert:hover {\n",
              "      background-color: #E2EBFA;\n",
              "      box-shadow: 0px 1px 2px rgba(60, 64, 67, 0.3), 0px 1px 3px 1px rgba(60, 64, 67, 0.15);\n",
              "      fill: #174EA6;\n",
              "    }\n",
              "\n",
              "    [theme=dark] .colab-df-convert {\n",
              "      background-color: #3B4455;\n",
              "      fill: #D2E3FC;\n",
              "    }\n",
              "\n",
              "    [theme=dark] .colab-df-convert:hover {\n",
              "      background-color: #434B5C;\n",
              "      box-shadow: 0px 1px 3px 1px rgba(0, 0, 0, 0.15);\n",
              "      filter: drop-shadow(0px 1px 2px rgba(0, 0, 0, 0.3));\n",
              "      fill: #FFFFFF;\n",
              "    }\n",
              "  </style>\n",
              "\n",
              "      <script>\n",
              "        const buttonEl =\n",
              "          document.querySelector('#df-9ed21149-6084-4034-a1d0-78ef51978883 button.colab-df-convert');\n",
              "        buttonEl.style.display =\n",
              "          google.colab.kernel.accessAllowed ? 'block' : 'none';\n",
              "\n",
              "        async function convertToInteractive(key) {\n",
              "          const element = document.querySelector('#df-9ed21149-6084-4034-a1d0-78ef51978883');\n",
              "          const dataTable =\n",
              "            await google.colab.kernel.invokeFunction('convertToInteractive',\n",
              "                                                     [key], {});\n",
              "          if (!dataTable) return;\n",
              "\n",
              "          const docLinkHtml = 'Like what you see? Visit the ' +\n",
              "            '<a target=\"_blank\" href=https://colab.research.google.com/notebooks/data_table.ipynb>data table notebook</a>'\n",
              "            + ' to learn more about interactive tables.';\n",
              "          element.innerHTML = '';\n",
              "          dataTable['output_type'] = 'display_data';\n",
              "          await google.colab.output.renderOutput(dataTable, element);\n",
              "          const docLink = document.createElement('div');\n",
              "          docLink.innerHTML = docLinkHtml;\n",
              "          element.appendChild(docLink);\n",
              "        }\n",
              "      </script>\n",
              "    </div>\n",
              "  </div>\n",
              "  "
            ]
          },
          "metadata": {},
          "execution_count": 26
        }
      ]
    },
    {
      "cell_type": "markdown",
      "source": [
        "Como visto no resumo estatístico, o ano de fabricação minima, foi 1900, detalhamos e temos 19 registros com esse valor,  que seria insignificante.\n",
        ">\n",
        "Os demais anos parecem coerentes, porém, tudo indica que esse atributo não será utilizado em analises e nem em modelos de ML.\n",
        "\n",
        "\n",
        "---\n",
        "\n",
        "\n"
      ],
      "metadata": {
        "id": "2VxbaK9IMm_N"
      }
    },
    {
      "cell_type": "markdown",
      "source": [
        "Por se tratar de um problema de **classificação**, vamos verificar a distribuição de frequência do **atributo alvo** *classificacao_acidente*.\n",
        ">\n",
        "Lembrando que ainda iremos tratar esse atributo, convertendo para binário, onde a classe 0 será o acidente \"Sem vitimas\"(classificacao_acidente == 'Sem Vítimas'), e os demais, com a classe 1 \"Com vítimas\"."
      ],
      "metadata": {
        "id": "dfFu_GVtkpzD"
      }
    },
    {
      "cell_type": "code",
      "source": [
        "# distribuição das classes\n",
        "acidentes.groupby('classificacao_acidente').size().sort_values(ascending=False)"
      ],
      "metadata": {
        "colab": {
          "base_uri": "https://localhost:8080/"
        },
        "id": "zY4G0q5mkjjw",
        "outputId": "6da81d32-08ed-4282-a6db-5a97b542cdfc"
      },
      "execution_count": 27,
      "outputs": [
        {
          "output_type": "execute_result",
          "data": {
            "text/plain": [
              "classificacao_acidente\n",
              "Com Vítimas Feridas    237907\n",
              "Sem Vítimas             43822\n",
              "Com Vítimas Fatais      28510\n",
              "dtype: int64"
            ]
          },
          "metadata": {},
          "execution_count": 27
        }
      ]
    },
    {
      "cell_type": "code",
      "source": [
        "# Verificando o percentual da distribuição\n",
        "acidentes.classificacao_acidente.value_counts(normalize=True) "
      ],
      "metadata": {
        "colab": {
          "base_uri": "https://localhost:8080/"
        },
        "id": "UGglG06Jmg2T",
        "outputId": "a506c0a9-8211-4a9f-fe3a-df4148a2c413"
      },
      "execution_count": 28,
      "outputs": [
        {
          "output_type": "execute_result",
          "data": {
            "text/plain": [
              "Com Vítimas Feridas    0.766851\n",
              "Sem Vítimas            0.141252\n",
              "Com Vítimas Fatais     0.091897\n",
              "Name: classificacao_acidente, dtype: float64"
            ]
          },
          "metadata": {},
          "execution_count": 28
        }
      ]
    },
    {
      "cell_type": "markdown",
      "source": [
        "A distribuição retrata a realidade do quadro de vítimas em acidentes de transito, sendo assim, não poderemos tratar esse atributo.\n",
        "\n",
        "\n",
        "---\n",
        "\n"
      ],
      "metadata": {
        "id": "E57GfMitttou"
      }
    },
    {
      "cell_type": "code",
      "source": [
        "# Verificando o conteudo do atributo e a sua distribuição entre eles\n",
        "# dia_semana (Dia da semana da ocorrência)\n",
        "acidentes.dia_semana.value_counts().map('{:,d}'.format) "
      ],
      "metadata": {
        "colab": {
          "base_uri": "https://localhost:8080/"
        },
        "id": "ScXrpfJB4kRX",
        "outputId": "1470df71-0539-4ae1-9c2b-3fc4e3487747"
      },
      "execution_count": 29,
      "outputs": [
        {
          "output_type": "execute_result",
          "data": {
            "text/plain": [
              "domingo          52,821\n",
              "sábado           52,035\n",
              "sexta-feira      48,319\n",
              "segunda-feira    41,728\n",
              "quinta-feira     39,555\n",
              "quarta-feira     38,140\n",
              "terça-feira      37,641\n",
              "Name: dia_semana, dtype: object"
            ]
          },
          "metadata": {},
          "execution_count": 29
        }
      ]
    },
    {
      "cell_type": "markdown",
      "source": [
        "Para esse atributo, iremos na proxima etapa, criar uma nova coluna com o valor númerico referente ao dia da semana, utilizando função weekday.\n",
        ">\n",
        "Assim fica mais facil ordenar em um gráfico a sequencia semana, de segunda a domingo, proporcionando ao usuário um fácil leitura temporal.\n",
        "\n",
        "\n",
        "---\n",
        "\n"
      ],
      "metadata": {
        "id": "5SN4oL1Q5MDW"
      }
    },
    {
      "cell_type": "code",
      "source": [
        "# Verificando o conteudo do atributo e a sua distribuição entre eles\n",
        "# fase_dia (Fase do dia no momento do acidente)\n",
        "acidentes.fase_dia.value_counts().map('{:,d}'.format)"
      ],
      "metadata": {
        "colab": {
          "base_uri": "https://localhost:8080/"
        },
        "id": "89AMIKUe7cI1",
        "outputId": "7583f6b3-0d0a-42ef-c65c-5a1c1cddc1b4"
      },
      "execution_count": 30,
      "outputs": [
        {
          "output_type": "execute_result",
          "data": {
            "text/plain": [
              "Pleno dia      171,203\n",
              "Plena Noite    107,109\n",
              "Anoitecer       17,935\n",
              "Amanhecer       13,992\n",
              "Name: fase_dia, dtype: object"
            ]
          },
          "metadata": {},
          "execution_count": 30
        }
      ]
    },
    {
      "cell_type": "markdown",
      "source": [
        "\n",
        "\n",
        "---\n",
        "\n"
      ],
      "metadata": {
        "id": "Hg518XaT9VDu"
      }
    },
    {
      "cell_type": "code",
      "source": [
        "# Verificando o conteudo do atributo e a sua distribuição entre eles\n",
        "# condicao_metereologica (Condição meteorologica no momento do acidente)\n",
        "acidentes.condicao_metereologica.value_counts().map('{:,d}'.format)"
      ],
      "metadata": {
        "colab": {
          "base_uri": "https://localhost:8080/"
        },
        "id": "vL1AGBIz8cEZ",
        "outputId": "cba29c03-1d7b-4a5c-a754-39a45ee72bdf"
      },
      "execution_count": 31,
      "outputs": [
        {
          "output_type": "execute_result",
          "data": {
            "text/plain": [
              "Céu Claro           183,002\n",
              "Nublado              51,854\n",
              "Chuva                33,789\n",
              "Sol                  24,132\n",
              "Garoa/Chuvisco       10,377\n",
              "Ignorado              3,832\n",
              "Nevoeiro/Neblina      2,644\n",
              "Vento                   595\n",
              "Granizo                  11\n",
              "Neve                      3\n",
              "Name: condicao_metereologica, dtype: object"
            ]
          },
          "metadata": {},
          "execution_count": 31
        }
      ]
    },
    {
      "cell_type": "code",
      "source": [
        "#percentual da distribuição\n",
        "(acidentes.condicao_metereologica.value_counts(normalize=True)*100).round(1)"
      ],
      "metadata": {
        "colab": {
          "base_uri": "https://localhost:8080/"
        },
        "id": "iQSlVEG58yvA",
        "outputId": "7fa1b8c6-07a4-44a6-ce9f-53550970437b"
      },
      "execution_count": 32,
      "outputs": [
        {
          "output_type": "execute_result",
          "data": {
            "text/plain": [
              "Céu Claro           59.0\n",
              "Nublado             16.7\n",
              "Chuva               10.9\n",
              "Sol                  7.8\n",
              "Garoa/Chuvisco       3.3\n",
              "Ignorado             1.2\n",
              "Nevoeiro/Neblina     0.9\n",
              "Vento                0.2\n",
              "Granizo              0.0\n",
              "Neve                 0.0\n",
              "Name: condicao_metereologica, dtype: float64"
            ]
          },
          "metadata": {},
          "execution_count": 32
        }
      ]
    },
    {
      "cell_type": "markdown",
      "source": [
        "Para esse atributo, temos o valor \"Ignorado\". Utilizando o parâmetro normalize=True, verificamos que o percentual dele é baixo, sendo assim não iremos tratá-lo.\n",
        ">\n",
        "Outro valor duvidoso é \"Sol\", como não tem nenhum detalhe no dicionário de dados, presumo que esse valor pode ser somado a \"Céu Claro\".\n",
        ">\n",
        "O valor “vento” tampouco é informativa, dado que esse fenômeno pode ocorrer em qualquer tipo de condição metereológica.\n",
        "\n",
        "\n",
        "---\n",
        "\n"
      ],
      "metadata": {
        "id": "_wJuTBv66vUu"
      }
    },
    {
      "cell_type": "code",
      "source": [
        "# Verificando o conteudo do atributo e a sua distribuição entre eles\n",
        "# estado_fisico (Condição do envolvido conforme a gravidade das lesões)\n",
        "acidentes.estado_fisico.value_counts().map('{:,d}'.format)"
      ],
      "metadata": {
        "colab": {
          "base_uri": "https://localhost:8080/"
        },
        "id": "UY6iL2XP-x2N",
        "outputId": "ec22c55f-35f7-4ab7-9fb2-fee2647ed4fd"
      },
      "execution_count": 33,
      "outputs": [
        {
          "output_type": "execute_result",
          "data": {
            "text/plain": [
              "Ileso            129,570\n",
              "Lesões Leves     114,940\n",
              "Lesões Graves     35,762\n",
              "Não Informado     19,336\n",
              "Óbito             10,631\n",
              "Name: estado_fisico, dtype: object"
            ]
          },
          "metadata": {},
          "execution_count": 33
        }
      ]
    },
    {
      "cell_type": "code",
      "source": [
        "#percentual da distribuição\n",
        "(acidentes.estado_fisico.value_counts(normalize=True)*100).round(1)"
      ],
      "metadata": {
        "colab": {
          "base_uri": "https://localhost:8080/"
        },
        "id": "H86liZ___D_J",
        "outputId": "1b649296-d67f-4fb9-aa2f-ecb75ab149f5"
      },
      "execution_count": 34,
      "outputs": [
        {
          "output_type": "execute_result",
          "data": {
            "text/plain": [
              "Ileso            41.8\n",
              "Lesões Leves     37.0\n",
              "Lesões Graves    11.5\n",
              "Não Informado     6.2\n",
              "Óbito             3.4\n",
              "Name: estado_fisico, dtype: float64"
            ]
          },
          "metadata": {},
          "execution_count": 34
        }
      ]
    },
    {
      "cell_type": "markdown",
      "source": [
        "Em cerca de 6% dos registros, a condição da lesão do envolvido não é informada(==Não Informado), é importante deixar esse valor, para que possa ser apurado uma melhoria na coleta dos dados.\n",
        ">\n",
        "Poderiamos criar um modelo de Machine Learning para classicar esses registros, mas não estaria presente nas analises a falta da coleta dessa informação tão importante.\n",
        ">\n",
        "Segundo a OMS, em casos de acidentes com Lesões Graves, e que a vítima é encaminhada para um hospital, a PRF tem que acompanhar o quadro por 30 dias, e caso haja óbito no hospital, a classificação deve ser alterada no registro da ocorrência.\n",
        "\n",
        "\n",
        "\n",
        "---\n",
        "\n"
      ],
      "metadata": {
        "id": "HzKvc9-G_Ui0"
      }
    },
    {
      "cell_type": "code",
      "source": [
        "# Verificando o conteudo do atributo e a sua distribuição entre eles\n",
        "# sexo (Sexo do envolvido. O valor \"invalido\" indica que não foi possivel coletar a informação.)\n",
        "acidentes.sexo.value_counts().map('{:,d}'.format)"
      ],
      "metadata": {
        "colab": {
          "base_uri": "https://localhost:8080/"
        },
        "id": "h3p1GiGaCBaN",
        "outputId": "24df6899-942b-4e8c-8f68-8dd76ee29a45"
      },
      "execution_count": 35,
      "outputs": [
        {
          "output_type": "execute_result",
          "data": {
            "text/plain": [
              "Masculino        220,749\n",
              "Feminino          68,336\n",
              "Não Informado     19,336\n",
              "Ignorado           1,818\n",
              "Name: sexo, dtype: object"
            ]
          },
          "metadata": {},
          "execution_count": 35
        }
      ]
    },
    {
      "cell_type": "code",
      "source": [
        "#percentual da distribuição\n",
        "(acidentes.sexo.value_counts(normalize=True)*100).round(1)"
      ],
      "metadata": {
        "colab": {
          "base_uri": "https://localhost:8080/"
        },
        "id": "Dilz-J82Ch_J",
        "outputId": "5c81a006-2fb1-4698-fc5d-85e426480cfb"
      },
      "execution_count": 36,
      "outputs": [
        {
          "output_type": "execute_result",
          "data": {
            "text/plain": [
              "Masculino        71.2\n",
              "Feminino         22.0\n",
              "Não Informado     6.2\n",
              "Ignorado          0.6\n",
              "Name: sexo, dtype: float64"
            ]
          },
          "metadata": {},
          "execution_count": 36
        }
      ]
    },
    {
      "cell_type": "markdown",
      "source": [
        "Para esse atributo vamos somar os valores de \"Não Informado\" e \"Ignorado\" em um único valor.\n",
        ">\n",
        "E em seguida, utilizaremos a distribuição de **Bernoulli**, que será melhor explicada na próxima etapa.\n",
        "\n",
        "---\n",
        "\n"
      ],
      "metadata": {
        "id": "73GZZ1VzFLn1"
      }
    },
    {
      "cell_type": "code",
      "source": [
        "# Verificando o conteudo do atributo e a sua distribuição entre eles\n",
        "# tipo_veiculo (Tipo do veículo conforme Art. 96 do Código Naciona de trânsito.)\n",
        "acidentes.tipo_veiculo.value_counts().map('{:,d}'.format)"
      ],
      "metadata": {
        "colab": {
          "base_uri": "https://localhost:8080/"
        },
        "id": "dYOUbdJfWsqa",
        "outputId": "6548bf91-c564-4fee-83a8-4fd03607ac48"
      },
      "execution_count": 37,
      "outputs": [
        {
          "output_type": "execute_result",
          "data": {
            "text/plain": [
              "Automóvel            134,584\n",
              "Motocicleta           61,621\n",
              "Caminhonete           27,422\n",
              "Caminhão-trator       24,936\n",
              "Caminhão              22,688\n",
              "Ônibus                10,647\n",
              "Camioneta              7,748\n",
              "Motoneta               6,994\n",
              "Bicicleta              4,343\n",
              "Utilitário             3,693\n",
              "Micro-ônibus           2,546\n",
              "Outros                 1,332\n",
              "Ciclomotor               901\n",
              "Semireboque              254\n",
              "Carroça-charrete         165\n",
              "Trator de rodas          152\n",
              "Reboque                   83\n",
              "Não Informado             48\n",
              "Triciclo                  39\n",
              "Carro de mão              14\n",
              "Trem-bonde                12\n",
              "Trator misto               9\n",
              "Quadriciclo                4\n",
              "Trator de esteira          2\n",
              "Chassi-plataforma          2\n",
              "Name: tipo_veiculo, dtype: object"
            ]
          },
          "metadata": {},
          "execution_count": 37
        }
      ]
    },
    {
      "cell_type": "markdown",
      "source": [
        "\n",
        "\n",
        "---\n",
        "\n"
      ],
      "metadata": {
        "id": "tckSTjoqX3g3"
      }
    },
    {
      "cell_type": "code",
      "source": [
        "# Verificando o conteudo do atributo e a sua distribuição entre eles\n",
        "# tipo_envolvido (Tipo de envolvido no acidente conforme sua participação no evento.)\n",
        "acidentes.tipo_envolvido.value_counts().map('{:,d}'.format)"
      ],
      "metadata": {
        "colab": {
          "base_uri": "https://localhost:8080/"
        },
        "id": "OEpL8I4UX5M8",
        "outputId": "d22952a2-d7ec-421e-d627-a3206746bf18"
      },
      "execution_count": 38,
      "outputs": [
        {
          "output_type": "execute_result",
          "data": {
            "text/plain": [
              "Condutor         216,048\n",
              "Passageiro        80,873\n",
              "Pedestre           6,792\n",
              "Testemunha         6,441\n",
              "Cavaleiro             83\n",
              "Não Informado          2\n",
              "Name: tipo_envolvido, dtype: object"
            ]
          },
          "metadata": {},
          "execution_count": 38
        }
      ]
    },
    {
      "cell_type": "markdown",
      "source": [
        "\n",
        "\n",
        "---\n",
        "\n"
      ],
      "metadata": {
        "id": "cdI83Fx3Z8w9"
      }
    },
    {
      "cell_type": "code",
      "source": [
        "# Verificando o conteudo do atributo e a sua distribuição entre eles\n",
        "# tipo_pista (Tipo da pista considerando a quantidade de faixas.)\n",
        "acidentes.tipo_pista.value_counts().map('{:,d}'.format)"
      ],
      "metadata": {
        "colab": {
          "base_uri": "https://localhost:8080/"
        },
        "id": "xZcWXQCqZ9tI",
        "outputId": "b137fccf-a6eb-44d5-b170-28ae2e3f0bac"
      },
      "execution_count": 39,
      "outputs": [
        {
          "output_type": "execute_result",
          "data": {
            "text/plain": [
              "Simples     164,286\n",
              "Dupla       121,727\n",
              "Múltipla     24,226\n",
              "Name: tipo_pista, dtype: object"
            ]
          },
          "metadata": {},
          "execution_count": 39
        }
      ]
    },
    {
      "cell_type": "markdown",
      "source": [
        "\n",
        "\n",
        "---\n",
        "\n"
      ],
      "metadata": {
        "id": "RyamLZ46a7GF"
      }
    },
    {
      "cell_type": "code",
      "source": [
        "# Verificando o conteudo do atributo e a sua distribuição entre eles\n",
        "# tracado_via (Tipo de envolvido no acidente conforme sua participação no evento.)\n",
        "acidentes.tracado_via.value_counts().map('{:,d}'.format)"
      ],
      "metadata": {
        "colab": {
          "base_uri": "https://localhost:8080/"
        },
        "id": "Kb7yhNlga8Yt",
        "outputId": "37637926-575e-419f-aab3-faf44b4a502b"
      },
      "execution_count": 40,
      "outputs": [
        {
          "output_type": "execute_result",
          "data": {
            "text/plain": [
              "Reta                     192,411\n",
              "Curva                     43,940\n",
              "Não Informado             36,846\n",
              "Interseção de vias        15,106\n",
              "Desvio Temporário          8,735\n",
              "Rotatória                  5,660\n",
              "Retorno Regulamentado      3,603\n",
              "Viaduto                    1,974\n",
              "Ponte                      1,651\n",
              "Túnel                        313\n",
              "Name: tracado_via, dtype: object"
            ]
          },
          "metadata": {},
          "execution_count": 40
        }
      ]
    },
    {
      "cell_type": "code",
      "source": [
        "#percentual da distribuição\n",
        "(acidentes.tracado_via.value_counts(normalize=True)*100).round(1)"
      ],
      "metadata": {
        "colab": {
          "base_uri": "https://localhost:8080/"
        },
        "id": "7JMIyOWYcBv0",
        "outputId": "cf9f5cc0-79bb-4b69-b7be-caa22eebb117"
      },
      "execution_count": 41,
      "outputs": [
        {
          "output_type": "execute_result",
          "data": {
            "text/plain": [
              "Reta                     62.0\n",
              "Curva                    14.2\n",
              "Não Informado            11.9\n",
              "Interseção de vias        4.9\n",
              "Desvio Temporário         2.8\n",
              "Rotatória                 1.8\n",
              "Retorno Regulamentado     1.2\n",
              "Viaduto                   0.6\n",
              "Ponte                     0.5\n",
              "Túnel                     0.1\n",
              "Name: tracado_via, dtype: float64"
            ]
          },
          "metadata": {},
          "execution_count": 41
        }
      ]
    },
    {
      "cell_type": "markdown",
      "source": [
        "Temos cerca de 12% dos registros como \"Não Informado\".\n",
        "\n",
        "\n",
        "---\n",
        "\n"
      ],
      "metadata": {
        "id": "G6xtJam5cNV2"
      }
    },
    {
      "cell_type": "code",
      "source": [
        "# Verificando o conteudo do atributo e a sua distribuição entre eles\n",
        "# uso_solo (Descrição sobre as características do local do acidente:Urbano=Sim; Rural=Não)\n",
        "acidentes.uso_solo.value_counts().map('{:,d}'.format)"
      ],
      "metadata": {
        "colab": {
          "base_uri": "https://localhost:8080/"
        },
        "id": "D6FsicJHu9M2",
        "outputId": "2724b6a4-f4e9-4f29-ffc4-4ff443ee35bf"
      },
      "execution_count": 42,
      "outputs": [
        {
          "output_type": "execute_result",
          "data": {
            "text/plain": [
              "Não    173,294\n",
              "Sim    136,945\n",
              "Name: uso_solo, dtype: object"
            ]
          },
          "metadata": {},
          "execution_count": 42
        }
      ]
    },
    {
      "cell_type": "markdown",
      "source": [
        "Esse atributo deverá ser eliminado.\n",
        "\n",
        "\n",
        "---\n",
        "\n"
      ],
      "metadata": {
        "id": "kujjcOvawB9z"
      }
    },
    {
      "cell_type": "code",
      "source": [
        "# Verificando o conteudo do atributo e a sua distribuição entre eles\n",
        "# sentido_via (Sentido da via considerando o ponto de colisão:Crescente e decrescente)\n",
        "acidentes.sentido_via.value_counts().map('{:,d}'.format)"
      ],
      "metadata": {
        "colab": {
          "base_uri": "https://localhost:8080/"
        },
        "id": "U7F1SC7PwXAM",
        "outputId": "726bf025-2991-409d-f53f-a15750ef00ea"
      },
      "execution_count": 43,
      "outputs": [
        {
          "output_type": "execute_result",
          "data": {
            "text/plain": [
              "Crescente        165,466\n",
              "Decrescente      144,133\n",
              "Não Informado        640\n",
              "Name: sentido_via, dtype: object"
            ]
          },
          "metadata": {},
          "execution_count": 43
        }
      ]
    },
    {
      "cell_type": "markdown",
      "source": [
        "Esse atributo deverá ser eliminado.\n",
        "\n",
        "\n",
        "---\n"
      ],
      "metadata": {
        "id": "ySBTTgpywkhH"
      }
    },
    {
      "cell_type": "code",
      "source": [
        "# Verificando o conteudo do atributo e a sua distribuição entre eles\n",
        "# causa_acidente (Identificação da causa principal do acidente)\n",
        "acidentes.causa_acidente.value_counts().map('{:,d}'.format)"
      ],
      "metadata": {
        "colab": {
          "base_uri": "https://localhost:8080/"
        },
        "id": "A7B5kG4cwtYo",
        "outputId": "de29223e-a192-4b0b-dac7-a0f4cd0e7722"
      },
      "execution_count": 44,
      "outputs": [
        {
          "output_type": "execute_result",
          "data": {
            "text/plain": [
              "Falta de Atenção à Condução                          112,516\n",
              "Desobediência às normas de trânsito pelo condutor     45,645\n",
              "Velocidade Incompatível                               25,782\n",
              "Ingestão de Álcool                                    23,723\n",
              "Não guardar distância de segurança                    22,779\n",
              "                                                      ...   \n",
              "Condutor usando celular                                    2\n",
              "Demais Fenômenos da natureza                               2\n",
              "Curva acentuada                                            1\n",
              "Acostamento em desnível                                    1\n",
              "Pista em desnível                                          1\n",
              "Name: causa_acidente, Length: 63, dtype: object"
            ]
          },
          "metadata": {},
          "execution_count": 44
        }
      ]
    },
    {
      "cell_type": "markdown",
      "source": [
        "\n",
        "\n",
        "---\n",
        "\n"
      ],
      "metadata": {
        "id": "5wk8yHJoxRjv"
      }
    },
    {
      "cell_type": "code",
      "source": [
        "# Verificando o conteudo do atributo e a sua distribuição entre eles\n",
        "# tipo_acidente (Identificação do tipo de acidente)\n",
        "acidentes.tipo_acidente.value_counts().map('{:,d}'.format)"
      ],
      "metadata": {
        "colab": {
          "base_uri": "https://localhost:8080/"
        },
        "id": "L7XRYdioxSb1",
        "outputId": "2c96baa6-f98c-4c33-eeab-d7293bb21105"
      },
      "execution_count": 45,
      "outputs": [
        {
          "output_type": "execute_result",
          "data": {
            "text/plain": [
              "Colisão traseira                   70,354\n",
              "Colisão transversal                44,743\n",
              "Colisão lateral                    42,876\n",
              "Saída de leito carroçável          38,594\n",
              "Colisão frontal                    29,942\n",
              "Colisão com objeto estático        16,477\n",
              "Tombamento                         15,581\n",
              "Atropelamento de Pedestre          14,941\n",
              "Engavetamento                       9,035\n",
              "Queda de ocupante de veículo        8,937\n",
              "Capotamento                         8,245\n",
              "Atropelamento de Animal             4,391\n",
              "Incêndio                            3,172\n",
              "Colisão com objeto em movimento     1,401\n",
              "Danos eventuais                       817\n",
              "Derramamento de carga                 585\n",
              "Colisão com objeto                     51\n",
              "Colisão lateral sentido oposto         31\n",
              "Colisão lateral mesmo sentido          27\n",
              "Eventos atípicos                       12\n",
              "Name: tipo_acidente, dtype: object"
            ]
          },
          "metadata": {},
          "execution_count": 45
        }
      ]
    },
    {
      "cell_type": "markdown",
      "source": [
        "\n",
        "\n",
        "---\n",
        "\n"
      ],
      "metadata": {
        "id": "DBaGUkfSxfB2"
      }
    },
    {
      "cell_type": "markdown",
      "source": [
        "###**<font color=#FE8202> 3.3. Visualizações Unimodais**"
      ],
      "metadata": {
        "id": "Xj9Cfh-4uCVi"
      }
    },
    {
      "cell_type": "markdown",
      "source": [
        "><font color=#FE8202>BoxPlot"
      ],
      "metadata": {
        "id": "LzO8TRZJ7vZo"
      }
    },
    {
      "cell_type": "markdown",
      "source": [
        "Utilizaremos o gráfico de boxplot para comparar visualmente as distribuições das variáveis NUMÉRICAS agrupada conforme uma variável categórica.\n",
        ">\n",
        "Esse gráfico nos dá informação da assimetria da distribuição, indicação de outliers e da variabilidade dos dados por meio da amplitude. \n",
        ">\n",
        "Consiste em 5 grupos: Mínimo, Primeiro quartil ou 25%, Mediana (segundo quartil) ou 50%, Terceiro quartil ou 75% e Máximo."
      ],
      "metadata": {
        "id": "K01FSzRDwEt6"
      }
    },
    {
      "cell_type": "code",
      "source": [
        "# Boxplot da biblioteca Pandas\n",
        "# Atributo Idade, agrupado por Sexo\n",
        "acidentes.plot.box(column=\"idade\", by='sexo', figsize=(4, 4),rot=15)\n",
        "plt.show()\n"
      ],
      "metadata": {
        "colab": {
          "base_uri": "https://localhost:8080/",
          "height": 0
        },
        "id": "qMcE3el42bD6",
        "outputId": "2641ca2d-4ff0-4011-c6bf-8aa5e514c6ad"
      },
      "execution_count": 46,
      "outputs": [
        {
          "output_type": "display_data",
          "data": {
            "text/plain": [
              "<Figure size 400x400 with 1 Axes>"
            ],
            "image/png": "[encoded data removed]"
          },
          "metadata": {}
        }
      ]
    },
    {
      "cell_type": "code",
      "source": [
        "# Atributo ano fabricação veiculo, por tipo de veículo\n",
        "acidentes.plot.box(column='ano_fabricacao_veiculo', by='tipo_veiculo', figsize=(10, 6), rot=90)\n",
        "plt.show()"
      ],
      "metadata": {
        "colab": {
          "base_uri": "https://localhost:8080/",
          "height": 0
        },
        "id": "W2SdGdIZ3kcf",
        "outputId": "14a882a5-7be1-4226-f4b8-2304d7cfd118"
      },
      "execution_count": 47,
      "outputs": [
        {
          "output_type": "display_data",
          "data": {
            "text/plain": [
              "<Figure size 1000x600 with 1 Axes>"
            ],
            "image/png": "[encoded data removed]"
          },
          "metadata": {}
        }
      ]
    },
    {
      "cell_type": "markdown",
      "source": [
        "Para ambos os gráficos, decidimos agrupor por outra váriável que faça sentido, para melhor a apresentação do Boxplot.\n",
        ">\n",
        "O atributo idade nos mostra a presença de outliers, como já visto anteriormente. Para esse atributo, seria interessante, plotar o gráfico de BoxPlot depois de tratar as idades.\n",
        ">\n",
        "O atributo ano_fabricacao_veiculo, é possivel verificar o valor minímo de 1900, o que seria uma inconsistencia, e os demais valores estão coerentes.\n",
        "\n",
        "\n",
        "---\n",
        "\n"
      ],
      "metadata": {
        "id": "WmC64jeb5j0F"
      }
    },
    {
      "cell_type": "markdown",
      "source": [
        "Outra maneira de verificar a distribuição dos atributos é a utilização de um histograma."
      ],
      "metadata": {
        "id": "jziN81Tm8bsn"
      }
    },
    {
      "cell_type": "code",
      "source": [
        "# Histograma\n",
        "acidentes.hist(figsize = (15,10))\n",
        "plt.show()"
      ],
      "metadata": {
        "colab": {
          "base_uri": "https://localhost:8080/",
          "height": 0
        },
        "id": "5cxw9Z3DXNeB",
        "outputId": "c708ed20-5b75-4472-cb8d-840b3ae4cbba"
      },
      "execution_count": 48,
      "outputs": [
        {
          "output_type": "display_data",
          "data": {
            "text/plain": [
              "<Figure size 1500x1000 with 12 Axes>"
            ],
            "image/png": "[encoded data removed]"
          },
          "metadata": {}
        }
      ]
    },
    {
      "cell_type": "markdown",
      "source": [
        "#**<font color=#FE8202> 4. Pré-Processamento de dados**"
      ],
      "metadata": {
        "id": "JmnU4-cNdb-L"
      }
    },
    {
      "cell_type": "markdown",
      "source": [
        "Após coletar e analisar os dados na etapa anterior, agora é o momento\n",
        "de limpar, transformar e apresentar melhor os dados.\n",
        ">\n",
        "Assim poderemos obter, na próxima etapa, os melhores resultados possíveis nos algoritmos de\n",
        "Machine Learning, ou simplesmente apresentar dados mais confiáveis para os clientes em soluções de\n",
        "business intelligence.\n",
        "\n",
        "\n",
        "---\n",
        "\n"
      ],
      "metadata": {
        "id": "5stImFN7jf26"
      }
    },
    {
      "cell_type": "markdown",
      "source": [
        "Antes de começar, iremos fazer uma copia de segurança do dataframe original."
      ],
      "metadata": {
        "id": "Kk66FTN47tQK"
      }
    },
    {
      "cell_type": "code",
      "source": [
        "#Cópia de segurança\n",
        "acidentes_ori = acidentes.copy()"
      ],
      "metadata": {
        "id": "uXCcMgsx73zM"
      },
      "execution_count": 49,
      "outputs": []
    },
    {
      "cell_type": "code",
      "source": [
        "acidentes = acidentes_ori.copy()"
      ],
      "metadata": {
        "id": "ifwzcZhZHGHQ"
      },
      "execution_count": 184,
      "outputs": []
    },
    {
      "cell_type": "markdown",
      "source": [
        "###**<font color=#FE8202> 4.1. Limpeza**"
      ],
      "metadata": {
        "id": "zMzHx9eEy_1b"
      }
    },
    {
      "cell_type": "markdown",
      "source": [
        "####**<font color=#FE8202> 4.1.1 Redundâncias**"
      ],
      "metadata": {
        "id": "7wzCEJ8UzIFr"
      }
    },
    {
      "cell_type": "markdown",
      "source": [
        "Depois da análise de dados inicial, podemos eliminar colunas que não serão necessárias."
      ],
      "metadata": {
        "id": "KOlka-kGzgCd"
      }
    },
    {
      "cell_type": "code",
      "source": [
        "#Excluindo as colunas\n",
        "acidentes.drop([ 'pesid','sentido_via','uso_solo',\n",
        "\t\t 'id_veiculo','marca','ano_fabricacao_veiculo',\n",
        "\t\t 'regional','delegacia','uop'],\n",
        "\t\taxis=1, inplace = True)"
      ],
      "metadata": {
        "id": "OhG40I87zOmo"
      },
      "execution_count": 50,
      "outputs": []
    },
    {
      "cell_type": "markdown",
      "source": [
        "####**<font color=#FE8202> 4.1.2 Outliers**"
      ],
      "metadata": {
        "id": "d54YwAZ49e2w"
      }
    },
    {
      "cell_type": "markdown",
      "source": [
        "Vamos tratar o atributo IDADE, que apresentou outliers/inconsistencias, além de Missings.\n",
        ">\n",
        "Para esse atributo, vamos aproveitar esse momento de transformação para tratamento de missings. \n",
        ">\n",
        "Relembrando as idades exibidas na etapa 3.2:"
      ],
      "metadata": {
        "id": "_nyuJdbd9uSR"
      }
    },
    {
      "cell_type": "code",
      "source": [
        "#Dataframe criado na etapa 3.2 com as idades >100\n",
        "verifica_idade.head(10)"
      ],
      "metadata": {
        "id": "T08DaHS49pZy",
        "colab": {
          "base_uri": "https://localhost:8080/",
          "height": 0
        },
        "outputId": "039421c6-20e7-4215-894f-16b30b84664e"
      },
      "execution_count": 51,
      "outputs": [
        {
          "output_type": "execute_result",
          "data": {
            "text/plain": [
              "   idade  id\n",
              "0  101.0   1\n",
              "1  103.0   1\n",
              "2  106.0   2\n",
              "3  110.0   1\n",
              "4  118.0   3\n",
              "5  119.0  41\n",
              "6  120.0  32\n",
              "7  131.0   1\n",
              "8  133.0   1\n",
              "9  135.0   3"
            ],
            "text/html": [
              "\n",
              "  <div id=\"df-4d0dd434-6331-4a72-95f2-f40a9de612ba\">\n",
              "    <div class=\"colab-df-container\">\n",
              "      <div>\n",
              "<style scoped>\n",
              "    .dataframe tbody tr th:only-of-type {\n",
              "        vertical-align: middle;\n",
              "    }\n",
              "\n",
              "    .dataframe tbody tr th {\n",
              "        vertical-align: top;\n",
              "    }\n",
              "\n",
              "    .dataframe thead th {\n",
              "        text-align: right;\n",
              "    }\n",
              "</style>\n",
              "<table border=\"1\" class=\"dataframe\">\n",
              "  <thead>\n",
              "    <tr style=\"text-align: right;\">\n",
              "      <th></th>\n",
              "      <th>idade</th>\n",
              "      <th>id</th>\n",
              "    </tr>\n",
              "  </thead>\n",
              "  <tbody>\n",
              "    <tr>\n",
              "      <th>0</th>\n",
              "      <td>101.0</td>\n",
              "      <td>1</td>\n",
              "    </tr>\n",
              "    <tr>\n",
              "      <th>1</th>\n",
              "      <td>103.0</td>\n",
              "      <td>1</td>\n",
              "    </tr>\n",
              "    <tr>\n",
              "      <th>2</th>\n",
              "      <td>106.0</td>\n",
              "      <td>2</td>\n",
              "    </tr>\n",
              "    <tr>\n",
              "      <th>3</th>\n",
              "      <td>110.0</td>\n",
              "      <td>1</td>\n",
              "    </tr>\n",
              "    <tr>\n",
              "      <th>4</th>\n",
              "      <td>118.0</td>\n",
              "      <td>3</td>\n",
              "    </tr>\n",
              "    <tr>\n",
              "      <th>5</th>\n",
              "      <td>119.0</td>\n",
              "      <td>41</td>\n",
              "    </tr>\n",
              "    <tr>\n",
              "      <th>6</th>\n",
              "      <td>120.0</td>\n",
              "      <td>32</td>\n",
              "    </tr>\n",
              "    <tr>\n",
              "      <th>7</th>\n",
              "      <td>131.0</td>\n",
              "      <td>1</td>\n",
              "    </tr>\n",
              "    <tr>\n",
              "      <th>8</th>\n",
              "      <td>133.0</td>\n",
              "      <td>1</td>\n",
              "    </tr>\n",
              "    <tr>\n",
              "      <th>9</th>\n",
              "      <td>135.0</td>\n",
              "      <td>3</td>\n",
              "    </tr>\n",
              "  </tbody>\n",
              "</table>\n",
              "</div>\n",
              "      <button class=\"colab-df-convert\" onclick=\"convertToInteractive('df-4d0dd434-6331-4a72-95f2-f40a9de612ba')\"\n",
              "              title=\"Convert this dataframe to an interactive table.\"\n",
              "              style=\"display:none;\">\n",
              "        \n",
              "  <svg xmlns=\"http://www.w3.org/2000/svg\" height=\"24px\"viewBox=\"0 0 24 24\"\n",
              "       width=\"24px\">\n",
              "    <path d=\"M0 0h24v24H0V0z\" fill=\"none\"/>\n",
              "    <path d=\"M18.56 5.44l.94 2.06.94-2.06 2.06-.94-2.06-.94-.94-2.06-.94 2.06-2.06.94zm-11 1L8.5 8.5l.94-2.06 2.06-.94-2.06-.94L8.5 2.5l-.94 2.06-2.06.94zm10 10l.94 2.06.94-2.06 2.06-.94-2.06-.94-.94-2.06-.94 2.06-2.06.94z\"/><path d=\"M17.41 7.96l-1.37-1.37c-.4-.4-.92-.59-1.43-.59-.52 0-1.04.2-1.43.59L10.3 9.45l-7.72 7.72c-.78.78-.78 2.05 0 2.83L4 21.41c.39.39.9.59 1.41.59.51 0 1.02-.2 1.41-.59l7.78-7.78 2.81-2.81c.8-.78.8-2.07 0-2.86zM5.41 20L4 18.59l7.72-7.72 1.47 1.35L5.41 20z\"/>\n",
              "  </svg>\n",
              "      </button>\n",
              "      \n",
              "  <style>\n",
              "    .colab-df-container {\n",
              "      display:flex;\n",
              "      flex-wrap:wrap;\n",
              "      gap: 12px;\n",
              "    }\n",
              "\n",
              "    .colab-df-convert {\n",
              "      background-color: #E8F0FE;\n",
              "      border: none;\n",
              "      border-radius: 50%;\n",
              "      cursor: pointer;\n",
              "      display: none;\n",
              "      fill: #1967D2;\n",
              "      height: 32px;\n",
              "      padding: 0 0 0 0;\n",
              "      width: 32px;\n",
              "    }\n",
              "\n",
              "    .colab-df-convert:hover {\n",
              "      background-color: #E2EBFA;\n",
              "      box-shadow: 0px 1px 2px rgba(60, 64, 67, 0.3), 0px 1px 3px 1px rgba(60, 64, 67, 0.15);\n",
              "      fill: #174EA6;\n",
              "    }\n",
              "\n",
              "    [theme=dark] .colab-df-convert {\n",
              "      background-color: #3B4455;\n",
              "      fill: #D2E3FC;\n",
              "    }\n",
              "\n",
              "    [theme=dark] .colab-df-convert:hover {\n",
              "      background-color: #434B5C;\n",
              "      box-shadow: 0px 1px 3px 1px rgba(0, 0, 0, 0.15);\n",
              "      filter: drop-shadow(0px 1px 2px rgba(0, 0, 0, 0.3));\n",
              "      fill: #FFFFFF;\n",
              "    }\n",
              "  </style>\n",
              "\n",
              "      <script>\n",
              "        const buttonEl =\n",
              "          document.querySelector('#df-4d0dd434-6331-4a72-95f2-f40a9de612ba button.colab-df-convert');\n",
              "        buttonEl.style.display =\n",
              "          google.colab.kernel.accessAllowed ? 'block' : 'none';\n",
              "\n",
              "        async function convertToInteractive(key) {\n",
              "          const element = document.querySelector('#df-4d0dd434-6331-4a72-95f2-f40a9de612ba');\n",
              "          const dataTable =\n",
              "            await google.colab.kernel.invokeFunction('convertToInteractive',\n",
              "                                                     [key], {});\n",
              "          if (!dataTable) return;\n",
              "\n",
              "          const docLinkHtml = 'Like what you see? Visit the ' +\n",
              "            '<a target=\"_blank\" href=https://colab.research.google.com/notebooks/data_table.ipynb>data table notebook</a>'\n",
              "            + ' to learn more about interactive tables.';\n",
              "          element.innerHTML = '';\n",
              "          dataTable['output_type'] = 'display_data';\n",
              "          await google.colab.output.renderOutput(dataTable, element);\n",
              "          const docLink = document.createElement('div');\n",
              "          docLink.innerHTML = docLinkHtml;\n",
              "          element.appendChild(docLink);\n",
              "        }\n",
              "      </script>\n",
              "    </div>\n",
              "  </div>\n",
              "  "
            ]
          },
          "metadata": {},
          "execution_count": 51
        }
      ]
    },
    {
      "cell_type": "markdown",
      "source": [
        "Vamos assumir que até 110 anos, pela quantidade de vezes que aparecem, sejam corretos.\n",
        "> \n",
        "Então para as idades > 110, iremos considerar os dois numeros a direita do atributo.\n",
        ">\n",
        "Por exemplo: 1020, vamos considerar 20; 303, vamos considerar 03, que convertido para integer, será 3.\n"
      ],
      "metadata": {
        "id": "xKpDMwxu94WB"
      }
    },
    {
      "cell_type": "markdown",
      "source": [
        "**Metodologia:**\n",
        ">\n",
        "1. Criar um dataframe com as idades maiores que 110.\n",
        ">\n",
        "2. Tratamentos: Converter a idade de float para integer, assim eliminamos a casa decimal, depois convertemos para String, e utilizaremos o método SLICE (atributo.str.slice(start=None, stop=None, step=None)), onde selecionaremos as 2 últimas posições.\n",
        ">\n",
        "3. No dataframe principal(acidentes), excluir as idades inconsistentes.\n",
        ">\n",
        "4. Tratar os missings com interpolate das idades consistentes. E finalizar convertendo para integer.\n",
        ">\n",
        "5. Concatenar o dataframe principal com o dataframe com as idades tratadas"
      ],
      "metadata": {
        "id": "1k5Tr_Jo-6UW"
      }
    },
    {
      "cell_type": "code",
      "source": [
        "# 1. criando um dataframe com as idades inconsistentes\n",
        "idade_out = acidentes[acidentes['idade']>110]"
      ],
      "metadata": {
        "id": "e7-rfVeQSMJK"
      },
      "execution_count": 52,
      "outputs": []
    },
    {
      "cell_type": "code",
      "source": [
        "# 2. Convertendo e fazendo o Slice\n",
        "#Passos 1) Convert de float para int 2) Convert de int para str 3) slice na string para pegar os 2 ultimos 4) converte str para int\n",
        "idade_out['idade'] = ((((idade_out['idade']).astype(int)).astype(str)).str.slice(start=-2)).astype(int)"
      ],
      "metadata": {
        "id": "MBQU12y_PJM9"
      },
      "execution_count": 53,
      "outputs": []
    },
    {
      "cell_type": "markdown",
      "source": [
        "Pronto, já temos as idades inconsistentes tratadas em um dataframe separado. (idade_out)\n",
        ">\n",
        "Agora, iremos excluir essas idades inconsistentes do dataframe acidentes."
      ],
      "metadata": {
        "id": "9hr0v1lJja4R"
      }
    },
    {
      "cell_type": "code",
      "source": [
        "# 3. Excluir idades inconsistentes\n",
        "# pegar os indexes que atendam a condição\n",
        "index_idade = acidentes[ acidentes['idade'] > 110 ].index\n",
        "\n",
        "# apagando indexes das linhas no dataframe acidentes\n",
        "acidentes.drop(index_idade, inplace = True)"
      ],
      "metadata": {
        "id": "SzR4LSw-l8Yg"
      },
      "execution_count": 54,
      "outputs": []
    },
    {
      "cell_type": "code",
      "source": [
        "# 4. Tratando missing utilizando o método Interpolate\n",
        "# A interpolação é uma maneira de estimar os missings entre os dois valores conhecidos dos dados\n",
        "acidentes['idade'].interpolate(inplace=True)"
      ],
      "metadata": {
        "id": "pDlaUMrUJeeJ"
      },
      "execution_count": 55,
      "outputs": []
    },
    {
      "cell_type": "code",
      "source": [
        "# 4. função floor() arredondadno para o interio menor mais proximo e depois converte para INT\n",
        "acidentes['idade'] = ((acidentes['idade']).apply(np.floor)).apply(int)"
      ],
      "metadata": {
        "id": "P_yojGzI2Ib4"
      },
      "execution_count": 56,
      "outputs": []
    },
    {
      "cell_type": "code",
      "source": [
        "# 5. Concatenando o dataframe tratado com o dataframe principal\n",
        "acidentes = pd.concat([acidentes, idade_out], sort=False, ignore_index=True)"
      ],
      "metadata": {
        "id": "aPYYhS6em6h6"
      },
      "execution_count": 57,
      "outputs": []
    },
    {
      "cell_type": "markdown",
      "source": [
        "Vamos comparar o boxplot do atributo sem tratamento, com ele tratado."
      ],
      "metadata": {
        "id": "Y9Th_WNiBg2d"
      }
    },
    {
      "cell_type": "code",
      "source": [
        "#Tratado!\n",
        "acidentes.plot.box(column=\"idade\", by='sexo', figsize=(3, 3), rot=15)\n",
        "plt.show()"
      ],
      "metadata": {
        "colab": {
          "base_uri": "https://localhost:8080/",
          "height": 0
        },
        "id": "LqUvEWqH-9hW",
        "outputId": "b814a985-0ae6-4c88-ec7c-02d1ff313df7"
      },
      "execution_count": 58,
      "outputs": [
        {
          "output_type": "display_data",
          "data": {
            "text/plain": [
              "<Figure size 300x300 with 1 Axes>"
            ],
            "image/png": "[encoded data removed]"
          },
          "metadata": {}
        }
      ]
    },
    {
      "cell_type": "markdown",
      "source": [
        "Sem tratamento"
      ],
      "metadata": {
        "id": "Xbte5kugDScX"
      }
    },
    {
      "cell_type": "markdown",
      "source": [
        "![idade_boxplot_inicial.png](data:image/png;base64,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)"
      ],
      "metadata": {
        "id": "taiyMT47DGbR"
      }
    },
    {
      "cell_type": "markdown",
      "source": [
        "####**<font color=#FE8202> 4.1.3 Tratamento de Missings**"
      ],
      "metadata": {
        "id": "7islJZ19GSBz"
      }
    },
    {
      "cell_type": "markdown",
      "source": [
        "Missings - São os valores faltantes, e será necessário identifica-los e, em seguida, tratá-los, com um valor adequado."
      ],
      "metadata": {
        "id": "Mo2bDEbEGX96"
      }
    },
    {
      "cell_type": "code",
      "source": [
        "#Verificando o percentual de registros nulos\n",
        "(acidentes.isnull().sum()/acidentes.shape[0]*100).round(2)"
      ],
      "metadata": {
        "colab": {
          "base_uri": "https://localhost:8080/"
        },
        "id": "lvT4a2dgGhSd",
        "outputId": "715a18cb-a18e-4ce5-8bd3-2063d38beb23"
      },
      "execution_count": 59,
      "outputs": [
        {
          "output_type": "execute_result",
          "data": {
            "text/plain": [
              "id                        0.00\n",
              "data_inversa              0.00\n",
              "dia_semana                0.00\n",
              "horario                   0.00\n",
              "uf                        0.00\n",
              "br                        0.21\n",
              "km                        0.21\n",
              "municipio                 0.00\n",
              "causa_acidente            0.00\n",
              "tipo_acidente             0.01\n",
              "classificacao_acidente    0.00\n",
              "fase_dia                  0.00\n",
              "condicao_metereologica    0.00\n",
              "tipo_pista                0.00\n",
              "tracado_via               0.00\n",
              "tipo_veiculo              0.00\n",
              "tipo_envolvido            0.00\n",
              "estado_fisico             0.00\n",
              "idade                     0.00\n",
              "sexo                      0.00\n",
              "ilesos                    0.00\n",
              "feridos_leves             0.00\n",
              "feridos_graves            0.00\n",
              "mortos                    0.00\n",
              "latitude                  0.00\n",
              "longitude                 0.00\n",
              "dtype: float64"
            ]
          },
          "metadata": {},
          "execution_count": 59
        }
      ]
    },
    {
      "cell_type": "markdown",
      "source": [
        "Os atributos nulos, somados, representam 0,45% do dataset.\n",
        ">\n",
        "É praticamente impercepitível na visualização matricial da nulidade do dataset."
      ],
      "metadata": {
        "id": "-TZaURCDIHDd"
      }
    },
    {
      "cell_type": "code",
      "source": [
        "ms.matrix(acidentes)"
      ],
      "metadata": {
        "colab": {
          "base_uri": "https://localhost:8080/",
          "height": 0
        },
        "id": "7SlYc4IuKJ9Z",
        "outputId": "a3e7c482-6146-4d91-85e7-0628a6fbd39e"
      },
      "execution_count": 60,
      "outputs": [
        {
          "output_type": "execute_result",
          "data": {
            "text/plain": [
              "<Axes: >"
            ]
          },
          "metadata": {},
          "execution_count": 60
        },
        {
          "output_type": "display_data",
          "data": {
            "text/plain": [
              "<Figure size 2500x1000 with 2 Axes>"
            ],
            "image/png": "[encoded data removed]"
          },
          "metadata": {}
        }
      ]
    },
    {
      "cell_type": "markdown",
      "source": [
        "Mas, mesmo assim, não iremos excluir esses registros, para os atributos KM e BR. Iremos substituir por zero.\n",
        ">\n",
        "E o atributo tipo_acidente iremos substituir por 'Não Informado'."
      ],
      "metadata": {
        "id": "yb6K4csXKyjf"
      }
    },
    {
      "cell_type": "code",
      "source": [
        "# substituindo os NaN de KM e BR por 0\n",
        "acidentes['km'].fillna(0, inplace=True)\n",
        "acidentes['br'].fillna(0, inplace=True)\n",
        "\n",
        "# substituindo os NaN de tipo_acidente por 'Não Informado'\n",
        "acidentes['tipo_acidente'].fillna('Não Informado', inplace=True)"
      ],
      "metadata": {
        "id": "zxcZltTKKz2w"
      },
      "execution_count": 61,
      "outputs": []
    },
    {
      "cell_type": "code",
      "source": [
        "# Agora que o atributo BR não tem missings, iremos converter de float para int\n",
        "acidentes['br'] = acidentes['br'].astype(int)"
      ],
      "metadata": {
        "id": "B5CJ82uwCVyZ"
      },
      "execution_count": 62,
      "outputs": []
    },
    {
      "cell_type": "markdown",
      "source": [
        "Pronto, sem missings."
      ],
      "metadata": {
        "id": "VfajpPJ0LlEk"
      }
    },
    {
      "cell_type": "code",
      "source": [
        "acidentes.isnull().sum()"
      ],
      "metadata": {
        "colab": {
          "base_uri": "https://localhost:8080/"
        },
        "id": "6-_-TANo9p3y",
        "outputId": "47073cb0-c889-40e2-ce9b-27ecf7e5ca77"
      },
      "execution_count": 63,
      "outputs": [
        {
          "output_type": "execute_result",
          "data": {
            "text/plain": [
              "id                        0\n",
              "data_inversa              0\n",
              "dia_semana                0\n",
              "horario                   0\n",
              "uf                        0\n",
              "br                        0\n",
              "km                        0\n",
              "municipio                 0\n",
              "causa_acidente            0\n",
              "tipo_acidente             0\n",
              "classificacao_acidente    0\n",
              "fase_dia                  0\n",
              "condicao_metereologica    0\n",
              "tipo_pista                0\n",
              "tracado_via               0\n",
              "tipo_veiculo              0\n",
              "tipo_envolvido            0\n",
              "estado_fisico             0\n",
              "idade                     0\n",
              "sexo                      0\n",
              "ilesos                    0\n",
              "feridos_leves             0\n",
              "feridos_graves            0\n",
              "mortos                    0\n",
              "latitude                  0\n",
              "longitude                 0\n",
              "dtype: int64"
            ]
          },
          "metadata": {},
          "execution_count": 63
        }
      ]
    },
    {
      "cell_type": "markdown",
      "source": [
        "####**<font color=#FE8202> 4.1.4 Outros**"
      ],
      "metadata": {
        "id": "nKHIby5ftpvx"
      }
    },
    {
      "cell_type": "markdown",
      "source": [
        "Agora vou tratar o atributo sexo, pois foi verificado os valores de \"Não Informado\" e \"Ignorado\".\n",
        ">\n",
        "Vamos utilizar a distribuição de Bernoulli, nome dado em homenagem ao cientista suíço Jakob Bernoulli.\n",
        ">\n",
        "É a distribuição discreta de espaço amostral {0, 1}, que tem valor 1 com a probabilidade de sucesso p e valor 0 com a probabilidade de falha."
      ],
      "metadata": {
        "id": "s7WdWgLpt21b"
      }
    },
    {
      "cell_type": "code",
      "source": [
        "# Verificando o percentual da distribuição\n",
        "acidentes.sexo.value_counts(normalize=True) "
      ],
      "metadata": {
        "colab": {
          "base_uri": "https://localhost:8080/"
        },
        "id": "N2o4P7Q4wr57",
        "outputId": "ea57725f-7fb1-414b-a9b8-b4311d812a09"
      },
      "execution_count": 65,
      "outputs": [
        {
          "output_type": "execute_result",
          "data": {
            "text/plain": [
              "Masculino        0.711545\n",
              "Feminino         0.220269\n",
              "Não Informado    0.062326\n",
              "Ignorado         0.005860\n",
              "Name: sexo, dtype: float64"
            ]
          },
          "metadata": {},
          "execution_count": 65
        }
      ]
    },
    {
      "cell_type": "markdown",
      "source": [
        "Como temos cerca de 70% de vitimas do sexo Masculino nos valores conhecidos, iremos utilizar o parâmetro de sucesso P = 0.7."
      ],
      "metadata": {
        "id": "EV9AmPE2J5WT"
      }
    },
    {
      "cell_type": "code",
      "source": [
        "#Vamos criar o atributo \"sexo_tratado\"\n",
        "acidentes['sexo_tratado'] = acidentes['sexo']"
      ],
      "metadata": {
        "id": "4JKEWUObxqe8"
      },
      "execution_count": 69,
      "outputs": []
    },
    {
      "cell_type": "code",
      "source": [
        "#Para percorrer cada registro do dataframe, criamos o laço de repetição FOR\n",
        "#Dentro desse laço, uma condição de IF, para testar o atributo.\n",
        "#Caso seja Ignorado ou Não Informado, aplicar Bernoulli, se não, preenche com o sexo do proprio registro\n",
        "\n",
        "for i in range(len(acidentes)):\n",
        "  if ((acidentes['sexo'][i] == 'Ignorado') | (acidentes['sexo'][i] == 'Não Informado')) :\n",
        "    acidentes['sexo_tratado'][i] = (bernoulli.rvs(size=1,p=0.7)).astype(int) \n",
        "  else:\n",
        "    acidentes['sexo_tratado'][i] = acidentes['sexo'][i]"
      ],
      "metadata": {
        "id": "8-xIfw5FyFHF"
      },
      "execution_count": 70,
      "outputs": []
    },
    {
      "cell_type": "markdown",
      "source": [
        "Por ser uma distribuição binária, seu resultado é 1 ou 0, sendo assim, devemos substituir 1 por Masculino e 0 para Feminino."
      ],
      "metadata": {
        "id": "iAA1GqBTLIUG"
      }
    },
    {
      "cell_type": "code",
      "source": [
        "acidentes.loc[acidentes.sexo_tratado==1,'sexo_tratado']='Masculino'\n",
        "acidentes.loc[acidentes.sexo_tratado==0,'sexo_tratado']='Feminino'"
      ],
      "metadata": {
        "id": "jt8eFLE_LvkZ"
      },
      "execution_count": 74,
      "outputs": []
    },
    {
      "cell_type": "code",
      "source": [
        "acidentes.sexo_tratado.value_counts().map('{:,d}'.format)"
      ],
      "metadata": {
        "colab": {
          "base_uri": "https://localhost:8080/"
        },
        "id": "qUi3hPPazCPb",
        "outputId": "65a92ffd-c967-48a8-9913-05c61ad18ab2"
      },
      "execution_count": 75,
      "outputs": [
        {
          "output_type": "execute_result",
          "data": {
            "text/plain": [
              "Masculino    235,495\n",
              "Feminino      74,744\n",
              "Name: sexo_tratado, dtype: object"
            ]
          },
          "metadata": {},
          "execution_count": 75
        }
      ]
    },
    {
      "cell_type": "code",
      "source": [
        "# Verificando o percentual da distribuição\n",
        "acidentes.sexo_tratado.value_counts(normalize=True) "
      ],
      "metadata": {
        "colab": {
          "base_uri": "https://localhost:8080/"
        },
        "id": "DGaF3BYLL9to",
        "outputId": "88b1be59-e720-4b17-efde-950c5490151e"
      },
      "execution_count": 76,
      "outputs": [
        {
          "output_type": "execute_result",
          "data": {
            "text/plain": [
              "Masculino    0.759076\n",
              "Feminino     0.240924\n",
              "Name: sexo_tratado, dtype: float64"
            ]
          },
          "metadata": {},
          "execution_count": 76
        }
      ]
    },
    {
      "cell_type": "code",
      "source": [
        "#Excluindo a redundância do atributo sexo, ficando apenas com o sexo_tratado\n",
        "acidentes.drop(['sexo'],\taxis=1, inplace = True)"
      ],
      "metadata": {
        "id": "gN-5CyNcMQGI"
      },
      "execution_count": 77,
      "outputs": []
    },
    {
      "cell_type": "markdown",
      "source": [
        "###**<font color=#FE8202> 4.2 Criação de recursos**"
      ],
      "metadata": {
        "id": "q6b_ustgHpNn"
      }
    },
    {
      "cell_type": "markdown",
      "source": [
        "Também conhecida como ***feature engineering***, a criação de recursos consiste em criar, a partir dos atributos originais, um conjunto de atributos que capture informações importantes."
      ],
      "metadata": {
        "id": "4uKBshF4Hv_g"
      }
    },
    {
      "cell_type": "markdown",
      "source": [
        "####**<font color=#FE8202> 4.2.1 Enriquecimento**"
      ],
      "metadata": {
        "id": "xOdD5Zt2Sth-"
      }
    },
    {
      "cell_type": "markdown",
      "source": [
        "Iremos enriquecer o nosso dataset, adicionando a informação das regiões do Brasil, que são os agrupamentos das unidades da federação em regiões com o propósito de ajudar interpretações estatísticas.\n",
        ">\n",
        "Na etapda de carga de dados criamos o dataset estados_br, e agora iremos fazer um \"merge\" com o dataset de acidentes para enriquecimento.\n",
        "\n"
      ],
      "metadata": {
        "id": "-caCE7-kTA8q"
      }
    },
    {
      "cell_type": "code",
      "source": [
        "#Merge dos dataframes. Obs: Por default, a junção é INNER JOIN.\n",
        "acidentes = pd.merge(acidentes, estados_br, left_on=['uf'], right_on=['uf'])"
      ],
      "metadata": {
        "id": "QXOTa36iUHBB"
      },
      "execution_count": null,
      "outputs": []
    },
    {
      "cell_type": "code",
      "source": [
        "# distribuição\n",
        "acidentes.groupby('regiao').size().sort_values(ascending=False)"
      ],
      "metadata": {
        "colab": {
          "base_uri": "https://localhost:8080/"
        },
        "id": "XQtmfVMuWadL",
        "outputId": "877c940f-d254-48b5-f838-2075eaefddf9"
      },
      "execution_count": null,
      "outputs": [
        {
          "output_type": "execute_result",
          "data": {
            "text/plain": [
              "regiao\n",
              "Sudeste         93604\n",
              "Sul             91680\n",
              "Nordeste        67971\n",
              "Centro-Oeste    38313\n",
              "Norte           18671\n",
              "dtype: int64"
            ]
          },
          "metadata": {},
          "execution_count": 67
        }
      ]
    },
    {
      "cell_type": "markdown",
      "source": [
        "####**<font color=#FE8202> 4.2.2 Construção de recursos**"
      ],
      "metadata": {
        "id": "71IuPBp3Wsjc"
      }
    },
    {
      "cell_type": "markdown",
      "source": [
        "> Data e tempo"
      ],
      "metadata": {
        "id": "1o4oAyYGfmNX"
      }
    },
    {
      "cell_type": "markdown",
      "source": [
        "A partir do atributo data_inversa e horario, iremos construir atributos derivados dessa junção, que irá facilitar a visualização dos dados. São eles:\n",
        ">\n",
        "ano = ano do acidente\n",
        ">\n",
        "mes = mês do acidente\n",
        ">\n",
        "hora = extrai \"Hora\" do horario completo HH:MM:SS\n",
        ">\n",
        "ano_mes = ano e mês do acidente\n",
        ">\n",
        "semana = valor inteiro que representa o dia da semana"
      ],
      "metadata": {
        "id": "ofuoI1_mWzqK"
      }
    },
    {
      "cell_type": "code",
      "source": [
        "#criando o atributo data_hora, concatenando data_inversa com horario\n",
        "acidentes['data_hora'] = acidentes['data_inversa'].map(str) + ' ' + acidentes['horario']\n",
        "\n",
        "#convertendo para datetime\n",
        "acidentes['data_hora'] = pd.to_datetime(acidentes['data_hora'])\n",
        "\n",
        "#Extraindo ano, mes, hora, ano_mes e semana\n",
        "acidentes['ano'] = acidentes['data_hora'].dt.year\n",
        "acidentes['mes'] = acidentes['data_hora'].dt.month\n",
        "acidentes['hora'] = acidentes['data_hora'].dt.hour\n",
        "acidentes['ano_mes'] = acidentes['data_hora'].dt.strftime('%Y-%m')\n",
        "acidentes['semana'] = acidentes['data_hora'].dt.weekday "
      ],
      "metadata": {
        "id": "DH3bVV-VQY4_"
      },
      "execution_count": null,
      "outputs": []
    },
    {
      "cell_type": "code",
      "source": [
        "#excluir as colunas que não iremos mais utilizar, evitando a redendância de informação\n",
        "acidentes.drop([ 'horario','dia_semana','data_hora'],\taxis=1, inplace = True)"
      ],
      "metadata": {
        "id": "BbkbTGmDZdT1"
      },
      "execution_count": null,
      "outputs": []
    },
    {
      "cell_type": "code",
      "source": [
        "#Verificando os recursos criados\n",
        "acidentes.groupby([\"ano\",\"mes\",\"ano_mes\",\"hora\",\"semana\"])['id'].count().reset_index()"
      ],
      "metadata": {
        "colab": {
          "base_uri": "https://localhost:8080/",
          "height": 424
        },
        "id": "lDS_auWTZ14T",
        "outputId": "6bcfba3d-5654-41b5-ecb6-fb9fce4c2957"
      },
      "execution_count": 72,
      "outputs": [
        {
          "output_type": "execute_result",
          "data": {
            "text/plain": [
              "       ano  mes  ano_mes  hora  semana  id\n",
              "0     2019    1  2019-01     0       0  43\n",
              "1     2019    1  2019-01     0       1  34\n",
              "2     2019    1  2019-01     0       2  25\n",
              "3     2019    1  2019-01     0       3  33\n",
              "4     2019    1  2019-01     0       4  31\n",
              "...    ...  ...      ...   ...     ...  ..\n",
              "4027  2020   12  2020-12    23       2  43\n",
              "4028  2020   12  2020-12    23       3  44\n",
              "4029  2020   12  2020-12    23       4  60\n",
              "4030  2020   12  2020-12    23       5  94\n",
              "4031  2020   12  2020-12    23       6  55\n",
              "\n",
              "[4032 rows x 6 columns]"
            ],
            "text/html": [
              "\n",
              "  <div id=\"df-cf724d3c-6702-4cb9-baac-0484f38dbecc\">\n",
              "    <div class=\"colab-df-container\">\n",
              "      <div>\n",
              "<style scoped>\n",
              "    .dataframe tbody tr th:only-of-type {\n",
              "        vertical-align: middle;\n",
              "    }\n",
              "\n",
              "    .dataframe tbody tr th {\n",
              "        vertical-align: top;\n",
              "    }\n",
              "\n",
              "    .dataframe thead th {\n",
              "        text-align: right;\n",
              "    }\n",
              "</style>\n",
              "<table border=\"1\" class=\"dataframe\">\n",
              "  <thead>\n",
              "    <tr style=\"text-align: right;\">\n",
              "      <th></th>\n",
              "      <th>ano</th>\n",
              "      <th>mes</th>\n",
              "      <th>ano_mes</th>\n",
              "      <th>hora</th>\n",
              "      <th>semana</th>\n",
              "      <th>id</th>\n",
              "    </tr>\n",
              "  </thead>\n",
              "  <tbody>\n",
              "    <tr>\n",
              "      <th>0</th>\n",
              "      <td>2019</td>\n",
              "      <td>1</td>\n",
              "      <td>2019-01</td>\n",
              "      <td>0</td>\n",
              "      <td>0</td>\n",
              "      <td>43</td>\n",
              "    </tr>\n",
              "    <tr>\n",
              "      <th>1</th>\n",
              "      <td>2019</td>\n",
              "      <td>1</td>\n",
              "      <td>2019-01</td>\n",
              "      <td>0</td>\n",
              "      <td>1</td>\n",
              "      <td>34</td>\n",
              "    </tr>\n",
              "    <tr>\n",
              "      <th>2</th>\n",
              "      <td>2019</td>\n",
              "      <td>1</td>\n",
              "      <td>2019-01</td>\n",
              "      <td>0</td>\n",
              "      <td>2</td>\n",
              "      <td>25</td>\n",
              "    </tr>\n",
              "    <tr>\n",
              "      <th>3</th>\n",
              "      <td>2019</td>\n",
              "      <td>1</td>\n",
              "      <td>2019-01</td>\n",
              "      <td>0</td>\n",
              "      <td>3</td>\n",
              "      <td>33</td>\n",
              "    </tr>\n",
              "    <tr>\n",
              "      <th>4</th>\n",
              "      <td>2019</td>\n",
              "      <td>1</td>\n",
              "      <td>2019-01</td>\n",
              "      <td>0</td>\n",
              "      <td>4</td>\n",
              "      <td>31</td>\n",
              "    </tr>\n",
              "    <tr>\n",
              "      <th>...</th>\n",
              "      <td>...</td>\n",
              "      <td>...</td>\n",
              "      <td>...</td>\n",
              "      <td>...</td>\n",
              "      <td>...</td>\n",
              "      <td>...</td>\n",
              "    </tr>\n",
              "    <tr>\n",
              "      <th>4027</th>\n",
              "      <td>2020</td>\n",
              "      <td>12</td>\n",
              "      <td>2020-12</td>\n",
              "      <td>23</td>\n",
              "      <td>2</td>\n",
              "      <td>43</td>\n",
              "    </tr>\n",
              "    <tr>\n",
              "      <th>4028</th>\n",
              "      <td>2020</td>\n",
              "      <td>12</td>\n",
              "      <td>2020-12</td>\n",
              "      <td>23</td>\n",
              "      <td>3</td>\n",
              "      <td>44</td>\n",
              "    </tr>\n",
              "    <tr>\n",
              "      <th>4029</th>\n",
              "      <td>2020</td>\n",
              "      <td>12</td>\n",
              "      <td>2020-12</td>\n",
              "      <td>23</td>\n",
              "      <td>4</td>\n",
              "      <td>60</td>\n",
              "    </tr>\n",
              "    <tr>\n",
              "      <th>4030</th>\n",
              "      <td>2020</td>\n",
              "      <td>12</td>\n",
              "      <td>2020-12</td>\n",
              "      <td>23</td>\n",
              "      <td>5</td>\n",
              "      <td>94</td>\n",
              "    </tr>\n",
              "    <tr>\n",
              "      <th>4031</th>\n",
              "      <td>2020</td>\n",
              "      <td>12</td>\n",
              "      <td>2020-12</td>\n",
              "      <td>23</td>\n",
              "      <td>6</td>\n",
              "      <td>55</td>\n",
              "    </tr>\n",
              "  </tbody>\n",
              "</table>\n",
              "<p>4032 rows × 6 columns</p>\n",
              "</div>\n",
              "      <button class=\"colab-df-convert\" onclick=\"convertToInteractive('df-cf724d3c-6702-4cb9-baac-0484f38dbecc')\"\n",
              "              title=\"Convert this dataframe to an interactive table.\"\n",
              "              style=\"display:none;\">\n",
              "        \n",
              "  <svg xmlns=\"http://www.w3.org/2000/svg\" height=\"24px\"viewBox=\"0 0 24 24\"\n",
              "       width=\"24px\">\n",
              "    <path d=\"M0 0h24v24H0V0z\" fill=\"none\"/>\n",
              "    <path d=\"M18.56 5.44l.94 2.06.94-2.06 2.06-.94-2.06-.94-.94-2.06-.94 2.06-2.06.94zm-11 1L8.5 8.5l.94-2.06 2.06-.94-2.06-.94L8.5 2.5l-.94 2.06-2.06.94zm10 10l.94 2.06.94-2.06 2.06-.94-2.06-.94-.94-2.06-.94 2.06-2.06.94z\"/><path d=\"M17.41 7.96l-1.37-1.37c-.4-.4-.92-.59-1.43-.59-.52 0-1.04.2-1.43.59L10.3 9.45l-7.72 7.72c-.78.78-.78 2.05 0 2.83L4 21.41c.39.39.9.59 1.41.59.51 0 1.02-.2 1.41-.59l7.78-7.78 2.81-2.81c.8-.78.8-2.07 0-2.86zM5.41 20L4 18.59l7.72-7.72 1.47 1.35L5.41 20z\"/>\n",
              "  </svg>\n",
              "      </button>\n",
              "      \n",
              "  <style>\n",
              "    .colab-df-container {\n",
              "      display:flex;\n",
              "      flex-wrap:wrap;\n",
              "      gap: 12px;\n",
              "    }\n",
              "\n",
              "    .colab-df-convert {\n",
              "      background-color: #E8F0FE;\n",
              "      border: none;\n",
              "      border-radius: 50%;\n",
              "      cursor: pointer;\n",
              "      display: none;\n",
              "      fill: #1967D2;\n",
              "      height: 32px;\n",
              "      padding: 0 0 0 0;\n",
              "      width: 32px;\n",
              "    }\n",
              "\n",
              "    .colab-df-convert:hover {\n",
              "      background-color: #E2EBFA;\n",
              "      box-shadow: 0px 1px 2px rgba(60, 64, 67, 0.3), 0px 1px 3px 1px rgba(60, 64, 67, 0.15);\n",
              "      fill: #174EA6;\n",
              "    }\n",
              "\n",
              "    [theme=dark] .colab-df-convert {\n",
              "      background-color: #3B4455;\n",
              "      fill: #D2E3FC;\n",
              "    }\n",
              "\n",
              "    [theme=dark] .colab-df-convert:hover {\n",
              "      background-color: #434B5C;\n",
              "      box-shadow: 0px 1px 3px 1px rgba(0, 0, 0, 0.15);\n",
              "      filter: drop-shadow(0px 1px 2px rgba(0, 0, 0, 0.3));\n",
              "      fill: #FFFFFF;\n",
              "    }\n",
              "  </style>\n",
              "\n",
              "      <script>\n",
              "        const buttonEl =\n",
              "          document.querySelector('#df-cf724d3c-6702-4cb9-baac-0484f38dbecc button.colab-df-convert');\n",
              "        buttonEl.style.display =\n",
              "          google.colab.kernel.accessAllowed ? 'block' : 'none';\n",
              "\n",
              "        async function convertToInteractive(key) {\n",
              "          const element = document.querySelector('#df-cf724d3c-6702-4cb9-baac-0484f38dbecc');\n",
              "          const dataTable =\n",
              "            await google.colab.kernel.invokeFunction('convertToInteractive',\n",
              "                                                     [key], {});\n",
              "          if (!dataTable) return;\n",
              "\n",
              "          const docLinkHtml = 'Like what you see? Visit the ' +\n",
              "            '<a target=\"_blank\" href=https://colab.research.google.com/notebooks/data_table.ipynb>data table notebook</a>'\n",
              "            + ' to learn more about interactive tables.';\n",
              "          element.innerHTML = '';\n",
              "          dataTable['output_type'] = 'display_data';\n",
              "          await google.colab.output.renderOutput(dataTable, element);\n",
              "          const docLink = document.createElement('div');\n",
              "          docLink.innerHTML = docLinkHtml;\n",
              "          element.appendChild(docLink);\n",
              "        }\n",
              "      </script>\n",
              "    </div>\n",
              "  </div>\n",
              "  "
            ]
          },
          "metadata": {},
          "execution_count": 72
        }
      ]
    },
    {
      "cell_type": "markdown",
      "source": [
        "\n",
        "\n",
        "---\n",
        "\n"
      ],
      "metadata": {
        "id": "2g8invIFftLk"
      }
    },
    {
      "cell_type": "markdown",
      "source": [
        "> Faixa de idade"
      ],
      "metadata": {
        "id": "woZoBMw8fuWV"
      }
    },
    {
      "cell_type": "code",
      "source": [
        "# Definindo o nome das faixa\n",
        "faixa = ['0 a 4','5 a 9','10 a 14','15 a 19','20 a 24','25 a 29','30 a 34','35 a 39',\n",
        "          '40 a 44','45 a 49','50 a 54','55 a 59','60 a 64','65 a 69','70 a 74',\n",
        "          '75 a 79','80 a 84','85 a 89','90 a 94','95 a 99','100 ou mais']\n",
        "\n",
        "# Definindo o intervalo das faixas\n",
        "intervalo = [-1,4,9,14,19,24,29,34,39,44,49,54,59,64,69,74,79,84,89,94,99,200]\n",
        "\n",
        "classes = pd.cut(x=acidentes.idade, labels=faixa, bins=intervalo)\n",
        "acidentes['faixa_idade'] = classes  "
      ],
      "metadata": {
        "id": "zRGf7z1vf1kl"
      },
      "execution_count": 87,
      "outputs": []
    },
    {
      "cell_type": "code",
      "source": [
        "#Verificando os recursos criados\n",
        "acidentes.groupby([\"faixa_idade\"])['id'].count().reset_index()"
      ],
      "metadata": {
        "colab": {
          "base_uri": "https://localhost:8080/",
          "height": 708
        },
        "id": "z08XN9gUje5j",
        "outputId": "cf1e0510-db3c-44b5-cbab-b5c41c4fef18"
      },
      "execution_count": 86,
      "outputs": [
        {
          "output_type": "execute_result",
          "data": {
            "text/plain": [
              "    faixa_idade     id\n",
              "0         0 a 4   2950\n",
              "1         5 a 9   3516\n",
              "2       10 a 14   3844\n",
              "3       15 a 19  10929\n",
              "4       20 a 24  33731\n",
              "5       25 a 29  39030\n",
              "6       30 a 34  41762\n",
              "7       35 a 39  42249\n",
              "8       40 a 44  36819\n",
              "9       45 a 49  28988\n",
              "10      50 a 54  22476\n",
              "11      55 a 59  17382\n",
              "12      60 a 64  11989\n",
              "13      65 a 69   7271\n",
              "14      70 a 74   3872\n",
              "15      75 a 79   2002\n",
              "16      80 a 84    947\n",
              "17      85 a 89    349\n",
              "18      90 a 94    111\n",
              "19      95 a 99     17\n",
              "20  100 ou mais      5"
            ],
            "text/html": [
              "\n",
              "  <div id=\"df-01ce41c4-330f-4249-b508-12f8f0ac06b8\">\n",
              "    <div class=\"colab-df-container\">\n",
              "      <div>\n",
              "<style scoped>\n",
              "    .dataframe tbody tr th:only-of-type {\n",
              "        vertical-align: middle;\n",
              "    }\n",
              "\n",
              "    .dataframe tbody tr th {\n",
              "        vertical-align: top;\n",
              "    }\n",
              "\n",
              "    .dataframe thead th {\n",
              "        text-align: right;\n",
              "    }\n",
              "</style>\n",
              "<table border=\"1\" class=\"dataframe\">\n",
              "  <thead>\n",
              "    <tr style=\"text-align: right;\">\n",
              "      <th></th>\n",
              "      <th>faixa_idade</th>\n",
              "      <th>id</th>\n",
              "    </tr>\n",
              "  </thead>\n",
              "  <tbody>\n",
              "    <tr>\n",
              "      <th>0</th>\n",
              "      <td>0 a 4</td>\n",
              "      <td>2950</td>\n",
              "    </tr>\n",
              "    <tr>\n",
              "      <th>1</th>\n",
              "      <td>5 a 9</td>\n",
              "      <td>3516</td>\n",
              "    </tr>\n",
              "    <tr>\n",
              "      <th>2</th>\n",
              "      <td>10 a 14</td>\n",
              "      <td>3844</td>\n",
              "    </tr>\n",
              "    <tr>\n",
              "      <th>3</th>\n",
              "      <td>15 a 19</td>\n",
              "      <td>10929</td>\n",
              "    </tr>\n",
              "    <tr>\n",
              "      <th>4</th>\n",
              "      <td>20 a 24</td>\n",
              "      <td>33731</td>\n",
              "    </tr>\n",
              "    <tr>\n",
              "      <th>5</th>\n",
              "      <td>25 a 29</td>\n",
              "      <td>39030</td>\n",
              "    </tr>\n",
              "    <tr>\n",
              "      <th>6</th>\n",
              "      <td>30 a 34</td>\n",
              "      <td>41762</td>\n",
              "    </tr>\n",
              "    <tr>\n",
              "      <th>7</th>\n",
              "      <td>35 a 39</td>\n",
              "      <td>42249</td>\n",
              "    </tr>\n",
              "    <tr>\n",
              "      <th>8</th>\n",
              "      <td>40 a 44</td>\n",
              "      <td>36819</td>\n",
              "    </tr>\n",
              "    <tr>\n",
              "      <th>9</th>\n",
              "      <td>45 a 49</td>\n",
              "      <td>28988</td>\n",
              "    </tr>\n",
              "    <tr>\n",
              "      <th>10</th>\n",
              "      <td>50 a 54</td>\n",
              "      <td>22476</td>\n",
              "    </tr>\n",
              "    <tr>\n",
              "      <th>11</th>\n",
              "      <td>55 a 59</td>\n",
              "      <td>17382</td>\n",
              "    </tr>\n",
              "    <tr>\n",
              "      <th>12</th>\n",
              "      <td>60 a 64</td>\n",
              "      <td>11989</td>\n",
              "    </tr>\n",
              "    <tr>\n",
              "      <th>13</th>\n",
              "      <td>65 a 69</td>\n",
              "      <td>7271</td>\n",
              "    </tr>\n",
              "    <tr>\n",
              "      <th>14</th>\n",
              "      <td>70 a 74</td>\n",
              "      <td>3872</td>\n",
              "    </tr>\n",
              "    <tr>\n",
              "      <th>15</th>\n",
              "      <td>75 a 79</td>\n",
              "      <td>2002</td>\n",
              "    </tr>\n",
              "    <tr>\n",
              "      <th>16</th>\n",
              "      <td>80 a 84</td>\n",
              "      <td>947</td>\n",
              "    </tr>\n",
              "    <tr>\n",
              "      <th>17</th>\n",
              "      <td>85 a 89</td>\n",
              "      <td>349</td>\n",
              "    </tr>\n",
              "    <tr>\n",
              "      <th>18</th>\n",
              "      <td>90 a 94</td>\n",
              "      <td>111</td>\n",
              "    </tr>\n",
              "    <tr>\n",
              "      <th>19</th>\n",
              "      <td>95 a 99</td>\n",
              "      <td>17</td>\n",
              "    </tr>\n",
              "    <tr>\n",
              "      <th>20</th>\n",
              "      <td>100 ou mais</td>\n",
              "      <td>5</td>\n",
              "    </tr>\n",
              "  </tbody>\n",
              "</table>\n",
              "</div>\n",
              "      <button class=\"colab-df-convert\" onclick=\"convertToInteractive('df-01ce41c4-330f-4249-b508-12f8f0ac06b8')\"\n",
              "              title=\"Convert this dataframe to an interactive table.\"\n",
              "              style=\"display:none;\">\n",
              "        \n",
              "  <svg xmlns=\"http://www.w3.org/2000/svg\" height=\"24px\"viewBox=\"0 0 24 24\"\n",
              "       width=\"24px\">\n",
              "    <path d=\"M0 0h24v24H0V0z\" fill=\"none\"/>\n",
              "    <path d=\"M18.56 5.44l.94 2.06.94-2.06 2.06-.94-2.06-.94-.94-2.06-.94 2.06-2.06.94zm-11 1L8.5 8.5l.94-2.06 2.06-.94-2.06-.94L8.5 2.5l-.94 2.06-2.06.94zm10 10l.94 2.06.94-2.06 2.06-.94-2.06-.94-.94-2.06-.94 2.06-2.06.94z\"/><path d=\"M17.41 7.96l-1.37-1.37c-.4-.4-.92-.59-1.43-.59-.52 0-1.04.2-1.43.59L10.3 9.45l-7.72 7.72c-.78.78-.78 2.05 0 2.83L4 21.41c.39.39.9.59 1.41.59.51 0 1.02-.2 1.41-.59l7.78-7.78 2.81-2.81c.8-.78.8-2.07 0-2.86zM5.41 20L4 18.59l7.72-7.72 1.47 1.35L5.41 20z\"/>\n",
              "  </svg>\n",
              "      </button>\n",
              "      \n",
              "  <style>\n",
              "    .colab-df-container {\n",
              "      display:flex;\n",
              "      flex-wrap:wrap;\n",
              "      gap: 12px;\n",
              "    }\n",
              "\n",
              "    .colab-df-convert {\n",
              "      background-color: #E8F0FE;\n",
              "      border: none;\n",
              "      border-radius: 50%;\n",
              "      cursor: pointer;\n",
              "      display: none;\n",
              "      fill: #1967D2;\n",
              "      height: 32px;\n",
              "      padding: 0 0 0 0;\n",
              "      width: 32px;\n",
              "    }\n",
              "\n",
              "    .colab-df-convert:hover {\n",
              "      background-color: #E2EBFA;\n",
              "      box-shadow: 0px 1px 2px rgba(60, 64, 67, 0.3), 0px 1px 3px 1px rgba(60, 64, 67, 0.15);\n",
              "      fill: #174EA6;\n",
              "    }\n",
              "\n",
              "    [theme=dark] .colab-df-convert {\n",
              "      background-color: #3B4455;\n",
              "      fill: #D2E3FC;\n",
              "    }\n",
              "\n",
              "    [theme=dark] .colab-df-convert:hover {\n",
              "      background-color: #434B5C;\n",
              "      box-shadow: 0px 1px 3px 1px rgba(0, 0, 0, 0.15);\n",
              "      filter: drop-shadow(0px 1px 2px rgba(0, 0, 0, 0.3));\n",
              "      fill: #FFFFFF;\n",
              "    }\n",
              "  </style>\n",
              "\n",
              "      <script>\n",
              "        const buttonEl =\n",
              "          document.querySelector('#df-01ce41c4-330f-4249-b508-12f8f0ac06b8 button.colab-df-convert');\n",
              "        buttonEl.style.display =\n",
              "          google.colab.kernel.accessAllowed ? 'block' : 'none';\n",
              "\n",
              "        async function convertToInteractive(key) {\n",
              "          const element = document.querySelector('#df-01ce41c4-330f-4249-b508-12f8f0ac06b8');\n",
              "          const dataTable =\n",
              "            await google.colab.kernel.invokeFunction('convertToInteractive',\n",
              "                                                     [key], {});\n",
              "          if (!dataTable) return;\n",
              "\n",
              "          const docLinkHtml = 'Like what you see? Visit the ' +\n",
              "            '<a target=\"_blank\" href=https://colab.research.google.com/notebooks/data_table.ipynb>data table notebook</a>'\n",
              "            + ' to learn more about interactive tables.';\n",
              "          element.innerHTML = '';\n",
              "          dataTable['output_type'] = 'display_data';\n",
              "          await google.colab.output.renderOutput(dataTable, element);\n",
              "          const docLink = document.createElement('div');\n",
              "          docLink.innerHTML = docLinkHtml;\n",
              "          element.appendChild(docLink);\n",
              "        }\n",
              "      </script>\n",
              "    </div>\n",
              "  </div>\n",
              "  "
            ]
          },
          "metadata": {},
          "execution_count": 86
        }
      ]
    },
    {
      "cell_type": "code",
      "source": [
        "idade_fx.to_csv(\"idadel.csv\")"
      ],
      "metadata": {
        "id": "hUtGsH3KoVr7"
      },
      "execution_count": 134,
      "outputs": []
    },
    {
      "cell_type": "markdown",
      "source": [
        "####**<font color=#FE8202> 4.x Agregação**"
      ],
      "metadata": {
        "id": "4Yx0EaQ1MJqb"
      }
    },
    {
      "cell_type": "markdown",
      "source": [
        "Agregação consiste em combinar dois ou mais objetos em um único.\n",
        ">\n",
        "O nosso dataset, detalha o acidente por pessoas envolvidas, ou seja, para um registro de acidente, posso ter mais de uma linha.\n",
        ">\n",
        "Vamos criar um dataset agregado com a visão de quantidade de acidentes, agrupandos os atributos que não se repetem.\n",
        ">\n",
        "Assim, será possivel fazer analises na visão de acidente."
      ],
      "metadata": {
        "id": "eYCwHH6rMQjI"
      }
    },
    {
      "cell_type": "code",
      "source": [
        "acidentes.head(5)"
      ],
      "metadata": {
        "id": "6KhOyB2QRu4i"
      },
      "execution_count": null,
      "outputs": []
    },
    {
      "cell_type": "code",
      "source": [
        "df = (acidentes.groupby(['ano','uf'])['id'].nunique()).reset_index()\n",
        "df"
      ],
      "metadata": {
        "id": "m9btUl3_NKlH"
      },
      "execution_count": null,
      "outputs": []
    },
    {
      "cell_type": "markdown",
      "source": [
        "\n",
        "\n",
        "---\n",
        "\n",
        "\n",
        "\n",
        "---\n",
        "\n",
        "\n",
        "\n",
        "---\n",
        "\n"
      ],
      "metadata": {
        "id": "VzPlX3vFL0iO"
      }
    },
    {
      "cell_type": "code",
      "source": [
        "bernou = acidentes[['sexo']].head(10000)\n"
      ],
      "metadata": {
        "id": "VthpounwpF9H"
      },
      "execution_count": null,
      "outputs": []
    },
    {
      "cell_type": "code",
      "source": [],
      "metadata": {
        "colab": {
          "base_uri": "https://localhost:8080/"
        },
        "id": "miZanxrkpwNi",
        "outputId": "735580b2-d747-487d-d8f3-40d0ecb67f67"
      },
      "execution_count": null,
      "outputs": [
        {
          "output_type": "execute_result",
          "data": {
            "text/plain": [
              "Masculino        8,752\n",
              "Não Informado      794\n",
              "Feminino           339\n",
              "Ignorado           115\n",
              "Name: sexo, dtype: object"
            ]
          },
          "metadata": {},
          "execution_count": 41
        }
      ]
    },
    {
      "cell_type": "code",
      "source": [
        "bernou['sexo_tratado'] = bernou['sexo']"
      ],
      "metadata": {
        "id": "uX3BXl3ap_US"
      },
      "execution_count": null,
      "outputs": []
    },
    {
      "cell_type": "code",
      "source": [
        "for i in range(len(bernou)):\n",
        "  if bernou['sexo'][i] == 'Ignorado':\n",
        "    bernou['sexo_tratado'][i] = (bernoulli.rvs(size=1,p=0.5)).astype(int)\n",
        "  else:\n",
        "    bernou['sexo_tratado'][i] = bernou['sexo'][i]"
      ],
      "metadata": {
        "id": "cq2Z4Yenjp5g"
      },
      "execution_count": null,
      "outputs": []
    },
    {
      "cell_type": "code",
      "source": [
        "bernou.sexo_tratado.value_counts().map('{:,d}'.format) "
      ],
      "metadata": {
        "colab": {
          "base_uri": "https://localhost:8080/"
        },
        "id": "Oh_ksOdFzkZ_",
        "outputId": "ebf528e2-4144-4dc7-da90-e23aa8de22d9"
      },
      "execution_count": null,
      "outputs": [
        {
          "output_type": "execute_result",
          "data": {
            "text/plain": [
              "Masculino        8,816\n",
              "Não Informado      794\n",
              "Feminino           339\n",
              "[0]                 51\n",
              "Name: sexo_tratado, dtype: object"
            ]
          },
          "metadata": {},
          "execution_count": 52
        }
      ]
    },
    {
      "cell_type": "code",
      "source": [
        "bernou[bernou['sexo_tratado'] == 1]"
      ],
      "metadata": {
        "id": "y1crCFkDn2xb"
      },
      "execution_count": null,
      "outputs": []
    },
    {
      "cell_type": "code",
      "source": [
        "bernou.loc[bernou.sexo_tratado==1,'sexo_tratado']='Masculino'\n",
        "bernou[bernou['sexo_tratado'] == 1]"
      ],
      "metadata": {
        "id": "vfZKNGfpokkk"
      },
      "execution_count": null,
      "outputs": []
    },
    {
      "cell_type": "markdown",
      "source": [
        "#**<font color=#FE8202> 5. Análise de Dados**"
      ],
      "metadata": {
        "id": "0oGz7YCnWePd"
      }
    },
    {
      "cell_type": "markdown",
      "source": [
        "#**<font color=#FE8202> 6. Modelo de Machine Learning**"
      ],
      "metadata": {
        "id": "yFxF7UZJWk7N"
      }
    },
    {
      "cell_type": "markdown",
      "source": [
        "#Rascunho\n"
      ],
      "metadata": {
        "id": "rM4tXONb0HOj"
      }
    },
    {
      "cell_type": "code",
      "source": [
        "from sklearn.impute import SimpleImputer\n",
        "media_imputer = SimpleImputer(missing_values=np.nan, strategy='mean')"
      ],
      "metadata": {
        "id": "JNYXF9mUHRw1"
      },
      "execution_count": null,
      "outputs": []
    },
    {
      "cell_type": "code",
      "source": [
        "acidentes.idade = media_imputer.fit_transform(acidentes[['idade']])"
      ],
      "metadata": {
        "id": "ajctsYo_HzcW"
      },
      "execution_count": null,
      "outputs": []
    },
    {
      "cell_type": "code",
      "source": [
        "# Tratando missing\n",
        "acidentes['idade'].fillna(acidentes['idade'].mean(), inplace=True)"
      ],
      "metadata": {
        "id": "mxsJ_YCs0o6t"
      },
      "execution_count": null,
      "outputs": []
    },
    {
      "cell_type": "markdown",
      "source": [
        "\n",
        "\n",
        "---\n",
        "\n"
      ],
      "metadata": {
        "id": "BrT63nsb0MHj"
      }
    }
  ]
}