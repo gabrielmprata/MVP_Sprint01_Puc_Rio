{
  "nbformat": 4,
  "nbformat_minor": 0,
  "metadata": {
    "colab": {
      "provenance": [],
      "collapsed_sections": [
        "dyDXz526nfRU"
      ],
      "toc_visible": true,
      "authorship_tag": "ABX9TyPXOleIrZ2r0FiojEv2gGqe",
      "include_colab_link": true
    },
    "kernelspec": {
      "name": "python3",
      "display_name": "Python 3"
    },
    "language_info": {
      "name": "python"
    }
  },
  "cells": [
    {
      "cell_type": "markdown",
      "metadata": {
        "id": "view-in-github",
        "colab_type": "text"
      },
      "source": [
        "<a href=\"https://colab.research.google.com/github/gabrielmprata/MVP_Sprint01_Puc_Rio/blob/master/MVP_Analise_de_Dados_e_boas_praticas.ipynb\" target=\"_parent\"><img src=\"https://colab.research.google.com/assets/colab-badge.svg\" alt=\"Open In Colab\"/></a>"
      ]
    },
    {
      "cell_type": "markdown",
      "source": [
        "![bras_83x140_reduzido.png](data:image/png;base64,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) <font size=\"4\"> **MVP de Análise de Dados e Boas Práticas**"
      ],
      "metadata": {
        "id": "-614P_aFYkUH"
      }
    },
    {
      "cell_type": "markdown",
      "source": [
        "---\n",
        ">\n",
        "**Pós-Graduação em Ciência de Dados e Analytics**\n",
        ">\n",
        "**Sprint 01**\n",
        ">\n",
        "**Aluno**: Gabriel Prata\n",
        ">\n",
        "**Data**: 29/03/2023\n",
        ">\n",
        "---"
      ],
      "metadata": {
        "id": "hQc88NYJZrYT"
      }
    },
    {
      "cell_type": "markdown",
      "source": [
        "#**<font color=#FE8202> 1. Definição do problema**"
      ],
      "metadata": {
        "id": "SPRtTCAMbAmh"
      }
    },
    {
      "cell_type": "markdown",
      "source": [
        "A malha rodoviária é a principal forma de locomoção do país no que tange o deslocamento de pessoas, produtos, matérias primas, alimentos e combustível a curtas e longas distâncias.\n",
        ">\n",
        "Este trabalho visa mostrar através dos dados abertos disponibilizados pela Polícia Rodoviária Federal, dentre os 70.000 Km de rodovias onde atua, o impacto dos acidentes de trânsito e sua letalidade nas rodovias federais, tendo como período analisado o ano de 2020.\n",
        ">\n",
        "O Brasil é o terceiro país com mais mortes no trânsito, ficando atrás apenas da Índia e da China segundo o relatório Global Status Report on Road Safety da Organização Mundial de Saúde (OMS). \n",
        ">\n",
        "Cerca de 82% dos acidentes de trânsito nas rodovias federais brasileiras, são com vítimas, tendo em vista esse grande percentual de vítimas, nesse estudo, queremos entender os fatores que contribuem para os acidentes acontecerem. \n",
        ">\n",
        "Esse estudo tem como objetivo geral analisar o estado físico dos envolvidos, classificando o acidente de trânsito em \"com vítimas\" ou \"sem vítimas\", fazendo uso de **algoritmos de aprendizado de máquina supervisionado**.\n",
        ">\n",
        "O dataset conta com 30 atributos relacionados à caracterização do acidente, 4 atributos que classifica o estado das vítimas em, ilesos, feridos leve, feridos grave e mortos, e 1 variável que classifica o acidente em, sem vítimas, com vítimas feridas e com vitimas fatais. Essa ultima variável utilizaremos como alvo e as demais, serão analisadas para definir quais serão selecionadas como preditoras.\n",
        ">\n",
        "Para mais informações sobre o dataset, consulte: https://www.gov.br/prf/pt-br/acesso-a-informacao/dados-abertos/dicionario-de-dados\n"
      ],
      "metadata": {
        "id": "daJ6dnTGb-nR"
      }
    },
    {
      "cell_type": "markdown",
      "source": [
        ">**<font color=#FE8202> Dicionário de dados**"
      ],
      "metadata": {
        "id": "flcK-l-VqspL"
      }
    },
    {
      "cell_type": "markdown",
      "source": [
        "1.   **id**    -  Variável com valores numéricos, representando o identificador do acidente\n",
        "2.   **pesid** - Variável com valores numéricos, representando o identificador da pessoa envolvida\n",
        "3. **data_inversa** - Data da ocorrência no formato dd/mm/aaaa.\n",
        "4. **dia_semana** - Dia da semana da ocorrência. Ex.: Segunda, terça, etc.\n",
        "5. **horario** - Horário da ocorrência no formato hh:mm:ss.\n",
        "6. **uf** - Unidade da Federação. Ex.: MG, SP, etc.\n",
        "7. **br** - Variável com valores numéricos, representando o identificador da BR.\n",
        "8. **km** - Identificação do quilômetro onde ocorreu o acidente, com valor mínimo de 0,1 km e com a casa decimal separada por ponto.\n",
        "9. **municipio** - Nome do município de ocorrência do acidente.\n",
        "10. **causa_acidente** - Identificação da causa principal do acidente.\n",
        "11. **tipo_acidente** - Identificação do tipo de acidente. Ex.: Colisão frontal, etc.\n",
        "12. **classificação_acidente** - Classificação quanto à gravidade do acidente.\n",
        "13. **fase_dia** - Fase do dia no momento do acidente. Ex.: Amanhecer, Pleno dia, etc.\n",
        "14. **sentido_via** - Sentido da via considerando o ponto de colisão: Crescente e decrescente.\n",
        "15. **Condição_meteorologica** - Condição meteorologica no momento do acidente. Ex.: Céu claro, chuva, etc.\n",
        "16. **tipo_pista** - Tipo da pista considerando a quantidade de faixas: Dupla. simples ou múltipla.\n",
        "17. **tracado_pista** - Descrição do traçãdo da via.\n",
        "18. **usu_solo** - Descrição sobre as características do local do acidente: Urbano=Sim;Rural=Não.\n",
        "19. **id_veiculo** - Variável com valores numéricos, representando o identificador do veículo envolvido.\n",
        "20. **tipo_veiculo** - Tipo do veículo conforme Art. 96 do CNT. Ex.: Automóvel, Caminhão, etc.\n",
        "21. **marca** - Descrição da marca do veículo.\n",
        "22. **ano_fabricacao_veiculo** - Ana de fabricação do veículo, formato aaaa.\n",
        "23. **tipo_envolvido** - Tipo de envolvido no acidente conforme sua participação no evento. Ex.: condutor, passageiro, etc.\n",
        "24. **estado_fisico** - Condição do envolvido conforme a gravidade das lesões.Ex.:morto,feridoleve,etc.\n",
        "25. **idade** - Idade do envolvido. O código \"-1\" indica que não foi possivel coletar a informação.\n",
        "26. **sexo** - Sexo do envolvido. O valor \"invalido\" indica que não foi possivel coletar a informação.\n",
        "27. **ilesos** - Valor binário que identifica se o envolvido foi classificado como ileso.\n",
        "28. **feridos_leves** - Valor binário que identifica se o envolvido foi classificado como ferido leve.\n",
        "29. **feridos_graves** - Valor binário que identifica se o envolvido foi classificado como ferido grave.\n",
        "30. **mortos** - Valor binário que identifica se o envolvido foi classificado como morto.\n",
        "31. **latitude** - Latitude do local do acidente em formato geodésico decimal.\n",
        "32. **longitude** - Longitude do local do acidente em formato geodésico decimal.\n",
        "33. **regional** - Não definido no dicionário de dados fornecido pela PRF.\n",
        "34. **delegacia** - Não definido no dicionário de dados fornecido pela PRF.\n",
        "35. **uop** - Não definido no dicionário de dados fornecido pela PRF.\n",
        "\n"
      ],
      "metadata": {
        "id": "quuGKdcoq7Gl"
      }
    },
    {
      "cell_type": "code",
      "source": [
        "# Importação de pacotes\n",
        "import pandas as pd\n",
        "import numpy as np\n",
        "import missingno as ms # para tratamento de missings\n",
        "\n",
        "#bibliotecas para visualização de dados\n",
        "import seaborn as sns\n",
        "import plotly.express as px\n",
        "import matplotlib.pyplot as plt\n",
        "\n",
        "# Configuração para não exibir os warnings\n",
        "import warnings\n",
        "warnings.filterwarnings(\"ignore\")\n",
        "\n",
        "#importar a biblioteca para usar a Distribuição Binomial de Bernoulli\n",
        "from scipy.stats import bernoulli\n"
      ],
      "metadata": {
        "id": "YARMO4oD8xaz"
      },
      "execution_count": 27,
      "outputs": []
    },
    {
      "cell_type": "markdown",
      "source": [
        "#**<font color=#FE8202> 2. Carga de Dados**"
      ],
      "metadata": {
        "id": "ThUqevesMlF-"
      }
    },
    {
      "cell_type": "markdown",
      "source": [
        "Nesse tópico iremos importar o dataset que está armazenado no GitHub, separado por ano, no formato CSV, com cabeçalho e separado por ponto e vírgula(;).\n",
        ">\n",
        "Iremos utilizar o pacote Pandas, para carregar esse arquivo, através de uma URL, e armazenaremos os dados em um **dataframe**(matrizes multidimensionais similares a uma tabela de dados relacionais, com linhas e colunas rotuladas).\n",
        ">\n",
        "Para isso, utilizaremos o método read_csv()"
      ],
      "metadata": {
        "id": "Mt1ymYzOU_a7"
      }
    },
    {
      "cell_type": "code",
      "execution_count": 28,
      "metadata": {
        "id": "beGsr5VSU3J1"
      },
      "outputs": [],
      "source": [
        "# importando dados de uma url para um dataframe\n",
        "\n",
        "# URL de importação\n",
        "url  = \"https://raw.githubusercontent.com/gabrielmprata/MVP_Sprint01_Puc_Rio/master/acidentes2019.csv\"\n",
        "url2 = \"https://raw.githubusercontent.com/gabrielmprata/MVP_Sprint01_Puc_Rio/master/acidentes2020.csv\"\n",
        "\n",
        "# Carga do dataset para o Pandas dataframe\n",
        "acidentes_2019 = pd.read_csv(url, encoding=\"Latin 1\", sep=';')\n",
        "acidentes_2020 = pd.read_csv(url2, encoding=\"Latin 1\", sep=';')\n"
      ]
    },
    {
      "cell_type": "code",
      "source": [
        "# Concatenar os dataframes de 2019 e 2020 em um único dataframe.\n",
        "# Utilizaremos o método \"concat\"\n",
        "\n",
        "acidentes = pd.concat([acidentes_2019, acidentes_2020], sort=False, ignore_index=True)\n",
        "\n",
        "# Apagando os dataframes que não iremos mais utilizar\n",
        "del acidentes_2020\n",
        "del acidentes_2019"
      ],
      "metadata": {
        "id": "oCD0tQ7qlNKh"
      },
      "execution_count": 29,
      "outputs": []
    },
    {
      "cell_type": "code",
      "source": [
        "# verificando se é um dataframe\n",
        "type(acidentes)"
      ],
      "metadata": {
        "colab": {
          "base_uri": "https://localhost:8080/"
        },
        "id": "i8ySKYVqZ61h",
        "outputId": "cd56a2d9-8bea-437e-9674-0d54134db3b2"
      },
      "execution_count": 5,
      "outputs": [
        {
          "output_type": "execute_result",
          "data": {
            "text/plain": [
              "pandas.core.frame.DataFrame"
            ]
          },
          "metadata": {},
          "execution_count": 5
        }
      ]
    },
    {
      "cell_type": "code",
      "source": [
        "# Exibe as 5 primeiras linhas (Default do comando head)\n",
        "acidentes.head()"
      ],
      "metadata": {
        "colab": {
          "base_uri": "https://localhost:8080/",
          "height": 473
        },
        "id": "CvGjzXX4ZobI",
        "outputId": "060d5a74-7068-48e8-de5a-553e2743310a"
      },
      "execution_count": 33,
      "outputs": [
        {
          "output_type": "execute_result",
          "data": {
            "text/plain": [
              "         id     pesid data_inversa   dia_semana   horario  uf     br     km  \\\n",
              "0  182256.0  403856.0   2019-01-01  terça-feira  04:00:00  CE  116.0  136,9   \n",
              "1  182263.0  402859.0   2019-01-01  terça-feira  05:00:00  MT  158.0  599,5   \n",
              "2  182277.0  402850.0   2019-01-01  terça-feira  10:00:00  PA   10.0     34   \n",
              "3  182289.0  402431.0   2019-01-01  terça-feira  08:30:00  BA  101.0     13   \n",
              "4  182307.0  402638.0   2019-01-01  terça-feira  13:50:00  BA  116.0    440   \n",
              "\n",
              "          municipio               causa_acidente  ...       sexo ilesos  \\\n",
              "0            RUSSAS             Animais na Pista  ...  Masculino      1   \n",
              "1          AGUA BOA  Defeito Mecânico no Veículo  ...  Masculino      1   \n",
              "2        DOM ELISEU      Velocidade Incompatível  ...  Masculino      1   \n",
              "3          RIO REAL           Ingestão de Álcool  ...  Masculino      1   \n",
              "4  FEIRA DE SANTANA           Ingestão de Álcool  ...  Masculino      0   \n",
              "\n",
              "  feridos_leves feridos_graves mortos     latitude     longitude regional  \\\n",
              "0             0              0      0    -4,766018    -38,056034  SPRF-CE   \n",
              "1             0              0      0      -14,319       -52,169  SPRF-MT   \n",
              "2             0              0      0  -4,15296734  -47,54608154  SPRF-PA   \n",
              "3             0              0      0     -11,5896      -37,8761  SPRF-SE   \n",
              "4             1              0      0      -12,344       -39,087  SPRF-BA   \n",
              "\n",
              "   delegacia             uop  \n",
              "0   DEL03-CE  UOP01-DEL03-CE  \n",
              "1   DEL07-MT  UOP02-DEL07-MT  \n",
              "2   DEL02-PA  UOP02-DEL02-PA  \n",
              "3   DEL02-SE  UOP03-DEL02-SE  \n",
              "4   DEL02-BA  UOP01-DEL02-BA  \n",
              "\n",
              "[5 rows x 35 columns]"
            ],
            "text/html": [
              "\n",
              "  <div id=\"df-429434fb-fcf7-4adb-81e2-0001e1d84516\">\n",
              "    <div class=\"colab-df-container\">\n",
              "      <div>\n",
              "<style scoped>\n",
              "    .dataframe tbody tr th:only-of-type {\n",
              "        vertical-align: middle;\n",
              "    }\n",
              "\n",
              "    .dataframe tbody tr th {\n",
              "        vertical-align: top;\n",
              "    }\n",
              "\n",
              "    .dataframe thead th {\n",
              "        text-align: right;\n",
              "    }\n",
              "</style>\n",
              "<table border=\"1\" class=\"dataframe\">\n",
              "  <thead>\n",
              "    <tr style=\"text-align: right;\">\n",
              "      <th></th>\n",
              "      <th>id</th>\n",
              "      <th>pesid</th>\n",
              "      <th>data_inversa</th>\n",
              "      <th>dia_semana</th>\n",
              "      <th>horario</th>\n",
              "      <th>uf</th>\n",
              "      <th>br</th>\n",
              "      <th>km</th>\n",
              "      <th>municipio</th>\n",
              "      <th>causa_acidente</th>\n",
              "      <th>...</th>\n",
              "      <th>sexo</th>\n",
              "      <th>ilesos</th>\n",
              "      <th>feridos_leves</th>\n",
              "      <th>feridos_graves</th>\n",
              "      <th>mortos</th>\n",
              "      <th>latitude</th>\n",
              "      <th>longitude</th>\n",
              "      <th>regional</th>\n",
              "      <th>delegacia</th>\n",
              "      <th>uop</th>\n",
              "    </tr>\n",
              "  </thead>\n",
              "  <tbody>\n",
              "    <tr>\n",
              "      <th>0</th>\n",
              "      <td>182256.0</td>\n",
              "      <td>403856.0</td>\n",
              "      <td>2019-01-01</td>\n",
              "      <td>terça-feira</td>\n",
              "      <td>04:00:00</td>\n",
              "      <td>CE</td>\n",
              "      <td>116.0</td>\n",
              "      <td>136,9</td>\n",
              "      <td>RUSSAS</td>\n",
              "      <td>Animais na Pista</td>\n",
              "      <td>...</td>\n",
              "      <td>Masculino</td>\n",
              "      <td>1</td>\n",
              "      <td>0</td>\n",
              "      <td>0</td>\n",
              "      <td>0</td>\n",
              "      <td>-4,766018</td>\n",
              "      <td>-38,056034</td>\n",
              "      <td>SPRF-CE</td>\n",
              "      <td>DEL03-CE</td>\n",
              "      <td>UOP01-DEL03-CE</td>\n",
              "    </tr>\n",
              "    <tr>\n",
              "      <th>1</th>\n",
              "      <td>182263.0</td>\n",
              "      <td>402859.0</td>\n",
              "      <td>2019-01-01</td>\n",
              "      <td>terça-feira</td>\n",
              "      <td>05:00:00</td>\n",
              "      <td>MT</td>\n",
              "      <td>158.0</td>\n",
              "      <td>599,5</td>\n",
              "      <td>AGUA BOA</td>\n",
              "      <td>Defeito Mecânico no Veículo</td>\n",
              "      <td>...</td>\n",
              "      <td>Masculino</td>\n",
              "      <td>1</td>\n",
              "      <td>0</td>\n",
              "      <td>0</td>\n",
              "      <td>0</td>\n",
              "      <td>-14,319</td>\n",
              "      <td>-52,169</td>\n",
              "      <td>SPRF-MT</td>\n",
              "      <td>DEL07-MT</td>\n",
              "      <td>UOP02-DEL07-MT</td>\n",
              "    </tr>\n",
              "    <tr>\n",
              "      <th>2</th>\n",
              "      <td>182277.0</td>\n",
              "      <td>402850.0</td>\n",
              "      <td>2019-01-01</td>\n",
              "      <td>terça-feira</td>\n",
              "      <td>10:00:00</td>\n",
              "      <td>PA</td>\n",
              "      <td>10.0</td>\n",
              "      <td>34</td>\n",
              "      <td>DOM ELISEU</td>\n",
              "      <td>Velocidade Incompatível</td>\n",
              "      <td>...</td>\n",
              "      <td>Masculino</td>\n",
              "      <td>1</td>\n",
              "      <td>0</td>\n",
              "      <td>0</td>\n",
              "      <td>0</td>\n",
              "      <td>-4,15296734</td>\n",
              "      <td>-47,54608154</td>\n",
              "      <td>SPRF-PA</td>\n",
              "      <td>DEL02-PA</td>\n",
              "      <td>UOP02-DEL02-PA</td>\n",
              "    </tr>\n",
              "    <tr>\n",
              "      <th>3</th>\n",
              "      <td>182289.0</td>\n",
              "      <td>402431.0</td>\n",
              "      <td>2019-01-01</td>\n",
              "      <td>terça-feira</td>\n",
              "      <td>08:30:00</td>\n",
              "      <td>BA</td>\n",
              "      <td>101.0</td>\n",
              "      <td>13</td>\n",
              "      <td>RIO REAL</td>\n",
              "      <td>Ingestão de Álcool</td>\n",
              "      <td>...</td>\n",
              "      <td>Masculino</td>\n",
              "      <td>1</td>\n",
              "      <td>0</td>\n",
              "      <td>0</td>\n",
              "      <td>0</td>\n",
              "      <td>-11,5896</td>\n",
              "      <td>-37,8761</td>\n",
              "      <td>SPRF-SE</td>\n",
              "      <td>DEL02-SE</td>\n",
              "      <td>UOP03-DEL02-SE</td>\n",
              "    </tr>\n",
              "    <tr>\n",
              "      <th>4</th>\n",
              "      <td>182307.0</td>\n",
              "      <td>402638.0</td>\n",
              "      <td>2019-01-01</td>\n",
              "      <td>terça-feira</td>\n",
              "      <td>13:50:00</td>\n",
              "      <td>BA</td>\n",
              "      <td>116.0</td>\n",
              "      <td>440</td>\n",
              "      <td>FEIRA DE SANTANA</td>\n",
              "      <td>Ingestão de Álcool</td>\n",
              "      <td>...</td>\n",
              "      <td>Masculino</td>\n",
              "      <td>0</td>\n",
              "      <td>1</td>\n",
              "      <td>0</td>\n",
              "      <td>0</td>\n",
              "      <td>-12,344</td>\n",
              "      <td>-39,087</td>\n",
              "      <td>SPRF-BA</td>\n",
              "      <td>DEL02-BA</td>\n",
              "      <td>UOP01-DEL02-BA</td>\n",
              "    </tr>\n",
              "  </tbody>\n",
              "</table>\n",
              "<p>5 rows × 35 columns</p>\n",
              "</div>\n",
              "      <button class=\"colab-df-convert\" onclick=\"convertToInteractive('df-429434fb-fcf7-4adb-81e2-0001e1d84516')\"\n",
              "              title=\"Convert this dataframe to an interactive table.\"\n",
              "              style=\"display:none;\">\n",
              "        \n",
              "  <svg xmlns=\"http://www.w3.org/2000/svg\" height=\"24px\"viewBox=\"0 0 24 24\"\n",
              "       width=\"24px\">\n",
              "    <path d=\"M0 0h24v24H0V0z\" fill=\"none\"/>\n",
              "    <path d=\"M18.56 5.44l.94 2.06.94-2.06 2.06-.94-2.06-.94-.94-2.06-.94 2.06-2.06.94zm-11 1L8.5 8.5l.94-2.06 2.06-.94-2.06-.94L8.5 2.5l-.94 2.06-2.06.94zm10 10l.94 2.06.94-2.06 2.06-.94-2.06-.94-.94-2.06-.94 2.06-2.06.94z\"/><path d=\"M17.41 7.96l-1.37-1.37c-.4-.4-.92-.59-1.43-.59-.52 0-1.04.2-1.43.59L10.3 9.45l-7.72 7.72c-.78.78-.78 2.05 0 2.83L4 21.41c.39.39.9.59 1.41.59.51 0 1.02-.2 1.41-.59l7.78-7.78 2.81-2.81c.8-.78.8-2.07 0-2.86zM5.41 20L4 18.59l7.72-7.72 1.47 1.35L5.41 20z\"/>\n",
              "  </svg>\n",
              "      </button>\n",
              "      \n",
              "  <style>\n",
              "    .colab-df-container {\n",
              "      display:flex;\n",
              "      flex-wrap:wrap;\n",
              "      gap: 12px;\n",
              "    }\n",
              "\n",
              "    .colab-df-convert {\n",
              "      background-color: #E8F0FE;\n",
              "      border: none;\n",
              "      border-radius: 50%;\n",
              "      cursor: pointer;\n",
              "      display: none;\n",
              "      fill: #1967D2;\n",
              "      height: 32px;\n",
              "      padding: 0 0 0 0;\n",
              "      width: 32px;\n",
              "    }\n",
              "\n",
              "    .colab-df-convert:hover {\n",
              "      background-color: #E2EBFA;\n",
              "      box-shadow: 0px 1px 2px rgba(60, 64, 67, 0.3), 0px 1px 3px 1px rgba(60, 64, 67, 0.15);\n",
              "      fill: #174EA6;\n",
              "    }\n",
              "\n",
              "    [theme=dark] .colab-df-convert {\n",
              "      background-color: #3B4455;\n",
              "      fill: #D2E3FC;\n",
              "    }\n",
              "\n",
              "    [theme=dark] .colab-df-convert:hover {\n",
              "      background-color: #434B5C;\n",
              "      box-shadow: 0px 1px 3px 1px rgba(0, 0, 0, 0.15);\n",
              "      filter: drop-shadow(0px 1px 2px rgba(0, 0, 0, 0.3));\n",
              "      fill: #FFFFFF;\n",
              "    }\n",
              "  </style>\n",
              "\n",
              "      <script>\n",
              "        const buttonEl =\n",
              "          document.querySelector('#df-429434fb-fcf7-4adb-81e2-0001e1d84516 button.colab-df-convert');\n",
              "        buttonEl.style.display =\n",
              "          google.colab.kernel.accessAllowed ? 'block' : 'none';\n",
              "\n",
              "        async function convertToInteractive(key) {\n",
              "          const element = document.querySelector('#df-429434fb-fcf7-4adb-81e2-0001e1d84516');\n",
              "          const dataTable =\n",
              "            await google.colab.kernel.invokeFunction('convertToInteractive',\n",
              "                                                     [key], {});\n",
              "          if (!dataTable) return;\n",
              "\n",
              "          const docLinkHtml = 'Like what you see? Visit the ' +\n",
              "            '<a target=\"_blank\" href=https://colab.research.google.com/notebooks/data_table.ipynb>data table notebook</a>'\n",
              "            + ' to learn more about interactive tables.';\n",
              "          element.innerHTML = '';\n",
              "          dataTable['output_type'] = 'display_data';\n",
              "          await google.colab.output.renderOutput(dataTable, element);\n",
              "          const docLink = document.createElement('div');\n",
              "          docLink.innerHTML = docLinkHtml;\n",
              "          element.appendChild(docLink);\n",
              "        }\n",
              "      </script>\n",
              "    </div>\n",
              "  </div>\n",
              "  "
            ]
          },
          "metadata": {},
          "execution_count": 33
        }
      ]
    },
    {
      "cell_type": "markdown",
      "source": [
        "###**<font color=#FE8202> 2.2. Dataset Regiões do Brasil**"
      ],
      "metadata": {
        "id": "dyDXz526nfRU"
      }
    },
    {
      "cell_type": "markdown",
      "source": [
        "As regiões do Brasil são os agrupamentos das unidades da federação em regiões com o propósito de ajudar interpretações estatísticas, implantar sistemas de gestão de funções públicas de interesse comum ou orientar a aplicação de políticas públicas dos governos federal e estadual. \n",
        ">\n",
        "Essa divisão do Brasil foi elaborada pelo IBGE em 1970 e criou cinco regiões: Centro-Oeste, Nordeste, Norte, Sudeste e Sul.\n",
        ">\n",
        "No nosso trabalho, vamos enriquecer a informação, adicionando as regiões do Brasil nas analises.(Etapa de pre-processamento > Criação de recurso > Enriquecimento)\n",
        ">\n",
        "Para tal, vamos utilizar a API (Application Programming Interface) do IBGE, encontrada no pypi.org, que é o repositório oficial de bibliotecas criadas por terceiros para a linguagem Python.\n"
      ],
      "metadata": {
        "id": "6jPBzbv_nxX-"
      }
    },
    {
      "cell_type": "code",
      "source": [
        "# Instalando a biblioteca do IBGE\n",
        "!pip install ibge"
      ],
      "metadata": {
        "colab": {
          "base_uri": "https://localhost:8080/"
        },
        "id": "-G6MXcBuo-DB",
        "outputId": "1f9edbaa-4ef3-4639-e2dd-71884e5e3b70"
      },
      "execution_count": 4,
      "outputs": [
        {
          "output_type": "stream",
          "name": "stdout",
          "text": [
            "Looking in indexes: https://pypi.org/simple, https://us-python.pkg.dev/colab-wheels/public/simple/\n",
            "Collecting ibge\n",
            "  Downloading ibge-0.0.5-py3-none-any.whl (6.4 kB)\n",
            "Requirement already satisfied: requests in /usr/local/lib/python3.9/dist-packages (from ibge) (2.27.1)\n",
            "Requirement already satisfied: charset-normalizer~=2.0.0 in /usr/local/lib/python3.9/dist-packages (from requests->ibge) (2.0.12)\n",
            "Requirement already satisfied: idna<4,>=2.5 in /usr/local/lib/python3.9/dist-packages (from requests->ibge) (3.4)\n",
            "Requirement already satisfied: urllib3<1.27,>=1.21.1 in /usr/local/lib/python3.9/dist-packages (from requests->ibge) (1.26.15)\n",
            "Requirement already satisfied: certifi>=2017.4.17 in /usr/local/lib/python3.9/dist-packages (from requests->ibge) (2022.12.7)\n",
            "Installing collected packages: ibge\n",
            "Successfully installed ibge-0.0.5\n"
          ]
        }
      ]
    },
    {
      "cell_type": "code",
      "source": [
        "# Importando os pacotes  da biblioteca \n",
        "from ibge.localidades import *"
      ],
      "metadata": {
        "id": "ZLhEPJtMpb-1"
      },
      "execution_count": 5,
      "outputs": []
    },
    {
      "cell_type": "code",
      "source": [
        "# Função Estados() retorna um objeto do tipo ibge.localidades.Estados\n",
        "dados = Estados()\n",
        "type(dados)"
      ],
      "metadata": {
        "colab": {
          "base_uri": "https://localhost:8080/"
        },
        "id": "1AR1GRbRrI6r",
        "outputId": "c1cdb502-0fc5-44bd-cbe5-feadb0510179"
      },
      "execution_count": 18,
      "outputs": [
        {
          "output_type": "execute_result",
          "data": {
            "text/plain": [
              "ibge.localidades.Estados"
            ]
          },
          "metadata": {},
          "execution_count": 18
        }
      ]
    },
    {
      "cell_type": "code",
      "source": [
        "# Transformar o tipo ibge.localidades.Estados em list\n",
        "regiao = dados.json()\n",
        "type(regiao)"
      ],
      "metadata": {
        "colab": {
          "base_uri": "https://localhost:8080/"
        },
        "id": "udtdrigGrYIe",
        "outputId": "449370ba-b60b-4e02-befd-6004b9ef6305"
      },
      "execution_count": 19,
      "outputs": [
        {
          "output_type": "execute_result",
          "data": {
            "text/plain": [
              "list"
            ]
          },
          "metadata": {},
          "execution_count": 19
        }
      ]
    },
    {
      "cell_type": "code",
      "source": [
        "#Exemplo\n",
        "regiao[1]"
      ],
      "metadata": {
        "colab": {
          "base_uri": "https://localhost:8080/"
        },
        "id": "pw5EY4EJrkJV",
        "outputId": "7fce3cef-3441-41d3-ee32-7c88abab6158"
      },
      "execution_count": 20,
      "outputs": [
        {
          "output_type": "execute_result",
          "data": {
            "text/plain": [
              "{'id': 12,\n",
              " 'sigla': 'AC',\n",
              " 'nome': 'Acre',\n",
              " 'regiao': {'id': 1, 'sigla': 'N', 'nome': 'Norte'}}"
            ]
          },
          "metadata": {},
          "execution_count": 20
        }
      ]
    },
    {
      "cell_type": "code",
      "source": [
        "#pandas json_normalize ler a string JSON aninhada e devolver um DataFrame.\n",
        "estados_br = pd.json_normalize(regiao)"
      ],
      "metadata": {
        "id": "4Fmd-1ngvCZd"
      },
      "execution_count": 21,
      "outputs": []
    },
    {
      "cell_type": "code",
      "source": [
        "# Mostra diversas informações do Dataframe em um único comando\n",
        "estados_br.info()"
      ],
      "metadata": {
        "colab": {
          "base_uri": "https://localhost:8080/"
        },
        "id": "Bsti--1avhqD",
        "outputId": "090e3738-901d-43ac-f15f-7a4cfa2b0272"
      },
      "execution_count": 22,
      "outputs": [
        {
          "output_type": "stream",
          "name": "stdout",
          "text": [
            "<class 'pandas.core.frame.DataFrame'>\n",
            "RangeIndex: 27 entries, 0 to 26\n",
            "Data columns (total 6 columns):\n",
            " #   Column        Non-Null Count  Dtype \n",
            "---  ------        --------------  ----- \n",
            " 0   id            27 non-null     int64 \n",
            " 1   sigla         27 non-null     object\n",
            " 2   nome          27 non-null     object\n",
            " 3   regiao.id     27 non-null     int64 \n",
            " 4   regiao.sigla  27 non-null     object\n",
            " 5   regiao.nome   27 non-null     object\n",
            "dtypes: int64(2), object(4)\n",
            "memory usage: 1.4+ KB\n"
          ]
        }
      ]
    },
    {
      "cell_type": "code",
      "source": [
        "#excluir as colunas que não iremos utilizar\n",
        "estados_br.drop(['id','nome', 'regiao.id', 'regiao.sigla'], axis=1, inplace = True)"
      ],
      "metadata": {
        "id": "OrYpvdjtvf1h"
      },
      "execution_count": 23,
      "outputs": []
    },
    {
      "cell_type": "code",
      "source": [
        "estados_br.head()"
      ],
      "metadata": {
        "colab": {
          "base_uri": "https://localhost:8080/",
          "height": 206
        },
        "id": "vB9O3QNlw1Vx",
        "outputId": "9ff00136-6ddf-43ba-9219-3a7ae149395a"
      },
      "execution_count": 24,
      "outputs": [
        {
          "output_type": "execute_result",
          "data": {
            "text/plain": [
              "  sigla regiao.nome\n",
              "0    RO       Norte\n",
              "1    AC       Norte\n",
              "2    AM       Norte\n",
              "3    RR       Norte\n",
              "4    PA       Norte"
            ],
            "text/html": [
              "\n",
              "  <div id=\"df-6bbcb864-9946-4a2c-b6f3-da8647da35c4\">\n",
              "    <div class=\"colab-df-container\">\n",
              "      <div>\n",
              "<style scoped>\n",
              "    .dataframe tbody tr th:only-of-type {\n",
              "        vertical-align: middle;\n",
              "    }\n",
              "\n",
              "    .dataframe tbody tr th {\n",
              "        vertical-align: top;\n",
              "    }\n",
              "\n",
              "    .dataframe thead th {\n",
              "        text-align: right;\n",
              "    }\n",
              "</style>\n",
              "<table border=\"1\" class=\"dataframe\">\n",
              "  <thead>\n",
              "    <tr style=\"text-align: right;\">\n",
              "      <th></th>\n",
              "      <th>sigla</th>\n",
              "      <th>regiao.nome</th>\n",
              "    </tr>\n",
              "  </thead>\n",
              "  <tbody>\n",
              "    <tr>\n",
              "      <th>0</th>\n",
              "      <td>RO</td>\n",
              "      <td>Norte</td>\n",
              "    </tr>\n",
              "    <tr>\n",
              "      <th>1</th>\n",
              "      <td>AC</td>\n",
              "      <td>Norte</td>\n",
              "    </tr>\n",
              "    <tr>\n",
              "      <th>2</th>\n",
              "      <td>AM</td>\n",
              "      <td>Norte</td>\n",
              "    </tr>\n",
              "    <tr>\n",
              "      <th>3</th>\n",
              "      <td>RR</td>\n",
              "      <td>Norte</td>\n",
              "    </tr>\n",
              "    <tr>\n",
              "      <th>4</th>\n",
              "      <td>PA</td>\n",
              "      <td>Norte</td>\n",
              "    </tr>\n",
              "  </tbody>\n",
              "</table>\n",
              "</div>\n",
              "      <button class=\"colab-df-convert\" onclick=\"convertToInteractive('df-6bbcb864-9946-4a2c-b6f3-da8647da35c4')\"\n",
              "              title=\"Convert this dataframe to an interactive table.\"\n",
              "              style=\"display:none;\">\n",
              "        \n",
              "  <svg xmlns=\"http://www.w3.org/2000/svg\" height=\"24px\"viewBox=\"0 0 24 24\"\n",
              "       width=\"24px\">\n",
              "    <path d=\"M0 0h24v24H0V0z\" fill=\"none\"/>\n",
              "    <path d=\"M18.56 5.44l.94 2.06.94-2.06 2.06-.94-2.06-.94-.94-2.06-.94 2.06-2.06.94zm-11 1L8.5 8.5l.94-2.06 2.06-.94-2.06-.94L8.5 2.5l-.94 2.06-2.06.94zm10 10l.94 2.06.94-2.06 2.06-.94-2.06-.94-.94-2.06-.94 2.06-2.06.94z\"/><path d=\"M17.41 7.96l-1.37-1.37c-.4-.4-.92-.59-1.43-.59-.52 0-1.04.2-1.43.59L10.3 9.45l-7.72 7.72c-.78.78-.78 2.05 0 2.83L4 21.41c.39.39.9.59 1.41.59.51 0 1.02-.2 1.41-.59l7.78-7.78 2.81-2.81c.8-.78.8-2.07 0-2.86zM5.41 20L4 18.59l7.72-7.72 1.47 1.35L5.41 20z\"/>\n",
              "  </svg>\n",
              "      </button>\n",
              "      \n",
              "  <style>\n",
              "    .colab-df-container {\n",
              "      display:flex;\n",
              "      flex-wrap:wrap;\n",
              "      gap: 12px;\n",
              "    }\n",
              "\n",
              "    .colab-df-convert {\n",
              "      background-color: #E8F0FE;\n",
              "      border: none;\n",
              "      border-radius: 50%;\n",
              "      cursor: pointer;\n",
              "      display: none;\n",
              "      fill: #1967D2;\n",
              "      height: 32px;\n",
              "      padding: 0 0 0 0;\n",
              "      width: 32px;\n",
              "    }\n",
              "\n",
              "    .colab-df-convert:hover {\n",
              "      background-color: #E2EBFA;\n",
              "      box-shadow: 0px 1px 2px rgba(60, 64, 67, 0.3), 0px 1px 3px 1px rgba(60, 64, 67, 0.15);\n",
              "      fill: #174EA6;\n",
              "    }\n",
              "\n",
              "    [theme=dark] .colab-df-convert {\n",
              "      background-color: #3B4455;\n",
              "      fill: #D2E3FC;\n",
              "    }\n",
              "\n",
              "    [theme=dark] .colab-df-convert:hover {\n",
              "      background-color: #434B5C;\n",
              "      box-shadow: 0px 1px 3px 1px rgba(0, 0, 0, 0.15);\n",
              "      filter: drop-shadow(0px 1px 2px rgba(0, 0, 0, 0.3));\n",
              "      fill: #FFFFFF;\n",
              "    }\n",
              "  </style>\n",
              "\n",
              "      <script>\n",
              "        const buttonEl =\n",
              "          document.querySelector('#df-6bbcb864-9946-4a2c-b6f3-da8647da35c4 button.colab-df-convert');\n",
              "        buttonEl.style.display =\n",
              "          google.colab.kernel.accessAllowed ? 'block' : 'none';\n",
              "\n",
              "        async function convertToInteractive(key) {\n",
              "          const element = document.querySelector('#df-6bbcb864-9946-4a2c-b6f3-da8647da35c4');\n",
              "          const dataTable =\n",
              "            await google.colab.kernel.invokeFunction('convertToInteractive',\n",
              "                                                     [key], {});\n",
              "          if (!dataTable) return;\n",
              "\n",
              "          const docLinkHtml = 'Like what you see? Visit the ' +\n",
              "            '<a target=\"_blank\" href=https://colab.research.google.com/notebooks/data_table.ipynb>data table notebook</a>'\n",
              "            + ' to learn more about interactive tables.';\n",
              "          element.innerHTML = '';\n",
              "          dataTable['output_type'] = 'display_data';\n",
              "          await google.colab.output.renderOutput(dataTable, element);\n",
              "          const docLink = document.createElement('div');\n",
              "          docLink.innerHTML = docLinkHtml;\n",
              "          element.appendChild(docLink);\n",
              "        }\n",
              "      </script>\n",
              "    </div>\n",
              "  </div>\n",
              "  "
            ]
          },
          "metadata": {},
          "execution_count": 24
        }
      ]
    },
    {
      "cell_type": "code",
      "source": [
        "#renomear colunas\n",
        "estados_br = estados_br.rename(columns={'sigla': 'UF',\n",
        "                                'regiao.nome': 'REGIAO'\n",
        "                                })"
      ],
      "metadata": {
        "id": "Diro-Ey4w9iJ"
      },
      "execution_count": 25,
      "outputs": []
    },
    {
      "cell_type": "markdown",
      "source": [
        "#**<font color=#FE8202> 3. Análise de Dados Inicial**"
      ],
      "metadata": {
        "id": "dkeLOKzSaf1U"
      }
    },
    {
      "cell_type": "markdown",
      "source": [
        "Nessa etapa iremos fazer a análise exploratória **inicial** de dados.\n",
        ">\n",
        "Uma etapa bem crítica, pois nesse primeiro momento, devemos compreender bem os dados.\n",
        ">\n",
        "Depois de entender melhor esses dados, na próxima etapa, seremos capazes de limpar, transformar e apresentar melhor os dados, assim como obter os melhores resultados possíveis nos algoritmos de Machine Learning."
      ],
      "metadata": {
        "id": "36Fzs_Mkaji0"
      }
    },
    {
      "cell_type": "markdown",
      "source": [
        "###**<font color=#FE8202> 3.1. Estatísticas Descritivas**"
      ],
      "metadata": {
        "id": "WR0xRBYcfNoV"
      }
    },
    {
      "cell_type": "markdown",
      "source": [
        "Compreende a organização, o resumo e, descrever os dados, que podem ser expressos em tabelas e gráficos.\n",
        ">\n",
        "Veremos a seguir alguns comandos para exibir algumas estatísticas descritivas.\n",
        ">\n",
        "---\n",
        "\n"
      ],
      "metadata": {
        "id": "Z2Nh6X1qfhBn"
      }
    },
    {
      "cell_type": "code",
      "source": [
        "#\tQuantidade de atributos e instâncias (linhas/colunas)\n",
        "acidentes.shape"
      ],
      "metadata": {
        "colab": {
          "base_uri": "https://localhost:8080/"
        },
        "id": "MbkI7LH_pgE7",
        "outputId": "0ddfb540-dcb3-4589-c487-ace5ab5eb0a2"
      },
      "execution_count": 32,
      "outputs": [
        {
          "output_type": "execute_result",
          "data": {
            "text/plain": [
              "(310239, 35)"
            ]
          },
          "metadata": {},
          "execution_count": 32
        }
      ]
    },
    {
      "cell_type": "markdown",
      "source": [
        "Um dataframe com 310.239 mil linhas e 35 colunas\n",
        "\n",
        "\n",
        "---\n",
        "\n"
      ],
      "metadata": {
        "id": "Rhz6UCLJmLCj"
      }
    },
    {
      "cell_type": "code",
      "source": [
        "# verificando os tipos de dados de cada coluna do dataframe\n",
        "acidentes.dtypes"
      ],
      "metadata": {
        "colab": {
          "base_uri": "https://localhost:8080/"
        },
        "id": "PofO_5h7qK5F",
        "outputId": "86db54a9-6cab-49c8-c384-1c1e67bc2262"
      },
      "execution_count": 31,
      "outputs": [
        {
          "output_type": "execute_result",
          "data": {
            "text/plain": [
              "id                        float64\n",
              "pesid                     float64\n",
              "data_inversa               object\n",
              "dia_semana                 object\n",
              "horario                    object\n",
              "uf                         object\n",
              "br                        float64\n",
              "km                         object\n",
              "municipio                  object\n",
              "causa_acidente             object\n",
              "tipo_acidente              object\n",
              "classificacao_acidente     object\n",
              "fase_dia                   object\n",
              "sentido_via                object\n",
              "condicao_metereologica     object\n",
              "tipo_pista                 object\n",
              "tracado_via                object\n",
              "uso_solo                   object\n",
              "id_veiculo                  int64\n",
              "tipo_veiculo               object\n",
              "marca                      object\n",
              "ano_fabricacao_veiculo    float64\n",
              "tipo_envolvido             object\n",
              "estado_fisico              object\n",
              "idade                     float64\n",
              "sexo                       object\n",
              "ilesos                      int64\n",
              "feridos_leves               int64\n",
              "feridos_graves              int64\n",
              "mortos                      int64\n",
              "latitude                   object\n",
              "longitude                  object\n",
              "regional                   object\n",
              "delegacia                  object\n",
              "uop                        object\n",
              "dtype: object"
            ]
          },
          "metadata": {},
          "execution_count": 31
        }
      ]
    },
    {
      "cell_type": "markdown",
      "source": [
        "\n",
        "\n",
        "---\n",
        "\n"
      ],
      "metadata": {
        "id": "GVGLdwammigd"
      }
    },
    {
      "cell_type": "code",
      "source": [
        "# Mostra diversas informações do Dataframe em um único comando\n",
        "acidentes.info(memory_usage=\"deep\")"
      ],
      "metadata": {
        "colab": {
          "base_uri": "https://localhost:8080/"
        },
        "id": "2PPHphwTq9V9",
        "outputId": "5ec14ae6-f08a-4110-d33e-188a886e9298"
      },
      "execution_count": 9,
      "outputs": [
        {
          "output_type": "stream",
          "name": "stdout",
          "text": [
            "<class 'pandas.core.frame.DataFrame'>\n",
            "RangeIndex: 310239 entries, 0 to 310238\n",
            "Data columns (total 35 columns):\n",
            " #   Column                  Non-Null Count   Dtype  \n",
            "---  ------                  --------------   -----  \n",
            " 0   id                      310239 non-null  float64\n",
            " 1   pesid                   310237 non-null  float64\n",
            " 2   data_inversa            310239 non-null  object \n",
            " 3   dia_semana              310239 non-null  object \n",
            " 4   horario                 310239 non-null  object \n",
            " 5   uf                      310239 non-null  object \n",
            " 6   br                      309599 non-null  float64\n",
            " 7   km                      309599 non-null  object \n",
            " 8   municipio               310239 non-null  object \n",
            " 9   causa_acidente          310239 non-null  object \n",
            " 10  tipo_acidente           310212 non-null  object \n",
            " 11  classificacao_acidente  310239 non-null  object \n",
            " 12  fase_dia                310239 non-null  object \n",
            " 13  sentido_via             310239 non-null  object \n",
            " 14  condicao_metereologica  310239 non-null  object \n",
            " 15  tipo_pista              310239 non-null  object \n",
            " 16  tracado_via             310239 non-null  object \n",
            " 17  uso_solo                310239 non-null  object \n",
            " 18  id_veiculo              310239 non-null  int64  \n",
            " 19  tipo_veiculo            310239 non-null  object \n",
            " 20  marca                   293655 non-null  object \n",
            " 21  ano_fabricacao_veiculo  289870 non-null  float64\n",
            " 22  tipo_envolvido          310239 non-null  object \n",
            " 23  estado_fisico           310239 non-null  object \n",
            " 24  idade                   279531 non-null  float64\n",
            " 25  sexo                    310239 non-null  object \n",
            " 26  ilesos                  310239 non-null  int64  \n",
            " 27  feridos_leves           310239 non-null  int64  \n",
            " 28  feridos_graves          310239 non-null  int64  \n",
            " 29  mortos                  310239 non-null  int64  \n",
            " 30  latitude                310239 non-null  object \n",
            " 31  longitude               310239 non-null  object \n",
            " 32  regional                310228 non-null  object \n",
            " 33  delegacia               310060 non-null  object \n",
            " 34  uop                     308950 non-null  object \n",
            "dtypes: float64(5), int64(5), object(25)\n",
            "memory usage: 564.2 MB\n"
          ]
        }
      ]
    },
    {
      "cell_type": "markdown",
      "source": [
        "\n",
        "A função info() da biblioteca pandas, nos fornece um resumo do dataframe, sendo muito útil para ter uma visão geral do conjunto de dados. \n",
        ">\n",
        "Usando o parâmetro memory_usage = “deep”, saberemos exatamente quanto de memória o dataframe está utilizando.\n",
        ">\n",
        "Sendo assim, depois dos processos de transformações de dados saberemos se tivemos algum ganho de memoria no dataframe.\n"
      ],
      "metadata": {
        "id": "R8UaO37WqyU8"
      }
    },
    {
      "cell_type": "markdown",
      "source": [
        "O dataframe está ocupando cerca de 564 Megas de espaço.\n",
        "\n",
        "\n",
        "---\n",
        "\n"
      ],
      "metadata": {
        "id": "0ma6moUprufj"
      }
    },
    {
      "cell_type": "code",
      "source": [
        "# Exibe as 5 primeiras linhas (Default do comando head)\n",
        "acidentes.head()"
      ],
      "metadata": {
        "colab": {
          "base_uri": "https://localhost:8080/",
          "height": 473
        },
        "id": "9Auwq_Pwr6V7",
        "outputId": "9196af86-83e1-4ddb-89f2-dc5284d0a7be"
      },
      "execution_count": 10,
      "outputs": [
        {
          "output_type": "execute_result",
          "data": {
            "text/plain": [
              "         id     pesid data_inversa   dia_semana   horario  uf     br     km  \\\n",
              "0  182256.0  403856.0   2019-01-01  terça-feira  04:00:00  CE  116.0  136,9   \n",
              "1  182263.0  402859.0   2019-01-01  terça-feira  05:00:00  MT  158.0  599,5   \n",
              "2  182277.0  402850.0   2019-01-01  terça-feira  10:00:00  PA   10.0     34   \n",
              "3  182289.0  402431.0   2019-01-01  terça-feira  08:30:00  BA  101.0     13   \n",
              "4  182307.0  402638.0   2019-01-01  terça-feira  13:50:00  BA  116.0    440   \n",
              "\n",
              "          municipio               causa_acidente  ...       sexo ilesos  \\\n",
              "0            RUSSAS             Animais na Pista  ...  Masculino      1   \n",
              "1          AGUA BOA  Defeito Mecânico no Veículo  ...  Masculino      1   \n",
              "2        DOM ELISEU      Velocidade Incompatível  ...  Masculino      1   \n",
              "3          RIO REAL           Ingestão de Álcool  ...  Masculino      1   \n",
              "4  FEIRA DE SANTANA           Ingestão de Álcool  ...  Masculino      0   \n",
              "\n",
              "  feridos_leves feridos_graves mortos     latitude     longitude regional  \\\n",
              "0             0              0      0    -4,766018    -38,056034  SPRF-CE   \n",
              "1             0              0      0      -14,319       -52,169  SPRF-MT   \n",
              "2             0              0      0  -4,15296734  -47,54608154  SPRF-PA   \n",
              "3             0              0      0     -11,5896      -37,8761  SPRF-SE   \n",
              "4             1              0      0      -12,344       -39,087  SPRF-BA   \n",
              "\n",
              "   delegacia             uop  \n",
              "0   DEL03-CE  UOP01-DEL03-CE  \n",
              "1   DEL07-MT  UOP02-DEL07-MT  \n",
              "2   DEL02-PA  UOP02-DEL02-PA  \n",
              "3   DEL02-SE  UOP03-DEL02-SE  \n",
              "4   DEL02-BA  UOP01-DEL02-BA  \n",
              "\n",
              "[5 rows x 35 columns]"
            ],
            "text/html": [
              "\n",
              "  <div id=\"df-8d4dd6ca-6a29-4989-8dbc-095be4c4d2d5\">\n",
              "    <div class=\"colab-df-container\">\n",
              "      <div>\n",
              "<style scoped>\n",
              "    .dataframe tbody tr th:only-of-type {\n",
              "        vertical-align: middle;\n",
              "    }\n",
              "\n",
              "    .dataframe tbody tr th {\n",
              "        vertical-align: top;\n",
              "    }\n",
              "\n",
              "    .dataframe thead th {\n",
              "        text-align: right;\n",
              "    }\n",
              "</style>\n",
              "<table border=\"1\" class=\"dataframe\">\n",
              "  <thead>\n",
              "    <tr style=\"text-align: right;\">\n",
              "      <th></th>\n",
              "      <th>id</th>\n",
              "      <th>pesid</th>\n",
              "      <th>data_inversa</th>\n",
              "      <th>dia_semana</th>\n",
              "      <th>horario</th>\n",
              "      <th>uf</th>\n",
              "      <th>br</th>\n",
              "      <th>km</th>\n",
              "      <th>municipio</th>\n",
              "      <th>causa_acidente</th>\n",
              "      <th>...</th>\n",
              "      <th>sexo</th>\n",
              "      <th>ilesos</th>\n",
              "      <th>feridos_leves</th>\n",
              "      <th>feridos_graves</th>\n",
              "      <th>mortos</th>\n",
              "      <th>latitude</th>\n",
              "      <th>longitude</th>\n",
              "      <th>regional</th>\n",
              "      <th>delegacia</th>\n",
              "      <th>uop</th>\n",
              "    </tr>\n",
              "  </thead>\n",
              "  <tbody>\n",
              "    <tr>\n",
              "      <th>0</th>\n",
              "      <td>182256.0</td>\n",
              "      <td>403856.0</td>\n",
              "      <td>2019-01-01</td>\n",
              "      <td>terça-feira</td>\n",
              "      <td>04:00:00</td>\n",
              "      <td>CE</td>\n",
              "      <td>116.0</td>\n",
              "      <td>136,9</td>\n",
              "      <td>RUSSAS</td>\n",
              "      <td>Animais na Pista</td>\n",
              "      <td>...</td>\n",
              "      <td>Masculino</td>\n",
              "      <td>1</td>\n",
              "      <td>0</td>\n",
              "      <td>0</td>\n",
              "      <td>0</td>\n",
              "      <td>-4,766018</td>\n",
              "      <td>-38,056034</td>\n",
              "      <td>SPRF-CE</td>\n",
              "      <td>DEL03-CE</td>\n",
              "      <td>UOP01-DEL03-CE</td>\n",
              "    </tr>\n",
              "    <tr>\n",
              "      <th>1</th>\n",
              "      <td>182263.0</td>\n",
              "      <td>402859.0</td>\n",
              "      <td>2019-01-01</td>\n",
              "      <td>terça-feira</td>\n",
              "      <td>05:00:00</td>\n",
              "      <td>MT</td>\n",
              "      <td>158.0</td>\n",
              "      <td>599,5</td>\n",
              "      <td>AGUA BOA</td>\n",
              "      <td>Defeito Mecânico no Veículo</td>\n",
              "      <td>...</td>\n",
              "      <td>Masculino</td>\n",
              "      <td>1</td>\n",
              "      <td>0</td>\n",
              "      <td>0</td>\n",
              "      <td>0</td>\n",
              "      <td>-14,319</td>\n",
              "      <td>-52,169</td>\n",
              "      <td>SPRF-MT</td>\n",
              "      <td>DEL07-MT</td>\n",
              "      <td>UOP02-DEL07-MT</td>\n",
              "    </tr>\n",
              "    <tr>\n",
              "      <th>2</th>\n",
              "      <td>182277.0</td>\n",
              "      <td>402850.0</td>\n",
              "      <td>2019-01-01</td>\n",
              "      <td>terça-feira</td>\n",
              "      <td>10:00:00</td>\n",
              "      <td>PA</td>\n",
              "      <td>10.0</td>\n",
              "      <td>34</td>\n",
              "      <td>DOM ELISEU</td>\n",
              "      <td>Velocidade Incompatível</td>\n",
              "      <td>...</td>\n",
              "      <td>Masculino</td>\n",
              "      <td>1</td>\n",
              "      <td>0</td>\n",
              "      <td>0</td>\n",
              "      <td>0</td>\n",
              "      <td>-4,15296734</td>\n",
              "      <td>-47,54608154</td>\n",
              "      <td>SPRF-PA</td>\n",
              "      <td>DEL02-PA</td>\n",
              "      <td>UOP02-DEL02-PA</td>\n",
              "    </tr>\n",
              "    <tr>\n",
              "      <th>3</th>\n",
              "      <td>182289.0</td>\n",
              "      <td>402431.0</td>\n",
              "      <td>2019-01-01</td>\n",
              "      <td>terça-feira</td>\n",
              "      <td>08:30:00</td>\n",
              "      <td>BA</td>\n",
              "      <td>101.0</td>\n",
              "      <td>13</td>\n",
              "      <td>RIO REAL</td>\n",
              "      <td>Ingestão de Álcool</td>\n",
              "      <td>...</td>\n",
              "      <td>Masculino</td>\n",
              "      <td>1</td>\n",
              "      <td>0</td>\n",
              "      <td>0</td>\n",
              "      <td>0</td>\n",
              "      <td>-11,5896</td>\n",
              "      <td>-37,8761</td>\n",
              "      <td>SPRF-SE</td>\n",
              "      <td>DEL02-SE</td>\n",
              "      <td>UOP03-DEL02-SE</td>\n",
              "    </tr>\n",
              "    <tr>\n",
              "      <th>4</th>\n",
              "      <td>182307.0</td>\n",
              "      <td>402638.0</td>\n",
              "      <td>2019-01-01</td>\n",
              "      <td>terça-feira</td>\n",
              "      <td>13:50:00</td>\n",
              "      <td>BA</td>\n",
              "      <td>116.0</td>\n",
              "      <td>440</td>\n",
              "      <td>FEIRA DE SANTANA</td>\n",
              "      <td>Ingestão de Álcool</td>\n",
              "      <td>...</td>\n",
              "      <td>Masculino</td>\n",
              "      <td>0</td>\n",
              "      <td>1</td>\n",
              "      <td>0</td>\n",
              "      <td>0</td>\n",
              "      <td>-12,344</td>\n",
              "      <td>-39,087</td>\n",
              "      <td>SPRF-BA</td>\n",
              "      <td>DEL02-BA</td>\n",
              "      <td>UOP01-DEL02-BA</td>\n",
              "    </tr>\n",
              "  </tbody>\n",
              "</table>\n",
              "<p>5 rows × 35 columns</p>\n",
              "</div>\n",
              "      <button class=\"colab-df-convert\" onclick=\"convertToInteractive('df-8d4dd6ca-6a29-4989-8dbc-095be4c4d2d5')\"\n",
              "              title=\"Convert this dataframe to an interactive table.\"\n",
              "              style=\"display:none;\">\n",
              "        \n",
              "  <svg xmlns=\"http://www.w3.org/2000/svg\" height=\"24px\"viewBox=\"0 0 24 24\"\n",
              "       width=\"24px\">\n",
              "    <path d=\"M0 0h24v24H0V0z\" fill=\"none\"/>\n",
              "    <path d=\"M18.56 5.44l.94 2.06.94-2.06 2.06-.94-2.06-.94-.94-2.06-.94 2.06-2.06.94zm-11 1L8.5 8.5l.94-2.06 2.06-.94-2.06-.94L8.5 2.5l-.94 2.06-2.06.94zm10 10l.94 2.06.94-2.06 2.06-.94-2.06-.94-.94-2.06-.94 2.06-2.06.94z\"/><path d=\"M17.41 7.96l-1.37-1.37c-.4-.4-.92-.59-1.43-.59-.52 0-1.04.2-1.43.59L10.3 9.45l-7.72 7.72c-.78.78-.78 2.05 0 2.83L4 21.41c.39.39.9.59 1.41.59.51 0 1.02-.2 1.41-.59l7.78-7.78 2.81-2.81c.8-.78.8-2.07 0-2.86zM5.41 20L4 18.59l7.72-7.72 1.47 1.35L5.41 20z\"/>\n",
              "  </svg>\n",
              "      </button>\n",
              "      \n",
              "  <style>\n",
              "    .colab-df-container {\n",
              "      display:flex;\n",
              "      flex-wrap:wrap;\n",
              "      gap: 12px;\n",
              "    }\n",
              "\n",
              "    .colab-df-convert {\n",
              "      background-color: #E8F0FE;\n",
              "      border: none;\n",
              "      border-radius: 50%;\n",
              "      cursor: pointer;\n",
              "      display: none;\n",
              "      fill: #1967D2;\n",
              "      height: 32px;\n",
              "      padding: 0 0 0 0;\n",
              "      width: 32px;\n",
              "    }\n",
              "\n",
              "    .colab-df-convert:hover {\n",
              "      background-color: #E2EBFA;\n",
              "      box-shadow: 0px 1px 2px rgba(60, 64, 67, 0.3), 0px 1px 3px 1px rgba(60, 64, 67, 0.15);\n",
              "      fill: #174EA6;\n",
              "    }\n",
              "\n",
              "    [theme=dark] .colab-df-convert {\n",
              "      background-color: #3B4455;\n",
              "      fill: #D2E3FC;\n",
              "    }\n",
              "\n",
              "    [theme=dark] .colab-df-convert:hover {\n",
              "      background-color: #434B5C;\n",
              "      box-shadow: 0px 1px 3px 1px rgba(0, 0, 0, 0.15);\n",
              "      filter: drop-shadow(0px 1px 2px rgba(0, 0, 0, 0.3));\n",
              "      fill: #FFFFFF;\n",
              "    }\n",
              "  </style>\n",
              "\n",
              "      <script>\n",
              "        const buttonEl =\n",
              "          document.querySelector('#df-8d4dd6ca-6a29-4989-8dbc-095be4c4d2d5 button.colab-df-convert');\n",
              "        buttonEl.style.display =\n",
              "          google.colab.kernel.accessAllowed ? 'block' : 'none';\n",
              "\n",
              "        async function convertToInteractive(key) {\n",
              "          const element = document.querySelector('#df-8d4dd6ca-6a29-4989-8dbc-095be4c4d2d5');\n",
              "          const dataTable =\n",
              "            await google.colab.kernel.invokeFunction('convertToInteractive',\n",
              "                                                     [key], {});\n",
              "          if (!dataTable) return;\n",
              "\n",
              "          const docLinkHtml = 'Like what you see? Visit the ' +\n",
              "            '<a target=\"_blank\" href=https://colab.research.google.com/notebooks/data_table.ipynb>data table notebook</a>'\n",
              "            + ' to learn more about interactive tables.';\n",
              "          element.innerHTML = '';\n",
              "          dataTable['output_type'] = 'display_data';\n",
              "          await google.colab.output.renderOutput(dataTable, element);\n",
              "          const docLink = document.createElement('div');\n",
              "          docLink.innerHTML = docLinkHtml;\n",
              "          element.appendChild(docLink);\n",
              "        }\n",
              "      </script>\n",
              "    </div>\n",
              "  </div>\n",
              "  "
            ]
          },
          "metadata": {},
          "execution_count": 10
        }
      ]
    },
    {
      "cell_type": "code",
      "source": [
        "# Exibe as 5 últimas linhas (Default do comando tail)\n",
        "acidentes.tail()"
      ],
      "metadata": {
        "colab": {
          "base_uri": "https://localhost:8080/",
          "height": 473
        },
        "id": "GYl0F5Qpt9kS",
        "outputId": "d99f8efe-69d9-4e19-8ddd-3730cceadfb3"
      },
      "execution_count": 11,
      "outputs": [
        {
          "output_type": "execute_result",
          "data": {
            "text/plain": [
              "              id      pesid data_inversa   dia_semana   horario  uf     br  \\\n",
              "310234  463900.0  1004448.0   2020-02-18  terça-feira  11:45:00  BA  101.0   \n",
              "310235  463900.0  1004447.0   2020-02-18  terça-feira  11:45:00  BA  101.0   \n",
              "310236  463900.0  1004446.0   2020-02-18  terça-feira  11:45:00  BA  101.0   \n",
              "310237  465902.0  1008121.0   2020-04-18       sábado  10:15:00  BA  242.0   \n",
              "310238  465902.0  1008119.0   2020-04-18       sábado  10:15:00  BA  242.0   \n",
              "\n",
              "           km                  municipio          causa_acidente  ...  \\\n",
              "310234    315  PRESIDENTE TANCREDO NEVES  Ultrapassagem Indevida  ...   \n",
              "310235    315  PRESIDENTE TANCREDO NEVES  Ultrapassagem Indevida  ...   \n",
              "310236    315  PRESIDENTE TANCREDO NEVES  Ultrapassagem Indevida  ...   \n",
              "310237  409,6                  LAJEDINHO  Ultrapassagem Indevida  ...   \n",
              "310238  409,6                  LAJEDINHO  Ultrapassagem Indevida  ...   \n",
              "\n",
              "             sexo ilesos feridos_leves feridos_graves mortos   latitude  \\\n",
              "310234   Feminino      0             1              0      0  -13.29906   \n",
              "310235  Masculino      0             1              0      0  -13.29906   \n",
              "310236  Masculino      1             0              0      0  -13.29906   \n",
              "310237   Feminino      0             0              1      0 -12.444242   \n",
              "310238  Masculino      0             0              0      1 -12.444242   \n",
              "\n",
              "        longitude regional  delegacia             uop  \n",
              "310234  -39.34004  SPRF-BA   DEL05-BA  UOP03-DEL05-BA  \n",
              "310235  -39.34004  SPRF-BA   DEL05-BA  UOP03-DEL05-BA  \n",
              "310236  -39.34004  SPRF-BA   DEL05-BA  UOP03-DEL05-BA  \n",
              "310237 -40.798419  SPRF-BA   DEL06-BA  UOP01-DEL06-BA  \n",
              "310238 -40.798419  SPRF-BA   DEL06-BA  UOP01-DEL06-BA  \n",
              "\n",
              "[5 rows x 35 columns]"
            ],
            "text/html": [
              "\n",
              "  <div id=\"df-a47faa48-198c-4957-bab8-f692c76148b3\">\n",
              "    <div class=\"colab-df-container\">\n",
              "      <div>\n",
              "<style scoped>\n",
              "    .dataframe tbody tr th:only-of-type {\n",
              "        vertical-align: middle;\n",
              "    }\n",
              "\n",
              "    .dataframe tbody tr th {\n",
              "        vertical-align: top;\n",
              "    }\n",
              "\n",
              "    .dataframe thead th {\n",
              "        text-align: right;\n",
              "    }\n",
              "</style>\n",
              "<table border=\"1\" class=\"dataframe\">\n",
              "  <thead>\n",
              "    <tr style=\"text-align: right;\">\n",
              "      <th></th>\n",
              "      <th>id</th>\n",
              "      <th>pesid</th>\n",
              "      <th>data_inversa</th>\n",
              "      <th>dia_semana</th>\n",
              "      <th>horario</th>\n",
              "      <th>uf</th>\n",
              "      <th>br</th>\n",
              "      <th>km</th>\n",
              "      <th>municipio</th>\n",
              "      <th>causa_acidente</th>\n",
              "      <th>...</th>\n",
              "      <th>sexo</th>\n",
              "      <th>ilesos</th>\n",
              "      <th>feridos_leves</th>\n",
              "      <th>feridos_graves</th>\n",
              "      <th>mortos</th>\n",
              "      <th>latitude</th>\n",
              "      <th>longitude</th>\n",
              "      <th>regional</th>\n",
              "      <th>delegacia</th>\n",
              "      <th>uop</th>\n",
              "    </tr>\n",
              "  </thead>\n",
              "  <tbody>\n",
              "    <tr>\n",
              "      <th>310234</th>\n",
              "      <td>463900.0</td>\n",
              "      <td>1004448.0</td>\n",
              "      <td>2020-02-18</td>\n",
              "      <td>terça-feira</td>\n",
              "      <td>11:45:00</td>\n",
              "      <td>BA</td>\n",
              "      <td>101.0</td>\n",
              "      <td>315</td>\n",
              "      <td>PRESIDENTE TANCREDO NEVES</td>\n",
              "      <td>Ultrapassagem Indevida</td>\n",
              "      <td>...</td>\n",
              "      <td>Feminino</td>\n",
              "      <td>0</td>\n",
              "      <td>1</td>\n",
              "      <td>0</td>\n",
              "      <td>0</td>\n",
              "      <td>-13.29906</td>\n",
              "      <td>-39.34004</td>\n",
              "      <td>SPRF-BA</td>\n",
              "      <td>DEL05-BA</td>\n",
              "      <td>UOP03-DEL05-BA</td>\n",
              "    </tr>\n",
              "    <tr>\n",
              "      <th>310235</th>\n",
              "      <td>463900.0</td>\n",
              "      <td>1004447.0</td>\n",
              "      <td>2020-02-18</td>\n",
              "      <td>terça-feira</td>\n",
              "      <td>11:45:00</td>\n",
              "      <td>BA</td>\n",
              "      <td>101.0</td>\n",
              "      <td>315</td>\n",
              "      <td>PRESIDENTE TANCREDO NEVES</td>\n",
              "      <td>Ultrapassagem Indevida</td>\n",
              "      <td>...</td>\n",
              "      <td>Masculino</td>\n",
              "      <td>0</td>\n",
              "      <td>1</td>\n",
              "      <td>0</td>\n",
              "      <td>0</td>\n",
              "      <td>-13.29906</td>\n",
              "      <td>-39.34004</td>\n",
              "      <td>SPRF-BA</td>\n",
              "      <td>DEL05-BA</td>\n",
              "      <td>UOP03-DEL05-BA</td>\n",
              "    </tr>\n",
              "    <tr>\n",
              "      <th>310236</th>\n",
              "      <td>463900.0</td>\n",
              "      <td>1004446.0</td>\n",
              "      <td>2020-02-18</td>\n",
              "      <td>terça-feira</td>\n",
              "      <td>11:45:00</td>\n",
              "      <td>BA</td>\n",
              "      <td>101.0</td>\n",
              "      <td>315</td>\n",
              "      <td>PRESIDENTE TANCREDO NEVES</td>\n",
              "      <td>Ultrapassagem Indevida</td>\n",
              "      <td>...</td>\n",
              "      <td>Masculino</td>\n",
              "      <td>1</td>\n",
              "      <td>0</td>\n",
              "      <td>0</td>\n",
              "      <td>0</td>\n",
              "      <td>-13.29906</td>\n",
              "      <td>-39.34004</td>\n",
              "      <td>SPRF-BA</td>\n",
              "      <td>DEL05-BA</td>\n",
              "      <td>UOP03-DEL05-BA</td>\n",
              "    </tr>\n",
              "    <tr>\n",
              "      <th>310237</th>\n",
              "      <td>465902.0</td>\n",
              "      <td>1008121.0</td>\n",
              "      <td>2020-04-18</td>\n",
              "      <td>sábado</td>\n",
              "      <td>10:15:00</td>\n",
              "      <td>BA</td>\n",
              "      <td>242.0</td>\n",
              "      <td>409,6</td>\n",
              "      <td>LAJEDINHO</td>\n",
              "      <td>Ultrapassagem Indevida</td>\n",
              "      <td>...</td>\n",
              "      <td>Feminino</td>\n",
              "      <td>0</td>\n",
              "      <td>0</td>\n",
              "      <td>1</td>\n",
              "      <td>0</td>\n",
              "      <td>-12.444242</td>\n",
              "      <td>-40.798419</td>\n",
              "      <td>SPRF-BA</td>\n",
              "      <td>DEL06-BA</td>\n",
              "      <td>UOP01-DEL06-BA</td>\n",
              "    </tr>\n",
              "    <tr>\n",
              "      <th>310238</th>\n",
              "      <td>465902.0</td>\n",
              "      <td>1008119.0</td>\n",
              "      <td>2020-04-18</td>\n",
              "      <td>sábado</td>\n",
              "      <td>10:15:00</td>\n",
              "      <td>BA</td>\n",
              "      <td>242.0</td>\n",
              "      <td>409,6</td>\n",
              "      <td>LAJEDINHO</td>\n",
              "      <td>Ultrapassagem Indevida</td>\n",
              "      <td>...</td>\n",
              "      <td>Masculino</td>\n",
              "      <td>0</td>\n",
              "      <td>0</td>\n",
              "      <td>0</td>\n",
              "      <td>1</td>\n",
              "      <td>-12.444242</td>\n",
              "      <td>-40.798419</td>\n",
              "      <td>SPRF-BA</td>\n",
              "      <td>DEL06-BA</td>\n",
              "      <td>UOP01-DEL06-BA</td>\n",
              "    </tr>\n",
              "  </tbody>\n",
              "</table>\n",
              "<p>5 rows × 35 columns</p>\n",
              "</div>\n",
              "      <button class=\"colab-df-convert\" onclick=\"convertToInteractive('df-a47faa48-198c-4957-bab8-f692c76148b3')\"\n",
              "              title=\"Convert this dataframe to an interactive table.\"\n",
              "              style=\"display:none;\">\n",
              "        \n",
              "  <svg xmlns=\"http://www.w3.org/2000/svg\" height=\"24px\"viewBox=\"0 0 24 24\"\n",
              "       width=\"24px\">\n",
              "    <path d=\"M0 0h24v24H0V0z\" fill=\"none\"/>\n",
              "    <path d=\"M18.56 5.44l.94 2.06.94-2.06 2.06-.94-2.06-.94-.94-2.06-.94 2.06-2.06.94zm-11 1L8.5 8.5l.94-2.06 2.06-.94-2.06-.94L8.5 2.5l-.94 2.06-2.06.94zm10 10l.94 2.06.94-2.06 2.06-.94-2.06-.94-.94-2.06-.94 2.06-2.06.94z\"/><path d=\"M17.41 7.96l-1.37-1.37c-.4-.4-.92-.59-1.43-.59-.52 0-1.04.2-1.43.59L10.3 9.45l-7.72 7.72c-.78.78-.78 2.05 0 2.83L4 21.41c.39.39.9.59 1.41.59.51 0 1.02-.2 1.41-.59l7.78-7.78 2.81-2.81c.8-.78.8-2.07 0-2.86zM5.41 20L4 18.59l7.72-7.72 1.47 1.35L5.41 20z\"/>\n",
              "  </svg>\n",
              "      </button>\n",
              "      \n",
              "  <style>\n",
              "    .colab-df-container {\n",
              "      display:flex;\n",
              "      flex-wrap:wrap;\n",
              "      gap: 12px;\n",
              "    }\n",
              "\n",
              "    .colab-df-convert {\n",
              "      background-color: #E8F0FE;\n",
              "      border: none;\n",
              "      border-radius: 50%;\n",
              "      cursor: pointer;\n",
              "      display: none;\n",
              "      fill: #1967D2;\n",
              "      height: 32px;\n",
              "      padding: 0 0 0 0;\n",
              "      width: 32px;\n",
              "    }\n",
              "\n",
              "    .colab-df-convert:hover {\n",
              "      background-color: #E2EBFA;\n",
              "      box-shadow: 0px 1px 2px rgba(60, 64, 67, 0.3), 0px 1px 3px 1px rgba(60, 64, 67, 0.15);\n",
              "      fill: #174EA6;\n",
              "    }\n",
              "\n",
              "    [theme=dark] .colab-df-convert {\n",
              "      background-color: #3B4455;\n",
              "      fill: #D2E3FC;\n",
              "    }\n",
              "\n",
              "    [theme=dark] .colab-df-convert:hover {\n",
              "      background-color: #434B5C;\n",
              "      box-shadow: 0px 1px 3px 1px rgba(0, 0, 0, 0.15);\n",
              "      filter: drop-shadow(0px 1px 2px rgba(0, 0, 0, 0.3));\n",
              "      fill: #FFFFFF;\n",
              "    }\n",
              "  </style>\n",
              "\n",
              "      <script>\n",
              "        const buttonEl =\n",
              "          document.querySelector('#df-a47faa48-198c-4957-bab8-f692c76148b3 button.colab-df-convert');\n",
              "        buttonEl.style.display =\n",
              "          google.colab.kernel.accessAllowed ? 'block' : 'none';\n",
              "\n",
              "        async function convertToInteractive(key) {\n",
              "          const element = document.querySelector('#df-a47faa48-198c-4957-bab8-f692c76148b3');\n",
              "          const dataTable =\n",
              "            await google.colab.kernel.invokeFunction('convertToInteractive',\n",
              "                                                     [key], {});\n",
              "          if (!dataTable) return;\n",
              "\n",
              "          const docLinkHtml = 'Like what you see? Visit the ' +\n",
              "            '<a target=\"_blank\" href=https://colab.research.google.com/notebooks/data_table.ipynb>data table notebook</a>'\n",
              "            + ' to learn more about interactive tables.';\n",
              "          element.innerHTML = '';\n",
              "          dataTable['output_type'] = 'display_data';\n",
              "          await google.colab.output.renderOutput(dataTable, element);\n",
              "          const docLink = document.createElement('div');\n",
              "          docLink.innerHTML = docLinkHtml;\n",
              "          element.appendChild(docLink);\n",
              "        }\n",
              "      </script>\n",
              "    </div>\n",
              "  </div>\n",
              "  "
            ]
          },
          "metadata": {},
          "execution_count": 11
        }
      ]
    },
    {
      "cell_type": "markdown",
      "source": [
        "Com a exibição das linhas, é mais fácil perceber que o processo de importação, considerou alguns atributos como Float ao inves de integer.\n",
        ">\n",
        "Nesse momento não irá interferir na exploração inicial de dados, depois na etpada de pre-processamento iremos modificar.\n",
        "  \n",
        "\n",
        "---\n",
        "\n"
      ],
      "metadata": {
        "id": "u3d2NYutXx4U"
      }
    },
    {
      "cell_type": "code",
      "source": [
        "# Quantidade de valores únicos\n",
        "acidentes.nunique()"
      ],
      "metadata": {
        "colab": {
          "base_uri": "https://localhost:8080/"
        },
        "id": "ylatDQNXvBvZ",
        "outputId": "9accbbc6-9d16-42d6-8c3e-428f04f2aab4"
      },
      "execution_count": 12,
      "outputs": [
        {
          "output_type": "execute_result",
          "data": {
            "text/plain": [
              "id                        131132\n",
              "pesid                     310237\n",
              "data_inversa                 731\n",
              "dia_semana                     7\n",
              "horario                     1396\n",
              "uf                            27\n",
              "br                           118\n",
              "km                          8840\n",
              "municipio                   1869\n",
              "causa_acidente                63\n",
              "tipo_acidente                 20\n",
              "classificacao_acidente         3\n",
              "fase_dia                       4\n",
              "sentido_via                    3\n",
              "condicao_metereologica        10\n",
              "tipo_pista                     3\n",
              "tracado_via                   10\n",
              "uso_solo                       2\n",
              "id_veiculo                216089\n",
              "tipo_veiculo                  25\n",
              "marca                      10966\n",
              "ano_fabricacao_veiculo        65\n",
              "tipo_envolvido                 6\n",
              "estado_fisico                  5\n",
              "idade                        144\n",
              "sexo                           4\n",
              "ilesos                         2\n",
              "feridos_leves                  2\n",
              "feridos_graves                 2\n",
              "mortos                         2\n",
              "latitude                   71340\n",
              "longitude                  71340\n",
              "regional                      27\n",
              "delegacia                    150\n",
              "uop                          396\n",
              "dtype: int64"
            ]
          },
          "metadata": {},
          "execution_count": 12
        }
      ]
    },
    {
      "cell_type": "markdown",
      "source": [
        "Com o comando nunique() já podemos ter uma rápida noção da coerência dos atributos, como por exemplo:\n",
        ">\n",
        "Temos 144 valores diferentes no atributo idade, o que pode indicar alguma discrepância nos valores informados, ou seja, precisamos explorar mais esse atributo.\n",
        ">\n",
        "\n",
        "\n",
        "---\n",
        "\n",
        "\n"
      ],
      "metadata": {
        "id": "6x5--hwiveCZ"
      }
    },
    {
      "cell_type": "code",
      "source": [
        "# Quantidade de nulls no dataframe\n",
        "acidentes.isnull().sum()"
      ],
      "metadata": {
        "colab": {
          "base_uri": "https://localhost:8080/"
        },
        "id": "OMLt646XxSRa",
        "outputId": "d8ba5164-9af1-403a-f2d0-43c82d060c39"
      },
      "execution_count": 13,
      "outputs": [
        {
          "output_type": "execute_result",
          "data": {
            "text/plain": [
              "id                            0\n",
              "pesid                         2\n",
              "data_inversa                  0\n",
              "dia_semana                    0\n",
              "horario                       0\n",
              "uf                            0\n",
              "br                          640\n",
              "km                          640\n",
              "municipio                     0\n",
              "causa_acidente                0\n",
              "tipo_acidente                27\n",
              "classificacao_acidente        0\n",
              "fase_dia                      0\n",
              "sentido_via                   0\n",
              "condicao_metereologica        0\n",
              "tipo_pista                    0\n",
              "tracado_via                   0\n",
              "uso_solo                      0\n",
              "id_veiculo                    0\n",
              "tipo_veiculo                  0\n",
              "marca                     16584\n",
              "ano_fabricacao_veiculo    20369\n",
              "tipo_envolvido                0\n",
              "estado_fisico                 0\n",
              "idade                     30708\n",
              "sexo                          0\n",
              "ilesos                        0\n",
              "feridos_leves                 0\n",
              "feridos_graves                0\n",
              "mortos                        0\n",
              "latitude                      0\n",
              "longitude                     0\n",
              "regional                     11\n",
              "delegacia                   179\n",
              "uop                        1289\n",
              "dtype: int64"
            ]
          },
          "metadata": {},
          "execution_count": 13
        }
      ]
    },
    {
      "cell_type": "markdown",
      "source": [
        "Dos 35 atributos, 10 apresentam registros nulos, que deverão ser tratados na etapa de pre-processamento de dados.\n",
        "\n",
        "\n",
        "---\n",
        "\n"
      ],
      "metadata": {
        "id": "B8mOIX-J-VzZ"
      }
    },
    {
      "cell_type": "markdown",
      "source": [
        "Vamos verificar agora, se existe alguma duplicidade de registro.\n",
        ">\n",
        "Segundo a documentação do dataset existe o campo ID com o número único do registro do acidente, e o pesid com o número único que identifica a pessoa envolvida no registro do acidente.\n",
        ">\n",
        "Sendo assim devemos ter apenas 1 pesid distinto por ID de acidente, ou seja, só posso registrar uma vez a pessoa na ocorrência do acidente, mesmo que esse acidente tenha mais pessoas envolvidas.\n",
        ">\n",
        "Para essa analise iremos utilizar o método duplicated()"
      ],
      "metadata": {
        "id": "-PZGUh1NAkji"
      }
    },
    {
      "cell_type": "code",
      "source": [
        "# Quantidade de registros duplicados\n",
        "# subset - agrupa as colunas chaves\n",
        "# keep='first' - Se primeiro, considera o primeiro valor como único e o resto como duplicado\n",
        "\n",
        "acidentes.duplicated(subset=['id','pesid'], keep='first').sum()"
      ],
      "metadata": {
        "colab": {
          "base_uri": "https://localhost:8080/"
        },
        "id": "up44_7l4BVxv",
        "outputId": "36d80817-1491-48ec-f387-6af89936aac2"
      },
      "execution_count": 14,
      "outputs": [
        {
          "output_type": "execute_result",
          "data": {
            "text/plain": [
              "0"
            ]
          },
          "metadata": {},
          "execution_count": 14
        }
      ]
    },
    {
      "cell_type": "markdown",
      "source": [
        "O método retorna 0, o que indica que o dataframe não tem duplicidade de registros.\n",
        "\n",
        "\n",
        "---\n",
        "\n"
      ],
      "metadata": {
        "id": "2ti27wxwF3Bg"
      }
    },
    {
      "cell_type": "code",
      "source": [
        "# Faz um resumo estatístico do dataset (média, desvio padrão, mínimo, máximo e os quartis)\n",
        "acidentes.describe().round(2)"
      ],
      "metadata": {
        "colab": {
          "base_uri": "https://localhost:8080/",
          "height": 364
        },
        "id": "WGOf_20-Hv53",
        "outputId": "feca09e7-d4d4-41e0-922e-8ad3d4d6c35a"
      },
      "execution_count": 15,
      "outputs": [
        {
          "output_type": "execute_result",
          "data": {
            "text/plain": [
              "              id       pesid         br  id_veiculo  ano_fabricacao_veiculo  \\\n",
              "count  310239.00   310237.00  309599.00   310239.00               289870.00   \n",
              "mean   257827.88   573651.46     215.59   460721.82                 2009.66   \n",
              "std     43937.69    98355.00     131.64    79387.47                    7.60   \n",
              "min    182210.00   402087.00      10.00   324863.00                 1900.00   \n",
              "25%    220063.00   489437.00     101.00   392906.50                 2007.00   \n",
              "50%    257636.00   573172.00     163.00   460061.00                 2011.00   \n",
              "75%    295489.50   657550.00     343.00   528241.00                 2015.00   \n",
              "max    466732.00  1010053.00     495.00   816458.00                 2020.00   \n",
              "\n",
              "           idade     ilesos  feridos_leves  feridos_graves     mortos  \n",
              "count  279531.00  310239.00      310239.00       310239.00  310239.00  \n",
              "mean       39.51       0.42           0.37            0.12       0.03  \n",
              "std        47.01       0.49           0.48            0.32       0.18  \n",
              "min         0.00       0.00           0.00            0.00       0.00  \n",
              "25%        27.00       0.00           0.00            0.00       0.00  \n",
              "50%        37.00       0.00           0.00            0.00       0.00  \n",
              "75%        48.00       1.00           1.00            0.00       0.00  \n",
              "max      2019.00       1.00           1.00            1.00       1.00  "
            ],
            "text/html": [
              "\n",
              "  <div id=\"df-3d97080a-de28-41ad-a677-afc6c8316db3\">\n",
              "    <div class=\"colab-df-container\">\n",
              "      <div>\n",
              "<style scoped>\n",
              "    .dataframe tbody tr th:only-of-type {\n",
              "        vertical-align: middle;\n",
              "    }\n",
              "\n",
              "    .dataframe tbody tr th {\n",
              "        vertical-align: top;\n",
              "    }\n",
              "\n",
              "    .dataframe thead th {\n",
              "        text-align: right;\n",
              "    }\n",
              "</style>\n",
              "<table border=\"1\" class=\"dataframe\">\n",
              "  <thead>\n",
              "    <tr style=\"text-align: right;\">\n",
              "      <th></th>\n",
              "      <th>id</th>\n",
              "      <th>pesid</th>\n",
              "      <th>br</th>\n",
              "      <th>id_veiculo</th>\n",
              "      <th>ano_fabricacao_veiculo</th>\n",
              "      <th>idade</th>\n",
              "      <th>ilesos</th>\n",
              "      <th>feridos_leves</th>\n",
              "      <th>feridos_graves</th>\n",
              "      <th>mortos</th>\n",
              "    </tr>\n",
              "  </thead>\n",
              "  <tbody>\n",
              "    <tr>\n",
              "      <th>count</th>\n",
              "      <td>310239.00</td>\n",
              "      <td>310237.00</td>\n",
              "      <td>309599.00</td>\n",
              "      <td>310239.00</td>\n",
              "      <td>289870.00</td>\n",
              "      <td>279531.00</td>\n",
              "      <td>310239.00</td>\n",
              "      <td>310239.00</td>\n",
              "      <td>310239.00</td>\n",
              "      <td>310239.00</td>\n",
              "    </tr>\n",
              "    <tr>\n",
              "      <th>mean</th>\n",
              "      <td>257827.88</td>\n",
              "      <td>573651.46</td>\n",
              "      <td>215.59</td>\n",
              "      <td>460721.82</td>\n",
              "      <td>2009.66</td>\n",
              "      <td>39.51</td>\n",
              "      <td>0.42</td>\n",
              "      <td>0.37</td>\n",
              "      <td>0.12</td>\n",
              "      <td>0.03</td>\n",
              "    </tr>\n",
              "    <tr>\n",
              "      <th>std</th>\n",
              "      <td>43937.69</td>\n",
              "      <td>98355.00</td>\n",
              "      <td>131.64</td>\n",
              "      <td>79387.47</td>\n",
              "      <td>7.60</td>\n",
              "      <td>47.01</td>\n",
              "      <td>0.49</td>\n",
              "      <td>0.48</td>\n",
              "      <td>0.32</td>\n",
              "      <td>0.18</td>\n",
              "    </tr>\n",
              "    <tr>\n",
              "      <th>min</th>\n",
              "      <td>182210.00</td>\n",
              "      <td>402087.00</td>\n",
              "      <td>10.00</td>\n",
              "      <td>324863.00</td>\n",
              "      <td>1900.00</td>\n",
              "      <td>0.00</td>\n",
              "      <td>0.00</td>\n",
              "      <td>0.00</td>\n",
              "      <td>0.00</td>\n",
              "      <td>0.00</td>\n",
              "    </tr>\n",
              "    <tr>\n",
              "      <th>25%</th>\n",
              "      <td>220063.00</td>\n",
              "      <td>489437.00</td>\n",
              "      <td>101.00</td>\n",
              "      <td>392906.50</td>\n",
              "      <td>2007.00</td>\n",
              "      <td>27.00</td>\n",
              "      <td>0.00</td>\n",
              "      <td>0.00</td>\n",
              "      <td>0.00</td>\n",
              "      <td>0.00</td>\n",
              "    </tr>\n",
              "    <tr>\n",
              "      <th>50%</th>\n",
              "      <td>257636.00</td>\n",
              "      <td>573172.00</td>\n",
              "      <td>163.00</td>\n",
              "      <td>460061.00</td>\n",
              "      <td>2011.00</td>\n",
              "      <td>37.00</td>\n",
              "      <td>0.00</td>\n",
              "      <td>0.00</td>\n",
              "      <td>0.00</td>\n",
              "      <td>0.00</td>\n",
              "    </tr>\n",
              "    <tr>\n",
              "      <th>75%</th>\n",
              "      <td>295489.50</td>\n",
              "      <td>657550.00</td>\n",
              "      <td>343.00</td>\n",
              "      <td>528241.00</td>\n",
              "      <td>2015.00</td>\n",
              "      <td>48.00</td>\n",
              "      <td>1.00</td>\n",
              "      <td>1.00</td>\n",
              "      <td>0.00</td>\n",
              "      <td>0.00</td>\n",
              "    </tr>\n",
              "    <tr>\n",
              "      <th>max</th>\n",
              "      <td>466732.00</td>\n",
              "      <td>1010053.00</td>\n",
              "      <td>495.00</td>\n",
              "      <td>816458.00</td>\n",
              "      <td>2020.00</td>\n",
              "      <td>2019.00</td>\n",
              "      <td>1.00</td>\n",
              "      <td>1.00</td>\n",
              "      <td>1.00</td>\n",
              "      <td>1.00</td>\n",
              "    </tr>\n",
              "  </tbody>\n",
              "</table>\n",
              "</div>\n",
              "      <button class=\"colab-df-convert\" onclick=\"convertToInteractive('df-3d97080a-de28-41ad-a677-afc6c8316db3')\"\n",
              "              title=\"Convert this dataframe to an interactive table.\"\n",
              "              style=\"display:none;\">\n",
              "        \n",
              "  <svg xmlns=\"http://www.w3.org/2000/svg\" height=\"24px\"viewBox=\"0 0 24 24\"\n",
              "       width=\"24px\">\n",
              "    <path d=\"M0 0h24v24H0V0z\" fill=\"none\"/>\n",
              "    <path d=\"M18.56 5.44l.94 2.06.94-2.06 2.06-.94-2.06-.94-.94-2.06-.94 2.06-2.06.94zm-11 1L8.5 8.5l.94-2.06 2.06-.94-2.06-.94L8.5 2.5l-.94 2.06-2.06.94zm10 10l.94 2.06.94-2.06 2.06-.94-2.06-.94-.94-2.06-.94 2.06-2.06.94z\"/><path d=\"M17.41 7.96l-1.37-1.37c-.4-.4-.92-.59-1.43-.59-.52 0-1.04.2-1.43.59L10.3 9.45l-7.72 7.72c-.78.78-.78 2.05 0 2.83L4 21.41c.39.39.9.59 1.41.59.51 0 1.02-.2 1.41-.59l7.78-7.78 2.81-2.81c.8-.78.8-2.07 0-2.86zM5.41 20L4 18.59l7.72-7.72 1.47 1.35L5.41 20z\"/>\n",
              "  </svg>\n",
              "      </button>\n",
              "      \n",
              "  <style>\n",
              "    .colab-df-container {\n",
              "      display:flex;\n",
              "      flex-wrap:wrap;\n",
              "      gap: 12px;\n",
              "    }\n",
              "\n",
              "    .colab-df-convert {\n",
              "      background-color: #E8F0FE;\n",
              "      border: none;\n",
              "      border-radius: 50%;\n",
              "      cursor: pointer;\n",
              "      display: none;\n",
              "      fill: #1967D2;\n",
              "      height: 32px;\n",
              "      padding: 0 0 0 0;\n",
              "      width: 32px;\n",
              "    }\n",
              "\n",
              "    .colab-df-convert:hover {\n",
              "      background-color: #E2EBFA;\n",
              "      box-shadow: 0px 1px 2px rgba(60, 64, 67, 0.3), 0px 1px 3px 1px rgba(60, 64, 67, 0.15);\n",
              "      fill: #174EA6;\n",
              "    }\n",
              "\n",
              "    [theme=dark] .colab-df-convert {\n",
              "      background-color: #3B4455;\n",
              "      fill: #D2E3FC;\n",
              "    }\n",
              "\n",
              "    [theme=dark] .colab-df-convert:hover {\n",
              "      background-color: #434B5C;\n",
              "      box-shadow: 0px 1px 3px 1px rgba(0, 0, 0, 0.15);\n",
              "      filter: drop-shadow(0px 1px 2px rgba(0, 0, 0, 0.3));\n",
              "      fill: #FFFFFF;\n",
              "    }\n",
              "  </style>\n",
              "\n",
              "      <script>\n",
              "        const buttonEl =\n",
              "          document.querySelector('#df-3d97080a-de28-41ad-a677-afc6c8316db3 button.colab-df-convert');\n",
              "        buttonEl.style.display =\n",
              "          google.colab.kernel.accessAllowed ? 'block' : 'none';\n",
              "\n",
              "        async function convertToInteractive(key) {\n",
              "          const element = document.querySelector('#df-3d97080a-de28-41ad-a677-afc6c8316db3');\n",
              "          const dataTable =\n",
              "            await google.colab.kernel.invokeFunction('convertToInteractive',\n",
              "                                                     [key], {});\n",
              "          if (!dataTable) return;\n",
              "\n",
              "          const docLinkHtml = 'Like what you see? Visit the ' +\n",
              "            '<a target=\"_blank\" href=https://colab.research.google.com/notebooks/data_table.ipynb>data table notebook</a>'\n",
              "            + ' to learn more about interactive tables.';\n",
              "          element.innerHTML = '';\n",
              "          dataTable['output_type'] = 'display_data';\n",
              "          await google.colab.output.renderOutput(dataTable, element);\n",
              "          const docLink = document.createElement('div');\n",
              "          docLink.innerHTML = docLinkHtml;\n",
              "          element.appendChild(docLink);\n",
              "        }\n",
              "      </script>\n",
              "    </div>\n",
              "  </div>\n",
              "  "
            ]
          },
          "metadata": {},
          "execution_count": 15
        }
      ]
    },
    {
      "cell_type": "markdown",
      "source": [
        "###**<font color=#FE8202> 3.2. Distribuição dos atributos**"
      ],
      "metadata": {
        "id": "k617wMzZQJiY"
      }
    },
    {
      "cell_type": "markdown",
      "source": [
        ">Nessa etapa, iremos verificar a distribuição de cada atributo. Para ver se existe a necessidade de tomar alguma ação de transformações na etapa de preparação de dados.\n",
        "\n",
        "\n",
        "---\n",
        "\n"
      ],
      "metadata": {
        "id": "0eYqOVcNstO_"
      }
    },
    {
      "cell_type": "markdown",
      "source": [
        "Conforme visto anteriormente no resumo estatístico, o atributo idade, apresenta um valor máximo de 2.019, o que seria uma inconsistência.\n",
        ">\n",
        "Já a idade mínima com valor 0, representa bebês que ainda não completaram 1 ano.\n",
        ">\n",
        "Sendo assim, vou selecionar no dataframe acidentes todas as idades maiores que 100, agrupando e contando quantas vezes elas aparecem no dataframe.\n",
        ">\n",
        "Assim já teremos uma noção de quantas idades estão inconsistentes no dataframe."
      ],
      "metadata": {
        "id": "Jb4jr0EvLWnS"
      }
    },
    {
      "cell_type": "code",
      "source": [
        "# Verificar idades inconsistentes\n",
        "# Cria um dataframe com idade > 100, agrupando e contando quantas vezes aparecem no dataframe\n",
        "verifica_idade = (acidentes[(acidentes['idade'] > 100)].groupby(['idade'])['idade'].count()).to_frame() #to_frame- método que converte Series em Dataframe\n",
        "verifica_idade = verifica_idade.rename(columns = {'idade':'total'}) #renomeia a coluna idade para total\n",
        "\n",
        "# Exibe os valores em ordem decrescente, pela coluna total\n",
        "verifica_idade.sort_values(by='total', ascending=False)\n"
      ],
      "metadata": {
        "colab": {
          "base_uri": "https://localhost:8080/",
          "height": 1000
        },
        "id": "kcGizUotNgLB",
        "outputId": "24f94ef4-9d82-4a5d-9901-dfb8a4408ab4"
      },
      "execution_count": 17,
      "outputs": [
        {
          "output_type": "execute_result",
          "data": {
            "text/plain": [
              "        total\n",
              "idade        \n",
              "909.0     104\n",
              "908.0     101\n",
              "2018.0     53\n",
              "119.0      41\n",
              "120.0      32\n",
              "220.0      21\n",
              "2019.0     20\n",
              "1918.0     12\n",
              "1019.0      6\n",
              "1020.0      6\n",
              "1919.0      5\n",
              "219.0       4\n",
              "1908.0      3\n",
              "135.0       3\n",
              "118.0       3\n",
              "2017.0      2\n",
              "106.0       2\n",
              "1931.0      1\n",
              "1033.0      1\n",
              "1018.0      1\n",
              "1050.0      1\n",
              "1037.0      1\n",
              "1823.0      1\n",
              "1825.0      1\n",
              "967.0       1\n",
              "1000.0      1\n",
              "101.0       1\n",
              "966.0       1\n",
              "522.0       1\n",
              "110.0       1\n",
              "131.0       1\n",
              "133.0       1\n",
              "148.0       1\n",
              "303.0       1\n",
              "328.0       1\n",
              "653.0       1\n",
              "952.0       1\n",
              "822.0       1\n",
              "923.0       1\n",
              "939.0       1\n",
              "103.0       1\n",
              "942.0       1\n",
              "947.0       1\n",
              "940.0       1"
            ],
            "text/html": [
              "\n",
              "  <div id=\"df-9de20cea-41b1-4f82-88f3-06ef883783df\">\n",
              "    <div class=\"colab-df-container\">\n",
              "      <div>\n",
              "<style scoped>\n",
              "    .dataframe tbody tr th:only-of-type {\n",
              "        vertical-align: middle;\n",
              "    }\n",
              "\n",
              "    .dataframe tbody tr th {\n",
              "        vertical-align: top;\n",
              "    }\n",
              "\n",
              "    .dataframe thead th {\n",
              "        text-align: right;\n",
              "    }\n",
              "</style>\n",
              "<table border=\"1\" class=\"dataframe\">\n",
              "  <thead>\n",
              "    <tr style=\"text-align: right;\">\n",
              "      <th></th>\n",
              "      <th>total</th>\n",
              "    </tr>\n",
              "    <tr>\n",
              "      <th>idade</th>\n",
              "      <th></th>\n",
              "    </tr>\n",
              "  </thead>\n",
              "  <tbody>\n",
              "    <tr>\n",
              "      <th>909.0</th>\n",
              "      <td>104</td>\n",
              "    </tr>\n",
              "    <tr>\n",
              "      <th>908.0</th>\n",
              "      <td>101</td>\n",
              "    </tr>\n",
              "    <tr>\n",
              "      <th>2018.0</th>\n",
              "      <td>53</td>\n",
              "    </tr>\n",
              "    <tr>\n",
              "      <th>119.0</th>\n",
              "      <td>41</td>\n",
              "    </tr>\n",
              "    <tr>\n",
              "      <th>120.0</th>\n",
              "      <td>32</td>\n",
              "    </tr>\n",
              "    <tr>\n",
              "      <th>220.0</th>\n",
              "      <td>21</td>\n",
              "    </tr>\n",
              "    <tr>\n",
              "      <th>2019.0</th>\n",
              "      <td>20</td>\n",
              "    </tr>\n",
              "    <tr>\n",
              "      <th>1918.0</th>\n",
              "      <td>12</td>\n",
              "    </tr>\n",
              "    <tr>\n",
              "      <th>1019.0</th>\n",
              "      <td>6</td>\n",
              "    </tr>\n",
              "    <tr>\n",
              "      <th>1020.0</th>\n",
              "      <td>6</td>\n",
              "    </tr>\n",
              "    <tr>\n",
              "      <th>1919.0</th>\n",
              "      <td>5</td>\n",
              "    </tr>\n",
              "    <tr>\n",
              "      <th>219.0</th>\n",
              "      <td>4</td>\n",
              "    </tr>\n",
              "    <tr>\n",
              "      <th>1908.0</th>\n",
              "      <td>3</td>\n",
              "    </tr>\n",
              "    <tr>\n",
              "      <th>135.0</th>\n",
              "      <td>3</td>\n",
              "    </tr>\n",
              "    <tr>\n",
              "      <th>118.0</th>\n",
              "      <td>3</td>\n",
              "    </tr>\n",
              "    <tr>\n",
              "      <th>2017.0</th>\n",
              "      <td>2</td>\n",
              "    </tr>\n",
              "    <tr>\n",
              "      <th>106.0</th>\n",
              "      <td>2</td>\n",
              "    </tr>\n",
              "    <tr>\n",
              "      <th>1931.0</th>\n",
              "      <td>1</td>\n",
              "    </tr>\n",
              "    <tr>\n",
              "      <th>1033.0</th>\n",
              "      <td>1</td>\n",
              "    </tr>\n",
              "    <tr>\n",
              "      <th>1018.0</th>\n",
              "      <td>1</td>\n",
              "    </tr>\n",
              "    <tr>\n",
              "      <th>1050.0</th>\n",
              "      <td>1</td>\n",
              "    </tr>\n",
              "    <tr>\n",
              "      <th>1037.0</th>\n",
              "      <td>1</td>\n",
              "    </tr>\n",
              "    <tr>\n",
              "      <th>1823.0</th>\n",
              "      <td>1</td>\n",
              "    </tr>\n",
              "    <tr>\n",
              "      <th>1825.0</th>\n",
              "      <td>1</td>\n",
              "    </tr>\n",
              "    <tr>\n",
              "      <th>967.0</th>\n",
              "      <td>1</td>\n",
              "    </tr>\n",
              "    <tr>\n",
              "      <th>1000.0</th>\n",
              "      <td>1</td>\n",
              "    </tr>\n",
              "    <tr>\n",
              "      <th>101.0</th>\n",
              "      <td>1</td>\n",
              "    </tr>\n",
              "    <tr>\n",
              "      <th>966.0</th>\n",
              "      <td>1</td>\n",
              "    </tr>\n",
              "    <tr>\n",
              "      <th>522.0</th>\n",
              "      <td>1</td>\n",
              "    </tr>\n",
              "    <tr>\n",
              "      <th>110.0</th>\n",
              "      <td>1</td>\n",
              "    </tr>\n",
              "    <tr>\n",
              "      <th>131.0</th>\n",
              "      <td>1</td>\n",
              "    </tr>\n",
              "    <tr>\n",
              "      <th>133.0</th>\n",
              "      <td>1</td>\n",
              "    </tr>\n",
              "    <tr>\n",
              "      <th>148.0</th>\n",
              "      <td>1</td>\n",
              "    </tr>\n",
              "    <tr>\n",
              "      <th>303.0</th>\n",
              "      <td>1</td>\n",
              "    </tr>\n",
              "    <tr>\n",
              "      <th>328.0</th>\n",
              "      <td>1</td>\n",
              "    </tr>\n",
              "    <tr>\n",
              "      <th>653.0</th>\n",
              "      <td>1</td>\n",
              "    </tr>\n",
              "    <tr>\n",
              "      <th>952.0</th>\n",
              "      <td>1</td>\n",
              "    </tr>\n",
              "    <tr>\n",
              "      <th>822.0</th>\n",
              "      <td>1</td>\n",
              "    </tr>\n",
              "    <tr>\n",
              "      <th>923.0</th>\n",
              "      <td>1</td>\n",
              "    </tr>\n",
              "    <tr>\n",
              "      <th>939.0</th>\n",
              "      <td>1</td>\n",
              "    </tr>\n",
              "    <tr>\n",
              "      <th>103.0</th>\n",
              "      <td>1</td>\n",
              "    </tr>\n",
              "    <tr>\n",
              "      <th>942.0</th>\n",
              "      <td>1</td>\n",
              "    </tr>\n",
              "    <tr>\n",
              "      <th>947.0</th>\n",
              "      <td>1</td>\n",
              "    </tr>\n",
              "    <tr>\n",
              "      <th>940.0</th>\n",
              "      <td>1</td>\n",
              "    </tr>\n",
              "  </tbody>\n",
              "</table>\n",
              "</div>\n",
              "      <button class=\"colab-df-convert\" onclick=\"convertToInteractive('df-9de20cea-41b1-4f82-88f3-06ef883783df')\"\n",
              "              title=\"Convert this dataframe to an interactive table.\"\n",
              "              style=\"display:none;\">\n",
              "        \n",
              "  <svg xmlns=\"http://www.w3.org/2000/svg\" height=\"24px\"viewBox=\"0 0 24 24\"\n",
              "       width=\"24px\">\n",
              "    <path d=\"M0 0h24v24H0V0z\" fill=\"none\"/>\n",
              "    <path d=\"M18.56 5.44l.94 2.06.94-2.06 2.06-.94-2.06-.94-.94-2.06-.94 2.06-2.06.94zm-11 1L8.5 8.5l.94-2.06 2.06-.94-2.06-.94L8.5 2.5l-.94 2.06-2.06.94zm10 10l.94 2.06.94-2.06 2.06-.94-2.06-.94-.94-2.06-.94 2.06-2.06.94z\"/><path d=\"M17.41 7.96l-1.37-1.37c-.4-.4-.92-.59-1.43-.59-.52 0-1.04.2-1.43.59L10.3 9.45l-7.72 7.72c-.78.78-.78 2.05 0 2.83L4 21.41c.39.39.9.59 1.41.59.51 0 1.02-.2 1.41-.59l7.78-7.78 2.81-2.81c.8-.78.8-2.07 0-2.86zM5.41 20L4 18.59l7.72-7.72 1.47 1.35L5.41 20z\"/>\n",
              "  </svg>\n",
              "      </button>\n",
              "      \n",
              "  <style>\n",
              "    .colab-df-container {\n",
              "      display:flex;\n",
              "      flex-wrap:wrap;\n",
              "      gap: 12px;\n",
              "    }\n",
              "\n",
              "    .colab-df-convert {\n",
              "      background-color: #E8F0FE;\n",
              "      border: none;\n",
              "      border-radius: 50%;\n",
              "      cursor: pointer;\n",
              "      display: none;\n",
              "      fill: #1967D2;\n",
              "      height: 32px;\n",
              "      padding: 0 0 0 0;\n",
              "      width: 32px;\n",
              "    }\n",
              "\n",
              "    .colab-df-convert:hover {\n",
              "      background-color: #E2EBFA;\n",
              "      box-shadow: 0px 1px 2px rgba(60, 64, 67, 0.3), 0px 1px 3px 1px rgba(60, 64, 67, 0.15);\n",
              "      fill: #174EA6;\n",
              "    }\n",
              "\n",
              "    [theme=dark] .colab-df-convert {\n",
              "      background-color: #3B4455;\n",
              "      fill: #D2E3FC;\n",
              "    }\n",
              "\n",
              "    [theme=dark] .colab-df-convert:hover {\n",
              "      background-color: #434B5C;\n",
              "      box-shadow: 0px 1px 3px 1px rgba(0, 0, 0, 0.15);\n",
              "      filter: drop-shadow(0px 1px 2px rgba(0, 0, 0, 0.3));\n",
              "      fill: #FFFFFF;\n",
              "    }\n",
              "  </style>\n",
              "\n",
              "      <script>\n",
              "        const buttonEl =\n",
              "          document.querySelector('#df-9de20cea-41b1-4f82-88f3-06ef883783df button.colab-df-convert');\n",
              "        buttonEl.style.display =\n",
              "          google.colab.kernel.accessAllowed ? 'block' : 'none';\n",
              "\n",
              "        async function convertToInteractive(key) {\n",
              "          const element = document.querySelector('#df-9de20cea-41b1-4f82-88f3-06ef883783df');\n",
              "          const dataTable =\n",
              "            await google.colab.kernel.invokeFunction('convertToInteractive',\n",
              "                                                     [key], {});\n",
              "          if (!dataTable) return;\n",
              "\n",
              "          const docLinkHtml = 'Like what you see? Visit the ' +\n",
              "            '<a target=\"_blank\" href=https://colab.research.google.com/notebooks/data_table.ipynb>data table notebook</a>'\n",
              "            + ' to learn more about interactive tables.';\n",
              "          element.innerHTML = '';\n",
              "          dataTable['output_type'] = 'display_data';\n",
              "          await google.colab.output.renderOutput(dataTable, element);\n",
              "          const docLink = document.createElement('div');\n",
              "          docLink.innerHTML = docLinkHtml;\n",
              "          element.appendChild(docLink);\n",
              "        }\n",
              "      </script>\n",
              "    </div>\n",
              "  </div>\n",
              "  "
            ]
          },
          "metadata": {},
          "execution_count": 17
        }
      ]
    },
    {
      "cell_type": "markdown",
      "source": [
        "Encontramos 44 idades com valores aparentementes inconsistentes, que serão tratados nas próximas etapas.\n",
        ">\n",
        "Outro ponto que iremos tratar é a conversão de float para integer.\n",
        "\n",
        "\n",
        "---\n",
        "\n"
      ],
      "metadata": {
        "id": "d2T0hPS3Whrs"
      }
    },
    {
      "cell_type": "markdown",
      "source": [
        "Agora iremos analisar o atributo ano_fabricacao_veiculo, pois também apresentou valores inconsistentes."
      ],
      "metadata": {
        "id": "UORa8-FsJNWm"
      }
    },
    {
      "cell_type": "code",
      "source": [
        "# Verificar ano_fabricacao_veiculo inconsistentes\n",
        "\n",
        "ano_veiculo = acidentes.groupby([\"ano_fabricacao_veiculo\"])['id'].count().reset_index()\n",
        "\n",
        "# Exibe os valores em ordem crescente, pela coluna ano_fabricacao_veiculo\n",
        "ano_veiculo.sort_values(by='ano_fabricacao_veiculo', ascending=True)"
      ],
      "metadata": {
        "colab": {
          "base_uri": "https://localhost:8080/",
          "height": 424
        },
        "id": "bUDwhw1dI-_w",
        "outputId": "48fb54bb-cadf-4aae-d01e-52cde2410678"
      },
      "execution_count": 18,
      "outputs": [
        {
          "output_type": "execute_result",
          "data": {
            "text/plain": [
              "    ano_fabricacao_veiculo     id\n",
              "0                   1900.0     19\n",
              "1                   1951.0      1\n",
              "2                   1958.0      4\n",
              "3                   1959.0      1\n",
              "4                   1960.0      1\n",
              "..                     ...    ...\n",
              "60                  2016.0  11137\n",
              "61                  2017.0  13417\n",
              "62                  2018.0  19380\n",
              "63                  2019.0  14565\n",
              "64                  2020.0   2578\n",
              "\n",
              "[65 rows x 2 columns]"
            ],
            "text/html": [
              "\n",
              "  <div id=\"df-e59396bd-1a89-4ede-bbda-71a274007d42\">\n",
              "    <div class=\"colab-df-container\">\n",
              "      <div>\n",
              "<style scoped>\n",
              "    .dataframe tbody tr th:only-of-type {\n",
              "        vertical-align: middle;\n",
              "    }\n",
              "\n",
              "    .dataframe tbody tr th {\n",
              "        vertical-align: top;\n",
              "    }\n",
              "\n",
              "    .dataframe thead th {\n",
              "        text-align: right;\n",
              "    }\n",
              "</style>\n",
              "<table border=\"1\" class=\"dataframe\">\n",
              "  <thead>\n",
              "    <tr style=\"text-align: right;\">\n",
              "      <th></th>\n",
              "      <th>ano_fabricacao_veiculo</th>\n",
              "      <th>id</th>\n",
              "    </tr>\n",
              "  </thead>\n",
              "  <tbody>\n",
              "    <tr>\n",
              "      <th>0</th>\n",
              "      <td>1900.0</td>\n",
              "      <td>19</td>\n",
              "    </tr>\n",
              "    <tr>\n",
              "      <th>1</th>\n",
              "      <td>1951.0</td>\n",
              "      <td>1</td>\n",
              "    </tr>\n",
              "    <tr>\n",
              "      <th>2</th>\n",
              "      <td>1958.0</td>\n",
              "      <td>4</td>\n",
              "    </tr>\n",
              "    <tr>\n",
              "      <th>3</th>\n",
              "      <td>1959.0</td>\n",
              "      <td>1</td>\n",
              "    </tr>\n",
              "    <tr>\n",
              "      <th>4</th>\n",
              "      <td>1960.0</td>\n",
              "      <td>1</td>\n",
              "    </tr>\n",
              "    <tr>\n",
              "      <th>...</th>\n",
              "      <td>...</td>\n",
              "      <td>...</td>\n",
              "    </tr>\n",
              "    <tr>\n",
              "      <th>60</th>\n",
              "      <td>2016.0</td>\n",
              "      <td>11137</td>\n",
              "    </tr>\n",
              "    <tr>\n",
              "      <th>61</th>\n",
              "      <td>2017.0</td>\n",
              "      <td>13417</td>\n",
              "    </tr>\n",
              "    <tr>\n",
              "      <th>62</th>\n",
              "      <td>2018.0</td>\n",
              "      <td>19380</td>\n",
              "    </tr>\n",
              "    <tr>\n",
              "      <th>63</th>\n",
              "      <td>2019.0</td>\n",
              "      <td>14565</td>\n",
              "    </tr>\n",
              "    <tr>\n",
              "      <th>64</th>\n",
              "      <td>2020.0</td>\n",
              "      <td>2578</td>\n",
              "    </tr>\n",
              "  </tbody>\n",
              "</table>\n",
              "<p>65 rows × 2 columns</p>\n",
              "</div>\n",
              "      <button class=\"colab-df-convert\" onclick=\"convertToInteractive('df-e59396bd-1a89-4ede-bbda-71a274007d42')\"\n",
              "              title=\"Convert this dataframe to an interactive table.\"\n",
              "              style=\"display:none;\">\n",
              "        \n",
              "  <svg xmlns=\"http://www.w3.org/2000/svg\" height=\"24px\"viewBox=\"0 0 24 24\"\n",
              "       width=\"24px\">\n",
              "    <path d=\"M0 0h24v24H0V0z\" fill=\"none\"/>\n",
              "    <path d=\"M18.56 5.44l.94 2.06.94-2.06 2.06-.94-2.06-.94-.94-2.06-.94 2.06-2.06.94zm-11 1L8.5 8.5l.94-2.06 2.06-.94-2.06-.94L8.5 2.5l-.94 2.06-2.06.94zm10 10l.94 2.06.94-2.06 2.06-.94-2.06-.94-.94-2.06-.94 2.06-2.06.94z\"/><path d=\"M17.41 7.96l-1.37-1.37c-.4-.4-.92-.59-1.43-.59-.52 0-1.04.2-1.43.59L10.3 9.45l-7.72 7.72c-.78.78-.78 2.05 0 2.83L4 21.41c.39.39.9.59 1.41.59.51 0 1.02-.2 1.41-.59l7.78-7.78 2.81-2.81c.8-.78.8-2.07 0-2.86zM5.41 20L4 18.59l7.72-7.72 1.47 1.35L5.41 20z\"/>\n",
              "  </svg>\n",
              "      </button>\n",
              "      \n",
              "  <style>\n",
              "    .colab-df-container {\n",
              "      display:flex;\n",
              "      flex-wrap:wrap;\n",
              "      gap: 12px;\n",
              "    }\n",
              "\n",
              "    .colab-df-convert {\n",
              "      background-color: #E8F0FE;\n",
              "      border: none;\n",
              "      border-radius: 50%;\n",
              "      cursor: pointer;\n",
              "      display: none;\n",
              "      fill: #1967D2;\n",
              "      height: 32px;\n",
              "      padding: 0 0 0 0;\n",
              "      width: 32px;\n",
              "    }\n",
              "\n",
              "    .colab-df-convert:hover {\n",
              "      background-color: #E2EBFA;\n",
              "      box-shadow: 0px 1px 2px rgba(60, 64, 67, 0.3), 0px 1px 3px 1px rgba(60, 64, 67, 0.15);\n",
              "      fill: #174EA6;\n",
              "    }\n",
              "\n",
              "    [theme=dark] .colab-df-convert {\n",
              "      background-color: #3B4455;\n",
              "      fill: #D2E3FC;\n",
              "    }\n",
              "\n",
              "    [theme=dark] .colab-df-convert:hover {\n",
              "      background-color: #434B5C;\n",
              "      box-shadow: 0px 1px 3px 1px rgba(0, 0, 0, 0.15);\n",
              "      filter: drop-shadow(0px 1px 2px rgba(0, 0, 0, 0.3));\n",
              "      fill: #FFFFFF;\n",
              "    }\n",
              "  </style>\n",
              "\n",
              "      <script>\n",
              "        const buttonEl =\n",
              "          document.querySelector('#df-e59396bd-1a89-4ede-bbda-71a274007d42 button.colab-df-convert');\n",
              "        buttonEl.style.display =\n",
              "          google.colab.kernel.accessAllowed ? 'block' : 'none';\n",
              "\n",
              "        async function convertToInteractive(key) {\n",
              "          const element = document.querySelector('#df-e59396bd-1a89-4ede-bbda-71a274007d42');\n",
              "          const dataTable =\n",
              "            await google.colab.kernel.invokeFunction('convertToInteractive',\n",
              "                                                     [key], {});\n",
              "          if (!dataTable) return;\n",
              "\n",
              "          const docLinkHtml = 'Like what you see? Visit the ' +\n",
              "            '<a target=\"_blank\" href=https://colab.research.google.com/notebooks/data_table.ipynb>data table notebook</a>'\n",
              "            + ' to learn more about interactive tables.';\n",
              "          element.innerHTML = '';\n",
              "          dataTable['output_type'] = 'display_data';\n",
              "          await google.colab.output.renderOutput(dataTable, element);\n",
              "          const docLink = document.createElement('div');\n",
              "          docLink.innerHTML = docLinkHtml;\n",
              "          element.appendChild(docLink);\n",
              "        }\n",
              "      </script>\n",
              "    </div>\n",
              "  </div>\n",
              "  "
            ]
          },
          "metadata": {},
          "execution_count": 18
        }
      ]
    },
    {
      "cell_type": "markdown",
      "source": [
        "Como visto no resumo estatístico, o ano de fabricação minima, foi 1900, detalhamos e temos 19 registros com esse valor,  que seria insignificante.\n",
        ">\n",
        "Os demais anos parecem coerentes, porém, tudo indica que esse atributo não será utilizado em analises e nem em modelos de ML.\n",
        "\n",
        "\n",
        "---\n",
        "\n",
        "\n"
      ],
      "metadata": {
        "id": "2VxbaK9IMm_N"
      }
    },
    {
      "cell_type": "markdown",
      "source": [
        "Por se tratar de um problema de **classificação**, vamos verificar a distribuição de frequência do **atributo alvo** *classificacao_acidente*.\n",
        ">\n",
        "Lembrando que ainda iremos tratar esse atributo, convertendo para binário, onde a classe 0 será o acidente \"Sem vitimas\"(classificacao_acidente == 'Sem Vítimas'), e os demais, com a classe 1 \"Com vítimas\"."
      ],
      "metadata": {
        "id": "dfFu_GVtkpzD"
      }
    },
    {
      "cell_type": "code",
      "source": [
        "# distribuição das classes\n",
        "acidentes.groupby('classificacao_acidente').size().sort_values(ascending=False)"
      ],
      "metadata": {
        "colab": {
          "base_uri": "https://localhost:8080/"
        },
        "id": "zY4G0q5mkjjw",
        "outputId": "8a40068d-f2f5-4608-9dea-c775a2b0e747"
      },
      "execution_count": 19,
      "outputs": [
        {
          "output_type": "execute_result",
          "data": {
            "text/plain": [
              "classificacao_acidente\n",
              "Com Vítimas Feridas    237907\n",
              "Sem Vítimas             43822\n",
              "Com Vítimas Fatais      28510\n",
              "dtype: int64"
            ]
          },
          "metadata": {},
          "execution_count": 19
        }
      ]
    },
    {
      "cell_type": "code",
      "source": [
        "# Verificando o percentual da distribuição\n",
        "acidentes.classificacao_acidente.value_counts(normalize=True) "
      ],
      "metadata": {
        "colab": {
          "base_uri": "https://localhost:8080/"
        },
        "id": "UGglG06Jmg2T",
        "outputId": "663914b1-53a0-4ed5-ad3e-c6111ad319ce"
      },
      "execution_count": 20,
      "outputs": [
        {
          "output_type": "execute_result",
          "data": {
            "text/plain": [
              "Com Vítimas Feridas    0.766851\n",
              "Sem Vítimas            0.141252\n",
              "Com Vítimas Fatais     0.091897\n",
              "Name: classificacao_acidente, dtype: float64"
            ]
          },
          "metadata": {},
          "execution_count": 20
        }
      ]
    },
    {
      "cell_type": "markdown",
      "source": [
        "A distribuição retrata a realidade do quadro de vítimas em acidentes de transito, sendo assim, não poderemos tratar esse atributo.\n",
        "\n",
        "\n",
        "---\n",
        "\n"
      ],
      "metadata": {
        "id": "E57GfMitttou"
      }
    },
    {
      "cell_type": "code",
      "source": [
        "# Verificando o conteudo do atributo e a sua distribuição entre eles\n",
        "# dia_semana (Dia da semana da ocorrência)\n",
        "acidentes.dia_semana.value_counts().map('{:,d}'.format) "
      ],
      "metadata": {
        "colab": {
          "base_uri": "https://localhost:8080/"
        },
        "id": "ScXrpfJB4kRX",
        "outputId": "08113dff-3434-485e-fc04-063ce189a636"
      },
      "execution_count": 21,
      "outputs": [
        {
          "output_type": "execute_result",
          "data": {
            "text/plain": [
              "domingo          52,821\n",
              "sábado           52,035\n",
              "sexta-feira      48,319\n",
              "segunda-feira    41,728\n",
              "quinta-feira     39,555\n",
              "quarta-feira     38,140\n",
              "terça-feira      37,641\n",
              "Name: dia_semana, dtype: object"
            ]
          },
          "metadata": {},
          "execution_count": 21
        }
      ]
    },
    {
      "cell_type": "markdown",
      "source": [
        "Para esse atributo, iremos na proxima etapa, criar uma nova coluna com o valor númerico referente ao dia da semana, utilizando função weekday.\n",
        ">\n",
        "Assim fica mais facil ordenar em um gráfico a sequencia semana, de segunda a domingo, proporcionando ao usuário um fácil leitura temporal.\n",
        "\n",
        "\n",
        "---\n",
        "\n"
      ],
      "metadata": {
        "id": "5SN4oL1Q5MDW"
      }
    },
    {
      "cell_type": "code",
      "source": [
        "# Verificando o conteudo do atributo e a sua distribuição entre eles\n",
        "# fase_dia (Fase do dia no momento do acidente)\n",
        "acidentes.fase_dia.value_counts().map('{:,d}'.format)"
      ],
      "metadata": {
        "colab": {
          "base_uri": "https://localhost:8080/"
        },
        "id": "89AMIKUe7cI1",
        "outputId": "bee70e7c-25bd-4c58-ce4f-55bf9dc454c8"
      },
      "execution_count": 22,
      "outputs": [
        {
          "output_type": "execute_result",
          "data": {
            "text/plain": [
              "Pleno dia      171,203\n",
              "Plena Noite    107,109\n",
              "Anoitecer       17,935\n",
              "Amanhecer       13,992\n",
              "Name: fase_dia, dtype: object"
            ]
          },
          "metadata": {},
          "execution_count": 22
        }
      ]
    },
    {
      "cell_type": "markdown",
      "source": [
        "\n",
        "\n",
        "---\n",
        "\n"
      ],
      "metadata": {
        "id": "Hg518XaT9VDu"
      }
    },
    {
      "cell_type": "code",
      "source": [
        "# Verificando o conteudo do atributo e a sua distribuição entre eles\n",
        "# condicao_metereologica (Condição meteorologica no momento do acidente)\n",
        "acidentes.condicao_metereologica.value_counts().map('{:,d}'.format)"
      ],
      "metadata": {
        "colab": {
          "base_uri": "https://localhost:8080/"
        },
        "id": "vL1AGBIz8cEZ",
        "outputId": "df10ecd7-ce1c-4598-9a8b-493b4e822426"
      },
      "execution_count": 23,
      "outputs": [
        {
          "output_type": "execute_result",
          "data": {
            "text/plain": [
              "Céu Claro           183,002\n",
              "Nublado              51,854\n",
              "Chuva                33,789\n",
              "Sol                  24,132\n",
              "Garoa/Chuvisco       10,377\n",
              "Ignorado              3,832\n",
              "Nevoeiro/Neblina      2,644\n",
              "Vento                   595\n",
              "Granizo                  11\n",
              "Neve                      3\n",
              "Name: condicao_metereologica, dtype: object"
            ]
          },
          "metadata": {},
          "execution_count": 23
        }
      ]
    },
    {
      "cell_type": "code",
      "source": [
        "#percentual da distribuição\n",
        "(acidentes.condicao_metereologica.value_counts(normalize=True)*100).round(1)"
      ],
      "metadata": {
        "colab": {
          "base_uri": "https://localhost:8080/"
        },
        "id": "iQSlVEG58yvA",
        "outputId": "dc8938ac-f335-43ba-8a82-77eedd848513"
      },
      "execution_count": 24,
      "outputs": [
        {
          "output_type": "execute_result",
          "data": {
            "text/plain": [
              "Céu Claro           59.0\n",
              "Nublado             16.7\n",
              "Chuva               10.9\n",
              "Sol                  7.8\n",
              "Garoa/Chuvisco       3.3\n",
              "Ignorado             1.2\n",
              "Nevoeiro/Neblina     0.9\n",
              "Vento                0.2\n",
              "Granizo              0.0\n",
              "Neve                 0.0\n",
              "Name: condicao_metereologica, dtype: float64"
            ]
          },
          "metadata": {},
          "execution_count": 24
        }
      ]
    },
    {
      "cell_type": "markdown",
      "source": [
        "Para esse atributo, temos o valor \"Ignorado\". Utilizando o parâmetro normalize=True, verificamos que o percentual dele é baixo, sendo assim não iremos tratá-lo.\n",
        ">\n",
        "Outro valor duvidoso é \"Sol\", como não tem nenhum detalhe no dicionário de dados, presumo que esse valor pode ser somado a \"Céu Claro\".\n",
        ">\n",
        "O valor “vento” tampouco é informativa, dado que esse fenômeno pode ocorrer em qualquer tipo de condição metereológica.\n",
        "\n",
        "\n",
        "---\n",
        "\n"
      ],
      "metadata": {
        "id": "_wJuTBv66vUu"
      }
    },
    {
      "cell_type": "code",
      "source": [
        "# Verificando o conteudo do atributo e a sua distribuição entre eles\n",
        "# estado_fisico (Condição do envolvido conforme a gravidade das lesões)\n",
        "acidentes.estado_fisico.value_counts().map('{:,d}'.format)"
      ],
      "metadata": {
        "colab": {
          "base_uri": "https://localhost:8080/"
        },
        "id": "UY6iL2XP-x2N",
        "outputId": "25d73a25-6152-4116-bb75-395e0f0bba2e"
      },
      "execution_count": 25,
      "outputs": [
        {
          "output_type": "execute_result",
          "data": {
            "text/plain": [
              "Ileso            129,570\n",
              "Lesões Leves     114,940\n",
              "Lesões Graves     35,762\n",
              "Não Informado     19,336\n",
              "Óbito             10,631\n",
              "Name: estado_fisico, dtype: object"
            ]
          },
          "metadata": {},
          "execution_count": 25
        }
      ]
    },
    {
      "cell_type": "code",
      "source": [
        "#percentual da distribuição\n",
        "(acidentes.estado_fisico.value_counts(normalize=True)*100).round(1)"
      ],
      "metadata": {
        "colab": {
          "base_uri": "https://localhost:8080/"
        },
        "id": "H86liZ___D_J",
        "outputId": "95842c6b-70ca-4de7-8a44-b089db2ee3e8"
      },
      "execution_count": 26,
      "outputs": [
        {
          "output_type": "execute_result",
          "data": {
            "text/plain": [
              "Ileso            41.8\n",
              "Lesões Leves     37.0\n",
              "Lesões Graves    11.5\n",
              "Não Informado     6.2\n",
              "Óbito             3.4\n",
              "Name: estado_fisico, dtype: float64"
            ]
          },
          "metadata": {},
          "execution_count": 26
        }
      ]
    },
    {
      "cell_type": "markdown",
      "source": [
        "Em cerca de 6% dos registros, a condição da lesão do envolvido não é informada(==Não Informado), é importante deixar esse valor, para que possa ser apurado uma melhoria na coleta dos dados.\n",
        ">\n",
        "Poderiamos criar um modelo de Machine Learning para classicar esses registros, mas não estaria presente nas analises a falta da coleta dessa informação tão importante.\n",
        ">\n",
        "Segundo a OMS, em casos de acidentes com Lesões Graves, e que a vítima é encaminhada para um hospital, a PRF tem que acompanhar o quadro por 30 dias, e caso haja óbito no hospital, a classificação deve ser alterada no registro da ocorrência.\n",
        "\n",
        "\n",
        "\n",
        "---\n",
        "\n"
      ],
      "metadata": {
        "id": "HzKvc9-G_Ui0"
      }
    },
    {
      "cell_type": "code",
      "source": [
        "# Verificando o conteudo do atributo e a sua distribuição entre eles\n",
        "# sexo (Sexo do envolvido. O valor \"invalido\" indica que não foi possivel coletar a informação.)\n",
        "acidentes.sexo.value_counts().map('{:,d}'.format)"
      ],
      "metadata": {
        "colab": {
          "base_uri": "https://localhost:8080/"
        },
        "id": "h3p1GiGaCBaN",
        "outputId": "aa898d87-a6b4-4834-c4e4-28b3e94990f9"
      },
      "execution_count": 27,
      "outputs": [
        {
          "output_type": "execute_result",
          "data": {
            "text/plain": [
              "Masculino        220,749\n",
              "Feminino          68,336\n",
              "Não Informado     19,336\n",
              "Ignorado           1,818\n",
              "Name: sexo, dtype: object"
            ]
          },
          "metadata": {},
          "execution_count": 27
        }
      ]
    },
    {
      "cell_type": "code",
      "source": [
        "#percentual da distribuição\n",
        "(acidentes.sexo.value_counts(normalize=True)*100).round(1)"
      ],
      "metadata": {
        "colab": {
          "base_uri": "https://localhost:8080/"
        },
        "id": "Dilz-J82Ch_J",
        "outputId": "a2f30284-9ddb-4a78-8a4b-ae3baa478b48"
      },
      "execution_count": 28,
      "outputs": [
        {
          "output_type": "execute_result",
          "data": {
            "text/plain": [
              "Masculino        71.2\n",
              "Feminino         22.0\n",
              "Não Informado     6.2\n",
              "Ignorado          0.6\n",
              "Name: sexo, dtype: float64"
            ]
          },
          "metadata": {},
          "execution_count": 28
        }
      ]
    },
    {
      "cell_type": "markdown",
      "source": [
        "Para esse atributo vamos somar os valores de \"Não Informado\" e \"Ignorado\" em um único valor.\n",
        ">\n",
        "E em seguida, utilizaremos a distribuição de **Bernoulli**, que será melhor explicada na próxima etapa.\n",
        "\n",
        "---\n",
        "\n"
      ],
      "metadata": {
        "id": "73GZZ1VzFLn1"
      }
    },
    {
      "cell_type": "code",
      "source": [
        "# Verificando o conteudo do atributo e a sua distribuição entre eles\n",
        "# tipo_veiculo (Tipo do veículo conforme Art. 96 do Código Naciona de trânsito.)\n",
        "acidentes.tipo_veiculo.value_counts().map('{:,d}'.format)"
      ],
      "metadata": {
        "colab": {
          "base_uri": "https://localhost:8080/"
        },
        "id": "dYOUbdJfWsqa",
        "outputId": "e4a923e4-61de-4210-ee8e-00505579aa3d"
      },
      "execution_count": 29,
      "outputs": [
        {
          "output_type": "execute_result",
          "data": {
            "text/plain": [
              "Automóvel            134,584\n",
              "Motocicleta           61,621\n",
              "Caminhonete           27,422\n",
              "Caminhão-trator       24,936\n",
              "Caminhão              22,688\n",
              "Ônibus                10,647\n",
              "Camioneta              7,748\n",
              "Motoneta               6,994\n",
              "Bicicleta              4,343\n",
              "Utilitário             3,693\n",
              "Micro-ônibus           2,546\n",
              "Outros                 1,332\n",
              "Ciclomotor               901\n",
              "Semireboque              254\n",
              "Carroça-charrete         165\n",
              "Trator de rodas          152\n",
              "Reboque                   83\n",
              "Não Informado             48\n",
              "Triciclo                  39\n",
              "Carro de mão              14\n",
              "Trem-bonde                12\n",
              "Trator misto               9\n",
              "Quadriciclo                4\n",
              "Trator de esteira          2\n",
              "Chassi-plataforma          2\n",
              "Name: tipo_veiculo, dtype: object"
            ]
          },
          "metadata": {},
          "execution_count": 29
        }
      ]
    },
    {
      "cell_type": "markdown",
      "source": [
        "\n",
        "\n",
        "---\n",
        "\n"
      ],
      "metadata": {
        "id": "tckSTjoqX3g3"
      }
    },
    {
      "cell_type": "code",
      "source": [
        "# Verificando o conteudo do atributo e a sua distribuição entre eles\n",
        "# tipo_envolvido (Tipo de envolvido no acidente conforme sua participação no evento.)\n",
        "acidentes.tipo_envolvido.value_counts().map('{:,d}'.format)"
      ],
      "metadata": {
        "colab": {
          "base_uri": "https://localhost:8080/"
        },
        "id": "OEpL8I4UX5M8",
        "outputId": "93fb3081-7be1-4e07-ab0d-f76861cba877"
      },
      "execution_count": 30,
      "outputs": [
        {
          "output_type": "execute_result",
          "data": {
            "text/plain": [
              "Condutor         216,048\n",
              "Passageiro        80,873\n",
              "Pedestre           6,792\n",
              "Testemunha         6,441\n",
              "Cavaleiro             83\n",
              "Não Informado          2\n",
              "Name: tipo_envolvido, dtype: object"
            ]
          },
          "metadata": {},
          "execution_count": 30
        }
      ]
    },
    {
      "cell_type": "markdown",
      "source": [
        "\n",
        "\n",
        "---\n",
        "\n"
      ],
      "metadata": {
        "id": "cdI83Fx3Z8w9"
      }
    },
    {
      "cell_type": "code",
      "source": [
        "# Verificando o conteudo do atributo e a sua distribuição entre eles\n",
        "# tipo_pista (Tipo da pista considerando a quantidade de faixas.)\n",
        "acidentes.tipo_pista.value_counts().map('{:,d}'.format)"
      ],
      "metadata": {
        "colab": {
          "base_uri": "https://localhost:8080/"
        },
        "id": "xZcWXQCqZ9tI",
        "outputId": "11e72907-e0b5-4c10-d7ca-947b5c02f7b7"
      },
      "execution_count": 31,
      "outputs": [
        {
          "output_type": "execute_result",
          "data": {
            "text/plain": [
              "Simples     164,286\n",
              "Dupla       121,727\n",
              "Múltipla     24,226\n",
              "Name: tipo_pista, dtype: object"
            ]
          },
          "metadata": {},
          "execution_count": 31
        }
      ]
    },
    {
      "cell_type": "markdown",
      "source": [
        "\n",
        "\n",
        "---\n",
        "\n"
      ],
      "metadata": {
        "id": "RyamLZ46a7GF"
      }
    },
    {
      "cell_type": "code",
      "source": [
        "# Verificando o conteudo do atributo e a sua distribuição entre eles\n",
        "# tracado_via (Tipo de envolvido no acidente conforme sua participação no evento.)\n",
        "acidentes.tracado_via.value_counts().map('{:,d}'.format)"
      ],
      "metadata": {
        "colab": {
          "base_uri": "https://localhost:8080/"
        },
        "id": "Kb7yhNlga8Yt",
        "outputId": "034975df-4775-4461-9896-9023d9c55f84"
      },
      "execution_count": 32,
      "outputs": [
        {
          "output_type": "execute_result",
          "data": {
            "text/plain": [
              "Reta                     192,411\n",
              "Curva                     43,940\n",
              "Não Informado             36,846\n",
              "Interseção de vias        15,106\n",
              "Desvio Temporário          8,735\n",
              "Rotatória                  5,660\n",
              "Retorno Regulamentado      3,603\n",
              "Viaduto                    1,974\n",
              "Ponte                      1,651\n",
              "Túnel                        313\n",
              "Name: tracado_via, dtype: object"
            ]
          },
          "metadata": {},
          "execution_count": 32
        }
      ]
    },
    {
      "cell_type": "code",
      "source": [
        "#percentual da distribuição\n",
        "(acidentes.tracado_via.value_counts(normalize=True)*100).round(1)"
      ],
      "metadata": {
        "colab": {
          "base_uri": "https://localhost:8080/"
        },
        "id": "7JMIyOWYcBv0",
        "outputId": "e4e5789e-d2ac-42fb-d472-1754f0f2aea7"
      },
      "execution_count": 33,
      "outputs": [
        {
          "output_type": "execute_result",
          "data": {
            "text/plain": [
              "Reta                     62.0\n",
              "Curva                    14.2\n",
              "Não Informado            11.9\n",
              "Interseção de vias        4.9\n",
              "Desvio Temporário         2.8\n",
              "Rotatória                 1.8\n",
              "Retorno Regulamentado     1.2\n",
              "Viaduto                   0.6\n",
              "Ponte                     0.5\n",
              "Túnel                     0.1\n",
              "Name: tracado_via, dtype: float64"
            ]
          },
          "metadata": {},
          "execution_count": 33
        }
      ]
    },
    {
      "cell_type": "markdown",
      "source": [
        "Temos cerca de 12% dos registros como \"Não Informado\".\n",
        "\n",
        "\n",
        "---\n",
        "\n"
      ],
      "metadata": {
        "id": "G6xtJam5cNV2"
      }
    },
    {
      "cell_type": "code",
      "source": [
        "# Verificando o conteudo do atributo e a sua distribuição entre eles\n",
        "# uso_solo (Descrição sobre as características do local do acidente:Urbano=Sim; Rural=Não)\n",
        "acidentes.uso_solo.value_counts().map('{:,d}'.format)"
      ],
      "metadata": {
        "colab": {
          "base_uri": "https://localhost:8080/"
        },
        "id": "D6FsicJHu9M2",
        "outputId": "a0764b47-0b72-47ee-c57b-6f20769f8ba3"
      },
      "execution_count": 34,
      "outputs": [
        {
          "output_type": "execute_result",
          "data": {
            "text/plain": [
              "Não    173,294\n",
              "Sim    136,945\n",
              "Name: uso_solo, dtype: object"
            ]
          },
          "metadata": {},
          "execution_count": 34
        }
      ]
    },
    {
      "cell_type": "markdown",
      "source": [
        "Esse atributo deverá ser eliminado.\n",
        "\n",
        "\n",
        "---\n",
        "\n"
      ],
      "metadata": {
        "id": "kujjcOvawB9z"
      }
    },
    {
      "cell_type": "code",
      "source": [
        "# Verificando o conteudo do atributo e a sua distribuição entre eles\n",
        "# sentido_via (Sentido da via considerando o ponto de colisão:Crescente e decrescente)\n",
        "acidentes.sentido_via.value_counts().map('{:,d}'.format)"
      ],
      "metadata": {
        "colab": {
          "base_uri": "https://localhost:8080/"
        },
        "id": "U7F1SC7PwXAM",
        "outputId": "431b03c9-4572-44f1-84db-909457b6b504"
      },
      "execution_count": 35,
      "outputs": [
        {
          "output_type": "execute_result",
          "data": {
            "text/plain": [
              "Crescente        165,466\n",
              "Decrescente      144,133\n",
              "Não Informado        640\n",
              "Name: sentido_via, dtype: object"
            ]
          },
          "metadata": {},
          "execution_count": 35
        }
      ]
    },
    {
      "cell_type": "markdown",
      "source": [
        "Esse atributo deverá ser eliminado.\n",
        "\n",
        "\n",
        "---\n"
      ],
      "metadata": {
        "id": "ySBTTgpywkhH"
      }
    },
    {
      "cell_type": "code",
      "source": [
        "# Verificando o conteudo do atributo e a sua distribuição entre eles\n",
        "# causa_acidente (Identificação da causa principal do acidente)\n",
        "acidentes.causa_acidente.value_counts().map('{:,d}'.format)"
      ],
      "metadata": {
        "colab": {
          "base_uri": "https://localhost:8080/"
        },
        "id": "A7B5kG4cwtYo",
        "outputId": "df91835c-a702-4e73-f51a-fc49e2e43bfd"
      },
      "execution_count": 37,
      "outputs": [
        {
          "output_type": "execute_result",
          "data": {
            "text/plain": [
              "Falta de Atenção à Condução                          112,516\n",
              "Desobediência às normas de trânsito pelo condutor     45,645\n",
              "Velocidade Incompatível                               25,782\n",
              "Ingestão de Álcool                                    23,723\n",
              "Não guardar distância de segurança                    22,779\n",
              "                                                      ...   \n",
              "Condutor usando celular                                    2\n",
              "Demais Fenômenos da natureza                               2\n",
              "Curva acentuada                                            1\n",
              "Acostamento em desnível                                    1\n",
              "Pista em desnível                                          1\n",
              "Name: causa_acidente, Length: 63, dtype: object"
            ]
          },
          "metadata": {},
          "execution_count": 37
        }
      ]
    },
    {
      "cell_type": "markdown",
      "source": [
        "\n",
        "\n",
        "---\n",
        "\n"
      ],
      "metadata": {
        "id": "5wk8yHJoxRjv"
      }
    },
    {
      "cell_type": "code",
      "source": [
        "# Verificando o conteudo do atributo e a sua distribuição entre eles\n",
        "# tipo_acidente (Identificação do tipo de acidente)\n",
        "acidentes.tipo_acidente.value_counts().map('{:,d}'.format)"
      ],
      "metadata": {
        "colab": {
          "base_uri": "https://localhost:8080/"
        },
        "id": "L7XRYdioxSb1",
        "outputId": "fb26e8d8-43d0-4239-8993-5d1c63e6df55"
      },
      "execution_count": 38,
      "outputs": [
        {
          "output_type": "execute_result",
          "data": {
            "text/plain": [
              "Colisão traseira                   70,354\n",
              "Colisão transversal                44,743\n",
              "Colisão lateral                    42,876\n",
              "Saída de leito carroçável          38,594\n",
              "Colisão frontal                    29,942\n",
              "Colisão com objeto estático        16,477\n",
              "Tombamento                         15,581\n",
              "Atropelamento de Pedestre          14,941\n",
              "Engavetamento                       9,035\n",
              "Queda de ocupante de veículo        8,937\n",
              "Capotamento                         8,245\n",
              "Atropelamento de Animal             4,391\n",
              "Incêndio                            3,172\n",
              "Colisão com objeto em movimento     1,401\n",
              "Danos eventuais                       817\n",
              "Derramamento de carga                 585\n",
              "Colisão com objeto                     51\n",
              "Colisão lateral sentido oposto         31\n",
              "Colisão lateral mesmo sentido          27\n",
              "Eventos atípicos                       12\n",
              "Name: tipo_acidente, dtype: object"
            ]
          },
          "metadata": {},
          "execution_count": 38
        }
      ]
    },
    {
      "cell_type": "markdown",
      "source": [
        "\n",
        "\n",
        "---\n",
        "\n"
      ],
      "metadata": {
        "id": "DBaGUkfSxfB2"
      }
    },
    {
      "cell_type": "markdown",
      "source": [
        "###**<font color=#FE8202> 3.3. Visualizações Unimodais**"
      ],
      "metadata": {
        "id": "Xj9Cfh-4uCVi"
      }
    },
    {
      "cell_type": "markdown",
      "source": [
        "><font color=#FE8202>BoxPlot"
      ],
      "metadata": {
        "id": "LzO8TRZJ7vZo"
      }
    },
    {
      "cell_type": "markdown",
      "source": [
        "Utilizaremos o gráfico de boxplot para comparar visualmente as distribuições das variáveis NUMÉRICAS agrupada conforme uma variável categórica.\n",
        ">\n",
        "Esse gráfico nos dá informação da assimetria da distribuição, indicação de outliers e da variabilidade dos dados por meio da amplitude. \n",
        ">\n",
        "Consiste em 5 grupos: Mínimo, Primeiro quartil ou 25%, Mediana (segundo quartil) ou 50%, Terceiro quartil ou 75% e Máximo."
      ],
      "metadata": {
        "id": "K01FSzRDwEt6"
      }
    },
    {
      "cell_type": "code",
      "source": [
        "# Boxplot da biblioteca Pandas\n",
        "# Atributo Idade, agrupado por Sexo\n",
        "acidentes.plot.box(column=\"idade\", by='sexo', figsize=(4, 4))\n",
        "plt.show()"
      ],
      "metadata": {
        "colab": {
          "base_uri": "https://localhost:8080/",
          "height": 391
        },
        "id": "qMcE3el42bD6",
        "outputId": "239625e9-fd57-4a20-bc9f-1df0841a2b79"
      },
      "execution_count": 63,
      "outputs": [
        {
          "output_type": "display_data",
          "data": {
            "text/plain": [
              "<Figure size 400x400 with 1 Axes>"
            ],
            "image/png": "[encoded data removed]"
          },
          "metadata": {}
        }
      ]
    },
    {
      "cell_type": "code",
      "source": [
        "# Atributo ano fabricação veiculo, por tipo de veículo\n",
        "acidentes.plot.box(column='ano_fabricacao_veiculo', by='tipo_veiculo', figsize=(10, 6), rot=90)\n",
        "plt.show()"
      ],
      "metadata": {
        "colab": {
          "base_uri": "https://localhost:8080/",
          "height": 677
        },
        "id": "W2SdGdIZ3kcf",
        "outputId": "5ebac610-e226-409b-bd3c-c21bb340ebb4"
      },
      "execution_count": 80,
      "outputs": [
        {
          "output_type": "display_data",
          "data": {
            "text/plain": [
              "<Figure size 1000x600 with 1 Axes>"
            ],
            "image/png": "[encoded data removed]"
          },
          "metadata": {}
        }
      ]
    },
    {
      "cell_type": "markdown",
      "source": [
        "Para ambos os gráficos, decidimos agrupor por outra váriável que faça sentido, para melhor a apresentação do Boxplot.\n",
        ">\n",
        "O atributo idade nos mostra a presença de outliers, como já visto anteriormente. Para esse atributo, seria interessante, plotar o gráfico de BoxPlot depois de tratar as idades.\n",
        ">\n",
        "O atributo ano_fabricacao_veiculo, é possivel verificar o valor minímo de 1900, o que seria uma inconsistencia, e os demais valores estão coerentes.\n",
        "\n",
        "\n",
        "---\n",
        "\n"
      ],
      "metadata": {
        "id": "WmC64jeb5j0F"
      }
    },
    {
      "cell_type": "markdown",
      "source": [
        "Outra maneira de verificar a distribuição dos atributos é a utilização de um histograma."
      ],
      "metadata": {
        "id": "jziN81Tm8bsn"
      }
    },
    {
      "cell_type": "code",
      "source": [
        "# Histograma\n",
        "acidentes.hist(figsize = (15,10))\n",
        "plt.show()"
      ],
      "metadata": {
        "colab": {
          "base_uri": "https://localhost:8080/",
          "height": 546
        },
        "id": "5cxw9Z3DXNeB",
        "outputId": "d502b585-5b9e-48f8-86fb-78b51bb747b9"
      },
      "execution_count": 81,
      "outputs": [
        {
          "output_type": "display_data",
          "data": {
            "text/plain": [
              "<Figure size 1500x1000 with 12 Axes>"
            ],
            "image/png": "[encoded data removed]"
          },
          "metadata": {}
        }
      ]
    },
    {
      "cell_type": "markdown",
      "source": [
        "#**<font color=#FE8202> 4. Pré-Processamento de dados**"
      ],
      "metadata": {
        "id": "JmnU4-cNdb-L"
      }
    },
    {
      "cell_type": "markdown",
      "source": [
        "Após coletar e analisar os dados na etapa anterior, agora é o momento\n",
        "de limpar, transformar e apresentar melhor os dados.\n",
        ">\n",
        "Assim poderemos obter, na próxima etapa, os melhores resultados possíveis nos algoritmos de\n",
        "Machine Learning, ou simplesmente apresentar dados mais confiáveis para os clientes em soluções de\n",
        "business intelligence.\n",
        "\n",
        "\n",
        "---\n",
        "\n"
      ],
      "metadata": {
        "id": "5stImFN7jf26"
      }
    },
    {
      "cell_type": "markdown",
      "source": [
        "Antes de começar, iremos fazer uma copia de segurança do dataframe original."
      ],
      "metadata": {
        "id": "Kk66FTN47tQK"
      }
    },
    {
      "cell_type": "code",
      "source": [
        "#Réplica de segurança\n",
        "acidentes_ori = acidentes"
      ],
      "metadata": {
        "id": "uXCcMgsx73zM"
      },
      "execution_count": 35,
      "outputs": []
    },
    {
      "cell_type": "markdown",
      "source": [
        "###**<font color=#FE8202> 4.1. Limpeza**"
      ],
      "metadata": {
        "id": "zMzHx9eEy_1b"
      }
    },
    {
      "cell_type": "markdown",
      "source": [
        "####**<font color=#FE8202> 4.1.1 Redundâncias**"
      ],
      "metadata": {
        "id": "7wzCEJ8UzIFr"
      }
    },
    {
      "cell_type": "markdown",
      "source": [
        "Depois da análise de dados inicial, podemos eliminar colunas que não serão necessárias."
      ],
      "metadata": {
        "id": "KOlka-kGzgCd"
      }
    },
    {
      "cell_type": "code",
      "source": [
        "#Excluindo as colunas\n",
        "acidentes.drop([ 'pesid','sentido_via','uso_solo',\n",
        "\t\t 'id_veiculo','marca','ano_fabricacao_veiculo',\n",
        "\t\t 'regional','delegacia','uop'],\n",
        "\t\taxis=1, inplace = True)"
      ],
      "metadata": {
        "id": "OhG40I87zOmo"
      },
      "execution_count": 34,
      "outputs": []
    },
    {
      "cell_type": "markdown",
      "source": [
        "####**<font color=#FE8202> 4.1.2 Outliers**"
      ],
      "metadata": {
        "id": "d54YwAZ49e2w"
      }
    },
    {
      "cell_type": "markdown",
      "source": [
        "Nessa etapa vamos tratar o atributo IDADE, que apresentou outliers/inconsistencias, além de Missings.\n",
        ">\n",
        "A próxima etapa sera o tratamento de missings, mas para esse atributo, vamos aproveitar esse momento de transformação e fazer agora. "
      ],
      "metadata": {
        "id": "_nyuJdbd9uSR"
      }
    },
    {
      "cell_type": "code",
      "source": [
        "bernou = acidentes[['sexo']].head(10000)\n"
      ],
      "metadata": {
        "id": "VthpounwpF9H"
      },
      "execution_count": 40,
      "outputs": []
    },
    {
      "cell_type": "code",
      "source": [
        "acidentes.isnull().sum()"
      ],
      "metadata": {
        "colab": {
          "base_uri": "https://localhost:8080/"
        },
        "id": "6-_-TANo9p3y",
        "outputId": "759f7e32-9022-498d-93cf-128866a827bb"
      },
      "execution_count": 36,
      "outputs": [
        {
          "output_type": "execute_result",
          "data": {
            "text/plain": [
              "id                            0\n",
              "data_inversa                  0\n",
              "dia_semana                    0\n",
              "horario                       0\n",
              "uf                            0\n",
              "br                          640\n",
              "km                          640\n",
              "municipio                     0\n",
              "causa_acidente                0\n",
              "tipo_acidente                27\n",
              "classificacao_acidente        0\n",
              "fase_dia                      0\n",
              "condicao_metereologica        0\n",
              "tipo_pista                    0\n",
              "tracado_via                   0\n",
              "tipo_veiculo                  0\n",
              "tipo_envolvido                0\n",
              "estado_fisico                 0\n",
              "idade                     30708\n",
              "sexo                          0\n",
              "ilesos                        0\n",
              "feridos_leves                 0\n",
              "feridos_graves                0\n",
              "mortos                        0\n",
              "latitude                      0\n",
              "longitude                     0\n",
              "dtype: int64"
            ]
          },
          "metadata": {},
          "execution_count": 36
        }
      ]
    },
    {
      "cell_type": "code",
      "source": [
        "bernou.sexo.value_counts().map('{:,d}'.format) "
      ],
      "metadata": {
        "colab": {
          "base_uri": "https://localhost:8080/"
        },
        "id": "miZanxrkpwNi",
        "outputId": "735580b2-d747-487d-d8f3-40d0ecb67f67"
      },
      "execution_count": 41,
      "outputs": [
        {
          "output_type": "execute_result",
          "data": {
            "text/plain": [
              "Masculino        8,752\n",
              "Não Informado      794\n",
              "Feminino           339\n",
              "Ignorado           115\n",
              "Name: sexo, dtype: object"
            ]
          },
          "metadata": {},
          "execution_count": 41
        }
      ]
    },
    {
      "cell_type": "code",
      "source": [
        "bernou['sexo_tratado'] = bernou['sexo']"
      ],
      "metadata": {
        "id": "uX3BXl3ap_US"
      },
      "execution_count": 42,
      "outputs": []
    },
    {
      "cell_type": "code",
      "source": [
        "for i in range(len(bernou)):\n",
        "  if bernou['sexo'][i] == 'Ignorado':\n",
        "    bernou['sexo_tratado'][i] = (bernoulli.rvs(size=1,p=0.5)).astype(int)\n",
        "  else:\n",
        "    bernou['sexo_tratado'][i] = bernou['sexo'][i]"
      ],
      "metadata": {
        "id": "cq2Z4Yenjp5g"
      },
      "execution_count": 44,
      "outputs": []
    },
    {
      "cell_type": "code",
      "source": [
        "bernou.sexo_tratado.value_counts().map('{:,d}'.format) "
      ],
      "metadata": {
        "colab": {
          "base_uri": "https://localhost:8080/"
        },
        "id": "Oh_ksOdFzkZ_",
        "outputId": "ebf528e2-4144-4dc7-da90-e23aa8de22d9"
      },
      "execution_count": 52,
      "outputs": [
        {
          "output_type": "execute_result",
          "data": {
            "text/plain": [
              "Masculino        8,816\n",
              "Não Informado      794\n",
              "Feminino           339\n",
              "[0]                 51\n",
              "Name: sexo_tratado, dtype: object"
            ]
          },
          "metadata": {},
          "execution_count": 52
        }
      ]
    },
    {
      "cell_type": "code",
      "source": [
        "bernou[bernou['sexo_tratado'] == 1]"
      ],
      "metadata": {
        "id": "y1crCFkDn2xb"
      },
      "execution_count": null,
      "outputs": []
    },
    {
      "cell_type": "code",
      "source": [
        "bernou.loc[bernou.sexo_tratado==1,'sexo_tratado']='Masculino'"
      ],
      "metadata": {
        "id": "vfZKNGfpokkk"
      },
      "execution_count": 51,
      "outputs": []
    },
    {
      "cell_type": "markdown",
      "source": [
        "#**<font color=#FE8202> 5. Análise de Dados**"
      ],
      "metadata": {
        "id": "0oGz7YCnWePd"
      }
    },
    {
      "cell_type": "markdown",
      "source": [
        "#**<font color=#FE8202> 6. Modelo de Machine Learning**"
      ],
      "metadata": {
        "id": "yFxF7UZJWk7N"
      }
    }
  ]
}